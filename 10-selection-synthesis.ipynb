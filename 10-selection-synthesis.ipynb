{
 "cells": [
  {
   "cell_type": "code",
   "execution_count": 17,
   "metadata": {},
   "outputs": [
    {
     "name": "stdout",
     "output_type": "stream",
     "text": [
      "INFO: Pandarallel will run on 8 workers.\n",
      "INFO: Pandarallel will use Memory file system to transfer data between the main process and workers.\n"
     ]
    }
   ],
   "source": [
    "import pandas as pd\n",
    "from pandas import Series, DataFrame\n",
    "from pandarallel import pandarallel\n",
    "pandarallel.initialize(progress_bar=True)\n",
    "import numpy as np\n",
    "folder = \"/data/AIpep-clean/\"\n",
    "from Levenshtein import distance as lev_dist"
   ]
  },
  {
   "cell_type": "markdown",
   "metadata": {},
   "source": [
    "# Filtering"
   ]
  },
  {
   "cell_type": "markdown",
   "metadata": {},
   "source": [
    "### new filtering with correct column"
   ]
  },
  {
   "cell_type": "code",
   "execution_count": 18,
   "metadata": {},
   "outputs": [],
   "source": [
    "df_all = pd.read_pickle(folder+\"pickles/all_sequences_with_NN_prop_helicity-hem.pkl\")\n",
    "gram_neg = df_all.query(\"Set == 'generated-TL-GN-hem' and isPredActive == True and isPredNotHemolytic == True\")\n",
    "gram_pos = df_all.query(\"Set == 'generated-TL-GP-hem' and isPredActive == True and isPredNotHemolytic == True\")"
   ]
  },
  {
   "cell_type": "code",
   "execution_count": 54,
   "metadata": {},
   "outputs": [
    {
     "data": {
      "text/plain": [
       "1182"
      ]
     },
     "execution_count": 54,
     "metadata": {},
     "output_type": "execute_result"
    }
   ],
   "source": [
    "len(gram_neg.query(\"fraction_PredHelical > 0.8 and HydroMoment > 0.3\"))"
   ]
  },
  {
   "cell_type": "code",
   "execution_count": 55,
   "metadata": {},
   "outputs": [
    {
     "data": {
      "text/plain": [
       "930"
      ]
     },
     "execution_count": 55,
     "metadata": {},
     "output_type": "execute_result"
    }
   ],
   "source": [
    "len(gram_pos.query(\"fraction_PredHelical > 0.8 and HydroMoment > 0.3\"))"
   ]
  },
  {
   "cell_type": "code",
   "execution_count": 47,
   "metadata": {},
   "outputs": [
    {
     "data": {
      "text/plain": [
       "11247"
      ]
     },
     "execution_count": 47,
     "metadata": {},
     "output_type": "execute_result"
    }
   ],
   "source": [
    "len(df_all.query(\"Set == 'generated-TL-GN-hem' and isPredActive == True\"))"
   ]
  },
  {
   "cell_type": "code",
   "execution_count": 48,
   "metadata": {},
   "outputs": [
    {
     "data": {
      "text/plain": [
       "11149"
      ]
     },
     "execution_count": 48,
     "metadata": {},
     "output_type": "execute_result"
    }
   ],
   "source": [
    "len(df_all.query(\"Set == 'generated-TL-GP-hem' and isPredActive == True\"))"
   ]
  },
  {
   "cell_type": "code",
   "execution_count": 50,
   "metadata": {},
   "outputs": [
    {
     "data": {
      "text/plain": [
       "3046"
      ]
     },
     "execution_count": 50,
     "metadata": {},
     "output_type": "execute_result"
    }
   ],
   "source": [
    "len(df_all.query(\"Set == 'generated-TL-GN-hem' and isPredActive == True and isPredNotHemolytic == True\"))"
   ]
  },
  {
   "cell_type": "code",
   "execution_count": 49,
   "metadata": {},
   "outputs": [
    {
     "data": {
      "text/plain": [
       "2717"
      ]
     },
     "execution_count": 49,
     "metadata": {},
     "output_type": "execute_result"
    }
   ],
   "source": [
    "len(df_all.query(\"Set == 'generated-TL-GP-hem' and isPredActive == True and isPredNotHemolytic == True\"))"
   ]
  },
  {
   "cell_type": "code",
   "execution_count": null,
   "metadata": {},
   "outputs": [],
   "source": [
    "gram_neg_filtered = gram_neg.query(\"nd HydroMoment > 0.3 and (dist_Training_hem > 5 and dist_Training_hem <= 7) and dist_Test_hem > 4 and length <= 15 and D_AA == False and dist_Test_act != 0 and dist_Training_act != 0\").reset_index(drop=True)"
   ]
  },
  {
   "cell_type": "code",
   "execution_count": 20,
   "metadata": {},
   "outputs": [],
   "source": [
    "gram_neg_filtered = gram_neg.query(\"fraction_PredHelical > 0.8 and HydroMoment > 0.3 and (dist_Training_hem > 5 and dist_Training_hem <= 7) and dist_Test_hem > 4 and length <= 15 and D_AA == False and dist_Test_act != 0 and dist_Training_act != 0\").reset_index(drop=True)"
   ]
  },
  {
   "cell_type": "code",
   "execution_count": 21,
   "metadata": {},
   "outputs": [],
   "source": [
    "gram_pos_filtered = gram_pos.query(\"fraction_PredHelical > 0.8 and HydroMoment > 0.3 and (dist_Training_hem > 5 and dist_Training_hem <= 7) and dist_Test_hem > 4 and length <= 15 and D_AA == False and dist_Test_act != 0 and dist_Training_act != 0\").reset_index(drop=True)"
   ]
  },
  {
   "cell_type": "code",
   "execution_count": 56,
   "metadata": {},
   "outputs": [
    {
     "data": {
      "text/plain": [
       "148"
      ]
     },
     "execution_count": 56,
     "metadata": {},
     "output_type": "execute_result"
    }
   ],
   "source": [
    "len(gram_neg.query(\"(dist_Training_hem > 5 and dist_Training_hem <= 7) and dist_Test_hem > 4 and length <= 15 and D_AA == False and dist_Test_act != 0 and dist_Training_act != 0\").reset_index(drop=True))"
   ]
  },
  {
   "cell_type": "code",
   "execution_count": 57,
   "metadata": {},
   "outputs": [
    {
     "data": {
      "text/plain": [
       "160"
      ]
     },
     "execution_count": 57,
     "metadata": {},
     "output_type": "execute_result"
    }
   ],
   "source": [
    "len(gram_pos.query(\"(dist_Training_hem > 5 and dist_Training_hem <= 7) and dist_Test_hem > 4 and length <= 15 and D_AA == False and dist_Test_act != 0 and dist_Training_act != 0\").reset_index(drop=True))"
   ]
  },
  {
   "cell_type": "code",
   "execution_count": 23,
   "metadata": {},
   "outputs": [
    {
     "data": {
      "text/plain": [
       "78"
      ]
     },
     "execution_count": 23,
     "metadata": {},
     "output_type": "execute_result"
    }
   ],
   "source": [
    "len(gram_pos_filtered)"
   ]
  },
  {
   "cell_type": "code",
   "execution_count": 24,
   "metadata": {},
   "outputs": [
    {
     "data": {
      "text/plain": [
       "Index(['ID', 'Name', 'N terminus', 'Sequence', 'C terminus', 'targetSpecies',\n",
       "       'baumannii', 'aureus', 'aeruginosa', 'activity', 'Set', 'hemolysis',\n",
       "       'len_hemolysis', 'isNotHemolytic', 'Hemolysis_pred', 'Repetition',\n",
       "       'inTraining', 'prediction', 'isPredActive', 'prediction_hem', 'SMILES',\n",
       "       'MAP4', 'map_dist_Training', 'map_NN_Training', 'map_dist_Test',\n",
       "       'map_NN_Test', 'length', 'D_AA', 'A_fract', 'C_fract', 'D_fract',\n",
       "       'E_fract', 'F_fract', 'G_fract', 'H_fract', 'I_fract', 'L_fract',\n",
       "       'M_fract', 'N_fract', 'P_fract', 'K_fract', 'Q_fract', 'R_fract',\n",
       "       'S_fract', 'T_fract', 'V_fract', 'W_fract', 'Y_fract', 'positive',\n",
       "       'negative', 'HAC', 'HBA', 'HBD', 'hydrophobic', 'hydrophobic_patches',\n",
       "       'hydrophobic_patches_num', 'hydrophobic_patches_len', 'hydro_res_fract',\n",
       "       'pos_res_fract', 'HydroMoment', 'charge', 'hydrophobicity',\n",
       "       'av_hydrophobicity', 'discrimination', 'fasta', 'SpiderFilename',\n",
       "       'SpiderFileloc', 'SS', 'countH', 'fraction_PredHelical',\n",
       "       'fraction_PredBetaSheet', 'fraction_PredCoil',\n",
       "       'isPredNotHemolytic_correct', 'NN_Training_', 'dist_Training_act',\n",
       "       'NN_Training_act', 'dist_Test_act', 'NN_Test_act', 'NN_Test_hem',\n",
       "       'dist_Test_hem', 'NN_Training_hem', 'dist_Training_hem',\n",
       "       'isPredNotHemolytic'],\n",
       "      dtype='object')"
      ]
     },
     "execution_count": 24,
     "metadata": {},
     "output_type": "execute_result"
    }
   ],
   "source": [
    "gram_pos_filtered.columns"
   ]
  },
  {
   "cell_type": "code",
   "execution_count": 28,
   "metadata": {},
   "outputs": [],
   "source": [
    "cols = ['ID', 'Sequence', 'prediction', \"prediction_hem\", 'length',\\\n",
    "       'dist_Training_hem', 'NN_Training_hem', 'dist_Test_hem', 'NN_Test_hem','dist_Training_act', 'NN_Training_act',\\\n",
    "        'dist_Test_act', 'NN_Test_act', 'fraction_PredHelical', 'HydroMoment', 'SMILES', 'MAP4']"
   ]
  },
  {
   "cell_type": "code",
   "execution_count": 29,
   "metadata": {},
   "outputs": [],
   "source": [
    "gram_neg_filtered[cols].to_csv(folder+\"data/gram_neg_filtered.csv\", index=False)\n",
    "gram_pos_filtered[cols].to_csv(folder+\"data/gram_pos_filtered.csv\", index=False)\n",
    "gram_neg_filtered[cols].to_csv(\"data/gram_neg_filtered.csv\", index=False)\n",
    "gram_pos_filtered[cols].to_csv(\"data/gram_pos_filtered.csv\", index=False)"
   ]
  },
  {
   "cell_type": "markdown",
   "metadata": {},
   "source": [
    "# Clustering"
   ]
  },
  {
   "cell_type": "code",
   "execution_count": 30,
   "metadata": {},
   "outputs": [],
   "source": [
    "from rdkit.ML.Cluster.Butina import ClusterData\n",
    "clusters_neg = ClusterData(gram_neg_filtered.Sequence.to_list(), len(gram_neg_filtered), 8, distFunc=lev_dist)\n",
    "clusters_pos = ClusterData(gram_pos_filtered.Sequence.to_list(), len(gram_pos_filtered), 8, distFunc=lev_dist)"
   ]
  },
  {
   "cell_type": "code",
   "execution_count": 31,
   "metadata": {},
   "outputs": [
    {
     "data": {
      "text/plain": [
       "11"
      ]
     },
     "execution_count": 31,
     "metadata": {},
     "output_type": "execute_result"
    }
   ],
   "source": [
    "len(clusters_neg)"
   ]
  },
  {
   "cell_type": "code",
   "execution_count": 32,
   "metadata": {},
   "outputs": [
    {
     "data": {
      "text/plain": [
       "18"
      ]
     },
     "execution_count": 32,
     "metadata": {},
     "output_type": "execute_result"
    }
   ],
   "source": [
    "len(clusters_pos)"
   ]
  },
  {
   "cell_type": "markdown",
   "metadata": {},
   "source": [
    "### checking and cleaning clusters"
   ]
  },
  {
   "cell_type": "code",
   "execution_count": 33,
   "metadata": {},
   "outputs": [],
   "source": [
    "clusters_neg_new = []\n",
    "for cluster_neg in clusters_neg:\n",
    "    cluster_neg_new = []\n",
    "    for idx in cluster_neg:\n",
    "        if \"M\" not in gram_neg_filtered.iloc[idx].Sequence and gram_neg_filtered.iloc[idx].dist_Training_act >= 5 and gram_neg_filtered.iloc[idx].dist_Test_act >= 5:\n",
    "            cluster_neg_new.append(idx)\n",
    "    clusters_neg_new.append(cluster_neg_new)"
   ]
  },
  {
   "cell_type": "code",
   "execution_count": 43,
   "metadata": {},
   "outputs": [],
   "source": [
    "clusters_pos_new = []\n",
    "for cluster_pos in clusters_pos:\n",
    "    cluster_pos_new = []\n",
    "    for idx in cluster_pos:\n",
    "        if \"M\" not in gram_pos_filtered.iloc[idx].Sequence and gram_pos_filtered.iloc[idx].dist_Training_act >= 5 and gram_pos_filtered.iloc[idx].dist_Test_act >= 5:\n",
    "            cluster_pos_new.append(idx)\n",
    "    clusters_pos_new.append(cluster_pos_new)"
   ]
  },
  {
   "cell_type": "code",
   "execution_count": 44,
   "metadata": {},
   "outputs": [],
   "source": [
    "np.random.seed(787)\n",
    "\n",
    "indices = []\n",
    "idx_pos = []\n",
    "for cluster_pos in clusters_pos_new:\n",
    "    if len(cluster_pos) > 0:\n",
    "        idx_pos.append(cluster_pos[0])\n",
    "    if len(cluster_pos) > 6:\n",
    "        cluster_pos_tmp = list(cluster_pos)\n",
    "        cluster_pos_tmp.remove(cluster_pos[0])\n",
    "        idx_plus = np.random.choice(np.array(cluster_pos_tmp),1)\n",
    "        idx_pos.append(idx_plus)\n",
    "\n",
    "\n",
    "idx_neg = []\n",
    "for cluster_neg in clusters_neg_new:\n",
    "    if len(cluster_neg) > 0:\n",
    "        idx_neg.append(cluster_neg[0])\n",
    "    if len(cluster_neg) > 6:\n",
    "        cluster_neg_tmp = list(cluster_neg)\n",
    "        cluster_neg_tmp.remove(cluster_neg[0])\n",
    "        idx_plus = np.random.choice(np.array(cluster_neg_tmp),1)\n",
    "        idx_neg.append(idx_plus)"
   ]
  },
  {
   "cell_type": "code",
   "execution_count": 45,
   "metadata": {},
   "outputs": [],
   "source": [
    "gram_pos_filtered.iloc[idx_pos][cols].to_csv(folder+\"data/gram_pos_filtered_clustered.csv\", index=False)\n",
    "gram_neg_filtered.iloc[idx_neg][cols].to_csv(folder+\"data/gram_neg_filtered_clustered.csv\", index=False)\n",
    "gram_pos_filtered.iloc[idx_pos][cols].to_csv(\"data/gram_pos_filtered_clustered.csv\", index=False)\n",
    "gram_neg_filtered.iloc[idx_neg][cols].to_csv(\"data/gram_neg_filtered_clustered.csv\", index=False)"
   ]
  },
  {
   "cell_type": "markdown",
   "metadata": {},
   "source": [
    "### \"Random\" filtering from predicted active"
   ]
  },
  {
   "cell_type": "code",
   "execution_count": 37,
   "metadata": {},
   "outputs": [],
   "source": [
    "gram_neg_filtered_rnd = gram_neg.query(\"(dist_Training_hem > 5 and dist_Training_hem <= 7) and dist_Test_hem > 4 and length <= 15 and D_AA == False and dist_Test_act != 0 and dist_Training_act != 0\").reset_index(drop=True).sample(10, random_state = 0)"
   ]
  },
  {
   "cell_type": "code",
   "execution_count": 38,
   "metadata": {},
   "outputs": [],
   "source": [
    "gram_pos_filtered_rnd = gram_pos.query(\"(dist_Training_hem > 5 and dist_Training_hem <= 7) and dist_Test_hem > 4 and length <= 15 and D_AA == False and dist_Test_act != 0 and dist_Training_act != 0\").reset_index(drop=True).sample(10, random_state =0)"
   ]
  },
  {
   "cell_type": "code",
   "execution_count": 39,
   "metadata": {},
   "outputs": [],
   "source": [
    "gram_pos_filtered_rnd[cols].to_csv(folder+\"data/gram_pos_rnd.csv\", index=False)\n",
    "gram_neg_filtered_rnd[cols].to_csv(folder+\"data/gram_neg_rnd.csv\", index=False)\n",
    "gram_pos_filtered_rnd[cols].to_csv(\"data/gram_pos_rnd.csv\", index=False)\n",
    "gram_neg_filtered_rnd[cols].to_csv(\"data/gram_neg_rnd.csv\", index=False)"
   ]
  },
  {
   "cell_type": "code",
   "execution_count": 40,
   "metadata": {},
   "outputs": [],
   "source": [
    "checkunique = pd.concat([gram_neg_filtered_rnd, gram_neg_filtered.iloc[idx_neg]])"
   ]
  },
  {
   "cell_type": "code",
   "execution_count": 41,
   "metadata": {},
   "outputs": [
    {
     "data": {
      "text/plain": [
       "20"
      ]
     },
     "execution_count": 41,
     "metadata": {},
     "output_type": "execute_result"
    }
   ],
   "source": [
    "len(checkunique)"
   ]
  },
  {
   "cell_type": "code",
   "execution_count": 42,
   "metadata": {},
   "outputs": [
    {
     "data": {
      "text/plain": [
       "20"
      ]
     },
     "execution_count": 42,
     "metadata": {},
     "output_type": "execute_result"
    }
   ],
   "source": [
    "len(checkunique.drop_duplicates(\"Sequence\"))"
   ]
  },
  {
   "cell_type": "code",
   "execution_count": null,
   "metadata": {},
   "outputs": [],
   "source": []
  }
 ],
 "metadata": {
  "kernelspec": {
   "display_name": "Python 3",
   "language": "python",
   "name": "python3"
  },
  "language_info": {
   "codemirror_mode": {
    "name": "ipython",
    "version": 3
   },
   "file_extension": ".py",
   "mimetype": "text/x-python",
   "name": "python",
   "nbconvert_exporter": "python",
   "pygments_lexer": "ipython3",
   "version": "3.6.10"
  }
 },
 "nbformat": 4,
 "nbformat_minor": 4
}
