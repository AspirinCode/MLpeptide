{
 "cells": [
  {
   "cell_type": "code",
   "execution_count": 1,
   "metadata": {},
   "outputs": [
    {
     "name": "stdout",
     "output_type": "stream",
     "text": [
      "INFO: Pandarallel will run on 8 workers.\n",
      "INFO: Pandarallel will use Memory file system to transfer data between the main process and workers.\n"
     ]
    }
   ],
   "source": [
    "import random\n",
    "import torch.nn as nn\n",
    "import torch\n",
    "import pickle\n",
    "import pandas as pd\n",
    "from pandas import Series, DataFrame\n",
    "from pandarallel import pandarallel\n",
    "pandarallel.initialize(progress_bar=False)\n",
    "from sklearn.metrics import roc_auc_score, roc_curve, accuracy_score, matthews_corrcoef, f1_score, precision_score, recall_score\n",
    "import numpy as np\n",
    "import torch.optim as optim\n",
    "folder = \"/data/AIpep-clean/\"\n",
    "import matplotlib.pyplot as plt\n",
    "from vocabulary import Vocabulary\n",
    "from datasethem import Dataset\n",
    "from datasethem import collate_fn_no_activity as collate_fn\n",
    "from models import Generator\n",
    "from tqdm.autonotebook  import trange, tqdm\n",
    "import os\n",
    "from collections import defaultdict"
   ]
  },
  {
   "cell_type": "markdown",
   "metadata": {},
   "source": [
    "# Load data"
   ]
  },
  {
   "cell_type": "code",
   "execution_count": 2,
   "metadata": {},
   "outputs": [],
   "source": [
    "df = pd.read_pickle(folder + \"pickles/DAASP_RNN_dataset_with_hemolysis.plk\")\n",
    "\n",
    "df_training = df.query(\"Set == 'training' and (baumannii == True or aeruginosa == True) and isNotHemolytic==1\")\n",
    "df_test = df.query(\"Set == 'test' and (baumannii == True or aeruginosa == True) and isNotHemolytic==1\")\n",
    "\n",
    "if torch.cuda.is_available():\n",
    "    device = \"cuda\" \n",
    "else:\n",
    "    device = \"cpu\" "
   ]
  },
  {
   "cell_type": "code",
   "execution_count": 3,
   "metadata": {},
   "outputs": [
    {
     "name": "stdout",
     "output_type": "stream",
     "text": [
      "Against A. baumannii or P. aeruginosa:\n",
      "active training 242\n",
      "active test 77\n",
      "inactive training 97\n",
      "inactive test 25\n"
     ]
    }
   ],
   "source": [
    "print(\"Against A. baumannii or P. aeruginosa:\\nactive training \"+ str(len(df_training[df_training[\"activity\"]==1])) \\\n",
    "      + \"\\nactive test \" + str(len(df_test[df_test[\"activity\"]==1])) \\\n",
    "      + \"\\ninactive training \"+ str(len(df_training[df_training[\"activity\"]==0])) \\\n",
    "      + \"\\ninactive test \" + str(len(df_test[df_test[\"activity\"]==0])))"
   ]
  },
  {
   "cell_type": "markdown",
   "metadata": {},
   "source": [
    "# Define helper functions"
   ]
  },
  {
   "cell_type": "code",
   "execution_count": 4,
   "metadata": {},
   "outputs": [],
   "source": [
    "def randomChoice(l):\n",
    "    return l[random.randint(0, len(l) - 1)]\n",
    "\n",
    "def categoryFromOutput(output):\n",
    "    top_n, top_i = output.topk(1)\n",
    "    category_i = top_i[0].item()\n",
    "    return category_i\n",
    "\n",
    "def nan_equal(a,b):\n",
    "    try:\n",
    "        np.testing.assert_equal(a,b)\n",
    "    except AssertionError:\n",
    "        return False\n",
    "    return True\n",
    "\n",
    "def models_are_equal(model1, model2):\n",
    "    model1.vocabulary == model2.vocabulary\n",
    "    model1.hidden_size == model2.hidden_size\n",
    "    for a,b in zip(model1.model.parameters(), model2.model.parameters()):\n",
    "        if nan_equal(a.detach().numpy(), b.detach().numpy()) == True:\n",
    "            print(\"true\")"
   ]
  },
  {
   "cell_type": "markdown",
   "metadata": {},
   "source": [
    "# Define hyper parameters"
   ]
  },
  {
   "cell_type": "code",
   "execution_count": 5,
   "metadata": {},
   "outputs": [],
   "source": [
    "n_embedding  = 100\n",
    "n_hidden = 400\n",
    "n_layers = 2\n",
    "n_epoch = 200\n",
    "learning_rate = 0.00001\n",
    "momentum = 0.9\n",
    "batch_size = 10\n",
    "epoch = 22"
   ]
  },
  {
   "cell_type": "markdown",
   "metadata": {},
   "source": [
    "# Loading and Training"
   ]
  },
  {
   "cell_type": "code",
   "execution_count": 6,
   "metadata": {},
   "outputs": [
    {
     "data": {
      "application/vnd.jupyter.widget-view+json": {
       "model_id": "54d1cc08bfe340a6bd059405cf06e7b5",
       "version_major": 2,
       "version_minor": 0
      },
      "text/plain": [
       "HBox(children=(FloatProgress(value=0.0, max=200.0), HTML(value='')))"
      ]
     },
     "metadata": {},
     "output_type": "display_data"
    },
    {
     "name": "stdout",
     "output_type": "stream",
     "text": [
      "Epoch 1\n"
     ]
    },
    {
     "data": {
      "application/vnd.jupyter.widget-view+json": {
       "model_id": "e2ae3281aade47ef8910ae7d0c08b2f9",
       "version_major": 2,
       "version_minor": 0
      },
      "text/plain": [
       "HBox(children=(FloatProgress(value=0.0, max=24.0), HTML(value='')))"
      ]
     },
     "metadata": {},
     "output_type": "display_data"
    },
    {
     "name": "stdout",
     "output_type": "stream",
     "text": [
      "\n",
      "\tExample Sequences\n",
      "\t\t<start>AGRRAAGVRRWRWR<end><pad><pad><pad><pad><pad><pad><pad><pad><pad>\n",
      "\t\t<start>KRRLAAKKAARLRARPKRARLKS<end>\n",
      "\t\t<start>FKRLEKLFSKIWNWK<end><pad><pad><pad><pad><pad><pad><pad><pad>\n",
      "\t\t<start>KIKYLLKKIIKVL<end><pad><pad><pad><pad><pad><pad><pad><pad><pad><pad>\n",
      "\t\t<start>GFLDIVKGVALTMG<end><pad><pad><pad><pad><pad><pad><pad><pad><pad>\n",
      "\tNLL Train Active: 18.879230499267578\n",
      "\tNLL Test Active: 28.532005310058594\n",
      "\tNLL Train Inactive: 35.40422439575195\n",
      "\tNLL Test Inactive: 35.26431655883789\n",
      "\n",
      "Epoch 2\n"
     ]
    },
    {
     "data": {
      "application/vnd.jupyter.widget-view+json": {
       "model_id": "d9c8d2bd59b544b693dc5182a9449bed",
       "version_major": 2,
       "version_minor": 0
      },
      "text/plain": [
       "HBox(children=(FloatProgress(value=0.0, max=24.0), HTML(value='')))"
      ]
     },
     "metadata": {},
     "output_type": "display_data"
    },
    {
     "name": "stdout",
     "output_type": "stream",
     "text": [
      "\n",
      "\tExample Sequences\n",
      "\t\t<start>LKLLKKLLKWLK<end><pad><pad><pad><pad><pad><pad><pad><pad><pad>\n",
      "\t\t<start>AKRNLKKLAKKIKAIIKK<end><pad><pad><pad>\n",
      "\t\t<start>GFLPTLKSIWNWLIK<end><pad><pad><pad><pad><pad><pad>\n",
      "\t\t<start>FLKKVWSTVKSVF<end><pad><pad><pad><pad><pad><pad><pad><pad>\n",
      "\t\t<start>RRRPRPPYLPRPRPPFRPPRI<end>\n",
      "\tNLL Train Active: 18.630931854248047\n",
      "\tNLL Test Active: 28.363243103027344\n",
      "\tNLL Train Inactive: 35.348388671875\n",
      "\tNLL Test Inactive: 35.219398498535156\n",
      "\n",
      "Epoch 3\n"
     ]
    },
    {
     "data": {
      "application/vnd.jupyter.widget-view+json": {
       "model_id": "60172b7d606c478389eecdfd4e03b071",
       "version_major": 2,
       "version_minor": 0
      },
      "text/plain": [
       "HBox(children=(FloatProgress(value=0.0, max=24.0), HTML(value='')))"
      ]
     },
     "metadata": {},
     "output_type": "display_data"
    },
    {
     "name": "stdout",
     "output_type": "stream",
     "text": [
      "\n",
      "\tExample Sequences\n",
      "\t\t<start>GRFKRFRKKLKKIAKKVAKVL<end><pad><pad>\n",
      "\t\t<start>ILPWKWPWLPWR<end><pad><pad><pad><pad><pad><pad><pad><pad><pad><pad><pad>\n",
      "\t\t<start>FSKCMRKTAKRLEKLFSKIWNWK<end>\n",
      "\t\t<start>KKKKKKKKKKIKKIIKKIIKV<end><pad><pad>\n",
      "\t\t<start>RWKIWVIRVWRR<end><pad><pad><pad><pad><pad><pad><pad><pad><pad><pad><pad>\n",
      "\tNLL Train Active: 18.421781539916992\n",
      "\tNLL Test Active: 28.222808837890625\n",
      "\tNLL Train Inactive: 35.30592346191406\n",
      "\tNLL Test Inactive: 35.17510986328125\n",
      "\n",
      "Epoch 4\n"
     ]
    },
    {
     "data": {
      "application/vnd.jupyter.widget-view+json": {
       "model_id": "6aac12700b704141a8b6fda8bd62e011",
       "version_major": 2,
       "version_minor": 0
      },
      "text/plain": [
       "HBox(children=(FloatProgress(value=0.0, max=24.0), HTML(value='')))"
      ]
     },
     "metadata": {},
     "output_type": "display_data"
    },
    {
     "name": "stdout",
     "output_type": "stream",
     "text": [
      "\n",
      "\tExample Sequences\n",
      "\t\t<start>RWRRPIRRRPIRPPWYR<end><pad><pad><pad><pad><pad><pad><pad><pad><pad><pad><pad><pad><pad><pad><pad><pad><pad><pad><pad><pad><pad><pad><pad><pad><pad><pad>\n",
      "\t\t<start>ILPKCKFPVGDFKKVEKVKKVKDTVAKVKPKVAAVGDKVAAAG<end>\n",
      "\t\t<start>RLCRIGIKVVIRVCR<end><pad><pad><pad><pad><pad><pad><pad><pad><pad><pad><pad><pad><pad><pad><pad><pad><pad><pad><pad><pad><pad><pad><pad><pad><pad><pad><pad><pad>\n",
      "\t\t<start>KWNKRLKKIGQKIKNFFQKL<end><pad><pad><pad><pad><pad><pad><pad><pad><pad><pad><pad><pad><pad><pad><pad><pad><pad><pad><pad><pad><pad><pad><pad>\n",
      "\t\t<start>RKHRCRVYNNGLRPTMYR<end><pad><pad><pad><pad><pad><pad><pad><pad><pad><pad><pad><pad><pad><pad><pad><pad><pad><pad><pad><pad><pad><pad><pad><pad><pad>\n",
      "\tNLL Train Active: 18.239124298095703\n",
      "\tNLL Test Active: 28.101831436157227\n",
      "\tNLL Train Inactive: 35.26422882080078\n",
      "\tNLL Test Inactive: 35.12519073486328\n",
      "\n",
      "Epoch 5\n"
     ]
    },
    {
     "data": {
      "application/vnd.jupyter.widget-view+json": {
       "model_id": "1557754a220a4df1a1abf2c4ac647569",
       "version_major": 2,
       "version_minor": 0
      },
      "text/plain": [
       "HBox(children=(FloatProgress(value=0.0, max=24.0), HTML(value='')))"
      ]
     },
     "metadata": {},
     "output_type": "display_data"
    },
    {
     "name": "stdout",
     "output_type": "stream",
     "text": [
      "\n",
      "\tExample Sequences\n",
      "\t\t<start>KWKKLLKKPLLKKLKKLLKK<end><pad><pad><pad><pad><pad><pad><pad><pad><pad><pad><pad><pad><pad><pad><pad><pad><pad>\n",
      "\t\t<start>fqcGSILGALGKLLGGLF<end><pad><pad><pad><pad><pad><pad><pad><pad><pad><pad><pad><pad><pad><pad><pad><pad><pad><pad><pad>\n",
      "\t\t<start>WGRTFRRIRRRGFKKLKKSVKKLFKKISERIGGRKNR<end>\n",
      "\t\t<start>FFFHIIKKWIHVGKRIHRG<end><pad><pad><pad><pad><pad><pad><pad><pad><pad><pad><pad><pad><pad><pad><pad><pad><pad><pad>\n",
      "\t\t<start>RALHLHAHLKKA<end><pad><pad><pad><pad><pad><pad><pad><pad><pad><pad><pad><pad><pad><pad><pad><pad><pad><pad><pad><pad><pad><pad><pad><pad><pad>\n",
      "\tNLL Train Active: 18.076705932617188\n",
      "\tNLL Test Active: 28.00507926940918\n",
      "\tNLL Train Inactive: 35.219181060791016\n",
      "\tNLL Test Inactive: 35.074527740478516\n",
      "\n",
      "Epoch 6\n"
     ]
    },
    {
     "data": {
      "application/vnd.jupyter.widget-view+json": {
       "model_id": "cdede702e2bc4797982edecb3c7e4938",
       "version_major": 2,
       "version_minor": 0
      },
      "text/plain": [
       "HBox(children=(FloatProgress(value=0.0, max=24.0), HTML(value='')))"
      ]
     },
     "metadata": {},
     "output_type": "display_data"
    },
    {
     "name": "stdout",
     "output_type": "stream",
     "text": [
      "\n",
      "\tExample Sequences\n",
      "\t\t<start>YTSLIHSLIEEVQNQQQEKNEEQELLELELDWDWFSITRQRCN<end>\n",
      "\t\t<start>GLRKRLRKFRNKIKKKIKKWLR<end><pad><pad><pad><pad><pad><pad><pad><pad><pad><pad><pad><pad><pad><pad><pad><pad><pad><pad><pad><pad><pad>\n",
      "\t\t<start>KWKWKWK<end><pad><pad><pad><pad><pad><pad><pad><pad><pad><pad><pad><pad><pad><pad><pad><pad><pad><pad><pad><pad><pad><pad><pad><pad><pad><pad><pad><pad><pad><pad><pad><pad><pad><pad><pad><pad>\n",
      "\t\t<start>VWKKWWKWLK<end><pad><pad><pad><pad><pad><pad><pad><pad><pad><pad><pad><pad><pad><pad><pad><pad><pad><pad><pad><pad><pad><pad><pad><pad><pad><pad><pad><pad><pad><pad><pad><pad><pad>\n",
      "\t\t<start>WLFKKILKKI<end><pad><pad><pad><pad><pad><pad><pad><pad><pad><pad><pad><pad><pad><pad><pad><pad><pad><pad><pad><pad><pad><pad><pad><pad><pad><pad><pad><pad><pad><pad><pad><pad><pad>\n",
      "\tNLL Train Active: 17.937786102294922\n",
      "\tNLL Test Active: 27.916872024536133\n",
      "\tNLL Train Inactive: 35.196006774902344\n",
      "\tNLL Test Inactive: 35.043983459472656\n",
      "\n",
      "Epoch 7\n"
     ]
    },
    {
     "data": {
      "application/vnd.jupyter.widget-view+json": {
       "model_id": "448fd8cee00549dda4b10ce4687f5be0",
       "version_major": 2,
       "version_minor": 0
      },
      "text/plain": [
       "HBox(children=(FloatProgress(value=0.0, max=24.0), HTML(value='')))"
      ]
     },
     "metadata": {},
     "output_type": "display_data"
    },
    {
     "name": "stdout",
     "output_type": "stream",
     "text": [
      "\n",
      "\tExample Sequences\n",
      "\t\t<start>KKLFKKILKYLAGPAKKLFKKILKYLKDEL<end>\n",
      "\t\t<start>RFRWPIRRRPIRPPF<end><pad><pad><pad><pad><pad><pad><pad><pad><pad><pad><pad><pad><pad><pad><pad>\n",
      "\t\t<start>ILPWKWPWWPARR<end><pad><pad><pad><pad><pad><pad><pad><pad><pad><pad><pad><pad><pad><pad><pad><pad><pad>\n",
      "\t\t<start>GFFKKLKNSVKKRAKKFAKFFAG<end><pad><pad><pad><pad><pad><pad><pad>\n",
      "\t\t<start>KILGKLIKWI<end><pad><pad><pad><pad><pad><pad><pad><pad><pad><pad><pad><pad><pad><pad><pad><pad><pad><pad><pad><pad>\n",
      "\tNLL Train Active: 17.801095962524414\n",
      "\tNLL Test Active: 27.832252502441406\n",
      "\tNLL Train Inactive: 35.16880798339844\n",
      "\tNLL Test Inactive: 35.00431442260742\n",
      "\n",
      "Epoch 8\n"
     ]
    },
    {
     "data": {
      "application/vnd.jupyter.widget-view+json": {
       "model_id": "5047e8ed112c4bb1b49751d757cb8d50",
       "version_major": 2,
       "version_minor": 0
      },
      "text/plain": [
       "HBox(children=(FloatProgress(value=0.0, max=24.0), HTML(value='')))"
      ]
     },
     "metadata": {},
     "output_type": "display_data"
    },
    {
     "name": "stdout",
     "output_type": "stream",
     "text": [
      "\n",
      "\tExample Sequences\n",
      "\t\t<start>GIRKKIKKIASYAKKFAKAFVAFK<end><pad><pad><pad><pad><pad><pad><pad><pad><pad>\n",
      "\t\t<start>GMWSKIWNWAKKIAK<end><pad><pad><pad><pad><pad><pad><pad><pad><pad><pad><pad><pad><pad><pad><pad><pad><pad><pad>\n",
      "\t\t<start>FAWKKAFKKIPKFLHSAKKF<end><pad><pad><pad><pad><pad><pad><pad><pad><pad><pad><pad><pad><pad>\n",
      "\t\t<start>SIGKFLHSAKKFGKLEGGSKQLLAAKHKEKLAK<end>\n",
      "\t\t<start>VIrGIIKGIKSIF<end><pad><pad><pad><pad><pad><pad><pad><pad><pad><pad><pad><pad><pad><pad><pad><pad><pad><pad><pad><pad>\n",
      "\tNLL Train Active: 17.679336547851562\n",
      "\tNLL Test Active: 27.764249801635742\n",
      "\tNLL Train Inactive: 35.136314392089844\n",
      "\tNLL Test Inactive: 34.958763122558594\n",
      "\n",
      "Epoch 9\n"
     ]
    },
    {
     "data": {
      "application/vnd.jupyter.widget-view+json": {
       "model_id": "eb73e429ba57452faa422565349567ae",
       "version_major": 2,
       "version_minor": 0
      },
      "text/plain": [
       "HBox(children=(FloatProgress(value=0.0, max=24.0), HTML(value='')))"
      ]
     },
     "metadata": {},
     "output_type": "display_data"
    },
    {
     "name": "stdout",
     "output_type": "stream",
     "text": [
      "\n",
      "\tExample Sequences\n",
      "\t\t<start>VDKPPYLPRPRPPRRIYNR<end>\n",
      "\t\t<start>KKWWRWWRR<end><pad><pad><pad><pad><pad><pad><pad><pad><pad><pad>\n",
      "\t\t<start>RWWRWFGGGRWRH<end><pad><pad><pad><pad><pad><pad>\n",
      "\t\t<start>LKVFVKVLTKV<end><pad><pad><pad><pad><pad><pad><pad><pad>\n",
      "\t\t<start>RLRKIVVIRVRR<end><pad><pad><pad><pad><pad><pad><pad>\n",
      "\tNLL Train Active: 17.568496704101562\n",
      "\tNLL Test Active: 27.698070526123047\n",
      "\tNLL Train Inactive: 35.117095947265625\n",
      "\tNLL Test Inactive: 34.919857025146484\n",
      "\n",
      "Epoch 10\n"
     ]
    },
    {
     "data": {
      "application/vnd.jupyter.widget-view+json": {
       "model_id": "2c1d53cd8a5d4a04a4f6eb281eac068c",
       "version_major": 2,
       "version_minor": 0
      },
      "text/plain": [
       "HBox(children=(FloatProgress(value=0.0, max=24.0), HTML(value='')))"
      ]
     },
     "metadata": {},
     "output_type": "display_data"
    },
    {
     "name": "stdout",
     "output_type": "stream",
     "text": [
      "\n",
      "\tExample Sequences\n",
      "\t\t<start>RLWLAIWRWR<end><pad><pad><pad><pad><pad><pad><pad><pad><pad><pad><pad><pad>\n",
      "\t\t<start>DARHHHGYKRKKH<end><pad><pad><pad><pad><pad><pad><pad><pad><pad>\n",
      "\t\t<start>RLRKFLKKILKYLKKLF<end><pad><pad><pad><pad><pad>\n",
      "\t\t<start>KKLLKFlPKLLKFIKKLVSKTV<end>\n",
      "\t\t<start>GKNNKKRLARLARHL<end><pad><pad><pad><pad><pad><pad><pad>\n",
      "\tNLL Train Active: 17.46346664428711\n",
      "\tNLL Test Active: 27.640228271484375\n",
      "\tNLL Train Inactive: 35.09577941894531\n",
      "\tNLL Test Inactive: 34.888916015625\n",
      "\n",
      "Epoch 11\n"
     ]
    },
    {
     "data": {
      "application/vnd.jupyter.widget-view+json": {
       "model_id": "9f37713d2aec4dea80a5e9b4982bc287",
       "version_major": 2,
       "version_minor": 0
      },
      "text/plain": [
       "HBox(children=(FloatProgress(value=0.0, max=24.0), HTML(value='')))"
      ]
     },
     "metadata": {},
     "output_type": "display_data"
    },
    {
     "name": "stdout",
     "output_type": "stream",
     "text": [
      "\n",
      "\tExample Sequences\n",
      "\t\t<start>WWWRRW<end><pad><pad><pad><pad><pad><pad>\n",
      "\t\t<start>LRRLLRRLCRR<end><pad>\n",
      "\t\t<start>KWLRKAIKKI<end><pad><pad>\n",
      "\t\t<start>TRWWRWRVR<end><pad><pad><pad>\n",
      "\t\t<start>GARLAKIVAVWK<end>\n",
      "\tNLL Train Active: 17.36495590209961\n",
      "\tNLL Test Active: 27.588743209838867\n",
      "\tNLL Train Inactive: 35.07671356201172\n",
      "\tNLL Test Inactive: 34.856937408447266\n",
      "\n",
      "Epoch 12\n"
     ]
    },
    {
     "data": {
      "application/vnd.jupyter.widget-view+json": {
       "model_id": "c2f99d2eb10d4f68b74a69e742be84e1",
       "version_major": 2,
       "version_minor": 0
      },
      "text/plain": [
       "HBox(children=(FloatProgress(value=0.0, max=24.0), HTML(value='')))"
      ]
     },
     "metadata": {},
     "output_type": "display_data"
    },
    {
     "name": "stdout",
     "output_type": "stream",
     "text": [
      "\n",
      "\tExample Sequences\n",
      "\t\t<start>ILPWKKWPYR<end><pad><pad><pad><pad><pad><pad><pad><pad><pad><pad><pad><pad><pad><pad><pad><pad><pad><pad><pad><pad><pad><pad><pad><pad><pad><pad><pad><pad><pad>\n",
      "\t\t<start>WWWLKRIW<end><pad><pad><pad><pad><pad><pad><pad><pad><pad><pad><pad><pad><pad><pad><pad><pad><pad><pad><pad><pad><pad><pad><pad><pad><pad><pad><pad><pad><pad><pad><pad>\n",
      "\t\t<start>RRRRPRPPQFFQTFLPF<end><pad><pad><pad><pad><pad><pad><pad><pad><pad><pad><pad><pad><pad><pad><pad><pad><pad><pad><pad><pad><pad><pad>\n",
      "\t\t<start>RWRLSFLKGTKTSLHTPLNVAHQKRVT<end><pad><pad><pad><pad><pad><pad><pad><pad><pad><pad><pad><pad>\n",
      "\t\t<start>WLSKTIQQKGGHVGRNVGVQAGQVGVHVRRLGEGIAEKA<end>\n",
      "\tNLL Train Active: 17.269453048706055\n",
      "\tNLL Test Active: 27.536088943481445\n",
      "\tNLL Train Inactive: 35.05925369262695\n",
      "\tNLL Test Inactive: 34.82468032836914\n",
      "\n",
      "Epoch 13\n"
     ]
    },
    {
     "data": {
      "application/vnd.jupyter.widget-view+json": {
       "model_id": "c618d9bf8b5f404a91c42bd8d0d67e91",
       "version_major": 2,
       "version_minor": 0
      },
      "text/plain": [
       "HBox(children=(FloatProgress(value=0.0, max=24.0), HTML(value='')))"
      ]
     },
     "metadata": {},
     "output_type": "display_data"
    },
    {
     "name": "stdout",
     "output_type": "stream",
     "text": [
      "\n",
      "\tExample Sequences\n",
      "\t\t<start>GWWRRTVAKVR<end><pad><pad><pad><pad><pad><pad><pad><pad><pad><pad><pad><pad><pad><pad><pad><pad><pad><pad><pad><pad><pad><pad><pad><pad><pad><pad><pad><pad><pad><pad><pad><pad><pad><pad><pad>\n",
      "\t\t<start>KWKKVFKKIEKVGRNVRDGIIKAAAAAAAAGKAVDAVAEAAKTAVN<end>\n",
      "\t\t<start>VDKKPYLPRKRPPRRIYNR<end><pad><pad><pad><pad><pad><pad><pad><pad><pad><pad><pad><pad><pad><pad><pad><pad><pad><pad><pad><pad><pad><pad><pad><pad><pad><pad><pad>\n",
      "\t\t<start>GKWMSLLKHILK<end><pad><pad><pad><pad><pad><pad><pad><pad><pad><pad><pad><pad><pad><pad><pad><pad><pad><pad><pad><pad><pad><pad><pad><pad><pad><pad><pad><pad><pad><pad><pad><pad><pad><pad>\n",
      "\t\t<start>KRGGRFKRIVQRARDTIIQPQQRY<end><pad><pad><pad><pad><pad><pad><pad><pad><pad><pad><pad><pad><pad><pad><pad><pad><pad><pad><pad><pad><pad><pad>\n",
      "\tNLL Train Active: 17.18081283569336\n",
      "\tNLL Test Active: 27.489957809448242\n",
      "\tNLL Train Inactive: 35.04124450683594\n",
      "\tNLL Test Inactive: 34.791439056396484\n",
      "\n",
      "Epoch 14\n"
     ]
    },
    {
     "data": {
      "application/vnd.jupyter.widget-view+json": {
       "model_id": "bfe7b1c27ab2488ebbaa7214cceb2121",
       "version_major": 2,
       "version_minor": 0
      },
      "text/plain": [
       "HBox(children=(FloatProgress(value=0.0, max=24.0), HTML(value='')))"
      ]
     },
     "metadata": {},
     "output_type": "display_data"
    },
    {
     "name": "stdout",
     "output_type": "stream",
     "text": [
      "\n",
      "\tExample Sequences\n",
      "\t\t<start>VKKWKKLLKKPLIFKK<end>\n",
      "\t\t<start>KWQRKVR<end><pad><pad><pad><pad><pad><pad><pad><pad><pad>\n",
      "\t\t<start>RLRRLWLRVLRLV<end><pad><pad><pad>\n",
      "\t\t<start>KTWWKTWWTKW<end><pad><pad><pad><pad><pad>\n",
      "\t\t<start>RLRWWIRWRI<end><pad><pad><pad><pad><pad><pad>\n",
      "\tNLL Train Active: 17.09364128112793\n",
      "\tNLL Test Active: 27.445499420166016\n",
      "\tNLL Train Inactive: 35.013633728027344\n",
      "\tNLL Test Inactive: 34.75464630126953\n",
      "\n",
      "Epoch 15\n"
     ]
    },
    {
     "data": {
      "application/vnd.jupyter.widget-view+json": {
       "model_id": "6b0d5d4c094449768438dd84c7b3c2c4",
       "version_major": 2,
       "version_minor": 0
      },
      "text/plain": [
       "HBox(children=(FloatProgress(value=0.0, max=24.0), HTML(value='')))"
      ]
     },
     "metadata": {},
     "output_type": "display_data"
    },
    {
     "name": "stdout",
     "output_type": "stream",
     "text": [
      "\n",
      "\tExample Sequences\n",
      "\t\t<start>WGLKKIFKGIKHVGKAIGGLVAGHRAHR<end><pad><pad>\n",
      "\t\t<start>RWRWWpRWG<end><pad><pad><pad><pad><pad><pad><pad><pad><pad><pad><pad><pad><pad><pad><pad><pad><pad><pad><pad><pad><pad>\n",
      "\t\t<start>FRFRWPWRRPGKFLLKK<end><pad><pad><pad><pad><pad><pad><pad><pad><pad><pad><pad><pad><pad>\n",
      "\t\t<start>LLKKILKKLL<end><pad><pad><pad><pad><pad><pad><pad><pad><pad><pad><pad><pad><pad><pad><pad><pad><pad><pad><pad><pad>\n",
      "\t\t<start>GLLGGLLGKGGKGFGGGKGGGHGGGHGGGH<end>\n",
      "\tNLL Train Active: 17.01252555847168\n",
      "\tNLL Test Active: 27.399620056152344\n",
      "\tNLL Train Inactive: 34.998023986816406\n",
      "\tNLL Test Inactive: 34.721561431884766\n",
      "\n",
      "Epoch 16\n"
     ]
    },
    {
     "data": {
      "application/vnd.jupyter.widget-view+json": {
       "model_id": "e7f43d2be7af403c8666d7a8dae781e8",
       "version_major": 2,
       "version_minor": 0
      },
      "text/plain": [
       "HBox(children=(FloatProgress(value=0.0, max=24.0), HTML(value='')))"
      ]
     },
     "metadata": {},
     "output_type": "display_data"
    },
    {
     "name": "stdout",
     "output_type": "stream",
     "text": [
      "\n",
      "\tExample Sequences\n",
      "\t\t<start>RKIKIPKFLRAGVKKIKGFRKKR<end><pad><pad><pad><pad><pad><pad><pad><pad><pad><pad><pad>\n",
      "\t\t<start>wkwklfkkakk<end><pad><pad><pad><pad><pad><pad><pad><pad><pad><pad><pad><pad><pad><pad><pad><pad><pad><pad><pad><pad><pad><pad><pad>\n",
      "\t\t<start>LVKKLVKRLKRFFKKPRVIPKVIGVTSIPF<end><pad><pad><pad><pad>\n",
      "\t\t<start>KKLFKKILKYLKKLFKKILKYLKKLF<end><pad><pad><pad><pad><pad><pad><pad><pad>\n",
      "\t\t<start>GLRDRLRDFLGRIRRKARKKGKTIIRAGKKILEK<end>\n",
      "\tNLL Train Active: 16.933074951171875\n",
      "\tNLL Test Active: 27.3596134185791\n",
      "\tNLL Train Inactive: 34.98662185668945\n",
      "\tNLL Test Inactive: 34.70125198364258\n",
      "\n",
      "Epoch 17\n"
     ]
    },
    {
     "data": {
      "application/vnd.jupyter.widget-view+json": {
       "model_id": "3efdddccf48a4ac7bafa3e5bfcf74fb8",
       "version_major": 2,
       "version_minor": 0
      },
      "text/plain": [
       "HBox(children=(FloatProgress(value=0.0, max=24.0), HTML(value='')))"
      ]
     },
     "metadata": {},
     "output_type": "display_data"
    },
    {
     "name": "stdout",
     "output_type": "stream",
     "text": [
      "\n",
      "\tExample Sequences\n",
      "\t\t<start>YPPSSPKTPTSHTVFRLHSGSrGY<end><pad><pad><pad><pad><pad><pad><pad><pad><pad><pad><pad><pad><pad><pad><pad>\n",
      "\t\t<start>IIPIIIGATWDTWK<end><pad><pad><pad><pad><pad><pad><pad><pad><pad><pad><pad><pad><pad><pad><pad><pad><pad><pad><pad><pad><pad><pad><pad><pad><pad>\n",
      "\t\t<start>VDKAPYWPSEPWSPRTISGYTRAIAIWNRR<end><pad><pad><pad><pad><pad><pad><pad><pad><pad>\n",
      "\t\t<start>KWKSFLKTFKSPvKTVFKAAFKA<end><pad><pad><pad><pad><pad><pad><pad><pad><pad><pad><pad><pad><pad><pad><pad><pad>\n",
      "\t\t<start>GLWKKIGKKIERVGQHTRDATIQAIQQARAVLEAAKAGP<end>\n",
      "\tNLL Train Active: 16.856733322143555\n",
      "\tNLL Test Active: 27.320091247558594\n",
      "\tNLL Train Inactive: 34.97227096557617\n",
      "\tNLL Test Inactive: 34.67490005493164\n",
      "\n",
      "Epoch 18\n"
     ]
    },
    {
     "data": {
      "application/vnd.jupyter.widget-view+json": {
       "model_id": "65518c3ef51648838ea2d1246d7fa93a",
       "version_major": 2,
       "version_minor": 0
      },
      "text/plain": [
       "HBox(children=(FloatProgress(value=0.0, max=24.0), HTML(value='')))"
      ]
     },
     "metadata": {},
     "output_type": "display_data"
    },
    {
     "name": "stdout",
     "output_type": "stream",
     "text": [
      "\n",
      "\tExample Sequences\n",
      "\t\t<start>GFLGMALKLLaKVLL<end><pad><pad><pad><pad><pad><pad><pad><pad><pad><pad><pad>\n",
      "\t\t<start>FRRPWWRIPKWPKGFKKFPG<end><pad><pad><pad><pad><pad><pad>\n",
      "\t\t<start>GILDTLKQFAKGVGKDLVKGAAQGVL<end>\n",
      "\t\t<start>VKKLPKWIRTI<end><pad><pad><pad><pad><pad><pad><pad><pad><pad><pad><pad><pad><pad><pad><pad>\n",
      "\t\t<start>PFFFRIRFRFRRF<end><pad><pad><pad><pad><pad><pad><pad><pad><pad><pad><pad><pad><pad>\n",
      "\tNLL Train Active: 16.78423309326172\n",
      "\tNLL Test Active: 27.288110733032227\n",
      "\tNLL Train Inactive: 34.96363830566406\n",
      "\tNLL Test Inactive: 34.6552619934082\n",
      "\n",
      "Epoch 19\n"
     ]
    },
    {
     "data": {
      "application/vnd.jupyter.widget-view+json": {
       "model_id": "8a83f366d0db4fd9af8c14227fb10091",
       "version_major": 2,
       "version_minor": 0
      },
      "text/plain": [
       "HBox(children=(FloatProgress(value=0.0, max=24.0), HTML(value='')))"
      ]
     },
     "metadata": {},
     "output_type": "display_data"
    },
    {
     "name": "stdout",
     "output_type": "stream",
     "text": [
      "\n",
      "\tExample Sequences\n",
      "\t\t<start>KLLKHWLKILK<end><pad><pad><pad><pad><pad>\n",
      "\t\t<start>KRRMWAFLARIRAGRW<end>\n",
      "\t\t<start>KKKWWWKRWV<end><pad><pad><pad><pad><pad><pad>\n",
      "\t\t<start>RRRRGKVQWRIADIAK<end>\n",
      "\t\t<start>AKKIPKKLLKKLKKKI<end>\n",
      "\tNLL Train Active: 16.71427345275879\n",
      "\tNLL Test Active: 27.248598098754883\n",
      "\tNLL Train Inactive: 34.95479202270508\n",
      "\tNLL Test Inactive: 34.63763427734375\n",
      "\n",
      "Epoch 20\n"
     ]
    },
    {
     "data": {
      "application/vnd.jupyter.widget-view+json": {
       "model_id": "37f020d58fb648a18fb632df07b5d30a",
       "version_major": 2,
       "version_minor": 0
      },
      "text/plain": [
       "HBox(children=(FloatProgress(value=0.0, max=24.0), HTML(value='')))"
      ]
     },
     "metadata": {},
     "output_type": "display_data"
    },
    {
     "name": "stdout",
     "output_type": "stream",
     "text": [
      "\n",
      "\tExample Sequences\n",
      "\t\t<start>GILKTIKPIIKKILK<end><pad><pad><pad><pad><pad><pad><pad><pad><pad><pad><pad><pad>\n",
      "\t\t<start>SGWGSFFKKAAHVGKHVGKAALTHYL<end><pad>\n",
      "\t\t<start>GRPNNPRPPVYNRNGPQPSHPRIEPPG<end>\n",
      "\t\t<start>GMWKKIWKWIPKWAKDWK<end><pad><pad><pad><pad><pad><pad><pad><pad><pad>\n",
      "\t\t<start>IKHIAKIIKKMLRNLKKKILK<end><pad><pad><pad><pad><pad><pad>\n",
      "\tNLL Train Active: 16.64470672607422\n",
      "\tNLL Test Active: 27.21690559387207\n",
      "\tNLL Train Inactive: 34.942626953125\n",
      "\tNLL Test Inactive: 34.61347579956055\n",
      "\n",
      "Epoch 21\n"
     ]
    },
    {
     "data": {
      "application/vnd.jupyter.widget-view+json": {
       "model_id": "2e421d1915d945749397f642775900ce",
       "version_major": 2,
       "version_minor": 0
      },
      "text/plain": [
       "HBox(children=(FloatProgress(value=0.0, max=24.0), HTML(value='')))"
      ]
     },
     "metadata": {},
     "output_type": "display_data"
    },
    {
     "name": "stdout",
     "output_type": "stream",
     "text": [
      "\n",
      "\tExample Sequences\n",
      "\t\t<start>GILASKLAKAWAHTQVLKSKL<end><pad><pad><pad><pad><pad><pad><pad><pad><pad><pad><pad><pad><pad><pad><pad><pad><pad><pad><pad><pad><pad><pad><pad><pad><pad>\n",
      "\t\t<start>LRKFFKKLKNS<end><pad><pad><pad><pad><pad><pad><pad><pad><pad><pad><pad><pad><pad><pad><pad><pad><pad><pad><pad><pad><pad><pad><pad><pad><pad><pad><pad><pad><pad><pad><pad><pad><pad><pad><pad>\n",
      "\t\t<start>AWWKTIWNGVKAALKGGVALAMGKKEQ<end><pad><pad><pad><pad><pad><pad><pad><pad><pad><pad><pad><pad><pad><pad><pad><pad><pad><pad><pad>\n",
      "\t\t<start>WIQPKCYTSHFQQSQWMAATQSKQTCNARKSKSQPAKKEHRCRVGH<end>\n",
      "\t\t<start>KLLKWLKKLLKK<end><pad><pad><pad><pad><pad><pad><pad><pad><pad><pad><pad><pad><pad><pad><pad><pad><pad><pad><pad><pad><pad><pad><pad><pad><pad><pad><pad><pad><pad><pad><pad><pad><pad><pad>\n",
      "\tNLL Train Active: 16.578065872192383\n",
      "\tNLL Test Active: 27.18331527709961\n",
      "\tNLL Train Inactive: 34.932308197021484\n",
      "\tNLL Test Inactive: 34.5968017578125\n",
      "\n",
      "Epoch 22\n"
     ]
    },
    {
     "data": {
      "application/vnd.jupyter.widget-view+json": {
       "model_id": "9d325086ba3048578ac69d721e9c5ff1",
       "version_major": 2,
       "version_minor": 0
      },
      "text/plain": [
       "HBox(children=(FloatProgress(value=0.0, max=24.0), HTML(value='')))"
      ]
     },
     "metadata": {},
     "output_type": "display_data"
    },
    {
     "name": "stdout",
     "output_type": "stream",
     "text": [
      "\n",
      "\tExample Sequences\n",
      "\t\t<start>GklkllkkilkYG<end><pad>\n",
      "\t\t<start>AIPVITIGLQARKF<end>\n",
      "\t\t<start>VIKWWKGIKKLV<end><pad><pad>\n",
      "\t\t<start>VKRFWKWWRRKK<end><pad><pad>\n",
      "\t\t<start>RWRWWRWWRWRRK<end><pad>\n",
      "\tNLL Train Active: 16.513303756713867\n",
      "\tNLL Test Active: 27.151294708251953\n",
      "\tNLL Train Inactive: 34.92009353637695\n",
      "\tNLL Test Inactive: 34.57459259033203\n",
      "\n",
      "Epoch 23\n"
     ]
    },
    {
     "data": {
      "application/vnd.jupyter.widget-view+json": {
       "model_id": "bacabec474c14aaca2b9eba3dfe6b572",
       "version_major": 2,
       "version_minor": 0
      },
      "text/plain": [
       "HBox(children=(FloatProgress(value=0.0, max=24.0), HTML(value='')))"
      ]
     },
     "metadata": {},
     "output_type": "display_data"
    },
    {
     "name": "stdout",
     "output_type": "stream",
     "text": [
      "\n",
      "\tExample Sequences\n",
      "\t\t<start>RLSKVGRRLGCSIGRKVRPKVRPVIPYRR<end><pad><pad><pad><pad><pad><pad><pad><pad><pad><pad><pad><pad><pad><pad><pad><pad><pad><pad>\n",
      "\t\t<start>SKVKHFKKHRGKHRHRIVSGRAAPRGKEKAALPHVAYPAEKAAHPKA<end>\n",
      "\t\t<start>RSKCFLLAGYRQFPTGGYQMPEPMPRIASISAARRG<end><pad><pad><pad><pad><pad><pad><pad><pad><pad><pad><pad>\n",
      "\t\t<start>AIRRLKAKAKKRKKKLAKKIAK<end><pad><pad><pad><pad><pad><pad><pad><pad><pad><pad><pad><pad><pad><pad><pad><pad><pad><pad><pad><pad><pad><pad><pad><pad><pad>\n",
      "\t\t<start>GLFSKFAGIIGMAI<end><pad><pad><pad><pad><pad><pad><pad><pad><pad><pad><pad><pad><pad><pad><pad><pad><pad><pad><pad><pad><pad><pad><pad><pad><pad><pad><pad><pad><pad><pad><pad><pad><pad>\n",
      "\tNLL Train Active: 16.451107025146484\n",
      "\tNLL Test Active: 27.12693977355957\n",
      "\tNLL Train Inactive: 34.91858673095703\n",
      "\tNLL Test Inactive: 34.561397552490234\n",
      "\n",
      "Epoch 24\n"
     ]
    },
    {
     "data": {
      "application/vnd.jupyter.widget-view+json": {
       "model_id": "63b1832ea2da48f9895c7dbf2f6dac95",
       "version_major": 2,
       "version_minor": 0
      },
      "text/plain": [
       "HBox(children=(FloatProgress(value=0.0, max=24.0), HTML(value='')))"
      ]
     },
     "metadata": {},
     "output_type": "display_data"
    },
    {
     "name": "stdout",
     "output_type": "stream",
     "text": [
      "\n",
      "\tExample Sequences\n",
      "\t\t<start>WKKILGKLKRMW<end><pad><pad><pad><pad><pad><pad><pad><pad><pad><pad><pad><pad><pad><pad><pad><pad><pad><pad><pad><pad><pad><pad><pad><pad><pad><pad><pad><pad><pad><pad><pad><pad><pad><pad><pad><pad><pad><pad><pad><pad><pad><pad><pad><pad><pad><pad><pad><pad><pad><pad><pad><pad><pad><pad><pad><pad><pad><pad><pad><pad><pad><pad><pad><pad><pad><pad><pad><pad><pad><pad><pad><pad><pad><pad><pad><pad><pad><pad><pad><pad><pad><pad><pad><pad><pad><pad><pad><pad><pad><pad><pad><pad><pad><pad><pad><pad><pad><pad><pad><pad><pad><pad><pad><pad><pad><pad><pad><pad><pad><pad><pad><pad><pad><pad><pad><pad><pad><pad><pad><pad><pad><pad><pad><pad><pad><pad><pad><pad><pad><pad><pad><pad><pad><pad><pad><pad><pad><pad><pad><pad><pad><pad><pad><pad><pad><pad><pad><pad><pad><pad><pad><pad><pad><pad><pad><pad><pad><pad><pad><pad><pad><pad><pad><pad><pad><pad><pad><pad><pad><pad><pad><pad><pad><pad><pad><pad><pad><pad><pad><pad><pad><pad><pad><pad><pad><pad><pad>\n",
      "\t\t<start>VIDKPVPSIPRPPHPAPPRV<end><pad><pad><pad><pad><pad><pad><pad><pad><pad><pad><pad><pad><pad><pad><pad><pad><pad><pad><pad><pad><pad><pad><pad><pad><pad><pad><pad><pad><pad><pad><pad><pad><pad><pad><pad><pad><pad><pad><pad><pad><pad><pad><pad><pad><pad><pad><pad><pad><pad><pad><pad><pad><pad><pad><pad><pad><pad><pad><pad><pad><pad><pad><pad><pad><pad><pad><pad><pad><pad><pad><pad><pad><pad><pad><pad><pad><pad><pad><pad><pad><pad><pad><pad><pad><pad><pad><pad><pad><pad><pad><pad><pad><pad><pad><pad><pad><pad><pad><pad><pad><pad><pad><pad><pad><pad><pad><pad><pad><pad><pad><pad><pad><pad><pad><pad><pad><pad><pad><pad><pad><pad><pad><pad><pad><pad><pad><pad><pad><pad><pad><pad><pad><pad><pad><pad><pad><pad><pad><pad><pad><pad><pad><pad><pad><pad><pad><pad><pad><pad><pad><pad><pad><pad><pad><pad><pad><pad><pad><pad><pad><pad><pad><pad><pad><pad><pad><pad><pad><pad><pad><pad><pad><pad><pad><pad><pad><pad><pad><pad>\n",
      "\t\t<start>RRRACCRRRFARINVRRWRPK<end><pad><pad><pad><pad><pad><pad><pad><pad><pad><pad><pad><pad><pad><pad><pad><pad><pad><pad><pad><pad><pad><pad><pad><pad><pad><pad><pad><pad><pad><pad><pad><pad><pad><pad><pad><pad><pad><pad><pad><pad><pad><pad><pad><pad><pad><pad><pad><pad><pad><pad><pad><pad><pad><pad><pad><pad><pad><pad><pad><pad><pad><pad><pad><pad><pad><pad><pad><pad><pad><pad><pad><pad><pad><pad><pad><pad><pad><pad><pad><pad><pad><pad><pad><pad><pad><pad><pad><pad><pad><pad><pad><pad><pad><pad><pad><pad><pad><pad><pad><pad><pad><pad><pad><pad><pad><pad><pad><pad><pad><pad><pad><pad><pad><pad><pad><pad><pad><pad><pad><pad><pad><pad><pad><pad><pad><pad><pad><pad><pad><pad><pad><pad><pad><pad><pad><pad><pad><pad><pad><pad><pad><pad><pad><pad><pad><pad><pad><pad><pad><pad><pad><pad><pad><pad><pad><pad><pad><pad><pad><pad><pad><pad><pad><pad><pad><pad><pad><pad><pad><pad><pad><pad><pad><pad><pad><pad><pad><pad>\n",
      "\t\t<start>KRWWQWRRKL<end><pad><pad><pad><pad><pad><pad><pad><pad><pad><pad><pad><pad><pad><pad><pad><pad><pad><pad><pad><pad><pad><pad><pad><pad><pad><pad><pad><pad><pad><pad><pad><pad><pad><pad><pad><pad><pad><pad><pad><pad><pad><pad><pad><pad><pad><pad><pad><pad><pad><pad><pad><pad><pad><pad><pad><pad><pad><pad><pad><pad><pad><pad><pad><pad><pad><pad><pad><pad><pad><pad><pad><pad><pad><pad><pad><pad><pad><pad><pad><pad><pad><pad><pad><pad><pad><pad><pad><pad><pad><pad><pad><pad><pad><pad><pad><pad><pad><pad><pad><pad><pad><pad><pad><pad><pad><pad><pad><pad><pad><pad><pad><pad><pad><pad><pad><pad><pad><pad><pad><pad><pad><pad><pad><pad><pad><pad><pad><pad><pad><pad><pad><pad><pad><pad><pad><pad><pad><pad><pad><pad><pad><pad><pad><pad><pad><pad><pad><pad><pad><pad><pad><pad><pad><pad><pad><pad><pad><pad><pad><pad><pad><pad><pad><pad><pad><pad><pad><pad><pad><pad><pad><pad><pad><pad><pad><pad><pad><pad><pad><pad><pad><pad><pad><pad><pad><pad><pad><pad><pad>\n",
      "\t\t<start>GFWGKLiGSAKGVLGGGKGLdGGGGGGLGGGGGGGGKGGGGGGGGGGGGGGGGGGGGGGGGGGYGGGGGGGYGGGGGGGGGYGGGGGYGGGGGGGGGGHGGGGYGGGGGGGYGGGGGKYGGGGYGGGGYGGGGGGYGGGYGGGYGGGGGYGGGYGGGGGYGGGYGGGGYGGGGGYGGGGGYGGGGGGYGGGGGYGGGYGG\n",
      "\tNLL Train Active: 16.391889572143555\n",
      "\tNLL Test Active: 27.09806251525879\n",
      "\tNLL Train Inactive: 34.90924835205078\n",
      "\tNLL Test Inactive: 34.546199798583984\n",
      "\n",
      "Epoch 25\n"
     ]
    },
    {
     "data": {
      "application/vnd.jupyter.widget-view+json": {
       "model_id": "b653fffadf0344a2b126c0c38172a797",
       "version_major": 2,
       "version_minor": 0
      },
      "text/plain": [
       "HBox(children=(FloatProgress(value=0.0, max=24.0), HTML(value='')))"
      ]
     },
     "metadata": {},
     "output_type": "display_data"
    },
    {
     "name": "stdout",
     "output_type": "stream",
     "text": [
      "\n",
      "\tExample Sequences\n",
      "\t\t<start>TSGHRPSVSVPRHQGVSISAAGHVR<end><pad><pad><pad><pad><pad><pad><pad><pad><pad><pad><pad><pad><pad><pad><pad><pad><pad><pad><pad><pad><pad><pad><pad><pad><pad><pad><pad><pad><pad><pad><pad><pad><pad><pad><pad><pad><pad><pad><pad><pad><pad><pad><pad><pad><pad><pad><pad><pad><pad><pad><pad><pad><pad><pad><pad><pad><pad><pad><pad><pad><pad><pad><pad><pad><pad><pad><pad><pad><pad><pad><pad><pad><pad><pad><pad><pad>\n",
      "\t\t<start>EPAERQNEFRHDSSERWHSHSQHSSPSKHPSSSHPSDDSIDPISECVKKKKDHTPENNENNPYNNCKNFQNHGQQSPSHPdFSTSGNQNHPGYGSHQPSGI<end>\n",
      "\t\t<start>WKRIKKILKKLI<end><pad><pad><pad><pad><pad><pad><pad><pad><pad><pad><pad><pad><pad><pad><pad><pad><pad><pad><pad><pad><pad><pad><pad><pad><pad><pad><pad><pad><pad><pad><pad><pad><pad><pad><pad><pad><pad><pad><pad><pad><pad><pad><pad><pad><pad><pad><pad><pad><pad><pad><pad><pad><pad><pad><pad><pad><pad><pad><pad><pad><pad><pad><pad><pad><pad><pad><pad><pad><pad><pad><pad><pad><pad><pad><pad><pad><pad><pad><pad><pad><pad><pad><pad><pad><pad><pad><pad><pad><pad>\n",
      "\t\t<start>GILGKLWEGVKSIF<end><pad><pad><pad><pad><pad><pad><pad><pad><pad><pad><pad><pad><pad><pad><pad><pad><pad><pad><pad><pad><pad><pad><pad><pad><pad><pad><pad><pad><pad><pad><pad><pad><pad><pad><pad><pad><pad><pad><pad><pad><pad><pad><pad><pad><pad><pad><pad><pad><pad><pad><pad><pad><pad><pad><pad><pad><pad><pad><pad><pad><pad><pad><pad><pad><pad><pad><pad><pad><pad><pad><pad><pad><pad><pad><pad><pad><pad><pad><pad><pad><pad><pad><pad><pad><pad><pad><pad>\n",
      "\t\t<start>AINLLAISKKLITGKK<end><pad><pad><pad><pad><pad><pad><pad><pad><pad><pad><pad><pad><pad><pad><pad><pad><pad><pad><pad><pad><pad><pad><pad><pad><pad><pad><pad><pad><pad><pad><pad><pad><pad><pad><pad><pad><pad><pad><pad><pad><pad><pad><pad><pad><pad><pad><pad><pad><pad><pad><pad><pad><pad><pad><pad><pad><pad><pad><pad><pad><pad><pad><pad><pad><pad><pad><pad><pad><pad><pad><pad><pad><pad><pad><pad><pad><pad><pad><pad><pad><pad><pad><pad><pad><pad>\n",
      "\tNLL Train Active: 16.33370590209961\n",
      "\tNLL Test Active: 27.072084426879883\n",
      "\tNLL Train Inactive: 34.90568542480469\n",
      "\tNLL Test Inactive: 34.53075408935547\n",
      "\n",
      "Epoch 26\n"
     ]
    },
    {
     "data": {
      "application/vnd.jupyter.widget-view+json": {
       "model_id": "96bb728bd1fb4479ab7dfb514077bf75",
       "version_major": 2,
       "version_minor": 0
      },
      "text/plain": [
       "HBox(children=(FloatProgress(value=0.0, max=24.0), HTML(value='')))"
      ]
     },
     "metadata": {},
     "output_type": "display_data"
    },
    {
     "name": "stdout",
     "output_type": "stream",
     "text": [
      "\n",
      "\tExample Sequences\n",
      "\t\t<start>SWKVFQRRFEKLKEKMQRLAERASNDEK<end>\n",
      "\t\t<start>FKPRPTCWAWW<end><pad><pad><pad><pad><pad><pad><pad><pad><pad><pad><pad><pad><pad><pad><pad><pad><pad>\n",
      "\t\t<start>KKKKKKKKKKKKKKIPKKLLKWLKKL<end><pad><pad>\n",
      "\t\t<start>SWKSIFKAYGKEMIDTFLNP<end><pad><pad><pad><pad><pad><pad><pad><pad>\n",
      "\t\t<start>CKILCERNRFGFTNDFLRRG<end><pad><pad><pad><pad><pad><pad><pad><pad>\n",
      "\tNLL Train Active: 16.27594757080078\n",
      "\tNLL Test Active: 27.045188903808594\n",
      "\tNLL Train Inactive: 34.89704513549805\n",
      "\tNLL Test Inactive: 34.51288604736328\n",
      "\n",
      "Epoch 27\n"
     ]
    },
    {
     "data": {
      "application/vnd.jupyter.widget-view+json": {
       "model_id": "375c66c460ab4582ab766a0da14ff2cb",
       "version_major": 2,
       "version_minor": 0
      },
      "text/plain": [
       "HBox(children=(FloatProgress(value=0.0, max=24.0), HTML(value='')))"
      ]
     },
     "metadata": {},
     "output_type": "display_data"
    },
    {
     "name": "stdout",
     "output_type": "stream",
     "text": [
      "\n",
      "\tExample Sequences\n",
      "\t\t<start>RRRPRPPYLPRPRPGPR<end>\n",
      "\t\t<start>RLRIVVIRVARR<end><pad><pad><pad><pad><pad>\n",
      "\t\t<start>GFWKKWWRRVLKA<end><pad><pad><pad><pad>\n",
      "\t\t<start>KKWRKWLKKA<end><pad><pad><pad><pad><pad><pad><pad>\n",
      "\t\t<start>WDIPHAVSSVIGGLQG<end><pad>\n",
      "\tNLL Train Active: 16.219240188598633\n",
      "\tNLL Test Active: 27.02486801147461\n",
      "\tNLL Train Inactive: 34.88868713378906\n",
      "\tNLL Test Inactive: 34.49544906616211\n",
      "\n",
      "Epoch 28\n"
     ]
    },
    {
     "data": {
      "application/vnd.jupyter.widget-view+json": {
       "model_id": "945511fbb7104c8893c832db89f7f900",
       "version_major": 2,
       "version_minor": 0
      },
      "text/plain": [
       "HBox(children=(FloatProgress(value=0.0, max=24.0), HTML(value='')))"
      ]
     },
     "metadata": {},
     "output_type": "display_data"
    },
    {
     "name": "stdout",
     "output_type": "stream",
     "text": [
      "\n",
      "\tExample Sequences\n",
      "\t\t<start>KWKRLLKRLV<end><pad><pad><pad><pad><pad><pad><pad><pad><pad><pad><pad><pad><pad><pad><pad><pad>\n",
      "\t\t<start>KLLKWLKKLWK<end><pad><pad><pad><pad><pad><pad><pad><pad><pad><pad><pad><pad><pad><pad><pad>\n",
      "\t\t<start>VDKPPYLPRPRPPRRIYNR<end><pad><pad><pad><pad><pad><pad><pad>\n",
      "\t\t<start>KWKSFLKTFKSAvKTVLHTALKAISS<end>\n",
      "\t\t<start>KKAAGLLKRIKLLL<end><pad><pad><pad><pad><pad><pad><pad><pad><pad><pad><pad><pad>\n",
      "\tNLL Train Active: 16.164155960083008\n",
      "\tNLL Test Active: 26.998294830322266\n",
      "\tNLL Train Inactive: 34.882469177246094\n",
      "\tNLL Test Inactive: 34.48017120361328\n",
      "\n",
      "Epoch 29\n"
     ]
    },
    {
     "data": {
      "application/vnd.jupyter.widget-view+json": {
       "model_id": "b3680550be574c00bb4effea801f3325",
       "version_major": 2,
       "version_minor": 0
      },
      "text/plain": [
       "HBox(children=(FloatProgress(value=0.0, max=24.0), HTML(value='')))"
      ]
     },
     "metadata": {},
     "output_type": "display_data"
    },
    {
     "name": "stdout",
     "output_type": "stream",
     "text": [
      "\n",
      "\tExample Sequences\n",
      "\t\t<start>KWKLFKKIPKFLHAFK<end><pad><pad><pad><pad>\n",
      "\t\t<start>AARIILRLARR<end><pad><pad><pad><pad><pad><pad><pad><pad><pad>\n",
      "\t\t<start>RKLILILWKRKR<end><pad><pad><pad><pad><pad><pad><pad><pad>\n",
      "\t\t<start>KKIFKKIMRRIFRALRKPVR<end>\n",
      "\t\t<start>GLLSALSSLL<end><pad><pad><pad><pad><pad><pad><pad><pad><pad><pad>\n",
      "\tNLL Train Active: 16.111040115356445\n",
      "\tNLL Test Active: 26.97674560546875\n",
      "\tNLL Train Inactive: 34.87850570678711\n",
      "\tNLL Test Inactive: 34.469886779785156\n",
      "\n",
      "Epoch 30\n"
     ]
    },
    {
     "data": {
      "application/vnd.jupyter.widget-view+json": {
       "model_id": "8f948e32b8aa413ba1035786311668f1",
       "version_major": 2,
       "version_minor": 0
      },
      "text/plain": [
       "HBox(children=(FloatProgress(value=0.0, max=24.0), HTML(value='')))"
      ]
     },
     "metadata": {},
     "output_type": "display_data"
    },
    {
     "name": "stdout",
     "output_type": "stream",
     "text": [
      "\n",
      "\tExample Sequences\n",
      "\t\t<start>LNPAGKYFLKTAKAFWGAKS<end><pad><pad><pad><pad><pad><pad><pad><pad><pad><pad><pad>\n",
      "\t\t<start>EWLRAWRRRLGHLSRALSKHRLR<end><pad><pad><pad><pad><pad><pad><pad><pad>\n",
      "\t\t<start>RKKKARLVAKIWLKL<end><pad><pad><pad><pad><pad><pad><pad><pad><pad><pad><pad><pad><pad><pad><pad><pad>\n",
      "\t\t<start>KFFKKLKNSVKKRAKKFFKKPRVIGVTFPRT<end>\n",
      "\t\t<start>GLWQKIKSLF<end><pad><pad><pad><pad><pad><pad><pad><pad><pad><pad><pad><pad><pad><pad><pad><pad><pad><pad><pad><pad><pad>\n",
      "\tNLL Train Active: 16.058835983276367\n",
      "\tNLL Test Active: 26.95009422302246\n",
      "\tNLL Train Inactive: 34.8792839050293\n",
      "\tNLL Test Inactive: 34.46787643432617\n",
      "\n",
      "Epoch 31\n"
     ]
    },
    {
     "data": {
      "application/vnd.jupyter.widget-view+json": {
       "model_id": "803fe8aa67c14e62873cdbcba9040080",
       "version_major": 2,
       "version_minor": 0
      },
      "text/plain": [
       "HBox(children=(FloatProgress(value=0.0, max=24.0), HTML(value='')))"
      ]
     },
     "metadata": {},
     "output_type": "display_data"
    },
    {
     "name": "stdout",
     "output_type": "stream",
     "text": [
      "\n",
      "\tExample Sequences\n",
      "\t\t<start>ILGKLIEGVKDSIDRIAKGVKDQLKTV<end>\n",
      "\t\t<start>KWKSFLKTFKSAKKTVLGHlLGLL<end><pad><pad><pad>\n",
      "\t\t<start>SGYGDFLGDIGKVIHAAKKISGMVLG<end><pad>\n",
      "\t\t<start>GRPRPVWIRPPIGRPLY<end><pad><pad><pad><pad><pad><pad><pad><pad><pad><pad>\n",
      "\t\t<start>VCFWWKRQARWRRFW<end><pad><pad><pad><pad><pad><pad><pad><pad><pad><pad><pad><pad>\n",
      "\tNLL Train Active: 16.008792877197266\n",
      "\tNLL Test Active: 26.929224014282227\n",
      "\tNLL Train Inactive: 34.869014739990234\n",
      "\tNLL Test Inactive: 34.4473762512207\n",
      "\n",
      "Epoch 32\n"
     ]
    },
    {
     "data": {
      "application/vnd.jupyter.widget-view+json": {
       "model_id": "14a5b561fc1948bdbc5cb7429dadbbda",
       "version_major": 2,
       "version_minor": 0
      },
      "text/plain": [
       "HBox(children=(FloatProgress(value=0.0, max=24.0), HTML(value='')))"
      ]
     },
     "metadata": {},
     "output_type": "display_data"
    },
    {
     "name": "stdout",
     "output_type": "stream",
     "text": [
      "\n",
      "\tExample Sequences\n",
      "\t\t<start>ANKTLRKFANAIKKIANIFPSTKICCKRFKCRRR<end>\n",
      "\t\t<start>GLWKKIWGKIWKVGKRIF<end><pad><pad><pad><pad><pad><pad><pad><pad><pad><pad><pad><pad><pad><pad><pad><pad>\n",
      "\t\t<start>AKKFFRWIKKFL<end><pad><pad><pad><pad><pad><pad><pad><pad><pad><pad><pad><pad><pad><pad><pad><pad><pad><pad><pad><pad><pad><pad>\n",
      "\t\t<start>RRIIRKIIHIIKK<end><pad><pad><pad><pad><pad><pad><pad><pad><pad><pad><pad><pad><pad><pad><pad><pad><pad><pad><pad><pad><pad>\n",
      "\t\t<start>KLVKKIESMVKKAIDGIAEKA<end><pad><pad><pad><pad><pad><pad><pad><pad><pad><pad><pad><pad><pad>\n",
      "\tNLL Train Active: 15.957298278808594\n",
      "\tNLL Test Active: 26.90574836730957\n",
      "\tNLL Train Inactive: 34.87391662597656\n",
      "\tNLL Test Inactive: 34.4428596496582\n",
      "\n",
      "Epoch 33\n"
     ]
    },
    {
     "data": {
      "application/vnd.jupyter.widget-view+json": {
       "model_id": "5d72be4df2a84c3392eca66d3b46fac8",
       "version_major": 2,
       "version_minor": 0
      },
      "text/plain": [
       "HBox(children=(FloatProgress(value=0.0, max=24.0), HTML(value='')))"
      ]
     },
     "metadata": {},
     "output_type": "display_data"
    },
    {
     "name": "stdout",
     "output_type": "stream",
     "text": [
      "\n",
      "\tExample Sequences\n",
      "\t\t<start>KKKKLFRKILKYLKKLV<end><pad><pad><pad><pad>\n",
      "\t\t<start>VrKPPYLPRPRQPRRIYNR<end><pad><pad>\n",
      "\t\t<start>GRFKRLRKKLKKIGKKLTKVL<end>\n",
      "\t\t<start>RRWAWWWRL<end><pad><pad><pad><pad><pad><pad><pad><pad><pad><pad><pad><pad>\n",
      "\t\t<start>LSFFPTTKTFFNKTKY<end><pad><pad><pad><pad><pad>\n",
      "\tNLL Train Active: 15.908905029296875\n",
      "\tNLL Test Active: 26.89026641845703\n",
      "\tNLL Train Inactive: 34.866294860839844\n",
      "\tNLL Test Inactive: 34.42803955078125\n",
      "\n",
      "Epoch 34\n"
     ]
    },
    {
     "data": {
      "application/vnd.jupyter.widget-view+json": {
       "model_id": "d5fd496643e649959f61a21679878d01",
       "version_major": 2,
       "version_minor": 0
      },
      "text/plain": [
       "HBox(children=(FloatProgress(value=0.0, max=24.0), HTML(value='')))"
      ]
     },
     "metadata": {},
     "output_type": "display_data"
    },
    {
     "name": "stdout",
     "output_type": "stream",
     "text": [
      "\n",
      "\tExample Sequences\n",
      "\t\t<start>GRLKKLGRKIAHGVKEYGPTLRDAISCNINGQVR<end>\n",
      "\t\t<start>RFRRLRWWTRRLLR<end><pad><pad><pad><pad><pad><pad><pad><pad><pad><pad><pad><pad><pad><pad><pad><pad><pad><pad><pad><pad>\n",
      "\t\t<start>KLKKLLKKLLKLAKKL<end><pad><pad><pad><pad><pad><pad><pad><pad><pad><pad><pad><pad><pad><pad><pad><pad><pad><pad>\n",
      "\t\t<start>RCACRRCRRRRPGRRWVYRQVWAIAR<end><pad><pad><pad><pad><pad><pad><pad><pad>\n",
      "\t\t<start>Krlkklakkalkalksif<end><pad><pad><pad><pad><pad><pad><pad><pad><pad><pad><pad><pad><pad><pad><pad><pad>\n",
      "\tNLL Train Active: 15.861056327819824\n",
      "\tNLL Test Active: 26.868947982788086\n",
      "\tNLL Train Inactive: 34.863311767578125\n",
      "\tNLL Test Inactive: 34.419639587402344\n",
      "\n",
      "Epoch 35\n"
     ]
    },
    {
     "data": {
      "application/vnd.jupyter.widget-view+json": {
       "model_id": "a6251fabdfc94099ba7e714a59295802",
       "version_major": 2,
       "version_minor": 0
      },
      "text/plain": [
       "HBox(children=(FloatProgress(value=0.0, max=24.0), HTML(value='')))"
      ]
     },
     "metadata": {},
     "output_type": "display_data"
    },
    {
     "name": "stdout",
     "output_type": "stream",
     "text": [
      "\n",
      "\tExample Sequences\n",
      "\t\t<start>GIINTLQKYYRVGRRVAAVYNALLKA<end><pad><pad><pad>\n",
      "\t\t<start>VDKPPYLPRPRPPRRIYCR<end><pad><pad><pad><pad><pad><pad><pad><pad><pad><pad>\n",
      "\t\t<start>AKHVGKHVGKHGYRGRKHGVYNSGYGHVW<end>\n",
      "\t\t<start>FFPIVKKILKFIKK<end><pad><pad><pad><pad><pad><pad><pad><pad><pad><pad><pad><pad><pad><pad><pad>\n",
      "\t\t<start>FKRLEKLFSKIWNWK<end><pad><pad><pad><pad><pad><pad><pad><pad><pad><pad><pad><pad><pad><pad>\n",
      "\tNLL Train Active: 15.814446449279785\n",
      "\tNLL Test Active: 26.851587295532227\n",
      "\tNLL Train Inactive: 34.85945129394531\n",
      "\tNLL Test Inactive: 34.413326263427734\n",
      "\n",
      "Epoch 36\n"
     ]
    },
    {
     "data": {
      "application/vnd.jupyter.widget-view+json": {
       "model_id": "0f8897fc326a481dbed61e5770b8c024",
       "version_major": 2,
       "version_minor": 0
      },
      "text/plain": [
       "HBox(children=(FloatProgress(value=0.0, max=24.0), HTML(value='')))"
      ]
     },
     "metadata": {},
     "output_type": "display_data"
    },
    {
     "name": "stdout",
     "output_type": "stream",
     "text": [
      "\n",
      "\tExample Sequences\n",
      "\t\t<start>CKFFQRMKRLPRPAPPKR<end><pad><pad><pad><pad><pad><pad>\n",
      "\t\t<start>KWRKVLKKIPKFLHAARKK<end><pad><pad><pad><pad><pad>\n",
      "\t\t<start>CKPVRPPYPPRPKPAVFPRPIPGY<end>\n",
      "\t\t<start>yPRRRPQPRPFPRFPPRF<end><pad><pad><pad><pad><pad><pad>\n",
      "\t\t<start>AIDVLSGIKQAAKRVLGRLF<end><pad><pad><pad><pad>\n",
      "\tNLL Train Active: 15.768205642700195\n",
      "\tNLL Test Active: 26.833940505981445\n",
      "\tNLL Train Inactive: 34.858341217041016\n",
      "\tNLL Test Inactive: 34.40937042236328\n",
      "\n",
      "Epoch 37\n"
     ]
    },
    {
     "data": {
      "application/vnd.jupyter.widget-view+json": {
       "model_id": "db1ea8f90c0c4a66a5a585f582336bed",
       "version_major": 2,
       "version_minor": 0
      },
      "text/plain": [
       "HBox(children=(FloatProgress(value=0.0, max=24.0), HTML(value='')))"
      ]
     },
     "metadata": {},
     "output_type": "display_data"
    },
    {
     "name": "stdout",
     "output_type": "stream",
     "text": [
      "\n",
      "\tExample Sequences\n",
      "\t\t<start>KWKKLLKKPLLKKLLKKL<end><pad><pad><pad><pad><pad><pad><pad><pad><pad><pad><pad><pad><pad><pad><pad><pad><pad><pad><pad><pad><pad><pad><pad><pad><pad>\n",
      "\t\t<start>RSGGGHRGGHGYG<end><pad><pad><pad><pad><pad><pad><pad><pad><pad><pad><pad><pad><pad><pad><pad><pad><pad><pad><pad><pad><pad><pad><pad><pad><pad><pad><pad><pad><pad><pad>\n",
      "\t\t<start>QIFDILIKGTQKY<end><pad><pad><pad><pad><pad><pad><pad><pad><pad><pad><pad><pad><pad><pad><pad><pad><pad><pad><pad><pad><pad><pad><pad><pad><pad><pad><pad><pad><pad><pad>\n",
      "\t\t<start>GRLQAFQQAKQNRGKVRARKDQEGRRRKVR<end><pad><pad><pad><pad><pad><pad><pad><pad><pad><pad><pad><pad><pad>\n",
      "\t\t<start>GIGGHLLHGGSNGFKVGKHGGGHQGSHIQVHDSGVQAQCGQQG<end>\n",
      "\tNLL Train Active: 15.721291542053223\n",
      "\tNLL Test Active: 26.818683624267578\n",
      "\tNLL Train Inactive: 34.84611129760742\n",
      "\tNLL Test Inactive: 34.39020919799805\n",
      "\n",
      "Epoch 38\n"
     ]
    },
    {
     "data": {
      "application/vnd.jupyter.widget-view+json": {
       "model_id": "1a3ccb0a331340cdb21ad32de7258260",
       "version_major": 2,
       "version_minor": 0
      },
      "text/plain": [
       "HBox(children=(FloatProgress(value=0.0, max=24.0), HTML(value='')))"
      ]
     },
     "metadata": {},
     "output_type": "display_data"
    },
    {
     "name": "stdout",
     "output_type": "stream",
     "text": [
      "\n",
      "\tExample Sequences\n",
      "\t\t<start>RWRWWFGGGRRFWHR<end><pad><pad><pad><pad><pad><pad><pad><pad><pad><pad><pad>\n",
      "\t\t<start>KIAKIAKIAAKIAKVAIKGAIAAMKN<end>\n",
      "\t\t<start>FLHHIFRGIFHAGKHISGLLNS<end><pad><pad><pad><pad>\n",
      "\t\t<start>GILGKILKGLKGGLKGMLGNLGG<end><pad><pad><pad>\n",
      "\t\t<start>LRIILRPRRR<end><pad><pad><pad><pad><pad><pad><pad><pad><pad><pad><pad><pad><pad><pad><pad><pad>\n",
      "\tNLL Train Active: 15.676700592041016\n",
      "\tNLL Test Active: 26.797693252563477\n",
      "\tNLL Train Inactive: 34.850181579589844\n",
      "\tNLL Test Inactive: 34.38669204711914\n",
      "\n",
      "Epoch 39\n"
     ]
    },
    {
     "data": {
      "application/vnd.jupyter.widget-view+json": {
       "model_id": "95a0ec76d1c84421ad0ac8014d664afb",
       "version_major": 2,
       "version_minor": 0
      },
      "text/plain": [
       "HBox(children=(FloatProgress(value=0.0, max=24.0), HTML(value='')))"
      ]
     },
     "metadata": {},
     "output_type": "display_data"
    },
    {
     "name": "stdout",
     "output_type": "stream",
     "text": [
      "\n",
      "\tExample Sequences\n",
      "\t\t<start>GWWRRTVAKVKK<end><pad><pad><pad>\n",
      "\t\t<start>KKLFKKILKYLTTPA<end>\n",
      "\t\t<start>FFPIVKKLLRALF<end><pad><pad>\n",
      "\t\t<start>VQRWRWPWWRRW<end><pad><pad><pad>\n",
      "\t\t<start>FLFHIIKGLFHAG<end><pad><pad>\n",
      "\tNLL Train Active: 15.63321304321289\n",
      "\tNLL Test Active: 26.77968406677246\n",
      "\tNLL Train Inactive: 34.846458435058594\n",
      "\tNLL Test Inactive: 34.37897491455078\n",
      "\n",
      "Epoch 40\n"
     ]
    },
    {
     "data": {
      "application/vnd.jupyter.widget-view+json": {
       "model_id": "ce7aede7c2c141428b2d6c1a01775fcf",
       "version_major": 2,
       "version_minor": 0
      },
      "text/plain": [
       "HBox(children=(FloatProgress(value=0.0, max=24.0), HTML(value='')))"
      ]
     },
     "metadata": {},
     "output_type": "display_data"
    },
    {
     "name": "stdout",
     "output_type": "stream",
     "text": [
      "\n",
      "\tExample Sequences\n",
      "\t\t<start>KKWKLFKKASLKLIPLF<end><pad>\n",
      "\t\t<start>WIHGVLGYARNG<end><pad><pad><pad><pad><pad><pad>\n",
      "\t\t<start>RWKIFKKIPKFLH<end><pad><pad><pad><pad><pad>\n",
      "\t\t<start>YAKAWKKPKKPAARKA<end><pad><pad>\n",
      "\t\t<start>RKKFRPLVTWIKTVDRTS<end>\n",
      "\tNLL Train Active: 15.5896577835083\n",
      "\tNLL Test Active: 26.7627010345459\n",
      "\tNLL Train Inactive: 34.84935760498047\n",
      "\tNLL Test Inactive: 34.38034439086914\n",
      "\n",
      "Epoch 41\n"
     ]
    },
    {
     "data": {
      "application/vnd.jupyter.widget-view+json": {
       "model_id": "f2a0173fc980488f903eac5c42c392b9",
       "version_major": 2,
       "version_minor": 0
      },
      "text/plain": [
       "HBox(children=(FloatProgress(value=0.0, max=24.0), HTML(value='')))"
      ]
     },
     "metadata": {},
     "output_type": "display_data"
    },
    {
     "name": "stdout",
     "output_type": "stream",
     "text": [
      "\n",
      "\tExample Sequences\n",
      "\t\t<start>RRWCRC<end><pad><pad><pad><pad><pad><pad><pad><pad><pad><pad><pad><pad><pad><pad><pad><pad><pad>\n",
      "\t\t<start>AACRARR<end><pad><pad><pad><pad><pad><pad><pad><pad><pad><pad><pad><pad><pad><pad><pad><pad>\n",
      "\t\t<start>LKLKKIIAKI<end><pad><pad><pad><pad><pad><pad><pad><pad><pad><pad><pad><pad><pad>\n",
      "\t\t<start>RIGSILGALAKGLPTLLSWIRKR<end>\n",
      "\t\t<start>FVKAWFKEIKRFLGKIF<end><pad><pad><pad><pad><pad><pad>\n",
      "\tNLL Train Active: 15.548335075378418\n",
      "\tNLL Test Active: 26.75063133239746\n",
      "\tNLL Train Inactive: 34.84977340698242\n",
      "\tNLL Test Inactive: 34.3738899230957\n",
      "\n",
      "Epoch 42\n"
     ]
    },
    {
     "data": {
      "application/vnd.jupyter.widget-view+json": {
       "model_id": "7cb5b7f2074f4e869d2c8e4a3a64dbe2",
       "version_major": 2,
       "version_minor": 0
      },
      "text/plain": [
       "HBox(children=(FloatProgress(value=0.0, max=24.0), HTML(value='')))"
      ]
     },
     "metadata": {},
     "output_type": "display_data"
    },
    {
     "name": "stdout",
     "output_type": "stream",
     "text": [
      "\n",
      "\tExample Sequences\n",
      "\t\t<start>NLLKLLLKLL<end><pad><pad><pad><pad><pad><pad><pad><pad><pad><pad><pad><pad><pad><pad><pad><pad><pad>\n",
      "\t\t<start>GRFKRFRKKHRKKLKKIFKKPWRPFYR<end>\n",
      "\t\t<start>RWRRWWRRRW<end><pad><pad><pad><pad><pad><pad><pad><pad><pad><pad><pad><pad><pad><pad><pad><pad><pad>\n",
      "\t\t<start>FKRLEKLRSKIRDFFGNLRRPVKA<end><pad><pad><pad>\n",
      "\t\t<start>KWKRLAKKWKRALKLAKK<end><pad><pad><pad><pad><pad><pad><pad><pad><pad>\n",
      "\tNLL Train Active: 15.505295753479004\n",
      "\tNLL Test Active: 26.733196258544922\n",
      "\tNLL Train Inactive: 34.844417572021484\n",
      "\tNLL Test Inactive: 34.36091232299805\n",
      "\n",
      "Epoch 43\n"
     ]
    },
    {
     "data": {
      "application/vnd.jupyter.widget-view+json": {
       "model_id": "2c2a5055c5b845eb81cfef0809341e66",
       "version_major": 2,
       "version_minor": 0
      },
      "text/plain": [
       "HBox(children=(FloatProgress(value=0.0, max=24.0), HTML(value='')))"
      ]
     },
     "metadata": {},
     "output_type": "display_data"
    },
    {
     "name": "stdout",
     "output_type": "stream",
     "text": [
      "\n",
      "\tExample Sequences\n",
      "\t\t<start>RFRKIRRWF<end><pad><pad><pad><pad><pad><pad><pad><pad><pad><pad><pad><pad><pad><pad><pad><pad><pad><pad><pad><pad><pad><pad><pad><pad><pad>\n",
      "\t\t<start>KILKVAKKILGKI<end><pad><pad><pad><pad><pad><pad><pad><pad><pad><pad><pad><pad><pad><pad><pad><pad><pad><pad><pad><pad><pad>\n",
      "\t\t<start>GWWRWRVTRWAW<end><pad><pad><pad><pad><pad><pad><pad><pad><pad><pad><pad><pad><pad><pad><pad><pad><pad><pad><pad><pad><pad><pad>\n",
      "\t\t<start>KRFKKFFKKLKNSVKKRAKKFFKKPRVIGVSIPF<end>\n",
      "\t\t<start>ACKYIWWWRPWRR<end><pad><pad><pad><pad><pad><pad><pad><pad><pad><pad><pad><pad><pad><pad><pad><pad><pad><pad><pad><pad><pad>\n",
      "\tNLL Train Active: 15.463797569274902\n",
      "\tNLL Test Active: 26.719242095947266\n",
      "\tNLL Train Inactive: 34.8415641784668\n",
      "\tNLL Test Inactive: 34.35670471191406\n",
      "\n",
      "Epoch 44\n"
     ]
    },
    {
     "data": {
      "application/vnd.jupyter.widget-view+json": {
       "model_id": "f56e14bc5c8f44d589c5f034182700e4",
       "version_major": 2,
       "version_minor": 0
      },
      "text/plain": [
       "HBox(children=(FloatProgress(value=0.0, max=24.0), HTML(value='')))"
      ]
     },
     "metadata": {},
     "output_type": "display_data"
    },
    {
     "name": "stdout",
     "output_type": "stream",
     "text": [
      "\n",
      "\tExample Sequences\n",
      "\t\t<start>RRGSRAWYNVFLHKLV<end><pad><pad><pad><pad><pad>\n",
      "\t\t<start>GKWKLFKKIGHGVLKKI<end><pad><pad><pad><pad>\n",
      "\t\t<start>LKLWKKMLKKLKKLKKS<end><pad><pad><pad><pad>\n",
      "\t\t<start>AIHAIAGKIKSIWHNFKQY<end><pad><pad>\n",
      "\t\t<start>GRFRRWWKWRRKKRWWRKLKI<end>\n",
      "\tNLL Train Active: 15.423318862915039\n",
      "\tNLL Test Active: 26.70201301574707\n",
      "\tNLL Train Inactive: 34.8470458984375\n",
      "\tNLL Test Inactive: 34.3583984375\n",
      "\n",
      "Epoch 45\n"
     ]
    },
    {
     "data": {
      "application/vnd.jupyter.widget-view+json": {
       "model_id": "85ce9cd626104999a82670d72cb5f9cd",
       "version_major": 2,
       "version_minor": 0
      },
      "text/plain": [
       "HBox(children=(FloatProgress(value=0.0, max=24.0), HTML(value='')))"
      ]
     },
     "metadata": {},
     "output_type": "display_data"
    },
    {
     "name": "stdout",
     "output_type": "stream",
     "text": [
      "\n",
      "\tExample Sequences\n",
      "\t\t<start>VKRWKKFFKFFKRF<end><pad><pad><pad>\n",
      "\t\t<start>RRWWYRWRW<end><pad><pad><pad><pad><pad><pad><pad><pad>\n",
      "\t\t<start>KYVFRLVKLVGEKRKRV<end>\n",
      "\t\t<start>GLMSVLGHVVVHI<end><pad><pad><pad><pad>\n",
      "\t\t<start>FRRPRFPWWPFRRPG<end><pad><pad>\n",
      "\tNLL Train Active: 15.385092735290527\n",
      "\tNLL Test Active: 26.691028594970703\n",
      "\tNLL Train Inactive: 34.841426849365234\n",
      "\tNLL Test Inactive: 34.34444808959961\n",
      "\n",
      "Epoch 46\n"
     ]
    },
    {
     "data": {
      "application/vnd.jupyter.widget-view+json": {
       "model_id": "e8873b6db5ab479e9e9f21ee83adfc58",
       "version_major": 2,
       "version_minor": 0
      },
      "text/plain": [
       "HBox(children=(FloatProgress(value=0.0, max=24.0), HTML(value='')))"
      ]
     },
     "metadata": {},
     "output_type": "display_data"
    },
    {
     "name": "stdout",
     "output_type": "stream",
     "text": [
      "\n",
      "\tExample Sequences\n",
      "\t\t<start>KWKTWWKSAKKTVLHTALKGIASML<end><pad>\n",
      "\t\t<start>RWWRTWRRFW<end><pad><pad><pad><pad><pad><pad><pad><pad><pad><pad><pad><pad><pad><pad><pad><pad>\n",
      "\t\t<start>WHLAHHLLH<end><pad><pad><pad><pad><pad><pad><pad><pad><pad><pad><pad><pad><pad><pad><pad><pad><pad>\n",
      "\t\t<start>KWKSFLKTFKSATKTVLHTALKAISS<end>\n",
      "\t\t<start>GLWNVVKKVASGIGGHVAN<end><pad><pad><pad><pad><pad><pad><pad>\n",
      "\tNLL Train Active: 15.344038009643555\n",
      "\tNLL Test Active: 26.674949645996094\n",
      "\tNLL Train Inactive: 34.840118408203125\n",
      "\tNLL Test Inactive: 34.33525466918945\n",
      "\n",
      "Epoch 47\n"
     ]
    },
    {
     "data": {
      "application/vnd.jupyter.widget-view+json": {
       "model_id": "4d67d47d580f4ae8b2b8d8a0b8e8dad1",
       "version_major": 2,
       "version_minor": 0
      },
      "text/plain": [
       "HBox(children=(FloatProgress(value=0.0, max=24.0), HTML(value='')))"
      ]
     },
     "metadata": {},
     "output_type": "display_data"
    },
    {
     "name": "stdout",
     "output_type": "stream",
     "text": [
      "\n",
      "\tExample Sequences\n",
      "\t\t<start>FLSLIPHAISGLISGFNK<end><pad><pad>\n",
      "\t\t<start>kklfkktLktllhllKKlLK<end>\n",
      "\t\t<start>TD<end><pad><pad><pad><pad><pad><pad><pad><pad><pad><pad><pad><pad><pad><pad><pad><pad><pad><pad>\n",
      "\t\t<start>RIPWWWPWRR<end><pad><pad><pad><pad><pad><pad><pad><pad><pad><pad>\n",
      "\t\t<start>MGAVKKILGHL<end><pad><pad><pad><pad><pad><pad><pad><pad><pad>\n",
      "\tNLL Train Active: 15.306341171264648\n",
      "\tNLL Test Active: 26.658666610717773\n",
      "\tNLL Train Inactive: 34.837867736816406\n",
      "\tNLL Test Inactive: 34.33539962768555\n",
      "\n",
      "Epoch 48\n"
     ]
    },
    {
     "data": {
      "application/vnd.jupyter.widget-view+json": {
       "model_id": "8b046c448c4c4a65ae9bd1811787feae",
       "version_major": 2,
       "version_minor": 0
      },
      "text/plain": [
       "HBox(children=(FloatProgress(value=0.0, max=24.0), HTML(value='')))"
      ]
     },
     "metadata": {},
     "output_type": "display_data"
    },
    {
     "name": "stdout",
     "output_type": "stream",
     "text": [
      "\n",
      "\tExample Sequences\n",
      "\t\t<start>WKKWWKWK<end><pad><pad><pad><pad><pad><pad><pad><pad><pad><pad><pad><pad><pad><pad><pad><pad><pad><pad><pad><pad><pad>\n",
      "\t\t<start>GLLKRIKELLRKIQGRIKRFG<end><pad><pad><pad><pad><pad><pad><pad><pad>\n",
      "\t\t<start>SWKSTFKRLERLFQKIGDFLRNLVPRTES<end>\n",
      "\t\t<start>VYKKPKKPKKPKRPFYR<end><pad><pad><pad><pad><pad><pad><pad><pad><pad><pad><pad><pad>\n",
      "\t\t<start>GIKRILKKWRKKIAAFK<end><pad><pad><pad><pad><pad><pad><pad><pad><pad><pad><pad><pad>\n",
      "\tNLL Train Active: 15.26789379119873\n",
      "\tNLL Test Active: 26.64950942993164\n",
      "\tNLL Train Inactive: 34.84749221801758\n",
      "\tNLL Test Inactive: 34.34109115600586\n",
      "\n",
      "Epoch 49\n"
     ]
    },
    {
     "data": {
      "application/vnd.jupyter.widget-view+json": {
       "model_id": "7d31bf4b620e4758b42a1c7dc1281e57",
       "version_major": 2,
       "version_minor": 0
      },
      "text/plain": [
       "HBox(children=(FloatProgress(value=0.0, max=24.0), HTML(value='')))"
      ]
     },
     "metadata": {},
     "output_type": "display_data"
    },
    {
     "name": "stdout",
     "output_type": "stream",
     "text": [
      "\n",
      "\tExample Sequences\n",
      "\t\t<start>KLKKLLKWLKKLLK<end><pad><pad><pad><pad><pad>\n",
      "\t\t<start>WGFKRIRVAVTRVTRGLRR<end>\n",
      "\t\t<start>RFRWPIRRPPIRPPFYP<end><pad><pad>\n",
      "\t\t<start>ARRLRKFWKRIVKYL<end><pad><pad><pad><pad>\n",
      "\t\t<start>ILGKIWKGIKSL<end><pad><pad><pad><pad><pad><pad><pad>\n",
      "\tNLL Train Active: 15.230385780334473\n",
      "\tNLL Test Active: 26.635982513427734\n",
      "\tNLL Train Inactive: 34.84233856201172\n",
      "\tNLL Test Inactive: 34.33071517944336\n",
      "\n",
      "Epoch 50\n"
     ]
    },
    {
     "data": {
      "application/vnd.jupyter.widget-view+json": {
       "model_id": "2bc3b55586f04373bab6b71d04d69877",
       "version_major": 2,
       "version_minor": 0
      },
      "text/plain": [
       "HBox(children=(FloatProgress(value=0.0, max=24.0), HTML(value='')))"
      ]
     },
     "metadata": {},
     "output_type": "display_data"
    },
    {
     "name": "stdout",
     "output_type": "stream",
     "text": [
      "\n",
      "\tExample Sequences\n",
      "\t\t<start>KWKSFlKTFKSAaKTVLHTALKAISS<end>\n",
      "\t\t<start>SKKLLGSLLKLLK<end><pad><pad><pad><pad><pad><pad><pad><pad><pad><pad><pad><pad><pad>\n",
      "\t\t<start>FFPIVKKILNFLSGKL<end><pad><pad><pad><pad><pad><pad><pad><pad><pad><pad>\n",
      "\t\t<start>ALWKTMLKKLGTAAGKLLGDLAQGL<end><pad>\n",
      "\t\t<start>KLLKWLlKLLKK<end><pad><pad><pad><pad><pad><pad><pad><pad><pad><pad><pad><pad><pad><pad>\n",
      "\tNLL Train Active: 15.193048477172852\n",
      "\tNLL Test Active: 26.62236785888672\n",
      "\tNLL Train Inactive: 34.83943557739258\n",
      "\tNLL Test Inactive: 34.32590103149414\n",
      "\n",
      "Epoch 51\n"
     ]
    },
    {
     "data": {
      "application/vnd.jupyter.widget-view+json": {
       "model_id": "501edc4f028842039e569f3603d27ff2",
       "version_major": 2,
       "version_minor": 0
      },
      "text/plain": [
       "HBox(children=(FloatProgress(value=0.0, max=24.0), HTML(value='')))"
      ]
     },
     "metadata": {},
     "output_type": "display_data"
    },
    {
     "name": "stdout",
     "output_type": "stream",
     "text": [
      "\n",
      "\tExample Sequences\n",
      "\t\t<start>KCNGKRVKRAKIKIRLPKEYLTPSDYC<end>\n",
      "\t\t<start>RRCRRKKV<end><pad><pad><pad><pad><pad><pad><pad><pad><pad><pad><pad><pad><pad><pad><pad><pad><pad><pad><pad>\n",
      "\t\t<start>knklwklkwk<end><pad><pad><pad><pad><pad><pad><pad><pad><pad><pad><pad><pad><pad><pad><pad><pad><pad>\n",
      "\t\t<start>KWKLFKKIPKFLHAVKKAI<end><pad><pad><pad><pad><pad><pad><pad><pad>\n",
      "\t\t<start>KWKSFLKTFKSAKKTfLHTALKAISS<end><pad>\n",
      "\tNLL Train Active: 15.156787872314453\n",
      "\tNLL Test Active: 26.608991622924805\n",
      "\tNLL Train Inactive: 34.848060607910156\n",
      "\tNLL Test Inactive: 34.327056884765625\n",
      "\n",
      "Epoch 52\n"
     ]
    },
    {
     "data": {
      "application/vnd.jupyter.widget-view+json": {
       "model_id": "36b788db4131452b9f4d6daa4392d200",
       "version_major": 2,
       "version_minor": 0
      },
      "text/plain": [
       "HBox(children=(FloatProgress(value=0.0, max=24.0), HTML(value='')))"
      ]
     },
     "metadata": {},
     "output_type": "display_data"
    },
    {
     "name": "stdout",
     "output_type": "stream",
     "text": [
      "\n",
      "\tExample Sequences\n",
      "\t\t<start>KWWKKWWKR<end><pad><pad><pad><pad><pad><pad><pad><pad><pad><pad><pad><pad><pad><pad><pad><pad><pad><pad><pad><pad>\n",
      "\t\t<start>KRKHRCRV<end><pad><pad><pad><pad><pad><pad><pad><pad><pad><pad><pad><pad><pad><pad><pad><pad><pad><pad><pad><pad><pad>\n",
      "\t\t<start>KRLKLLAKLWKALWKALKKI<end><pad><pad><pad><pad><pad><pad><pad><pad><pad>\n",
      "\t\t<start>VIHKLKELFKKIGQKIQGLLPKLAPRTDY<end>\n",
      "\t\t<start>CKFYRGQPTTKSIAMRAINGYEKRKEDE<end><pad>\n",
      "\tNLL Train Active: 15.12004280090332\n",
      "\tNLL Test Active: 26.595457077026367\n",
      "\tNLL Train Inactive: 34.849300384521484\n",
      "\tNLL Test Inactive: 34.324066162109375\n",
      "\n",
      "Epoch 53\n"
     ]
    },
    {
     "data": {
      "application/vnd.jupyter.widget-view+json": {
       "model_id": "44851b373d464ee2aea8d30f08a07966",
       "version_major": 2,
       "version_minor": 0
      },
      "text/plain": [
       "HBox(children=(FloatProgress(value=0.0, max=24.0), HTML(value='')))"
      ]
     },
     "metadata": {},
     "output_type": "display_data"
    },
    {
     "name": "stdout",
     "output_type": "stream",
     "text": [
      "\n",
      "\tExample Sequences\n",
      "\t\t<start>KWKSFLKTFKSlKKTVLHTLLKAISS<end>\n",
      "\t\t<start>RFRRLwWrGLKkGLKGLL<end><pad><pad><pad><pad><pad><pad><pad><pad>\n",
      "\t\t<start>LNALKKVFQGIHEAIKKI<end><pad><pad><pad><pad><pad><pad><pad><pad>\n",
      "\t\t<start>LLGLIKGALGKLF<end><pad><pad><pad><pad><pad><pad><pad><pad><pad><pad><pad><pad><pad>\n",
      "\t\t<start>SAVFRLLRRIVDRIL<end><pad><pad><pad><pad><pad><pad><pad><pad><pad><pad><pad>\n",
      "\tNLL Train Active: 15.085765838623047\n",
      "\tNLL Test Active: 26.58656120300293\n",
      "\tNLL Train Inactive: 34.84526443481445\n",
      "\tNLL Test Inactive: 34.31995391845703\n",
      "\n",
      "Epoch 54\n"
     ]
    },
    {
     "data": {
      "application/vnd.jupyter.widget-view+json": {
       "model_id": "601041a005ed4547b54a3ba4cc196503",
       "version_major": 2,
       "version_minor": 0
      },
      "text/plain": [
       "HBox(children=(FloatProgress(value=0.0, max=24.0), HTML(value='')))"
      ]
     },
     "metadata": {},
     "output_type": "display_data"
    },
    {
     "name": "stdout",
     "output_type": "stream",
     "text": [
      "\n",
      "\tExample Sequences\n",
      "\t\t<start>AKKKVFKRLEKLFSKIWNWK<end><pad><pad><pad><pad><pad><pad><pad><pad><pad><pad><pad><pad><pad><pad><pad><pad><pad><pad>\n",
      "\t\t<start>WITKQEICKATDQIIKVASTAKKLDTFA<end><pad><pad><pad><pad><pad><pad><pad><pad><pad><pad>\n",
      "\t\t<start>DNMADKQYYQKMYKQYTDQAQQRIKLAKNEYKNELKKV<end>\n",
      "\t\t<start>YIKKIMRKLSK<end><pad><pad><pad><pad><pad><pad><pad><pad><pad><pad><pad><pad><pad><pad><pad><pad><pad><pad><pad><pad><pad><pad><pad><pad><pad><pad><pad>\n",
      "\t\t<start>KIAKIAGKIAKIAKIVAKLI<end><pad><pad><pad><pad><pad><pad><pad><pad><pad><pad><pad><pad><pad><pad><pad><pad><pad><pad>\n",
      "\tNLL Train Active: 15.050203323364258\n",
      "\tNLL Test Active: 26.572505950927734\n",
      "\tNLL Train Inactive: 34.84403610229492\n",
      "\tNLL Test Inactive: 34.31196975708008\n",
      "\n",
      "Epoch 55\n"
     ]
    },
    {
     "data": {
      "application/vnd.jupyter.widget-view+json": {
       "model_id": "5425ad97b5dd4010b0e392eba4d8642c",
       "version_major": 2,
       "version_minor": 0
      },
      "text/plain": [
       "HBox(children=(FloatProgress(value=0.0, max=24.0), HTML(value='')))"
      ]
     },
     "metadata": {},
     "output_type": "display_data"
    },
    {
     "name": "stdout",
     "output_type": "stream",
     "text": [
      "\n",
      "\tExample Sequences\n",
      "\t\t<start>GWRRWWRWRA<end><pad><pad><pad><pad><pad><pad><pad><pad><pad><pad><pad><pad><pad><pad><pad><pad><pad><pad><pad><pad><pad>\n",
      "\t\t<start>KWWKKWWWKWKK<end><pad><pad><pad><pad><pad><pad><pad><pad><pad><pad><pad><pad><pad><pad><pad><pad><pad><pad><pad>\n",
      "\t\t<start>AVKKLLKLFWKG<end><pad><pad><pad><pad><pad><pad><pad><pad><pad><pad><pad><pad><pad><pad><pad><pad><pad><pad><pad>\n",
      "\t\t<start>RGLRRLGRKIAHGVKKYGPTVLRIIRIAGTA<end>\n",
      "\t\t<start>GRKKRKQRRRS<end><pad><pad><pad><pad><pad><pad><pad><pad><pad><pad><pad><pad><pad><pad><pad><pad><pad><pad><pad><pad>\n",
      "\tNLL Train Active: 15.01502513885498\n",
      "\tNLL Test Active: 26.558835983276367\n",
      "\tNLL Train Inactive: 34.84422302246094\n",
      "\tNLL Test Inactive: 34.312191009521484\n",
      "\n",
      "Epoch 56\n"
     ]
    },
    {
     "data": {
      "application/vnd.jupyter.widget-view+json": {
       "model_id": "91b90a7ff3814006a38d639e79a8abfb",
       "version_major": 2,
       "version_minor": 0
      },
      "text/plain": [
       "HBox(children=(FloatProgress(value=0.0, max=24.0), HTML(value='')))"
      ]
     },
     "metadata": {},
     "output_type": "display_data"
    },
    {
     "name": "stdout",
     "output_type": "stream",
     "text": [
      "\n",
      "\tExample Sequences\n",
      "\t\t<start>GILKTIKSMGKNLASKAIPSVKKKAKKARAKHSKPAKKPKAKPKAAKKAEKKVSAA<end>\n",
      "\t\t<start>GLLKIWKKLL<end><pad><pad><pad><pad><pad><pad><pad><pad><pad><pad><pad><pad><pad><pad><pad><pad><pad><pad><pad><pad><pad><pad><pad><pad><pad><pad><pad><pad><pad><pad><pad><pad><pad><pad><pad><pad><pad><pad><pad><pad><pad><pad><pad><pad><pad><pad>\n",
      "\t\t<start>KKKKKKKKKKKKKKKKKKKKKKKKKKKGIGKFLHSAKKFGKAFVGEIMNS<end><pad><pad><pad><pad><pad><pad>\n",
      "\t\t<start>RKKLLPIVKKLLRPKLRFLKKI<end><pad><pad><pad><pad><pad><pad><pad><pad><pad><pad><pad><pad><pad><pad><pad><pad><pad><pad><pad><pad><pad><pad><pad><pad><pad><pad><pad><pad><pad><pad><pad><pad><pad><pad>\n",
      "\t\t<start>LLKRVWKKIPKFLHLAKKF<end><pad><pad><pad><pad><pad><pad><pad><pad><pad><pad><pad><pad><pad><pad><pad><pad><pad><pad><pad><pad><pad><pad><pad><pad><pad><pad><pad><pad><pad><pad><pad><pad><pad><pad><pad><pad><pad>\n",
      "\tNLL Train Active: 14.981398582458496\n",
      "\tNLL Test Active: 26.549150466918945\n",
      "\tNLL Train Inactive: 34.85036849975586\n",
      "\tNLL Test Inactive: 34.3134765625\n",
      "\n",
      "Epoch 57\n"
     ]
    },
    {
     "data": {
      "application/vnd.jupyter.widget-view+json": {
       "model_id": "eae2e3f8ae2044f6b242dcbf176ce637",
       "version_major": 2,
       "version_minor": 0
      },
      "text/plain": [
       "HBox(children=(FloatProgress(value=0.0, max=24.0), HTML(value='')))"
      ]
     },
     "metadata": {},
     "output_type": "display_data"
    },
    {
     "name": "stdout",
     "output_type": "stream",
     "text": [
      "\n",
      "\tExample Sequences\n",
      "\t\t<start>RGGRGKDRRRALSLAGDK<end><pad><pad><pad><pad><pad><pad><pad><pad><pad><pad><pad><pad><pad><pad><pad><pad><pad><pad><pad><pad>\n",
      "\t\t<start>KWKSFIKKFFKAFKKE<end><pad><pad><pad><pad><pad><pad><pad><pad><pad><pad><pad><pad><pad><pad><pad><pad><pad><pad><pad><pad><pad><pad>\n",
      "\t\t<start>RKLLKWLKLLKK<end><pad><pad><pad><pad><pad><pad><pad><pad><pad><pad><pad><pad><pad><pad><pad><pad><pad><pad><pad><pad><pad><pad><pad><pad><pad><pad>\n",
      "\t\t<start>GRNRPRPRPRPPRPRPRPPFFPPFRPPFRPPFRPRISP<end>\n",
      "\t\t<start>FLGALWKVWSKV<end><pad><pad><pad><pad><pad><pad><pad><pad><pad><pad><pad><pad><pad><pad><pad><pad><pad><pad><pad><pad><pad><pad><pad><pad><pad><pad>\n",
      "\tNLL Train Active: 14.946248054504395\n",
      "\tNLL Test Active: 26.53934669494629\n",
      "\tNLL Train Inactive: 34.841426849365234\n",
      "\tNLL Test Inactive: 34.30140686035156\n",
      "\n",
      "Epoch 58\n"
     ]
    },
    {
     "data": {
      "application/vnd.jupyter.widget-view+json": {
       "model_id": "87b98b55ec6e45ffb2bc9b613cf0b55e",
       "version_major": 2,
       "version_minor": 0
      },
      "text/plain": [
       "HBox(children=(FloatProgress(value=0.0, max=24.0), HTML(value='')))"
      ]
     },
     "metadata": {},
     "output_type": "display_data"
    },
    {
     "name": "stdout",
     "output_type": "stream",
     "text": [
      "\n",
      "\tExample Sequences\n",
      "\t\t<start>KIKGKKIGKKFKRIVQRIKDFLRNLVPRTES<end>\n",
      "\t\t<start>RWKIFKKIEKVGRNVRDGIIKA<end><pad><pad><pad><pad><pad><pad><pad><pad><pad>\n",
      "\t\t<start>GFMKYIPKILKKIIKVVK<end><pad><pad><pad><pad><pad><pad><pad><pad><pad><pad><pad><pad><pad>\n",
      "\t\t<start>AKRLRKFFKKIKKFFKKPRVIGVSIPF<end><pad><pad><pad><pad>\n",
      "\t\t<start>RLPRWPRWPWWPWRR<end><pad><pad><pad><pad><pad><pad><pad><pad><pad><pad><pad><pad><pad><pad><pad><pad>\n",
      "\tNLL Train Active: 14.912798881530762\n",
      "\tNLL Test Active: 26.527084350585938\n",
      "\tNLL Train Inactive: 34.84074401855469\n",
      "\tNLL Test Inactive: 34.29361343383789\n",
      "\n",
      "Epoch 59\n"
     ]
    },
    {
     "data": {
      "application/vnd.jupyter.widget-view+json": {
       "model_id": "e6369ef5dd884255939899d3ca792c95",
       "version_major": 2,
       "version_minor": 0
      },
      "text/plain": [
       "HBox(children=(FloatProgress(value=0.0, max=24.0), HTML(value='')))"
      ]
     },
     "metadata": {},
     "output_type": "display_data"
    },
    {
     "name": "stdout",
     "output_type": "stream",
     "text": [
      "\n",
      "\tExample Sequences\n",
      "\t\t<start>GLLKRIKKLL<end><pad><pad><pad><pad><pad><pad><pad><pad><pad><pad><pad><pad><pad><pad><pad><pad><pad>\n",
      "\t\t<start>KWKIPKKMECMADK<end><pad><pad><pad><pad><pad><pad><pad><pad><pad><pad><pad><pad><pad>\n",
      "\t\t<start>LLKKLLKKLWKLLKKK<end><pad><pad><pad><pad><pad><pad><pad><pad><pad><pad><pad>\n",
      "\t\t<start>RIIRKIIHIIKK<end><pad><pad><pad><pad><pad><pad><pad><pad><pad><pad><pad><pad><pad><pad><pad>\n",
      "\t\t<start>KWKSFlKTFKSkKKvlTvlTvkAlkGL<end>\n",
      "\tNLL Train Active: 14.880167961120605\n",
      "\tNLL Test Active: 26.51686668395996\n",
      "\tNLL Train Inactive: 34.84864807128906\n",
      "\tNLL Test Inactive: 34.29886245727539\n",
      "\n",
      "Epoch 60\n"
     ]
    },
    {
     "data": {
      "application/vnd.jupyter.widget-view+json": {
       "model_id": "7f2a7855b950419289ff2a71ab0f7c1d",
       "version_major": 2,
       "version_minor": 0
      },
      "text/plain": [
       "HBox(children=(FloatProgress(value=0.0, max=24.0), HTML(value='')))"
      ]
     },
     "metadata": {},
     "output_type": "display_data"
    },
    {
     "name": "stdout",
     "output_type": "stream",
     "text": [
      "\n",
      "\tExample Sequences\n",
      "\t\t<start>RIERIDEYENYTIHIKQCYRVFW<end>\n",
      "\t\t<start>RLWKLWAKFLKRWL<end><pad><pad><pad><pad><pad><pad><pad><pad><pad>\n",
      "\t\t<start>AIHKLAKLAKLWAKVAN<end><pad><pad><pad><pad><pad><pad>\n",
      "\t\t<start>GRPRKAGWWRAAFK<end><pad><pad><pad><pad><pad><pad><pad><pad><pad>\n",
      "\t\t<start>kkkknKKIGKKIKKII<end><pad><pad><pad><pad><pad><pad><pad>\n",
      "\tNLL Train Active: 14.84712028503418\n",
      "\tNLL Test Active: 26.506715774536133\n",
      "\tNLL Train Inactive: 34.85335159301758\n",
      "\tNLL Test Inactive: 34.302513122558594\n",
      "\n",
      "Epoch 61\n"
     ]
    },
    {
     "data": {
      "application/vnd.jupyter.widget-view+json": {
       "model_id": "f95be7b0ef4844f88da6df80ff9bf197",
       "version_major": 2,
       "version_minor": 0
      },
      "text/plain": [
       "HBox(children=(FloatProgress(value=0.0, max=24.0), HTML(value='')))"
      ]
     },
     "metadata": {},
     "output_type": "display_data"
    },
    {
     "name": "stdout",
     "output_type": "stream",
     "text": [
      "\n",
      "\tExample Sequences\n",
      "\t\t<start>RIKKILNIIKKVVK<end><pad><pad><pad><pad><pad><pad><pad><pad><pad><pad><pad><pad>\n",
      "\t\t<start>KGWGSSFKKIGKTVANTVQKLKRKAK<end>\n",
      "\t\t<start>MGAIIKKIIK<end><pad><pad><pad><pad><pad><pad><pad><pad><pad><pad><pad><pad><pad><pad><pad><pad>\n",
      "\t\t<start>GFMKYIGPLIPHAVKAISDIL<end><pad><pad><pad><pad><pad>\n",
      "\t\t<start>RWRWPWRR<end><pad><pad><pad><pad><pad><pad><pad><pad><pad><pad><pad><pad><pad><pad><pad><pad><pad><pad>\n",
      "\tNLL Train Active: 14.814855575561523\n",
      "\tNLL Test Active: 26.494197845458984\n",
      "\tNLL Train Inactive: 34.85393142700195\n",
      "\tNLL Test Inactive: 34.30317306518555\n",
      "\n",
      "Epoch 62\n"
     ]
    },
    {
     "data": {
      "application/vnd.jupyter.widget-view+json": {
       "model_id": "99e1e0a2ed684931a47d4209fd19095f",
       "version_major": 2,
       "version_minor": 0
      },
      "text/plain": [
       "HBox(children=(FloatProgress(value=0.0, max=24.0), HTML(value='')))"
      ]
     },
     "metadata": {},
     "output_type": "display_data"
    },
    {
     "name": "stdout",
     "output_type": "stream",
     "text": [
      "\n",
      "\tExample Sequences\n",
      "\t\t<start>RIISYIAKIAGIIASFFK<end><pad><pad><pad><pad><pad><pad><pad><pad><pad><pad><pad>\n",
      "\t\t<start>PAEDLARYYSALRHYIELVTRRQRY<end><pad><pad><pad><pad>\n",
      "\t\t<start>GWGRTFRRLVTVGTRDS<end><pad><pad><pad><pad><pad><pad><pad><pad><pad><pad><pad><pad>\n",
      "\t\t<start>alfkkfldalakaLkkL<end><pad><pad><pad><pad><pad><pad><pad><pad><pad><pad><pad><pad>\n",
      "\t\t<start>VDKKPYKPRRKASRPIPRPPKRIPRPRPG<end>\n",
      "\tNLL Train Active: 14.78255844116211\n",
      "\tNLL Test Active: 26.4853515625\n",
      "\tNLL Train Inactive: 34.852413177490234\n",
      "\tNLL Test Inactive: 34.29441452026367\n",
      "\n",
      "Epoch 63\n"
     ]
    },
    {
     "data": {
      "application/vnd.jupyter.widget-view+json": {
       "model_id": "ba96dcdf1ef94bf4bb83e0886c635f69",
       "version_major": 2,
       "version_minor": 0
      },
      "text/plain": [
       "HBox(children=(FloatProgress(value=0.0, max=24.0), HTML(value='')))"
      ]
     },
     "metadata": {},
     "output_type": "display_data"
    },
    {
     "name": "stdout",
     "output_type": "stream",
     "text": [
      "\n",
      "\tExample Sequences\n",
      "\t\t<start>GIGKFLHSAKKFGKAFVGEIMNS<end>\n",
      "\t\t<start>AKKVFKRLEKLFSKI<end><pad><pad><pad><pad><pad><pad><pad><pad>\n",
      "\t\t<start>ILQKIRQGLRRWLNAVPGLVTTS<end>\n",
      "\t\t<start>VKRFKKFFRKLKKKVKKL<end><pad><pad><pad><pad><pad>\n",
      "\t\t<start>RWRRWWRRRWR<end><pad><pad><pad><pad><pad><pad><pad><pad><pad><pad><pad><pad>\n",
      "\tNLL Train Active: 14.751805305480957\n",
      "\tNLL Test Active: 26.473648071289062\n",
      "\tNLL Train Inactive: 34.849937438964844\n",
      "\tNLL Test Inactive: 34.29236602783203\n",
      "\n",
      "Epoch 64\n"
     ]
    },
    {
     "data": {
      "application/vnd.jupyter.widget-view+json": {
       "model_id": "1c4edfc86954405595ad3a11e801a282",
       "version_major": 2,
       "version_minor": 0
      },
      "text/plain": [
       "HBox(children=(FloatProgress(value=0.0, max=24.0), HTML(value='')))"
      ]
     },
     "metadata": {},
     "output_type": "display_data"
    },
    {
     "name": "stdout",
     "output_type": "stream",
     "text": [
      "\n",
      "\tExample Sequences\n",
      "\t\t<start>VIHKLAKKLKKLAKKILKK<end><pad>\n",
      "\t\t<start>KRAIRLAIRALWKAL<end><pad><pad><pad><pad><pad>\n",
      "\t\t<start>KWKLFKKIPKFLHLFKK<end><pad><pad><pad>\n",
      "\t\t<start>KIKEKLKKIGQKI<end><pad><pad><pad><pad><pad><pad><pad>\n",
      "\t\t<start>GRRLKKLKKIGRKIASIAGK<end>\n",
      "\tNLL Train Active: 14.719842910766602\n",
      "\tNLL Test Active: 26.46891212463379\n",
      "\tNLL Train Inactive: 34.85049819946289\n",
      "\tNLL Test Inactive: 34.2866096496582\n",
      "\n",
      "Epoch 65\n"
     ]
    },
    {
     "data": {
      "application/vnd.jupyter.widget-view+json": {
       "model_id": "c151beea14094636aca630ca7f4164ad",
       "version_major": 2,
       "version_minor": 0
      },
      "text/plain": [
       "HBox(children=(FloatProgress(value=0.0, max=24.0), HTML(value='')))"
      ]
     },
     "metadata": {},
     "output_type": "display_data"
    },
    {
     "name": "stdout",
     "output_type": "stream",
     "text": [
      "\n",
      "\tExample Sequences\n",
      "\t\t<start>WWRRWRR<end><pad><pad><pad><pad><pad><pad><pad><pad><pad><pad><pad><pad><pad><pad><pad><pad><pad><pad>\n",
      "\t\t<start>RWKIFKKGAKAALKGVAETVLGAAM<end>\n",
      "\t\t<start>RLWLAARRR<end><pad><pad><pad><pad><pad><pad><pad><pad><pad><pad><pad><pad><pad><pad><pad><pad>\n",
      "\t\t<start>INLKAIAALVKKL<end><pad><pad><pad><pad><pad><pad><pad><pad><pad><pad><pad><pad>\n",
      "\t\t<start>GKWMQPTKKVLDFFAKF<end><pad><pad><pad><pad><pad><pad><pad><pad>\n",
      "\tNLL Train Active: 14.688699722290039\n",
      "\tNLL Test Active: 26.457984924316406\n",
      "\tNLL Train Inactive: 34.851661682128906\n",
      "\tNLL Test Inactive: 34.29061508178711\n",
      "\n",
      "Epoch 66\n"
     ]
    },
    {
     "data": {
      "application/vnd.jupyter.widget-view+json": {
       "model_id": "1362efb749bb4401909ec53b70c7925f",
       "version_major": 2,
       "version_minor": 0
      },
      "text/plain": [
       "HBox(children=(FloatProgress(value=0.0, max=24.0), HTML(value='')))"
      ]
     },
     "metadata": {},
     "output_type": "display_data"
    },
    {
     "name": "stdout",
     "output_type": "stream",
     "text": [
      "\n",
      "\tExample Sequences\n",
      "\t\t<start>RRRRFWCR<end><pad><pad><pad><pad><pad><pad><pad><pad><pad><pad><pad><pad><pad><pad><pad>\n",
      "\t\t<start>MAGLQFPVGRFHRSGSSCRKCVR<end>\n",
      "\t\t<start>KRFIKTAWFLKNF<end><pad><pad><pad><pad><pad><pad><pad><pad><pad><pad>\n",
      "\t\t<start>eFFGLIPHAVGIIHSLVGNH<end><pad><pad><pad>\n",
      "\t\t<start>RWRWPIRRPPIRPPFYP<end><pad><pad><pad><pad><pad><pad>\n",
      "\tNLL Train Active: 14.658395767211914\n",
      "\tNLL Test Active: 26.447120666503906\n",
      "\tNLL Train Inactive: 34.857337951660156\n",
      "\tNLL Test Inactive: 34.28119659423828\n",
      "\n",
      "Epoch 67\n"
     ]
    },
    {
     "data": {
      "application/vnd.jupyter.widget-view+json": {
       "model_id": "893c82bec66648fa9a57f201b091053d",
       "version_major": 2,
       "version_minor": 0
      },
      "text/plain": [
       "HBox(children=(FloatProgress(value=0.0, max=24.0), HTML(value='')))"
      ]
     },
     "metadata": {},
     "output_type": "display_data"
    },
    {
     "name": "stdout",
     "output_type": "stream",
     "text": [
      "\n",
      "\tExample Sequences\n",
      "\t\t<start>AIGHIIGIIGLIHH<end><pad><pad><pad><pad><pad><pad><pad><pad><pad><pad><pad><pad><pad><pad>\n",
      "\t\t<start>SWWRIAVRRVRR<end><pad><pad><pad><pad><pad><pad><pad><pad><pad><pad><pad><pad><pad><pad><pad><pad>\n",
      "\t\t<start>RRWWRIRVWRWI<end><pad><pad><pad><pad><pad><pad><pad><pad><pad><pad><pad><pad><pad><pad><pad><pad>\n",
      "\t\t<start>FFRRFFRRFFRR<end><pad><pad><pad><pad><pad><pad><pad><pad><pad><pad><pad><pad><pad><pad><pad><pad>\n",
      "\t\t<start>RRTGKRRRKIGKEFKRIVQRIKDFLRNL<end>\n",
      "\tNLL Train Active: 14.627765655517578\n",
      "\tNLL Test Active: 26.438247680664062\n",
      "\tNLL Train Inactive: 34.86109161376953\n",
      "\tNLL Test Inactive: 34.284420013427734\n",
      "\n",
      "Epoch 68\n"
     ]
    },
    {
     "data": {
      "application/vnd.jupyter.widget-view+json": {
       "model_id": "da5695b82b594733baf5c39d37843be3",
       "version_major": 2,
       "version_minor": 0
      },
      "text/plain": [
       "HBox(children=(FloatProgress(value=0.0, max=24.0), HTML(value='')))"
      ]
     },
     "metadata": {},
     "output_type": "display_data"
    },
    {
     "name": "stdout",
     "output_type": "stream",
     "text": [
      "\n",
      "\tExample Sequences\n",
      "\t\t<start>RWKIFKKIEKVGRNVRDGIIKAGPAIQVVANA<end><pad><pad><pad><pad><pad><pad><pad><pad><pad><pad><pad><pad><pad>\n",
      "\t\t<start>GLNALKKVFQNINKYLAKVKKAVAKVHKA<end><pad><pad><pad><pad><pad><pad><pad><pad><pad><pad><pad><pad><pad><pad><pad><pad>\n",
      "\t\t<start>LRRLRRRAVKKLRKLA<end><pad><pad><pad><pad><pad><pad><pad><pad><pad><pad><pad><pad><pad><pad><pad><pad><pad><pad><pad><pad><pad><pad><pad><pad><pad><pad><pad><pad><pad>\n",
      "\t\t<start>ILSAIWSWIKRKRQQ<end><pad><pad><pad><pad><pad><pad><pad><pad><pad><pad><pad><pad><pad><pad><pad><pad><pad><pad><pad><pad><pad><pad><pad><pad><pad><pad><pad><pad><pad><pad>\n",
      "\t\t<start>RIFKKLTKKWGKVIKWIKDRIGGFVKDRVKGPLHTGPAIIRVSGK<end>\n",
      "\tNLL Train Active: 14.597387313842773\n",
      "\tNLL Test Active: 26.4309139251709\n",
      "\tNLL Train Inactive: 34.856658935546875\n",
      "\tNLL Test Inactive: 34.27560806274414\n",
      "\n",
      "Epoch 69\n"
     ]
    },
    {
     "data": {
      "application/vnd.jupyter.widget-view+json": {
       "model_id": "927b46055ba44df2a2d0ddb3b10e0d45",
       "version_major": 2,
       "version_minor": 0
      },
      "text/plain": [
       "HBox(children=(FloatProgress(value=0.0, max=24.0), HTML(value='')))"
      ]
     },
     "metadata": {},
     "output_type": "display_data"
    },
    {
     "name": "stdout",
     "output_type": "stream",
     "text": [
      "\n",
      "\tExample Sequences\n",
      "\t\t<start>aFGGIFKKFWGGVKAIFKGV<end><pad><pad><pad><pad><pad><pad><pad><pad>\n",
      "\t\t<start>KVLNALKKFINAMANVLAKIN<end><pad><pad><pad><pad><pad><pad><pad>\n",
      "\t\t<start>GNNRCVVCVR<end><pad><pad><pad><pad><pad><pad><pad><pad><pad><pad><pad><pad><pad><pad><pad><pad><pad><pad>\n",
      "\t\t<start>FAFWAFRWAFQRRRFMRRIRRRIRVGRR<end>\n",
      "\t\t<start>KWKLFKKIPFFLKK<end><pad><pad><pad><pad><pad><pad><pad><pad><pad><pad><pad><pad><pad><pad>\n",
      "\tNLL Train Active: 14.567329406738281\n",
      "\tNLL Test Active: 26.42214012145996\n",
      "\tNLL Train Inactive: 34.85887145996094\n",
      "\tNLL Test Inactive: 34.276084899902344\n",
      "\n",
      "Epoch 70\n"
     ]
    },
    {
     "data": {
      "application/vnd.jupyter.widget-view+json": {
       "model_id": "a9bdeee193b04474a04121150f492179",
       "version_major": 2,
       "version_minor": 0
      },
      "text/plain": [
       "HBox(children=(FloatProgress(value=0.0, max=24.0), HTML(value='')))"
      ]
     },
     "metadata": {},
     "output_type": "display_data"
    },
    {
     "name": "stdout",
     "output_type": "stream",
     "text": [
      "\n",
      "\tExample Sequences\n",
      "\t\t<start>GILSSLEKMWSKIWNVWK<end><pad><pad><pad><pad><pad><pad><pad><pad><pad><pad><pad><pad><pad><pad><pad><pad><pad>\n",
      "\t\t<start>AKKVFKWWPKLPSFFKKV<end><pad><pad><pad><pad><pad><pad><pad><pad><pad><pad><pad><pad><pad><pad><pad><pad><pad>\n",
      "\t\t<start>GLSAFLKYGPKLIPHLLH<end><pad><pad><pad><pad><pad><pad><pad><pad><pad><pad><pad><pad><pad><pad><pad><pad><pad>\n",
      "\t\t<start>KWKKLLKKPLLKKLLK<end><pad><pad><pad><pad><pad><pad><pad><pad><pad><pad><pad><pad><pad><pad><pad><pad><pad><pad><pad>\n",
      "\t\t<start>GWKGFKKIGKFKKKEKIGGDKARVGQDIRRALAVW<end>\n",
      "\tNLL Train Active: 14.537837028503418\n",
      "\tNLL Test Active: 26.413372039794922\n",
      "\tNLL Train Inactive: 34.86250305175781\n",
      "\tNLL Test Inactive: 34.27573776245117\n",
      "\n",
      "Epoch 71\n"
     ]
    },
    {
     "data": {
      "application/vnd.jupyter.widget-view+json": {
       "model_id": "fad273bdcb6f42168f8b515691eb294c",
       "version_major": 2,
       "version_minor": 0
      },
      "text/plain": [
       "HBox(children=(FloatProgress(value=0.0, max=24.0), HTML(value='')))"
      ]
     },
     "metadata": {},
     "output_type": "display_data"
    },
    {
     "name": "stdout",
     "output_type": "stream",
     "text": [
      "\n",
      "\tExample Sequences\n",
      "\t\t<start>WGIASLWGTAGKAALTGYL<end><pad><pad><pad><pad><pad><pad><pad><pad><pad><pad><pad><pad><pad><pad><pad>\n",
      "\t\t<start>KWKWFYK<end><pad><pad><pad><pad><pad><pad><pad><pad><pad><pad><pad><pad><pad><pad><pad><pad><pad><pad><pad><pad><pad><pad><pad><pad><pad><pad><pad>\n",
      "\t\t<start>KWKSFLKTFKSPAkTVKKTAKGALKKLFKGIIKS<end>\n",
      "\t\t<start>RWKIFKKIEKVGQNIRDGIVAVAKDIL<end><pad><pad><pad><pad><pad><pad><pad>\n",
      "\t\t<start>KIAKIAKKAKGIIKKI<end><pad><pad><pad><pad><pad><pad><pad><pad><pad><pad><pad><pad><pad><pad><pad><pad><pad><pad>\n",
      "\tNLL Train Active: 14.508914947509766\n",
      "\tNLL Test Active: 26.410533905029297\n",
      "\tNLL Train Inactive: 34.861297607421875\n",
      "\tNLL Test Inactive: 34.27103805541992\n",
      "\n",
      "Epoch 72\n"
     ]
    },
    {
     "data": {
      "application/vnd.jupyter.widget-view+json": {
       "model_id": "d32fc7f6dee445e4ae6b2362bdd840b4",
       "version_major": 2,
       "version_minor": 0
      },
      "text/plain": [
       "HBox(children=(FloatProgress(value=0.0, max=24.0), HTML(value='')))"
      ]
     },
     "metadata": {},
     "output_type": "display_data"
    },
    {
     "name": "stdout",
     "output_type": "stream",
     "text": [
      "\n",
      "\tExample Sequences\n",
      "\t\t<start>RLWLKLWKL<end><pad><pad><pad><pad><pad><pad><pad><pad><pad><pad><pad><pad><pad><pad><pad><pad><pad><pad><pad><pad><pad><pad><pad><pad><pad><pad><pad><pad><pad><pad><pad>\n",
      "\t\t<start>RIGSSLLGKAGKLLGEGSNGLLPKLAPQRQE<end><pad><pad><pad><pad><pad><pad><pad><pad><pad>\n",
      "\t\t<start>FLSLIPHAIGGLISAFSDT<end><pad><pad><pad><pad><pad><pad><pad><pad><pad><pad><pad><pad><pad><pad><pad><pad><pad><pad><pad><pad><pad>\n",
      "\t\t<start>LLKKLLKKLLKLLKKL<end><pad><pad><pad><pad><pad><pad><pad><pad><pad><pad><pad><pad><pad><pad><pad><pad><pad><pad><pad><pad><pad><pad><pad><pad>\n",
      "\t\t<start>KFFKKLKNSVRKRVKKVSKDVGKVGAVAGKVLTKGAPAEQ<end>\n",
      "\tNLL Train Active: 14.480253219604492\n",
      "\tNLL Test Active: 26.39792251586914\n",
      "\tNLL Train Inactive: 34.85823440551758\n",
      "\tNLL Test Inactive: 34.270263671875\n",
      "\n",
      "Epoch 73\n"
     ]
    },
    {
     "data": {
      "application/vnd.jupyter.widget-view+json": {
       "model_id": "6dacba62824a498e84049f167214085c",
       "version_major": 2,
       "version_minor": 0
      },
      "text/plain": [
       "HBox(children=(FloatProgress(value=0.0, max=24.0), HTML(value='')))"
      ]
     },
     "metadata": {},
     "output_type": "display_data"
    },
    {
     "name": "stdout",
     "output_type": "stream",
     "text": [
      "\n",
      "\tExample Sequences\n",
      "\t\t<start>KWKLFKKIEKVGRNVRDGIKKIFEEVKNLFGKI<end>\n",
      "\t\t<start>GWMDTLKKVASQGVKVAGAVGAA<end><pad><pad><pad><pad><pad><pad><pad><pad><pad><pad>\n",
      "\t\t<start>AARIILRFRR<end><pad><pad><pad><pad><pad><pad><pad><pad><pad><pad><pad><pad><pad><pad><pad><pad><pad><pad><pad><pad><pad><pad><pad>\n",
      "\t\t<start>GFKRIVQKIKDFLRNLVPRTES<end><pad><pad><pad><pad><pad><pad><pad><pad><pad><pad><pad>\n",
      "\t\t<start>WllrIGR<end><pad><pad><pad><pad><pad><pad><pad><pad><pad><pad><pad><pad><pad><pad><pad><pad><pad><pad><pad><pad><pad><pad><pad><pad><pad><pad>\n",
      "\tNLL Train Active: 14.451416015625\n",
      "\tNLL Test Active: 26.38787841796875\n",
      "\tNLL Train Inactive: 34.86343002319336\n",
      "\tNLL Test Inactive: 34.26858139038086\n",
      "\n",
      "Epoch 74\n"
     ]
    },
    {
     "data": {
      "application/vnd.jupyter.widget-view+json": {
       "model_id": "6cb3fde0b6be43d694b2487aabc60ea9",
       "version_major": 2,
       "version_minor": 0
      },
      "text/plain": [
       "HBox(children=(FloatProgress(value=0.0, max=24.0), HTML(value='')))"
      ]
     },
     "metadata": {},
     "output_type": "display_data"
    },
    {
     "name": "stdout",
     "output_type": "stream",
     "text": [
      "\n",
      "\tExample Sequences\n",
      "\t\t<start>KKTWWKTWWSTQKSVK<end><pad><pad><pad><pad><pad><pad><pad><pad><pad><pad><pad><pad><pad><pad><pad><pad><pad><pad><pad><pad><pad><pad><pad><pad>\n",
      "\t\t<start>WWDWWHRWH<end><pad><pad><pad><pad><pad><pad><pad><pad><pad><pad><pad><pad><pad><pad><pad><pad><pad><pad><pad><pad><pad><pad><pad><pad><pad><pad><pad><pad><pad><pad><pad>\n",
      "\t\t<start>GLNALKKVFQKIHEAIKKI<end><pad><pad><pad><pad><pad><pad><pad><pad><pad><pad><pad><pad><pad><pad><pad><pad><pad><pad><pad><pad><pad>\n",
      "\t\t<start>KRPIKWPWWPWKK<end><pad><pad><pad><pad><pad><pad><pad><pad><pad><pad><pad><pad><pad><pad><pad><pad><pad><pad><pad><pad><pad><pad><pad><pad><pad><pad><pad>\n",
      "\t\t<start>RWKILKKIEKVGRNVRDGIIKAGPAVAVVGQKATTAQKLV<end>\n",
      "\tNLL Train Active: 14.422884941101074\n",
      "\tNLL Test Active: 26.379657745361328\n",
      "\tNLL Train Inactive: 34.86743927001953\n",
      "\tNLL Test Inactive: 34.269691467285156\n",
      "\n",
      "Epoch 75\n"
     ]
    },
    {
     "data": {
      "application/vnd.jupyter.widget-view+json": {
       "model_id": "b4f51c42359b448fa15da9615282bd8e",
       "version_major": 2,
       "version_minor": 0
      },
      "text/plain": [
       "HBox(children=(FloatProgress(value=0.0, max=24.0), HTML(value='')))"
      ]
     },
     "metadata": {},
     "output_type": "display_data"
    },
    {
     "name": "stdout",
     "output_type": "stream",
     "text": [
      "\n",
      "\tExample Sequences\n",
      "\t\t<start>AKHGVGKHGGKAKAKAKATSKEGAGSRADSIQAFAIQSAQQNFPGKHSHPKTHK<end>\n",
      "\t\t<start>GIGKFLHSAKKFGKGFVGFIHSK<end><pad><pad><pad><pad><pad><pad><pad><pad><pad><pad><pad><pad><pad><pad><pad><pad><pad><pad><pad><pad><pad><pad><pad><pad><pad><pad><pad><pad><pad><pad><pad>\n",
      "\t\t<start>FLGKVFKLLKKVSKV<end><pad><pad><pad><pad><pad><pad><pad><pad><pad><pad><pad><pad><pad><pad><pad><pad><pad><pad><pad><pad><pad><pad><pad><pad><pad><pad><pad><pad><pad><pad><pad><pad><pad><pad><pad><pad><pad><pad><pad>\n",
      "\t\t<start>GRLRKLRKKFRKK<end><pad><pad><pad><pad><pad><pad><pad><pad><pad><pad><pad><pad><pad><pad><pad><pad><pad><pad><pad><pad><pad><pad><pad><pad><pad><pad><pad><pad><pad><pad><pad><pad><pad><pad><pad><pad><pad><pad><pad><pad><pad>\n",
      "\t\t<start>FLFSLIPSLVGLAGSAL<end><pad><pad><pad><pad><pad><pad><pad><pad><pad><pad><pad><pad><pad><pad><pad><pad><pad><pad><pad><pad><pad><pad><pad><pad><pad><pad><pad><pad><pad><pad><pad><pad><pad><pad><pad><pad><pad>\n",
      "\tNLL Train Active: 14.394379615783691\n",
      "\tNLL Test Active: 26.367483139038086\n",
      "\tNLL Train Inactive: 34.868186950683594\n",
      "\tNLL Test Inactive: 34.26808166503906\n",
      "\n",
      "Epoch 76\n"
     ]
    },
    {
     "data": {
      "application/vnd.jupyter.widget-view+json": {
       "model_id": "438b74af3ca24d97ab797d35e0a46c02",
       "version_major": 2,
       "version_minor": 0
      },
      "text/plain": [
       "HBox(children=(FloatProgress(value=0.0, max=24.0), HTML(value='')))"
      ]
     },
     "metadata": {},
     "output_type": "display_data"
    },
    {
     "name": "stdout",
     "output_type": "stream",
     "text": [
      "\n",
      "\tExample Sequences\n",
      "\t\t<start>ILPWKKPKKPKRPRPPRRIY<end>\n",
      "\t\t<start>KWKLLKKPLLK<end><pad><pad><pad><pad><pad><pad><pad><pad><pad>\n",
      "\t\t<start>RRFRNPIRRPPIRPPWYP<end><pad><pad>\n",
      "\t\t<start>kkkafKKflKK<end><pad><pad><pad><pad><pad><pad><pad><pad><pad>\n",
      "\t\t<start>GILSSLWKKLKKIIAK<end><pad><pad><pad><pad>\n",
      "\tNLL Train Active: 14.366056442260742\n",
      "\tNLL Test Active: 26.362720489501953\n",
      "\tNLL Train Inactive: 34.86457443237305\n",
      "\tNLL Test Inactive: 34.26067352294922\n",
      "\n",
      "Epoch 77\n"
     ]
    },
    {
     "data": {
      "application/vnd.jupyter.widget-view+json": {
       "model_id": "e8bd9c57be06492bb2c64a5dfbbae20e",
       "version_major": 2,
       "version_minor": 0
      },
      "text/plain": [
       "HBox(children=(FloatProgress(value=0.0, max=24.0), HTML(value='')))"
      ]
     },
     "metadata": {},
     "output_type": "display_data"
    },
    {
     "name": "stdout",
     "output_type": "stream",
     "text": [
      "\n",
      "\tExample Sequences\n",
      "\t\t<start>KKRFVQWQRRMK<end><pad><pad><pad><pad><pad><pad><pad><pad><pad><pad><pad><pad><pad><pad><pad><pad><pad><pad><pad><pad><pad><pad><pad><pad><pad><pad><pad><pad><pad><pad><pad><pad><pad><pad><pad><pad><pad><pad><pad><pad><pad><pad><pad>\n",
      "\t\t<start>IFGAIWKLPFSIF<end><pad><pad><pad><pad><pad><pad><pad><pad><pad><pad><pad><pad><pad><pad><pad><pad><pad><pad><pad><pad><pad><pad><pad><pad><pad><pad><pad><pad><pad><pad><pad><pad><pad><pad><pad><pad><pad><pad><pad><pad><pad><pad>\n",
      "\t\t<start>GLFDIIKGAAKDIGDNLAKLAGKAREEAAEAAGKQLELTANKEYIAAMAATLANP<end>\n",
      "\t\t<start>FKLKKIPKFLHRAKKF<end><pad><pad><pad><pad><pad><pad><pad><pad><pad><pad><pad><pad><pad><pad><pad><pad><pad><pad><pad><pad><pad><pad><pad><pad><pad><pad><pad><pad><pad><pad><pad><pad><pad><pad><pad><pad><pad><pad><pad>\n",
      "\t\t<start>AKKVFKRLEKL<end><pad><pad><pad><pad><pad><pad><pad><pad><pad><pad><pad><pad><pad><pad><pad><pad><pad><pad><pad><pad><pad><pad><pad><pad><pad><pad><pad><pad><pad><pad><pad><pad><pad><pad><pad><pad><pad><pad><pad><pad><pad><pad><pad><pad>\n",
      "\tNLL Train Active: 14.338443756103516\n",
      "\tNLL Test Active: 26.358484268188477\n",
      "\tNLL Train Inactive: 34.87355041503906\n",
      "\tNLL Test Inactive: 34.262657165527344\n",
      "\n",
      "Epoch 78\n"
     ]
    },
    {
     "data": {
      "application/vnd.jupyter.widget-view+json": {
       "model_id": "1be4c7e9008e45a0a89117a126f50823",
       "version_major": 2,
       "version_minor": 0
      },
      "text/plain": [
       "HBox(children=(FloatProgress(value=0.0, max=24.0), HTML(value='')))"
      ]
     },
     "metadata": {},
     "output_type": "display_data"
    },
    {
     "name": "stdout",
     "output_type": "stream",
     "text": [
      "\n",
      "\tExample Sequences\n",
      "\t\t<start>KWKLFKKIPKFLHLLKKF<end><pad><pad><pad><pad><pad><pad><pad><pad><pad><pad><pad><pad><pad><pad><pad><pad><pad><pad><pad><pad><pad><pad>\n",
      "\t\t<start>LQQQFTQAQFQKIMEKMRQQEINKFLQKIADALGEIMNLF<end>\n",
      "\t\t<start>IKKIWSKIKKWLK<end><pad><pad><pad><pad><pad><pad><pad><pad><pad><pad><pad><pad><pad><pad><pad><pad><pad><pad><pad><pad><pad><pad><pad><pad><pad><pad><pad>\n",
      "\t\t<start>KWKLFKKIPKFLHLAKKF<end><pad><pad><pad><pad><pad><pad><pad><pad><pad><pad><pad><pad><pad><pad><pad><pad><pad><pad><pad><pad><pad><pad>\n",
      "\t\t<start>KWKSFLKTFKSAKKTVlHTALKAISS<end><pad><pad><pad><pad><pad><pad><pad><pad><pad><pad><pad><pad><pad><pad>\n",
      "\tNLL Train Active: 14.311383247375488\n",
      "\tNLL Test Active: 26.353185653686523\n",
      "\tNLL Train Inactive: 34.871803283691406\n",
      "\tNLL Test Inactive: 34.262123107910156\n",
      "\n",
      "Epoch 79\n"
     ]
    },
    {
     "data": {
      "application/vnd.jupyter.widget-view+json": {
       "model_id": "0166e209cd994035a45230294c52516e",
       "version_major": 2,
       "version_minor": 0
      },
      "text/plain": [
       "HBox(children=(FloatProgress(value=0.0, max=24.0), HTML(value='')))"
      ]
     },
     "metadata": {},
     "output_type": "display_data"
    },
    {
     "name": "stdout",
     "output_type": "stream",
     "text": [
      "\n",
      "\tExample Sequences\n",
      "\t\t<start>GRFRRLRKKTRKRLKKIGKVLKWIPSLFGSFPKDQFTLG<end><pad><pad><pad><pad><pad><pad>\n",
      "\t\t<start>AKKLFKKIPKFLHLAKKIL<end><pad><pad><pad><pad><pad><pad><pad><pad><pad><pad><pad><pad><pad><pad><pad><pad><pad><pad><pad><pad><pad><pad><pad><pad><pad><pad>\n",
      "\t\t<start>IHHIHHIIHHIHHIIHHIHHIIHHIHHIIHHIHHIHHHIHHIHHH<end>\n",
      "\t\t<start>AKKVFKRLQKLFKGL<end><pad><pad><pad><pad><pad><pad><pad><pad><pad><pad><pad><pad><pad><pad><pad><pad><pad><pad><pad><pad><pad><pad><pad><pad><pad><pad><pad><pad><pad><pad>\n",
      "\t\t<start>INLKALAHKAKLIK<end><pad><pad><pad><pad><pad><pad><pad><pad><pad><pad><pad><pad><pad><pad><pad><pad><pad><pad><pad><pad><pad><pad><pad><pad><pad><pad><pad><pad><pad><pad><pad>\n",
      "\tNLL Train Active: 14.285037994384766\n",
      "\tNLL Test Active: 26.34156608581543\n",
      "\tNLL Train Inactive: 34.88321304321289\n",
      "\tNLL Test Inactive: 34.2699089050293\n",
      "\n",
      "Epoch 80\n"
     ]
    },
    {
     "data": {
      "application/vnd.jupyter.widget-view+json": {
       "model_id": "3181b5e067a14b859069c6296f2e7912",
       "version_major": 2,
       "version_minor": 0
      },
      "text/plain": [
       "HBox(children=(FloatProgress(value=0.0, max=24.0), HTML(value='')))"
      ]
     },
     "metadata": {},
     "output_type": "display_data"
    },
    {
     "name": "stdout",
     "output_type": "stream",
     "text": [
      "\n",
      "\tExample Sequences\n",
      "\t\t<start>KRRLALLHFFRF<end><pad>\n",
      "\t\t<start>GWWRKAVRRLVKR<end>\n",
      "\t\t<start>KKLFQWIKDIL<end><pad><pad>\n",
      "\t\t<start>GKLLSLGLKLL<end><pad><pad>\n",
      "\t\t<start>RIKRIRKKIKKLF<end>\n",
      "\tNLL Train Active: 14.257818222045898\n",
      "\tNLL Test Active: 26.335813522338867\n",
      "\tNLL Train Inactive: 34.87582015991211\n",
      "\tNLL Test Inactive: 34.26480484008789\n",
      "\n",
      "Epoch 81\n"
     ]
    },
    {
     "data": {
      "application/vnd.jupyter.widget-view+json": {
       "model_id": "28c1216309a34151abdea6ef1edf54dc",
       "version_major": 2,
       "version_minor": 0
      },
      "text/plain": [
       "HBox(children=(FloatProgress(value=0.0, max=24.0), HTML(value='')))"
      ]
     },
     "metadata": {},
     "output_type": "display_data"
    },
    {
     "name": "stdout",
     "output_type": "stream",
     "text": [
      "\n",
      "\tExample Sequences\n",
      "\t\t<start>RLWRIVVIRVLR<end><pad><pad><pad><pad><pad><pad><pad><pad><pad><pad><pad><pad><pad><pad><pad><pad><pad><pad><pad><pad><pad><pad><pad><pad><pad>\n",
      "\t\t<start>rkwmks<end><pad><pad><pad><pad><pad><pad><pad><pad><pad><pad><pad><pad><pad><pad><pad><pad><pad><pad><pad><pad><pad><pad><pad><pad><pad><pad><pad><pad><pad><pad><pad>\n",
      "\t\t<start>KWKSFlKTFKSlKKTVLHTlLKAISS<end><pad><pad><pad><pad><pad><pad><pad><pad><pad><pad><pad>\n",
      "\t\t<start>GLRKRLRKFRNKIKEKLKKIGQKIQGLLPKLAPRTDY<end>\n",
      "\t\t<start>FFHHIWRGIIHAGRIAHRLVTG<end><pad><pad><pad><pad><pad><pad><pad><pad><pad><pad><pad><pad><pad><pad><pad>\n",
      "\tNLL Train Active: 14.231375694274902\n",
      "\tNLL Test Active: 26.327613830566406\n",
      "\tNLL Train Inactive: 34.878822326660156\n",
      "\tNLL Test Inactive: 34.26367950439453\n",
      "\n",
      "Epoch 82\n"
     ]
    },
    {
     "data": {
      "application/vnd.jupyter.widget-view+json": {
       "model_id": "75e4ab1a65e840a8b7fd0bb2e0d019e4",
       "version_major": 2,
       "version_minor": 0
      },
      "text/plain": [
       "HBox(children=(FloatProgress(value=0.0, max=24.0), HTML(value='')))"
      ]
     },
     "metadata": {},
     "output_type": "display_data"
    },
    {
     "name": "stdout",
     "output_type": "stream",
     "text": [
      "\n",
      "\tExample Sequences\n",
      "\t\t<start>rWlGrWir<end><pad><pad><pad><pad><pad><pad><pad><pad><pad><pad><pad><pad><pad><pad>\n",
      "\t\t<start>VRIRVQGRAFVHVRR<end><pad><pad><pad><pad><pad><pad><pad>\n",
      "\t\t<start>KRKKFIKRLSKLIPSLVKTLAK<end>\n",
      "\t\t<start>ILPWKWPWLPKLPRIRL<end><pad><pad><pad><pad><pad>\n",
      "\t\t<start>FLGALFKLASKLW<end><pad><pad><pad><pad><pad><pad><pad><pad><pad>\n",
      "\tNLL Train Active: 14.204560279846191\n",
      "\tNLL Test Active: 26.323162078857422\n",
      "\tNLL Train Inactive: 34.884403228759766\n",
      "\tNLL Test Inactive: 34.26081848144531\n",
      "\n",
      "Epoch 83\n"
     ]
    },
    {
     "data": {
      "application/vnd.jupyter.widget-view+json": {
       "model_id": "b3e21168b9454c9989eb1aa44f3a7f1b",
       "version_major": 2,
       "version_minor": 0
      },
      "text/plain": [
       "HBox(children=(FloatProgress(value=0.0, max=24.0), HTML(value='')))"
      ]
     },
     "metadata": {},
     "output_type": "display_data"
    },
    {
     "name": "stdout",
     "output_type": "stream",
     "text": [
      "\n",
      "\tExample Sequences\n",
      "\t\t<start>ILGKLWKKIPKFK<end><pad><pad>\n",
      "\t\t<start>KWWKWKW<end><pad><pad><pad><pad><pad><pad><pad><pad>\n",
      "\t\t<start>FLHHIFRGIVHMLKG<end>\n",
      "\t\t<start>MGAIAVIKIKKKK<end><pad><pad>\n",
      "\t\t<start>KKLFKKILKYL<end><pad><pad><pad><pad>\n",
      "\tNLL Train Active: 14.178337097167969\n",
      "\tNLL Test Active: 26.31797981262207\n",
      "\tNLL Train Inactive: 34.88850784301758\n",
      "\tNLL Test Inactive: 34.261444091796875\n",
      "\n",
      "Epoch 84\n"
     ]
    },
    {
     "data": {
      "application/vnd.jupyter.widget-view+json": {
       "model_id": "5b04e84c12a64d1d9cf2ef10ae681e87",
       "version_major": 2,
       "version_minor": 0
      },
      "text/plain": [
       "HBox(children=(FloatProgress(value=0.0, max=24.0), HTML(value='')))"
      ]
     },
     "metadata": {},
     "output_type": "display_data"
    },
    {
     "name": "stdout",
     "output_type": "stream",
     "text": [
      "\n",
      "\tExample Sequences\n",
      "\t\t<start>FRRFRKKFkKLKKAFKKA<end><pad><pad><pad><pad><pad><pad><pad><pad><pad><pad><pad>\n",
      "\t\t<start>KLVKFKGEMLRNLAKGKLELSKLFKKKGG<end>\n",
      "\t\t<start>LVQRFGRFRSKIWRWLRKRWQRMKKPVR<end><pad>\n",
      "\t\t<start>RAGLQFPVGRIRRPFRPPSCDIEI<end><pad><pad><pad><pad><pad>\n",
      "\t\t<start>RVFRLLKWIGRVLRRGVR<end><pad><pad><pad><pad><pad><pad><pad><pad><pad><pad><pad>\n",
      "\tNLL Train Active: 14.152837753295898\n",
      "\tNLL Test Active: 26.309118270874023\n",
      "\tNLL Train Inactive: 34.88127899169922\n",
      "\tNLL Test Inactive: 34.256004333496094\n",
      "\n",
      "Epoch 85\n"
     ]
    },
    {
     "data": {
      "application/vnd.jupyter.widget-view+json": {
       "model_id": "ab17d0b13d3c4dca92eff8a805a3c610",
       "version_major": 2,
       "version_minor": 0
      },
      "text/plain": [
       "HBox(children=(FloatProgress(value=0.0, max=24.0), HTML(value='')))"
      ]
     },
     "metadata": {},
     "output_type": "display_data"
    },
    {
     "name": "stdout",
     "output_type": "stream",
     "text": [
      "\n",
      "\tExample Sequences\n",
      "\t\t<start>WKRFKKFFKKLKKSVKK<end><pad><pad><pad><pad>\n",
      "\t\t<start>GLSFLLKKILa<end><pad><pad><pad><pad><pad><pad><pad><pad><pad><pad>\n",
      "\t\t<start>KIAGKIAKIAGKIAKIAGKIA<end>\n",
      "\t\t<start>KWKLFKKIPKFLHLAKKF<end><pad><pad><pad>\n",
      "\t\t<start>AARIIRWIRQRAI<end><pad><pad><pad><pad><pad><pad><pad><pad>\n",
      "\tNLL Train Active: 14.126409530639648\n",
      "\tNLL Test Active: 26.30132484436035\n",
      "\tNLL Train Inactive: 34.89208221435547\n",
      "\tNLL Test Inactive: 34.26313781738281\n",
      "\n",
      "Epoch 86\n"
     ]
    },
    {
     "data": {
      "application/vnd.jupyter.widget-view+json": {
       "model_id": "8c161b47415947048c034c4542f17e08",
       "version_major": 2,
       "version_minor": 0
      },
      "text/plain": [
       "HBox(children=(FloatProgress(value=0.0, max=24.0), HTML(value='')))"
      ]
     },
     "metadata": {},
     "output_type": "display_data"
    },
    {
     "name": "stdout",
     "output_type": "stream",
     "text": [
      "\n",
      "\tExample Sequences\n",
      "\t\t<start>RCKEIWCKKKI<end><pad><pad><pad><pad><pad><pad><pad><pad>\n",
      "\t\t<start>GLKKLIKKGLKILK<end><pad><pad><pad><pad><pad>\n",
      "\t\t<start>VDKPPYLPRPRPPRRIYKR<end>\n",
      "\t\t<start>RRRRRRRRRRRR<end><pad><pad><pad><pad><pad><pad><pad>\n",
      "\t\t<start>GKLTKLVKLAA<end><pad><pad><pad><pad><pad><pad><pad><pad>\n",
      "\tNLL Train Active: 14.100190162658691\n",
      "\tNLL Test Active: 26.294424057006836\n",
      "\tNLL Train Inactive: 34.89255905151367\n",
      "\tNLL Test Inactive: 34.261070251464844\n",
      "\n",
      "Epoch 87\n"
     ]
    },
    {
     "data": {
      "application/vnd.jupyter.widget-view+json": {
       "model_id": "1bde6a0fe7ed4408a49b368cbc281776",
       "version_major": 2,
       "version_minor": 0
      },
      "text/plain": [
       "HBox(children=(FloatProgress(value=0.0, max=24.0), HTML(value='')))"
      ]
     },
     "metadata": {},
     "output_type": "display_data"
    },
    {
     "name": "stdout",
     "output_type": "stream",
     "text": [
      "\n",
      "\tExample Sequences\n",
      "\t\t<start>IlKKIGKKIKKFFKKIFKKMRNR<end><pad><pad>\n",
      "\t\t<start>LNLKLLPKKLL<end><pad><pad><pad><pad><pad><pad><pad><pad><pad><pad><pad><pad><pad><pad>\n",
      "\t\t<start>GTKRAAFAWHAAWQHWRTFL<end><pad><pad><pad><pad><pad>\n",
      "\t\t<start>FllKLKklLKkWLk<end><pad><pad><pad><pad><pad><pad><pad><pad><pad><pad><pad>\n",
      "\t\t<start>KWKSFIKSMTKTAAKKLTAWLSSTK<end>\n",
      "\tNLL Train Active: 14.075342178344727\n",
      "\tNLL Test Active: 26.29124641418457\n",
      "\tNLL Train Inactive: 34.898651123046875\n",
      "\tNLL Test Inactive: 34.263206481933594\n",
      "\n",
      "Epoch 88\n"
     ]
    },
    {
     "data": {
      "application/vnd.jupyter.widget-view+json": {
       "model_id": "2d84f26cdcc440b391d75834bf09ee97",
       "version_major": 2,
       "version_minor": 0
      },
      "text/plain": [
       "HBox(children=(FloatProgress(value=0.0, max=24.0), HTML(value='')))"
      ]
     },
     "metadata": {},
     "output_type": "display_data"
    },
    {
     "name": "stdout",
     "output_type": "stream",
     "text": [
      "\n",
      "\tExample Sequences\n",
      "\t\t<start>KWKPWKWKWWKW<end><pad><pad><pad><pad><pad><pad><pad>\n",
      "\t\t<start>ILGKILKGIKKLF<end><pad><pad><pad><pad><pad><pad>\n",
      "\t\t<start>KRRLILRILRLSIRLKRRF<end>\n",
      "\t\t<start>LRKFFKKLKKSVKKRLKK<end><pad>\n",
      "\t\t<start>WGKIFGKLVKAWIKGGK<end><pad><pad>\n",
      "\tNLL Train Active: 14.050738334655762\n",
      "\tNLL Test Active: 26.286794662475586\n",
      "\tNLL Train Inactive: 34.89270782470703\n",
      "\tNLL Test Inactive: 34.25466537475586\n",
      "\n",
      "Epoch 89\n"
     ]
    },
    {
     "data": {
      "application/vnd.jupyter.widget-view+json": {
       "model_id": "bbf97d8ca46047a8a55c9bc590dea48b",
       "version_major": 2,
       "version_minor": 0
      },
      "text/plain": [
       "HBox(children=(FloatProgress(value=0.0, max=24.0), HTML(value='')))"
      ]
     },
     "metadata": {},
     "output_type": "display_data"
    },
    {
     "name": "stdout",
     "output_type": "stream",
     "text": [
      "\n",
      "\tExample Sequences\n",
      "\t\t<start>RKLIAFRIRAFLKRLAKIVAK<end>\n",
      "\t\t<start>lltlllkslkkalkavkkilk<end>\n",
      "\t\t<start>YTSLIHSLIEEYNNQ<end><pad><pad><pad><pad><pad><pad>\n",
      "\t\t<start>KWYKKWYKKWYKKA<end><pad><pad><pad><pad><pad><pad><pad>\n",
      "\t\t<start>KKLFFkTLKNLLKKVLK<end><pad><pad><pad><pad>\n",
      "\tNLL Train Active: 14.024585723876953\n",
      "\tNLL Test Active: 26.277915954589844\n",
      "\tNLL Train Inactive: 34.898929595947266\n",
      "\tNLL Test Inactive: 34.25959014892578\n",
      "\n",
      "Epoch 90\n"
     ]
    },
    {
     "data": {
      "application/vnd.jupyter.widget-view+json": {
       "model_id": "e37819ea336e4c5bad429a08a1b3f681",
       "version_major": 2,
       "version_minor": 0
      },
      "text/plain": [
       "HBox(children=(FloatProgress(value=0.0, max=24.0), HTML(value='')))"
      ]
     },
     "metadata": {},
     "output_type": "display_data"
    },
    {
     "name": "stdout",
     "output_type": "stream",
     "text": [
      "\n",
      "\tExample Sequences\n",
      "\t\t<start>GFIDIIKKAGNAIVHGLNAVTK<end><pad><pad><pad><pad><pad><pad><pad><pad><pad><pad><pad><pad><pad><pad><pad><pad><pad><pad><pad><pad><pad><pad><pad>\n",
      "\t\t<start>WFKKILKYLAHVGKKLRAKPKKVAKVKKVAGPAKKGVKAVGSKAL<end>\n",
      "\t\t<start>RIGSILGMLSKLGAPLIKRKRH<end><pad><pad><pad><pad><pad><pad><pad><pad><pad><pad><pad><pad><pad><pad><pad><pad><pad><pad><pad><pad><pad><pad><pad>\n",
      "\t\t<start>WGRIGRALGRLAKRFA<end><pad><pad><pad><pad><pad><pad><pad><pad><pad><pad><pad><pad><pad><pad><pad><pad><pad><pad><pad><pad><pad><pad><pad><pad><pad><pad><pad><pad><pad>\n",
      "\t\t<start>KEKLIQAQKAFQGIRQGIKAFVPEMIGVTWAQKFCKKICKFTKK<end><pad>\n",
      "\tNLL Train Active: 13.999442100524902\n",
      "\tNLL Test Active: 26.27176284790039\n",
      "\tNLL Train Inactive: 34.89486312866211\n",
      "\tNLL Test Inactive: 34.25251770019531\n",
      "\n",
      "Epoch 91\n"
     ]
    },
    {
     "data": {
      "application/vnd.jupyter.widget-view+json": {
       "model_id": "d8484b25c54848d0b7acce1a2e9ca57d",
       "version_major": 2,
       "version_minor": 0
      },
      "text/plain": [
       "HBox(children=(FloatProgress(value=0.0, max=24.0), HTML(value='')))"
      ]
     },
     "metadata": {},
     "output_type": "display_data"
    },
    {
     "name": "stdout",
     "output_type": "stream",
     "text": [
      "\n",
      "\tExample Sequences\n",
      "\t\t<start>KWKLFKKIGPALLKLS<end><pad><pad><pad><pad><pad><pad><pad><pad><pad><pad><pad><pad><pad><pad><pad><pad>\n",
      "\t\t<start>GWLDKLKKIGAK<end><pad><pad><pad><pad><pad><pad><pad><pad><pad><pad><pad><pad><pad><pad><pad><pad><pad><pad><pad><pad>\n",
      "\t\t<start>KKKKKKKKKKKKKKKKKKKKKKKKKIIKKIIK<end>\n",
      "\t\t<start>GRRFRPWRRPRLPWIRP<end><pad><pad><pad><pad><pad><pad><pad><pad><pad><pad><pad><pad><pad><pad><pad>\n",
      "\t\t<start>VDKPPYLPRPRPPRRIYYR<end><pad><pad><pad><pad><pad><pad><pad><pad><pad><pad><pad><pad><pad>\n",
      "\tNLL Train Active: 13.975678443908691\n",
      "\tNLL Test Active: 26.266260147094727\n",
      "\tNLL Train Inactive: 34.90731430053711\n",
      "\tNLL Test Inactive: 34.2647705078125\n",
      "\n",
      "Epoch 92\n"
     ]
    },
    {
     "data": {
      "application/vnd.jupyter.widget-view+json": {
       "model_id": "41f29f8241f6495e8111e37f9d0c1020",
       "version_major": 2,
       "version_minor": 0
      },
      "text/plain": [
       "HBox(children=(FloatProgress(value=0.0, max=24.0), HTML(value='')))"
      ]
     },
     "metadata": {},
     "output_type": "display_data"
    },
    {
     "name": "stdout",
     "output_type": "stream",
     "text": [
      "\n",
      "\tExample Sequences\n",
      "\t\t<start>GLmALWNSIKGAIKKIA<end><pad><pad><pad><pad><pad>\n",
      "\t\t<start>VDKRPRPRPPRRPRPRFWR<end><pad><pad><pad>\n",
      "\t\t<start>KWKLFKKIPKFLHLLKKF<end><pad><pad><pad><pad>\n",
      "\t\t<start>LLIILRRWKNGYK<end><pad><pad><pad><pad><pad><pad><pad><pad><pad>\n",
      "\t\t<start>RVKRVWPLVIRTVIAGYNLVRA<end>\n",
      "\tNLL Train Active: 13.952406883239746\n",
      "\tNLL Test Active: 26.259891510009766\n",
      "\tNLL Train Inactive: 34.910064697265625\n",
      "\tNLL Test Inactive: 34.26369094848633\n",
      "\n",
      "Epoch 93\n"
     ]
    },
    {
     "data": {
      "application/vnd.jupyter.widget-view+json": {
       "model_id": "5b4bebed2b5a48909f5b60064f074f5a",
       "version_major": 2,
       "version_minor": 0
      },
      "text/plain": [
       "HBox(children=(FloatProgress(value=0.0, max=24.0), HTML(value='')))"
      ]
     },
     "metadata": {},
     "output_type": "display_data"
    },
    {
     "name": "stdout",
     "output_type": "stream",
     "text": [
      "\n",
      "\tExample Sequences\n",
      "\t\t<start>RWRKWWRW<end><pad><pad><pad><pad><pad><pad><pad><pad><pad><pad><pad><pad><pad><pad><pad><pad><pad><pad><pad>\n",
      "\t\t<start>AWKKTIRQGLKKVFQKIEKAANVAWKA<end>\n",
      "\t\t<start>KWKKLLKKPLLKKLLKK<end><pad><pad><pad><pad><pad><pad><pad><pad><pad><pad>\n",
      "\t\t<start>GMWKKILPGMIKGLAHQASKL<end><pad><pad><pad><pad><pad><pad>\n",
      "\t\t<start>LLKELWKKIKKLL<end><pad><pad><pad><pad><pad><pad><pad><pad><pad><pad><pad><pad><pad><pad>\n",
      "\tNLL Train Active: 13.927379608154297\n",
      "\tNLL Test Active: 26.252853393554688\n",
      "\tNLL Train Inactive: 34.91361618041992\n",
      "\tNLL Test Inactive: 34.26512145996094\n",
      "\n",
      "Epoch 94\n"
     ]
    },
    {
     "data": {
      "application/vnd.jupyter.widget-view+json": {
       "model_id": "e375b8bb633b45c482015190a7eae050",
       "version_major": 2,
       "version_minor": 0
      },
      "text/plain": [
       "HBox(children=(FloatProgress(value=0.0, max=24.0), HTML(value='')))"
      ]
     },
     "metadata": {},
     "output_type": "display_data"
    },
    {
     "name": "stdout",
     "output_type": "stream",
     "text": [
      "\n",
      "\tExample Sequences\n",
      "\t\t<start>GLRKRLRKFRNKIKEKLKKIGQKIQGPLKILARL<end>\n",
      "\t\t<start>GIIRGIIRIIKK<end><pad><pad><pad><pad><pad><pad><pad><pad><pad><pad><pad><pad><pad><pad><pad><pad><pad><pad><pad><pad><pad><pad>\n",
      "\t\t<start>VKKFPWWWPFKK<end><pad><pad><pad><pad><pad><pad><pad><pad><pad><pad><pad><pad><pad><pad><pad><pad><pad><pad><pad><pad><pad><pad>\n",
      "\t\t<start>RWWRWWRWR<end><pad><pad><pad><pad><pad><pad><pad><pad><pad><pad><pad><pad><pad><pad><pad><pad><pad><pad><pad><pad><pad><pad><pad><pad><pad>\n",
      "\t\t<start>HKVVAFVKAYVNKF<end><pad><pad><pad><pad><pad><pad><pad><pad><pad><pad><pad><pad><pad><pad><pad><pad><pad><pad><pad><pad>\n",
      "\tNLL Train Active: 13.903786659240723\n",
      "\tNLL Test Active: 26.249055862426758\n",
      "\tNLL Train Inactive: 34.914886474609375\n",
      "\tNLL Test Inactive: 34.262203216552734\n",
      "\n",
      "Epoch 95\n"
     ]
    },
    {
     "data": {
      "application/vnd.jupyter.widget-view+json": {
       "model_id": "070a495b90c84e21b4e04a6cc2d9694a",
       "version_major": 2,
       "version_minor": 0
      },
      "text/plain": [
       "HBox(children=(FloatProgress(value=0.0, max=24.0), HTML(value='')))"
      ]
     },
     "metadata": {},
     "output_type": "display_data"
    },
    {
     "name": "stdout",
     "output_type": "stream",
     "text": [
      "\n",
      "\tExample Sequences\n",
      "\t\t<start>AWKKIFKKIEKVGRNVRDGIIKA<end>\n",
      "\t\t<start>SKYDRIWRIVEIIKRFNLKK<end><pad><pad><pad>\n",
      "\t\t<start>GIGDTLKYLVKQVAKVLA<end><pad><pad><pad><pad><pad>\n",
      "\t\t<start>RWRWWWRWRA<end><pad><pad><pad><pad><pad><pad><pad><pad><pad><pad><pad><pad><pad>\n",
      "\t\t<start>GFKKIAKKIEKVGRNVRDGIIKA<end>\n",
      "\tNLL Train Active: 13.880199432373047\n",
      "\tNLL Test Active: 26.24469566345215\n",
      "\tNLL Train Inactive: 34.916133880615234\n",
      "\tNLL Test Inactive: 34.263275146484375\n",
      "\n",
      "Epoch 96\n"
     ]
    },
    {
     "data": {
      "application/vnd.jupyter.widget-view+json": {
       "model_id": "62cfc2531a4348fab733c333a2af3c76",
       "version_major": 2,
       "version_minor": 0
      },
      "text/plain": [
       "HBox(children=(FloatProgress(value=0.0, max=24.0), HTML(value='')))"
      ]
     },
     "metadata": {},
     "output_type": "display_data"
    },
    {
     "name": "stdout",
     "output_type": "stream",
     "text": [
      "\n",
      "\tExample Sequences\n",
      "\t\t<start>GRKKRRQRRRDRLLA<end>\n",
      "\t\t<start>KLLKWLKKLL<end><pad><pad><pad><pad><pad>\n",
      "\t\t<start>FKRLKKLASKFKNWG<end>\n",
      "\t\t<start>GFFALLKKILKHIA<end><pad>\n",
      "\t\t<start>KIAAGIIIAIKKI<end><pad><pad>\n",
      "\tNLL Train Active: 13.855656623840332\n",
      "\tNLL Test Active: 26.235240936279297\n",
      "\tNLL Train Inactive: 34.92293930053711\n",
      "\tNLL Test Inactive: 34.268028259277344\n",
      "\n",
      "Epoch 97\n"
     ]
    },
    {
     "data": {
      "application/vnd.jupyter.widget-view+json": {
       "model_id": "bc365d051943448390aa017003b2602f",
       "version_major": 2,
       "version_minor": 0
      },
      "text/plain": [
       "HBox(children=(FloatProgress(value=0.0, max=24.0), HTML(value='')))"
      ]
     },
     "metadata": {},
     "output_type": "display_data"
    },
    {
     "name": "stdout",
     "output_type": "stream",
     "text": [
      "\n",
      "\tExample Sequences\n",
      "\t\t<start>GWWWRRWRV<end><pad><pad><pad><pad><pad><pad><pad><pad><pad><pad><pad><pad><pad><pad><pad><pad><pad><pad><pad><pad>\n",
      "\t\t<start>rwrprrirlprrrGisrrr<end><pad><pad><pad><pad><pad><pad><pad><pad><pad><pad>\n",
      "\t\t<start>FLKWLKKWW<end><pad><pad><pad><pad><pad><pad><pad><pad><pad><pad><pad><pad><pad><pad><pad><pad><pad><pad><pad><pad>\n",
      "\t\t<start>KWKSFLKTFKSAaKTVlHTALKKISS<end><pad><pad><pad>\n",
      "\t\t<start>KWKSFLKTFKSAlKKTLKFVTKlAVGTKC<end>\n",
      "\tNLL Train Active: 13.832138061523438\n",
      "\tNLL Test Active: 26.230533599853516\n",
      "\tNLL Train Inactive: 34.92075729370117\n",
      "\tNLL Test Inactive: 34.26612091064453\n",
      "\n",
      "Epoch 98\n"
     ]
    },
    {
     "data": {
      "application/vnd.jupyter.widget-view+json": {
       "model_id": "9e6b53dce6bd4cc2a4b17175440a8b43",
       "version_major": 2,
       "version_minor": 0
      },
      "text/plain": [
       "HBox(children=(FloatProgress(value=0.0, max=24.0), HTML(value='')))"
      ]
     },
     "metadata": {},
     "output_type": "display_data"
    },
    {
     "name": "stdout",
     "output_type": "stream",
     "text": [
      "\n",
      "\tExample Sequences\n",
      "\t\t<start>KWKLFKKIPLHLAKKFPK<end>\n",
      "\t\t<start>RRIRPRPPRRPPRRIYN<end><pad>\n",
      "\t\t<start>arsllpmrsvsrk<end><pad><pad><pad><pad><pad>\n",
      "\t\t<start>KRKKHRKHRAHLH<end><pad><pad><pad><pad><pad>\n",
      "\t\t<start>KRIVYRVQRIFLKL<end><pad><pad><pad><pad>\n",
      "\tNLL Train Active: 13.80955982208252\n",
      "\tNLL Test Active: 26.22550392150879\n",
      "\tNLL Train Inactive: 34.930381774902344\n",
      "\tNLL Test Inactive: 34.26893615722656\n",
      "\n",
      "Epoch 99\n"
     ]
    },
    {
     "data": {
      "application/vnd.jupyter.widget-view+json": {
       "model_id": "024ceec4f8334ceb8959ec5c3e344e7b",
       "version_major": 2,
       "version_minor": 0
      },
      "text/plain": [
       "HBox(children=(FloatProgress(value=0.0, max=24.0), HTML(value='')))"
      ]
     },
     "metadata": {},
     "output_type": "display_data"
    },
    {
     "name": "stdout",
     "output_type": "stream",
     "text": [
      "\n",
      "\tExample Sequences\n",
      "\t\t<start>KILGKLIKGLGKLWKGVGS<end>\n",
      "\t\t<start>WLNALLHHYL<end><pad><pad><pad><pad><pad><pad><pad><pad><pad>\n",
      "\t\t<start>LNWGAILKHIIK<end><pad><pad><pad><pad><pad><pad><pad>\n",
      "\t\t<start>RRIRPRPPRLPRPRPR<end><pad><pad><pad>\n",
      "\t\t<start>FRRWWPWRRPWRR<end><pad><pad><pad><pad><pad><pad>\n",
      "\tNLL Train Active: 13.785945892333984\n",
      "\tNLL Test Active: 26.22060775756836\n",
      "\tNLL Train Inactive: 34.928932189941406\n",
      "\tNLL Test Inactive: 34.2653694152832\n",
      "\n",
      "Epoch 100\n"
     ]
    },
    {
     "data": {
      "application/vnd.jupyter.widget-view+json": {
       "model_id": "dfc69765ff904478a57c9250897599d0",
       "version_major": 2,
       "version_minor": 0
      },
      "text/plain": [
       "HBox(children=(FloatProgress(value=0.0, max=24.0), HTML(value='')))"
      ]
     },
     "metadata": {},
     "output_type": "display_data"
    },
    {
     "name": "stdout",
     "output_type": "stream",
     "text": [
      "\n",
      "\tExample Sequences\n",
      "\t\t<start>RSRGGFKKFKWFKRKSKPFK<end><pad><pad><pad><pad><pad><pad><pad><pad>\n",
      "\t\t<start>SKRLKLIAFVRMK<end><pad><pad><pad><pad><pad><pad><pad><pad><pad><pad><pad><pad><pad><pad><pad>\n",
      "\t\t<start>IHHIHHHIHHIIHHIHHI<end><pad><pad><pad><pad><pad><pad><pad><pad><pad><pad>\n",
      "\t\t<start>GWGSFFKKAAHVGKHVGKAASRAGAAAV<end>\n",
      "\t\t<start>KWKSFlKTFKSPlKTVlKTASKLF<end><pad><pad><pad><pad>\n",
      "\tNLL Train Active: 13.763702392578125\n",
      "\tNLL Test Active: 26.2185001373291\n",
      "\tNLL Train Inactive: 34.93254089355469\n",
      "\tNLL Test Inactive: 34.26703643798828\n",
      "\n",
      "Epoch 101\n"
     ]
    },
    {
     "data": {
      "application/vnd.jupyter.widget-view+json": {
       "model_id": "a25d15a6ca87468fa14534b41ed1f3db",
       "version_major": 2,
       "version_minor": 0
      },
      "text/plain": [
       "HBox(children=(FloatProgress(value=0.0, max=24.0), HTML(value='')))"
      ]
     },
     "metadata": {},
     "output_type": "display_data"
    },
    {
     "name": "stdout",
     "output_type": "stream",
     "text": [
      "\n",
      "\tExample Sequences\n",
      "\t\t<start>ILGTILSAFKAL<end><pad><pad><pad><pad><pad><pad><pad><pad><pad><pad><pad><pad><pad><pad><pad><pad><pad><pad><pad><pad><pad><pad><pad><pad><pad><pad><pad><pad><pad><pad>\n",
      "\t\t<start>AAKKVFKRLEKLFSKI<end><pad><pad><pad><pad><pad><pad><pad><pad><pad><pad><pad><pad><pad><pad><pad><pad><pad><pad><pad><pad><pad><pad><pad><pad><pad><pad>\n",
      "\t\t<start>GIKDILKGAKKGAKQLVKGAAQGKWEKRKAVSKKIDEEAVAA<end>\n",
      "\t\t<start>RWRWWWRWRR<end><pad><pad><pad><pad><pad><pad><pad><pad><pad><pad><pad><pad><pad><pad><pad><pad><pad><pad><pad><pad><pad><pad><pad><pad><pad><pad><pad><pad><pad><pad><pad><pad>\n",
      "\t\t<start>HkLLKIVKVL<end><pad><pad><pad><pad><pad><pad><pad><pad><pad><pad><pad><pad><pad><pad><pad><pad><pad><pad><pad><pad><pad><pad><pad><pad><pad><pad><pad><pad><pad><pad><pad><pad>\n",
      "\tNLL Train Active: 13.740873336791992\n",
      "\tNLL Test Active: 26.212448120117188\n",
      "\tNLL Train Inactive: 34.93599319458008\n",
      "\tNLL Test Inactive: 34.26743698120117\n",
      "\n",
      "Epoch 102\n"
     ]
    },
    {
     "data": {
      "application/vnd.jupyter.widget-view+json": {
       "model_id": "1c9d556733804e6ca88143b7e9360af4",
       "version_major": 2,
       "version_minor": 0
      },
      "text/plain": [
       "HBox(children=(FloatProgress(value=0.0, max=24.0), HTML(value='')))"
      ]
     },
     "metadata": {},
     "output_type": "display_data"
    },
    {
     "name": "stdout",
     "output_type": "stream",
     "text": [
      "\n",
      "\tExample Sequences\n",
      "\t\t<start>KWKLFKKIPKFLHAKKKF<end><pad><pad><pad><pad><pad><pad><pad><pad>\n",
      "\t\t<start>FFGWLIKGAIHAPKAIHPLIHRR<end><pad><pad><pad>\n",
      "\t\t<start>LNALKKVFQPIHKAIKKINNLFQKI<end><pad>\n",
      "\t\t<start>VGRILKPLLPHLPRPGR<end><pad><pad><pad><pad><pad><pad><pad><pad><pad>\n",
      "\t\t<start>KWKSFLKTFKSAKKTVLHTALKAISS<end>\n",
      "\tNLL Train Active: 13.717978477478027\n",
      "\tNLL Test Active: 26.205989837646484\n",
      "\tNLL Train Inactive: 34.936729431152344\n",
      "\tNLL Test Inactive: 34.266807556152344\n",
      "\n",
      "Epoch 103\n"
     ]
    },
    {
     "data": {
      "application/vnd.jupyter.widget-view+json": {
       "model_id": "b6bdb106be7f4f02a8989d7d2b7c3ca9",
       "version_major": 2,
       "version_minor": 0
      },
      "text/plain": [
       "HBox(children=(FloatProgress(value=0.0, max=24.0), HTML(value='')))"
      ]
     },
     "metadata": {},
     "output_type": "display_data"
    },
    {
     "name": "stdout",
     "output_type": "stream",
     "text": [
      "\n",
      "\tExample Sequences\n",
      "\t\t<start>RRRRRRRRRGGGLGRPGGGFRGGGGFNRGGFGGFGGGFGGGKNFGKVIGKFASSDGAPADY<end>\n",
      "\t\t<start>AIHHIHHIIHHIHHIHHHIHHHIHHIHHH<end><pad><pad><pad><pad><pad><pad><pad><pad><pad><pad><pad><pad><pad><pad><pad><pad><pad><pad><pad><pad><pad><pad><pad><pad><pad><pad><pad><pad><pad><pad><pad><pad>\n",
      "\t\t<start>KWKLFKKIPKFLHLAKKF<end><pad><pad><pad><pad><pad><pad><pad><pad><pad><pad><pad><pad><pad><pad><pad><pad><pad><pad><pad><pad><pad><pad><pad><pad><pad><pad><pad><pad><pad><pad><pad><pad><pad><pad><pad><pad><pad><pad><pad><pad><pad><pad><pad>\n",
      "\t\t<start>GWWRRTVVAVVNRVRHVA<end><pad><pad><pad><pad><pad><pad><pad><pad><pad><pad><pad><pad><pad><pad><pad><pad><pad><pad><pad><pad><pad><pad><pad><pad><pad><pad><pad><pad><pad><pad><pad><pad><pad><pad><pad><pad><pad><pad><pad><pad><pad><pad><pad>\n",
      "\t\t<start>GKLWKGVKKKIGGDFGGRIKDFLNNF<end><pad><pad><pad><pad><pad><pad><pad><pad><pad><pad><pad><pad><pad><pad><pad><pad><pad><pad><pad><pad><pad><pad><pad><pad><pad><pad><pad><pad><pad><pad><pad><pad><pad><pad><pad>\n",
      "\tNLL Train Active: 13.695477485656738\n",
      "\tNLL Test Active: 26.20113754272461\n",
      "\tNLL Train Inactive: 34.93748474121094\n",
      "\tNLL Test Inactive: 34.26591873168945\n",
      "\n",
      "Epoch 104\n"
     ]
    },
    {
     "data": {
      "application/vnd.jupyter.widget-view+json": {
       "model_id": "fe8229f06ecd43dd8dfd45a59619c4d8",
       "version_major": 2,
       "version_minor": 0
      },
      "text/plain": [
       "HBox(children=(FloatProgress(value=0.0, max=24.0), HTML(value='')))"
      ]
     },
     "metadata": {},
     "output_type": "display_data"
    },
    {
     "name": "stdout",
     "output_type": "stream",
     "text": [
      "\n",
      "\tExample Sequences\n",
      "\t\t<start>GRFKRFRKKFKKLFKKLS<end><pad><pad><pad>\n",
      "\t\t<start>IHHIHHIIHHIHHIIHHIHHI<end>\n",
      "\t\t<start>VwKKLLKWLKKLLK<end><pad><pad><pad><pad><pad><pad><pad>\n",
      "\t\t<start>FLFHIIKKVAHVVKTsl<end><pad><pad><pad><pad>\n",
      "\t\t<start>RLLRIGRKIA<end><pad><pad><pad><pad><pad><pad><pad><pad><pad><pad><pad>\n",
      "\tNLL Train Active: 13.67334270477295\n",
      "\tNLL Test Active: 26.19478988647461\n",
      "\tNLL Train Inactive: 34.940704345703125\n",
      "\tNLL Test Inactive: 34.265743255615234\n",
      "\n",
      "Epoch 105\n"
     ]
    },
    {
     "data": {
      "application/vnd.jupyter.widget-view+json": {
       "model_id": "bbf2f40fbabb416ea86fbd934c3b4d37",
       "version_major": 2,
       "version_minor": 0
      },
      "text/plain": [
       "HBox(children=(FloatProgress(value=0.0, max=24.0), HTML(value='')))"
      ]
     },
     "metadata": {},
     "output_type": "display_data"
    },
    {
     "name": "stdout",
     "output_type": "stream",
     "text": [
      "\n",
      "\tExample Sequences\n",
      "\t\t<start>VDKRPRPRPPRRPPRRIYNR<end>\n",
      "\t\t<start>WKKWWKKWWKK<end><pad><pad><pad><pad><pad><pad><pad><pad><pad>\n",
      "\t\t<start>rkwpwlwwwrr<end><pad><pad><pad><pad><pad><pad><pad><pad><pad>\n",
      "\t\t<start>EKLLKRWQWKIKKWW<end><pad><pad><pad><pad><pad>\n",
      "\t\t<start>VAKKLKKLAKIAKII<end><pad><pad><pad><pad><pad>\n",
      "\tNLL Train Active: 13.6511869430542\n",
      "\tNLL Test Active: 26.192960739135742\n",
      "\tNLL Train Inactive: 34.943931579589844\n",
      "\tNLL Test Inactive: 34.262271881103516\n",
      "\n",
      "Epoch 106\n"
     ]
    },
    {
     "data": {
      "application/vnd.jupyter.widget-view+json": {
       "model_id": "4689803f85d04b7197454699b38681aa",
       "version_major": 2,
       "version_minor": 0
      },
      "text/plain": [
       "HBox(children=(FloatProgress(value=0.0, max=24.0), HTML(value='')))"
      ]
     },
     "metadata": {},
     "output_type": "display_data"
    },
    {
     "name": "stdout",
     "output_type": "stream",
     "text": [
      "\n",
      "\tExample Sequences\n",
      "\t\t<start>ILGKIWKGIKGLKK<end><pad><pad><pad><pad><pad><pad><pad><pad><pad><pad><pad><pad><pad><pad><pad><pad><pad><pad><pad><pad>\n",
      "\t\t<start>RWRWRWWRWRK<end><pad><pad><pad><pad><pad><pad><pad><pad><pad><pad><pad><pad><pad><pad><pad><pad><pad><pad><pad><pad><pad><pad><pad>\n",
      "\t\t<start>AIrSIWGALWEGFKHPSKLFMNVLPKKFSKIEKH<end>\n",
      "\t\t<start>VDKPPYLPRPRPPRRIYNR<end><pad><pad><pad><pad><pad><pad><pad><pad><pad><pad><pad><pad><pad><pad><pad>\n",
      "\t\t<start>KWKSFLKTFKSAKKTVLHTALKAISS<end><pad><pad><pad><pad><pad><pad><pad><pad>\n",
      "\tNLL Train Active: 13.62940502166748\n",
      "\tNLL Test Active: 26.18735694885254\n",
      "\tNLL Train Inactive: 34.948570251464844\n",
      "\tNLL Test Inactive: 34.266265869140625\n",
      "\n",
      "Epoch 107\n"
     ]
    },
    {
     "data": {
      "application/vnd.jupyter.widget-view+json": {
       "model_id": "7bd20c421dc346d2b030f62a9b07306e",
       "version_major": 2,
       "version_minor": 0
      },
      "text/plain": [
       "HBox(children=(FloatProgress(value=0.0, max=24.0), HTML(value='')))"
      ]
     },
     "metadata": {},
     "output_type": "display_data"
    },
    {
     "name": "stdout",
     "output_type": "stream",
     "text": [
      "\n",
      "\tExample Sequences\n",
      "\t\t<start>GWGSFFKKAAHVGKHSAKGLGNAAVHAMGNRS<end>\n",
      "\t\t<start>GVWGSIGKAAGGLGKNLPIGAIQAQQACNEKG<end>\n",
      "\t\t<start>ILRWKWPWLKRKp<end><pad><pad><pad><pad><pad><pad><pad><pad><pad><pad><pad><pad><pad><pad><pad><pad><pad><pad><pad>\n",
      "\t\t<start>KKRFKKFFKKLKGFVK<end><pad><pad><pad><pad><pad><pad><pad><pad><pad><pad><pad><pad><pad><pad><pad><pad>\n",
      "\t\t<start>RWKIFKKARKKW<end><pad><pad><pad><pad><pad><pad><pad><pad><pad><pad><pad><pad><pad><pad><pad><pad><pad><pad><pad><pad>\n",
      "\tNLL Train Active: 13.608114242553711\n",
      "\tNLL Test Active: 26.18284797668457\n",
      "\tNLL Train Inactive: 34.95447540283203\n",
      "\tNLL Test Inactive: 34.26576232910156\n",
      "\n",
      "Epoch 108\n"
     ]
    },
    {
     "data": {
      "application/vnd.jupyter.widget-view+json": {
       "model_id": "23d7dd96f8754244a29fb9e46825d862",
       "version_major": 2,
       "version_minor": 0
      },
      "text/plain": [
       "HBox(children=(FloatProgress(value=0.0, max=24.0), HTML(value='')))"
      ]
     },
     "metadata": {},
     "output_type": "display_data"
    },
    {
     "name": "stdout",
     "output_type": "stream",
     "text": [
      "\n",
      "\tExample Sequences\n",
      "\t\t<start>kklfkkilkkv<end><pad><pad><pad><pad><pad><pad><pad><pad><pad><pad><pad><pad><pad><pad><pad><pad><pad><pad><pad><pad><pad><pad><pad><pad><pad><pad><pad><pad><pad><pad>\n",
      "\t\t<start>GRLKKLGRKILKWLR<end><pad><pad><pad><pad><pad><pad><pad><pad><pad><pad><pad><pad><pad><pad><pad><pad><pad><pad><pad><pad><pad><pad><pad><pad><pad><pad>\n",
      "\t\t<start>KRKIKLILKLIIKYL<end><pad><pad><pad><pad><pad><pad><pad><pad><pad><pad><pad><pad><pad><pad><pad><pad><pad><pad><pad><pad><pad><pad><pad><pad><pad><pad>\n",
      "\t\t<start>GiisvsakkffGpaataahyas<end><pad><pad><pad><pad><pad><pad><pad><pad><pad><pad><pad><pad><pad><pad><pad><pad><pad><pad><pad>\n",
      "\t\t<start>KKKKKKKKKKKKKKKKKKKGIGKFLHSAKKFGKAFVGGIKS<end>\n",
      "\tNLL Train Active: 13.58639907836914\n",
      "\tNLL Test Active: 26.179100036621094\n",
      "\tNLL Train Inactive: 34.9492073059082\n",
      "\tNLL Test Inactive: 34.263328552246094\n",
      "\n",
      "Epoch 109\n"
     ]
    },
    {
     "data": {
      "application/vnd.jupyter.widget-view+json": {
       "model_id": "d7beca2f04d341178ee80dc9cd9bb525",
       "version_major": 2,
       "version_minor": 0
      },
      "text/plain": [
       "HBox(children=(FloatProgress(value=0.0, max=24.0), HTML(value='')))"
      ]
     },
     "metadata": {},
     "output_type": "display_data"
    },
    {
     "name": "stdout",
     "output_type": "stream",
     "text": [
      "\n",
      "\tExample Sequences\n",
      "\t\t<start>KIFKAIVSALKKLF<end><pad><pad><pad><pad><pad><pad><pad><pad><pad><pad><pad><pad><pad><pad><pad><pad><pad><pad><pad><pad><pad><pad><pad><pad><pad>\n",
      "\t\t<start>RWKIFKKIEKVGRNVRDGIIKAGPAVAVVGQALGHAAKI<end>\n",
      "\t\t<start>KWKKLLKKLLKKLLKWLKKL<end><pad><pad><pad><pad><pad><pad><pad><pad><pad><pad><pad><pad><pad><pad><pad><pad><pad><pad><pad>\n",
      "\t\t<start>FVKLKKLLRPKK<end><pad><pad><pad><pad><pad><pad><pad><pad><pad><pad><pad><pad><pad><pad><pad><pad><pad><pad><pad><pad><pad><pad><pad><pad><pad><pad><pad>\n",
      "\t\t<start>VRKIRPKFHEHSPKLVTPTK<end><pad><pad><pad><pad><pad><pad><pad><pad><pad><pad><pad><pad><pad><pad><pad><pad><pad><pad><pad>\n",
      "\tNLL Train Active: 13.564216613769531\n",
      "\tNLL Test Active: 26.173051834106445\n",
      "\tNLL Train Inactive: 34.95833206176758\n",
      "\tNLL Test Inactive: 34.270599365234375\n",
      "\n",
      "Epoch 110\n"
     ]
    },
    {
     "data": {
      "application/vnd.jupyter.widget-view+json": {
       "model_id": "6f4ea0d8ee114a2bbca0ee437d509adf",
       "version_major": 2,
       "version_minor": 0
      },
      "text/plain": [
       "HBox(children=(FloatProgress(value=0.0, max=24.0), HTML(value='')))"
      ]
     },
     "metadata": {},
     "output_type": "display_data"
    },
    {
     "name": "stdout",
     "output_type": "stream",
     "text": [
      "\n",
      "\tExample Sequences\n",
      "\t\t<start>RWHWWHWFHWHRH<end><pad><pad><pad><pad><pad><pad><pad><pad><pad>\n",
      "\t\t<start>KTWWKTWWTKWKp<end><pad><pad><pad><pad><pad><pad><pad><pad><pad>\n",
      "\t\t<start>RFRRLRWKTWLKF<end><pad><pad><pad><pad><pad><pad><pad><pad><pad>\n",
      "\t\t<start>AKRKKHRCRVYNNGLPTGRARS<end>\n",
      "\t\t<start>RWRWWWRWRWRWR<end><pad><pad><pad><pad><pad><pad><pad><pad><pad>\n",
      "\tNLL Train Active: 13.542634963989258\n",
      "\tNLL Test Active: 26.170860290527344\n",
      "\tNLL Train Inactive: 34.96149444580078\n",
      "\tNLL Test Inactive: 34.268943786621094\n",
      "\n",
      "Epoch 111\n"
     ]
    },
    {
     "data": {
      "application/vnd.jupyter.widget-view+json": {
       "model_id": "605b3308748245448be049c69faa7dbc",
       "version_major": 2,
       "version_minor": 0
      },
      "text/plain": [
       "HBox(children=(FloatProgress(value=0.0, max=24.0), HTML(value='')))"
      ]
     },
     "metadata": {},
     "output_type": "display_data"
    },
    {
     "name": "stdout",
     "output_type": "stream",
     "text": [
      "\n",
      "\tExample Sequences\n",
      "\t\t<start>KFFKKLKKAVKKLAKKVAK<end>\n",
      "\t\t<start>GIGGKLWGLLKSL<end><pad><pad><pad><pad><pad><pad>\n",
      "\t\t<start>QRKLAKLAKKVAKLAKIAG<end>\n",
      "\t\t<start>FWGALAKIAGKIAK<end><pad><pad><pad><pad><pad>\n",
      "\t\t<start>WWKKWWRRV<end><pad><pad><pad><pad><pad><pad><pad><pad><pad><pad>\n",
      "\tNLL Train Active: 13.52197551727295\n",
      "\tNLL Test Active: 26.165483474731445\n",
      "\tNLL Train Inactive: 34.96304702758789\n",
      "\tNLL Test Inactive: 34.270835876464844\n",
      "\n",
      "Epoch 112\n"
     ]
    },
    {
     "data": {
      "application/vnd.jupyter.widget-view+json": {
       "model_id": "696563e72dde441e9146a172fa519802",
       "version_major": 2,
       "version_minor": 0
      },
      "text/plain": [
       "HBox(children=(FloatProgress(value=0.0, max=24.0), HTML(value='')))"
      ]
     },
     "metadata": {},
     "output_type": "display_data"
    },
    {
     "name": "stdout",
     "output_type": "stream",
     "text": [
      "\n",
      "\tExample Sequences\n",
      "\t\t<start>AKRLKKLAKKIWKWK<end><pad><pad><pad><pad><pad><pad><pad><pad><pad><pad><pad><pad><pad>\n",
      "\t\t<start>RRLRPIRVYRAIPRLPRPR<end><pad><pad><pad><pad><pad><pad><pad><pad><pad>\n",
      "\t\t<start>GRIKRIRKKIKKWL<end><pad><pad><pad><pad><pad><pad><pad><pad><pad><pad><pad><pad><pad><pad>\n",
      "\t\t<start>AGRLKRLSKRGEKLKKIGQKIKNFFQKL<end>\n",
      "\t\t<start>KRKLILKRLFKKI<end><pad><pad><pad><pad><pad><pad><pad><pad><pad><pad><pad><pad><pad><pad><pad>\n",
      "\tNLL Train Active: 13.50139331817627\n",
      "\tNLL Test Active: 26.15997314453125\n",
      "\tNLL Train Inactive: 34.968631744384766\n",
      "\tNLL Test Inactive: 34.277400970458984\n",
      "\n",
      "Epoch 113\n"
     ]
    },
    {
     "data": {
      "application/vnd.jupyter.widget-view+json": {
       "model_id": "00fe28696bc24bd0951a4e192cc5a6da",
       "version_major": 2,
       "version_minor": 0
      },
      "text/plain": [
       "HBox(children=(FloatProgress(value=0.0, max=24.0), HTML(value='')))"
      ]
     },
     "metadata": {},
     "output_type": "display_data"
    },
    {
     "name": "stdout",
     "output_type": "stream",
     "text": [
      "\n",
      "\tExample Sequences\n",
      "\t\t<start>GRWRWWWRVRF<end><pad><pad><pad><pad><pad><pad><pad><pad><pad><pad><pad>\n",
      "\t\t<start>KEQIKDKNSYRVHQLKQKVVRG<end>\n",
      "\t\t<start>RKLKKIGKKIKKWWR<end><pad><pad><pad><pad><pad><pad><pad>\n",
      "\t\t<start>KKVVFKVKFKK<end><pad><pad><pad><pad><pad><pad><pad><pad><pad><pad><pad>\n",
      "\t\t<start>FKWLKKWLK<end><pad><pad><pad><pad><pad><pad><pad><pad><pad><pad><pad><pad><pad>\n",
      "\tNLL Train Active: 13.48064136505127\n",
      "\tNLL Test Active: 26.157730102539062\n",
      "\tNLL Train Inactive: 34.96969985961914\n",
      "\tNLL Test Inactive: 34.276145935058594\n",
      "\n",
      "Epoch 114\n"
     ]
    },
    {
     "data": {
      "application/vnd.jupyter.widget-view+json": {
       "model_id": "e26872de68ad4129b010a6b83ee7333a",
       "version_major": 2,
       "version_minor": 0
      },
      "text/plain": [
       "HBox(children=(FloatProgress(value=0.0, max=24.0), HTML(value='')))"
      ]
     },
     "metadata": {},
     "output_type": "display_data"
    },
    {
     "name": "stdout",
     "output_type": "stream",
     "text": [
      "\n",
      "\tExample Sequences\n",
      "\t\t<start>AARRFGGFRRNFRRK<end><pad><pad><pad><pad><pad><pad><pad><pad><pad><pad><pad><pad><pad><pad><pad><pad>\n",
      "\t\t<start>LLGDKFRRILCKIRRFIGRIRAGPKKWRRWK<end>\n",
      "\t\t<start>GWGSFFKKAAGVGKGLHGAGKQLL<end><pad><pad><pad><pad><pad><pad><pad>\n",
      "\t\t<start>GNNRPYIPRPRPPHPRL<end><pad><pad><pad><pad><pad><pad><pad><pad><pad><pad><pad><pad><pad><pad>\n",
      "\t\t<start>KKFFKKFKKFFKKFFKGAK<end><pad><pad><pad><pad><pad><pad><pad><pad><pad><pad><pad><pad>\n",
      "\tNLL Train Active: 13.459962844848633\n",
      "\tNLL Test Active: 26.151687622070312\n",
      "\tNLL Train Inactive: 34.96864318847656\n",
      "\tNLL Test Inactive: 34.27151870727539\n",
      "\n",
      "Epoch 115\n"
     ]
    },
    {
     "data": {
      "application/vnd.jupyter.widget-view+json": {
       "model_id": "9c19e678b99345778ead08f0bc16f1a9",
       "version_major": 2,
       "version_minor": 0
      },
      "text/plain": [
       "HBox(children=(FloatProgress(value=0.0, max=24.0), HTML(value='')))"
      ]
     },
     "metadata": {},
     "output_type": "display_data"
    },
    {
     "name": "stdout",
     "output_type": "stream",
     "text": [
      "\n",
      "\tExample Sequences\n",
      "\t\t<start>RWRWWWRWRR<end><pad><pad><pad><pad><pad><pad><pad><pad><pad><pad><pad><pad><pad><pad><pad><pad><pad><pad><pad><pad><pad><pad><pad><pad><pad><pad><pad><pad><pad><pad><pad><pad><pad><pad><pad><pad><pad><pad><pad><pad><pad><pad><pad><pad><pad><pad><pad><pad><pad><pad><pad><pad><pad><pad><pad><pad><pad><pad><pad><pad><pad><pad><pad><pad><pad>\n",
      "\t\t<start>AKKVFKRLEKLFSKIQNEK<end><pad><pad><pad><pad><pad><pad><pad><pad><pad><pad><pad><pad><pad><pad><pad><pad><pad><pad><pad><pad><pad><pad><pad><pad><pad><pad><pad><pad><pad><pad><pad><pad><pad><pad><pad><pad><pad><pad><pad><pad><pad><pad><pad><pad><pad><pad><pad><pad><pad><pad><pad><pad><pad><pad><pad><pad>\n",
      "\t\t<start>KIFGKLVGKAAKAAGKALVGKGMKLGEELTQE<end><pad><pad><pad><pad><pad><pad><pad><pad><pad><pad><pad><pad><pad><pad><pad><pad><pad><pad><pad><pad><pad><pad><pad><pad><pad><pad><pad><pad><pad><pad><pad><pad><pad><pad><pad><pad><pad><pad><pad><pad><pad><pad><pad>\n",
      "\t\t<start>KRWKKWWKKWVKK<end><pad><pad><pad><pad><pad><pad><pad><pad><pad><pad><pad><pad><pad><pad><pad><pad><pad><pad><pad><pad><pad><pad><pad><pad><pad><pad><pad><pad><pad><pad><pad><pad><pad><pad><pad><pad><pad><pad><pad><pad><pad><pad><pad><pad><pad><pad><pad><pad><pad><pad><pad><pad><pad><pad><pad><pad><pad><pad><pad><pad><pad><pad>\n",
      "\t\t<start>RGRSSRGRKSGSKAKGGSRGRPGGSRSGASSRGGSRFKSSRKTKGDATSIGGSSNGKAPATDCYEQCLERGRKDK<end>\n",
      "\tNLL Train Active: 13.438950538635254\n",
      "\tNLL Test Active: 26.148733139038086\n",
      "\tNLL Train Inactive: 34.97944641113281\n",
      "\tNLL Test Inactive: 34.27635192871094\n",
      "\n",
      "Epoch 116\n"
     ]
    },
    {
     "data": {
      "application/vnd.jupyter.widget-view+json": {
       "model_id": "715ef2299b304ceda7c38a09cffea947",
       "version_major": 2,
       "version_minor": 0
      },
      "text/plain": [
       "HBox(children=(FloatProgress(value=0.0, max=24.0), HTML(value='')))"
      ]
     },
     "metadata": {},
     "output_type": "display_data"
    },
    {
     "name": "stdout",
     "output_type": "stream",
     "text": [
      "\n",
      "\tExample Sequences\n",
      "\t\t<start>GLRKRLRKFRNKIKEKLKKIGQKIQGLLPKLAPRTDY<end>\n",
      "\t\t<start>GWGSFFKKAAHVGKHVGKAALTHYL<end><pad><pad><pad><pad><pad><pad><pad><pad><pad><pad><pad><pad>\n",
      "\t\t<start>RKKLTRIVLVKW<end><pad><pad><pad><pad><pad><pad><pad><pad><pad><pad><pad><pad><pad><pad><pad><pad><pad><pad><pad><pad><pad><pad><pad><pad><pad>\n",
      "\t\t<start>VKKFKRFFKKLKNSVKK<end><pad><pad><pad><pad><pad><pad><pad><pad><pad><pad><pad><pad><pad><pad><pad><pad><pad><pad><pad><pad>\n",
      "\t\t<start>KWKLFKKIPKFLHLAKKF<end><pad><pad><pad><pad><pad><pad><pad><pad><pad><pad><pad><pad><pad><pad><pad><pad><pad><pad><pad>\n",
      "\tNLL Train Active: 13.419222831726074\n",
      "\tNLL Test Active: 26.147747039794922\n",
      "\tNLL Train Inactive: 34.97406005859375\n",
      "\tNLL Test Inactive: 34.27358627319336\n",
      "\n",
      "Epoch 117\n"
     ]
    },
    {
     "data": {
      "application/vnd.jupyter.widget-view+json": {
       "model_id": "b9f73c43972d42aea61877b2b095880e",
       "version_major": 2,
       "version_minor": 0
      },
      "text/plain": [
       "HBox(children=(FloatProgress(value=0.0, max=24.0), HTML(value='')))"
      ]
     },
     "metadata": {},
     "output_type": "display_data"
    },
    {
     "name": "stdout",
     "output_type": "stream",
     "text": [
      "\n",
      "\tExample Sequences\n",
      "\t\t<start>IISTIGKLVKWIIT<end><pad><pad><pad><pad><pad><pad><pad><pad><pad><pad><pad><pad><pad><pad><pad><pad><pad><pad><pad>\n",
      "\t\t<start>FRRPPWAWPWWPKLKPWWK<end><pad><pad><pad><pad><pad><pad><pad><pad><pad><pad><pad><pad><pad><pad>\n",
      "\t\t<start>HLNKLILKKKLKIKK<end><pad><pad><pad><pad><pad><pad><pad><pad><pad><pad><pad><pad><pad><pad><pad><pad><pad><pad>\n",
      "\t\t<start>RWKIFKKVASVIRGA<end><pad><pad><pad><pad><pad><pad><pad><pad><pad><pad><pad><pad><pad><pad><pad><pad><pad><pad>\n",
      "\t\t<start>KWKLFKKIEKVGQNVRDGIIKAGPAVAVAQAVG<end>\n",
      "\tNLL Train Active: 13.398564338684082\n",
      "\tNLL Test Active: 26.14230728149414\n",
      "\tNLL Train Inactive: 34.98174285888672\n",
      "\tNLL Test Inactive: 34.281761169433594\n",
      "\n",
      "Epoch 118\n"
     ]
    },
    {
     "data": {
      "application/vnd.jupyter.widget-view+json": {
       "model_id": "18c603221145448cac4f1373190c3866",
       "version_major": 2,
       "version_minor": 0
      },
      "text/plain": [
       "HBox(children=(FloatProgress(value=0.0, max=24.0), HTML(value='')))"
      ]
     },
     "metadata": {},
     "output_type": "display_data"
    },
    {
     "name": "stdout",
     "output_type": "stream",
     "text": [
      "\n",
      "\tExample Sequences\n",
      "\t\t<start>KWKLFKKIPKFLHLA<end><pad><pad><pad><pad><pad><pad><pad><pad><pad><pad><pad><pad><pad><pad><pad><pad><pad><pad><pad><pad><pad><pad><pad><pad><pad><pad><pad><pad><pad><pad><pad><pad>\n",
      "\t\t<start>NLWAGLAKHVGKNAAGLAMNKQQ<end><pad><pad><pad><pad><pad><pad><pad><pad><pad><pad><pad><pad><pad><pad><pad><pad><pad><pad><pad><pad><pad><pad><pad><pad>\n",
      "\t\t<start>LLKWLKKLLKK<end><pad><pad><pad><pad><pad><pad><pad><pad><pad><pad><pad><pad><pad><pad><pad><pad><pad><pad><pad><pad><pad><pad><pad><pad><pad><pad><pad><pad><pad><pad><pad><pad><pad><pad><pad><pad>\n",
      "\t\t<start>KWKSFLKTFKSAKKGLKTAAKGALSALGSAVATDVAKQGKSEAAATK<end>\n",
      "\t\t<start>KRIIKKIIKRLIKRL<end><pad><pad><pad><pad><pad><pad><pad><pad><pad><pad><pad><pad><pad><pad><pad><pad><pad><pad><pad><pad><pad><pad><pad><pad><pad><pad><pad><pad><pad><pad><pad><pad>\n",
      "\tNLL Train Active: 13.378499984741211\n",
      "\tNLL Test Active: 26.137903213500977\n",
      "\tNLL Train Inactive: 34.983619689941406\n",
      "\tNLL Test Inactive: 34.275264739990234\n",
      "\n",
      "Epoch 119\n"
     ]
    },
    {
     "data": {
      "application/vnd.jupyter.widget-view+json": {
       "model_id": "b300d52b05084df983ec69be42b1e42d",
       "version_major": 2,
       "version_minor": 0
      },
      "text/plain": [
       "HBox(children=(FloatProgress(value=0.0, max=24.0), HTML(value='')))"
      ]
     },
     "metadata": {},
     "output_type": "display_data"
    },
    {
     "name": "stdout",
     "output_type": "stream",
     "text": [
      "\n",
      "\tExample Sequences\n",
      "\t\t<start>FRKFLKKLKNSVKKRAKKFFKKPRVIGVSIPF<end>\n",
      "\t\t<start>INWLNAATKLLGKVEKLQG<end><pad><pad><pad><pad><pad><pad><pad><pad><pad><pad><pad><pad><pad>\n",
      "\t\t<start>KWKLFKKIPKFLHSAKKF<end><pad><pad><pad><pad><pad><pad><pad><pad><pad><pad><pad><pad><pad><pad>\n",
      "\t\t<start>LLPIVGNLLLKAL<end><pad><pad><pad><pad><pad><pad><pad><pad><pad><pad><pad><pad><pad><pad><pad><pad><pad><pad><pad>\n",
      "\t\t<start>RWKIFKKVVKKL<end><pad><pad><pad><pad><pad><pad><pad><pad><pad><pad><pad><pad><pad><pad><pad><pad><pad><pad><pad><pad>\n",
      "\tNLL Train Active: 13.358415603637695\n",
      "\tNLL Test Active: 26.132644653320312\n",
      "\tNLL Train Inactive: 34.99199676513672\n",
      "\tNLL Test Inactive: 34.28518295288086\n",
      "\n",
      "Epoch 120\n"
     ]
    },
    {
     "data": {
      "application/vnd.jupyter.widget-view+json": {
       "model_id": "558cf72596924c749ec9aae4a0cda8d4",
       "version_major": 2,
       "version_minor": 0
      },
      "text/plain": [
       "HBox(children=(FloatProgress(value=0.0, max=24.0), HTML(value='')))"
      ]
     },
     "metadata": {},
     "output_type": "display_data"
    },
    {
     "name": "stdout",
     "output_type": "stream",
     "text": [
      "\n",
      "\tExample Sequences\n",
      "\t\t<start>FFGHIIHGAKKLF<end><pad><pad><pad><pad><pad><pad><pad><pad><pad><pad><pad><pad><pad><pad><pad><pad><pad><pad><pad><pad><pad><pad><pad><pad><pad><pad><pad><pad><pad><pad><pad><pad><pad><pad><pad><pad><pad><pad><pad><pad><pad><pad><pad><pad><pad><pad><pad><pad><pad><pad><pad><pad><pad><pad><pad><pad><pad><pad><pad><pad><pad><pad><pad><pad><pad><pad><pad><pad><pad><pad><pad><pad><pad><pad><pad><pad><pad><pad><pad><pad><pad><pad><pad><pad><pad><pad><pad><pad><pad><pad><pad><pad><pad><pad><pad><pad><pad><pad><pad><pad><pad><pad>\n",
      "\t\t<start>RWKIFKKIEKVGRNVGRLVI<end><pad><pad><pad><pad><pad><pad><pad><pad><pad><pad><pad><pad><pad><pad><pad><pad><pad><pad><pad><pad><pad><pad><pad><pad><pad><pad><pad><pad><pad><pad><pad><pad><pad><pad><pad><pad><pad><pad><pad><pad><pad><pad><pad><pad><pad><pad><pad><pad><pad><pad><pad><pad><pad><pad><pad><pad><pad><pad><pad><pad><pad><pad><pad><pad><pad><pad><pad><pad><pad><pad><pad><pad><pad><pad><pad><pad><pad><pad><pad><pad><pad><pad><pad><pad><pad><pad><pad><pad><pad><pad><pad><pad><pad><pad><pad>\n",
      "\t\t<start>KWKLFKKIPKFLHSAKKF<end><pad><pad><pad><pad><pad><pad><pad><pad><pad><pad><pad><pad><pad><pad><pad><pad><pad><pad><pad><pad><pad><pad><pad><pad><pad><pad><pad><pad><pad><pad><pad><pad><pad><pad><pad><pad><pad><pad><pad><pad><pad><pad><pad><pad><pad><pad><pad><pad><pad><pad><pad><pad><pad><pad><pad><pad><pad><pad><pad><pad><pad><pad><pad><pad><pad><pad><pad><pad><pad><pad><pad><pad><pad><pad><pad><pad><pad><pad><pad><pad><pad><pad><pad><pad><pad><pad><pad><pad><pad><pad><pad><pad><pad><pad><pad><pad><pad>\n",
      "\t\t<start>RRSQADGNQTQQQQCQRRHESQECRQHESQPKEQCCQRCRRRKECERCQRCRRECRVHEDKRHPQKYMQKDKPGQAQQQPNFPQTGQQQYCQRRNQMECLEPCEREYERTSQEKA<end>\n",
      "\t\t<start>GRWRWWWRWRW<end><pad><pad><pad><pad><pad><pad><pad><pad><pad><pad><pad><pad><pad><pad><pad><pad><pad><pad><pad><pad><pad><pad><pad><pad><pad><pad><pad><pad><pad><pad><pad><pad><pad><pad><pad><pad><pad><pad><pad><pad><pad><pad><pad><pad><pad><pad><pad><pad><pad><pad><pad><pad><pad><pad><pad><pad><pad><pad><pad><pad><pad><pad><pad><pad><pad><pad><pad><pad><pad><pad><pad><pad><pad><pad><pad><pad><pad><pad><pad><pad><pad><pad><pad><pad><pad><pad><pad><pad><pad><pad><pad><pad><pad><pad><pad><pad><pad><pad><pad><pad><pad><pad><pad><pad>\n",
      "\tNLL Train Active: 13.338576316833496\n",
      "\tNLL Test Active: 26.127573013305664\n",
      "\tNLL Train Inactive: 34.99696731567383\n",
      "\tNLL Test Inactive: 34.282474517822266\n",
      "\n",
      "Epoch 121\n"
     ]
    },
    {
     "data": {
      "application/vnd.jupyter.widget-view+json": {
       "model_id": "08f48290f2014986803c4a02758a1348",
       "version_major": 2,
       "version_minor": 0
      },
      "text/plain": [
       "HBox(children=(FloatProgress(value=0.0, max=24.0), HTML(value='')))"
      ]
     },
     "metadata": {},
     "output_type": "display_data"
    },
    {
     "name": "stdout",
     "output_type": "stream",
     "text": [
      "\n",
      "\tExample Sequences\n",
      "\t\t<start>GWWRRTAVKGGRNAGSSRW<end><pad><pad><pad><pad><pad><pad><pad><pad><pad>\n",
      "\t\t<start>AKKVFKRLEKLFSKIWNWK<end><pad><pad><pad><pad><pad><pad><pad><pad><pad>\n",
      "\t\t<start>YARLALRLARILLRW<end><pad><pad><pad><pad><pad><pad><pad><pad><pad><pad><pad><pad><pad>\n",
      "\t\t<start>GRPKHPYKPERPPHPRPIY<end><pad><pad><pad><pad><pad><pad><pad><pad><pad>\n",
      "\t\t<start>VKKLEKLFKKIGQKIQGLLPKYDWRAMR<end>\n",
      "\tNLL Train Active: 13.318958282470703\n",
      "\tNLL Test Active: 26.126609802246094\n",
      "\tNLL Train Inactive: 34.999755859375\n",
      "\tNLL Test Inactive: 34.28135681152344\n",
      "\n",
      "Epoch 122\n"
     ]
    },
    {
     "data": {
      "application/vnd.jupyter.widget-view+json": {
       "model_id": "61125f4debdc42b9a3524076756a1b05",
       "version_major": 2,
       "version_minor": 0
      },
      "text/plain": [
       "HBox(children=(FloatProgress(value=0.0, max=24.0), HTML(value='')))"
      ]
     },
     "metadata": {},
     "output_type": "display_data"
    },
    {
     "name": "stdout",
     "output_type": "stream",
     "text": [
      "\n",
      "\tExample Sequences\n",
      "\t\t<start>FKLFKKWLKK<end><pad><pad><pad><pad><pad><pad><pad><pad><pad><pad><pad><pad><pad>\n",
      "\t\t<start>RRIRPRPPRLPRPRPR<end><pad><pad><pad><pad><pad><pad><pad>\n",
      "\t\t<start>GILGKFLGSVAKGALKELAGMIS<end>\n",
      "\t\t<start>LSLILHSLWHTALNAVLSTYL<end><pad><pad>\n",
      "\t\t<start>GKWKKLLKKLLKWLKKWLK<end><pad><pad><pad><pad>\n",
      "\tNLL Train Active: 13.29888916015625\n",
      "\tNLL Test Active: 26.122957229614258\n",
      "\tNLL Train Inactive: 34.99806213378906\n",
      "\tNLL Test Inactive: 34.27472686767578\n",
      "\n",
      "Epoch 123\n"
     ]
    },
    {
     "data": {
      "application/vnd.jupyter.widget-view+json": {
       "model_id": "9373dc3bcea049cf88483c61d0ed3184",
       "version_major": 2,
       "version_minor": 0
      },
      "text/plain": [
       "HBox(children=(FloatProgress(value=0.0, max=24.0), HTML(value='')))"
      ]
     },
     "metadata": {},
     "output_type": "display_data"
    },
    {
     "name": "stdout",
     "output_type": "stream",
     "text": [
      "\n",
      "\tExample Sequences\n",
      "\t\t<start>KrWhLWKEWIKRVGQATGNQEKNELDLAEAGQHEEVQWAIHHCQAISHSDAKSIYANTEKKLH<end>\n",
      "\t\t<start>LRAVKKWW<end><pad><pad><pad><pad><pad><pad><pad><pad><pad><pad><pad><pad><pad><pad><pad><pad><pad><pad><pad><pad><pad><pad><pad><pad><pad><pad><pad><pad><pad><pad><pad><pad><pad><pad><pad><pad><pad><pad><pad><pad><pad><pad><pad><pad><pad><pad><pad><pad><pad><pad><pad><pad><pad><pad><pad>\n",
      "\t\t<start>KHWWRTVWKARWRW<end><pad><pad><pad><pad><pad><pad><pad><pad><pad><pad><pad><pad><pad><pad><pad><pad><pad><pad><pad><pad><pad><pad><pad><pad><pad><pad><pad><pad><pad><pad><pad><pad><pad><pad><pad><pad><pad><pad><pad><pad><pad><pad><pad><pad><pad><pad><pad><pad><pad>\n",
      "\t\t<start>FLGALFKLASK<end><pad><pad><pad><pad><pad><pad><pad><pad><pad><pad><pad><pad><pad><pad><pad><pad><pad><pad><pad><pad><pad><pad><pad><pad><pad><pad><pad><pad><pad><pad><pad><pad><pad><pad><pad><pad><pad><pad><pad><pad><pad><pad><pad><pad><pad><pad><pad><pad><pad><pad><pad><pad>\n",
      "\t\t<start>AKKVFKRLEKLFSKIWNWK<end><pad><pad><pad><pad><pad><pad><pad><pad><pad><pad><pad><pad><pad><pad><pad><pad><pad><pad><pad><pad><pad><pad><pad><pad><pad><pad><pad><pad><pad><pad><pad><pad><pad><pad><pad><pad><pad><pad><pad><pad><pad><pad><pad><pad>\n",
      "\tNLL Train Active: 13.278985023498535\n",
      "\tNLL Test Active: 26.117191314697266\n",
      "\tNLL Train Inactive: 35.00187683105469\n",
      "\tNLL Test Inactive: 34.27980041503906\n",
      "\n",
      "Epoch 124\n"
     ]
    },
    {
     "data": {
      "application/vnd.jupyter.widget-view+json": {
       "model_id": "4174d6d4401b46c0ab026e4ee58f91a4",
       "version_major": 2,
       "version_minor": 0
      },
      "text/plain": [
       "HBox(children=(FloatProgress(value=0.0, max=24.0), HTML(value='')))"
      ]
     },
     "metadata": {},
     "output_type": "display_data"
    },
    {
     "name": "stdout",
     "output_type": "stream",
     "text": [
      "\n",
      "\tExample Sequences\n",
      "\t\t<start>RTARGSRAGLQVIRVPGVHVGIVHVGKKVR<end><pad><pad><pad><pad><pad><pad><pad><pad><pad><pad><pad><pad><pad><pad><pad><pad><pad><pad><pad><pad><pad><pad><pad><pad><pad><pad><pad><pad><pad><pad><pad><pad><pad><pad><pad><pad><pad><pad><pad><pad><pad><pad><pad><pad><pad><pad><pad>\n",
      "\t\t<start>RRWCRN<end><pad><pad><pad><pad><pad><pad><pad><pad><pad><pad><pad><pad><pad><pad><pad><pad><pad><pad><pad><pad><pad><pad><pad><pad><pad><pad><pad><pad><pad><pad><pad><pad><pad><pad><pad><pad><pad><pad><pad><pad><pad><pad><pad><pad><pad><pad><pad><pad><pad><pad><pad><pad><pad><pad><pad><pad><pad><pad><pad><pad><pad><pad><pad><pad><pad><pad><pad><pad><pad><pad><pad>\n",
      "\t\t<start>RWKIFKKIEKMGRNIRDGIVKAGPAIEVLGHSRDAHGAPQQIAEAATAREKARGESLIAAEAGAAALGVGEAATALK<end>\n",
      "\t\t<start>KWKLFKKIPKFLHSAKKF<end><pad><pad><pad><pad><pad><pad><pad><pad><pad><pad><pad><pad><pad><pad><pad><pad><pad><pad><pad><pad><pad><pad><pad><pad><pad><pad><pad><pad><pad><pad><pad><pad><pad><pad><pad><pad><pad><pad><pad><pad><pad><pad><pad><pad><pad><pad><pad><pad><pad><pad><pad><pad><pad><pad><pad><pad><pad><pad><pad>\n",
      "\t\t<start>GRFRKFRKKLKKGFKKIMKRFGQLFPICKGGY<end><pad><pad><pad><pad><pad><pad><pad><pad><pad><pad><pad><pad><pad><pad><pad><pad><pad><pad><pad><pad><pad><pad><pad><pad><pad><pad><pad><pad><pad><pad><pad><pad><pad><pad><pad><pad><pad><pad><pad><pad><pad><pad><pad><pad><pad>\n",
      "\tNLL Train Active: 13.25974178314209\n",
      "\tNLL Test Active: 26.116365432739258\n",
      "\tNLL Train Inactive: 35.00786209106445\n",
      "\tNLL Test Inactive: 34.28474426269531\n",
      "\n",
      "Epoch 125\n"
     ]
    },
    {
     "data": {
      "application/vnd.jupyter.widget-view+json": {
       "model_id": "9e4df954186b45d1834dd1ea2600aa36",
       "version_major": 2,
       "version_minor": 0
      },
      "text/plain": [
       "HBox(children=(FloatProgress(value=0.0, max=24.0), HTML(value='')))"
      ]
     },
     "metadata": {},
     "output_type": "display_data"
    },
    {
     "name": "stdout",
     "output_type": "stream",
     "text": [
      "\n",
      "\tExample Sequences\n",
      "\t\t<start>RRWWWWRR<end><pad><pad><pad><pad>\n",
      "\t\t<start>GLQLGILKFIA<end><pad>\n",
      "\t\t<start>KNrWAGWKAKFK<end>\n",
      "\t\t<start>KLIKTWWKFTK<end><pad>\n",
      "\t\t<start>KCRHEY<end><pad><pad><pad><pad><pad><pad>\n",
      "\tNLL Train Active: 13.240652084350586\n",
      "\tNLL Test Active: 26.115501403808594\n",
      "\tNLL Train Inactive: 35.01551055908203\n",
      "\tNLL Test Inactive: 34.29067611694336\n",
      "\n",
      "Epoch 126\n"
     ]
    },
    {
     "data": {
      "application/vnd.jupyter.widget-view+json": {
       "model_id": "fb323e976c0148c59038dab388128044",
       "version_major": 2,
       "version_minor": 0
      },
      "text/plain": [
       "HBox(children=(FloatProgress(value=0.0, max=24.0), HTML(value='')))"
      ]
     },
     "metadata": {},
     "output_type": "display_data"
    },
    {
     "name": "stdout",
     "output_type": "stream",
     "text": [
      "\n",
      "\tExample Sequences\n",
      "\t\t<start>kwkkwwkwwwrw<end><pad><pad><pad><pad><pad><pad><pad><pad><pad><pad><pad><pad><pad><pad><pad><pad><pad><pad>\n",
      "\t\t<start>GFGHLGRSILRGVKKGLKEVLDTASKFEEQ<end>\n",
      "\t\t<start>RAKIFKKIPKFLHL<end><pad><pad><pad><pad><pad><pad><pad><pad><pad><pad><pad><pad><pad><pad><pad><pad>\n",
      "\t\t<start>WMLRKKRRRKRRRL<end><pad><pad><pad><pad><pad><pad><pad><pad><pad><pad><pad><pad><pad><pad><pad><pad>\n",
      "\t\t<start>KKRFKKFFKKLKSV<end><pad><pad><pad><pad><pad><pad><pad><pad><pad><pad><pad><pad><pad><pad><pad><pad>\n",
      "\tNLL Train Active: 13.221273422241211\n",
      "\tNLL Test Active: 26.110088348388672\n",
      "\tNLL Train Inactive: 35.01139450073242\n",
      "\tNLL Test Inactive: 34.284088134765625\n",
      "\n",
      "Epoch 127\n"
     ]
    },
    {
     "data": {
      "application/vnd.jupyter.widget-view+json": {
       "model_id": "a5cffdc9acc848b5917337f9a7886839",
       "version_major": 2,
       "version_minor": 0
      },
      "text/plain": [
       "HBox(children=(FloatProgress(value=0.0, max=24.0), HTML(value='')))"
      ]
     },
     "metadata": {},
     "output_type": "display_data"
    },
    {
     "name": "stdout",
     "output_type": "stream",
     "text": [
      "\n",
      "\tExample Sequences\n",
      "\t\t<start>KKKKKKKKKKKGIGKFLHSAKKFGKAFVGKIHKGLKDL<end>\n",
      "\t\t<start>VRRLPWRWPWRR<end><pad><pad><pad><pad><pad><pad><pad><pad><pad><pad><pad><pad><pad><pad><pad><pad><pad><pad><pad><pad><pad><pad><pad><pad><pad><pad>\n",
      "\t\t<start>KKKKKKFWWWKTKWNKKWL<end><pad><pad><pad><pad><pad><pad><pad><pad><pad><pad><pad><pad><pad><pad><pad><pad><pad><pad><pad>\n",
      "\t\t<start>VAKKIPKFLHL<end><pad><pad><pad><pad><pad><pad><pad><pad><pad><pad><pad><pad><pad><pad><pad><pad><pad><pad><pad><pad><pad><pad><pad><pad><pad><pad><pad>\n",
      "\t\t<start>LLwKLllklLKLF<end><pad><pad><pad><pad><pad><pad><pad><pad><pad><pad><pad><pad><pad><pad><pad><pad><pad><pad><pad><pad><pad><pad><pad><pad><pad>\n",
      "\tNLL Train Active: 13.201970100402832\n",
      "\tNLL Test Active: 26.106714248657227\n",
      "\tNLL Train Inactive: 35.01341247558594\n",
      "\tNLL Test Inactive: 34.283226013183594\n",
      "\n",
      "Epoch 128\n"
     ]
    },
    {
     "data": {
      "application/vnd.jupyter.widget-view+json": {
       "model_id": "0cedd83cb1eb498eb7be8b990a65b5a0",
       "version_major": 2,
       "version_minor": 0
      },
      "text/plain": [
       "HBox(children=(FloatProgress(value=0.0, max=24.0), HTML(value='')))"
      ]
     },
     "metadata": {},
     "output_type": "display_data"
    },
    {
     "name": "stdout",
     "output_type": "stream",
     "text": [
      "\n",
      "\tExample Sequences\n",
      "\t\t<start>ILGKIWKGIKSLF<end><pad><pad><pad><pad><pad><pad><pad><pad><pad><pad><pad><pad><pad><pad><pad><pad><pad>\n",
      "\t\t<start>ADKPPYLPRPRPPRRIYNR<end><pad><pad><pad><pad><pad><pad><pad><pad><pad><pad><pad>\n",
      "\t\t<start>GRaKQFLSTIQKLVKRFFKKF<end><pad><pad><pad><pad><pad><pad><pad><pad><pad>\n",
      "\t\t<start>LLkkswktllkkaskalkkalktllhlaks<end>\n",
      "\t\t<start>AKKVFKRLEKLFSKIWNDK<end><pad><pad><pad><pad><pad><pad><pad><pad><pad><pad><pad>\n",
      "\tNLL Train Active: 13.183128356933594\n",
      "\tNLL Test Active: 26.10491943359375\n",
      "\tNLL Train Inactive: 35.020790100097656\n",
      "\tNLL Test Inactive: 34.28756332397461\n",
      "\n",
      "Epoch 129\n"
     ]
    },
    {
     "data": {
      "application/vnd.jupyter.widget-view+json": {
       "model_id": "b72b480bcb28476db1bb238aaade31e8",
       "version_major": 2,
       "version_minor": 0
      },
      "text/plain": [
       "HBox(children=(FloatProgress(value=0.0, max=24.0), HTML(value='')))"
      ]
     },
     "metadata": {},
     "output_type": "display_data"
    },
    {
     "name": "stdout",
     "output_type": "stream",
     "text": [
      "\n",
      "\tExample Sequences\n",
      "\t\t<start>KLWKLWKKWLKK<end><pad><pad><pad><pad><pad><pad><pad>\n",
      "\t\t<start>GAGRLKTLGRLAAKLVTWV<end>\n",
      "\t\t<start>KRLRFRLSYRGYRWRWR<end><pad><pad>\n",
      "\t\t<start>ALWKTLLKKVLKA<end><pad><pad><pad><pad><pad><pad>\n",
      "\t\t<start>KWKLFKKIPKFLHLAKKF<end><pad>\n",
      "\tNLL Train Active: 13.164483070373535\n",
      "\tNLL Test Active: 26.102510452270508\n",
      "\tNLL Train Inactive: 35.02385330200195\n",
      "\tNLL Test Inactive: 34.29263687133789\n",
      "\n",
      "Epoch 130\n"
     ]
    },
    {
     "data": {
      "application/vnd.jupyter.widget-view+json": {
       "model_id": "b3a9114921324e3ba8ec7915dd27ff5a",
       "version_major": 2,
       "version_minor": 0
      },
      "text/plain": [
       "HBox(children=(FloatProgress(value=0.0, max=24.0), HTML(value='')))"
      ]
     },
     "metadata": {},
     "output_type": "display_data"
    },
    {
     "name": "stdout",
     "output_type": "stream",
     "text": [
      "\n",
      "\tExample Sequences\n",
      "\t\t<start>GVWKKIWKGIKKLF<end><pad><pad>\n",
      "\t\t<start>KKLFkKilkYLKk<end><pad><pad><pad>\n",
      "\t\t<start>LRRLRRRLRRWWRRRL<end>\n",
      "\t\t<start>GRWRWWWWRWRWR<end><pad><pad><pad>\n",
      "\t\t<start>FKCWRWWKKVG<end><pad><pad><pad><pad><pad>\n",
      "\tNLL Train Active: 13.146122932434082\n",
      "\tNLL Test Active: 26.100502014160156\n",
      "\tNLL Train Inactive: 35.02140808105469\n",
      "\tNLL Test Inactive: 34.28487777709961\n",
      "\n",
      "Epoch 131\n"
     ]
    },
    {
     "data": {
      "application/vnd.jupyter.widget-view+json": {
       "model_id": "29dbed4106ac4d6bb7ceec995c6807f5",
       "version_major": 2,
       "version_minor": 0
      },
      "text/plain": [
       "HBox(children=(FloatProgress(value=0.0, max=24.0), HTML(value='')))"
      ]
     },
     "metadata": {},
     "output_type": "display_data"
    },
    {
     "name": "stdout",
     "output_type": "stream",
     "text": [
      "\n",
      "\tExample Sequences\n",
      "\t\t<start>LLKRFWKWY<end><pad><pad><pad><pad><pad><pad>\n",
      "\t\t<start>KRFIKWARLL<end><pad><pad><pad><pad><pad>\n",
      "\t\t<start>RWKIFKKVAKKVLGA<end>\n",
      "\t\t<start>KLKKLLKKLlKLLK<end><pad>\n",
      "\t\t<start>RWRWWCLRKI<end><pad><pad><pad><pad><pad>\n",
      "\tNLL Train Active: 13.127508163452148\n",
      "\tNLL Test Active: 26.094018936157227\n",
      "\tNLL Train Inactive: 35.033382415771484\n",
      "\tNLL Test Inactive: 34.30207061767578\n",
      "\n",
      "Epoch 132\n"
     ]
    },
    {
     "data": {
      "application/vnd.jupyter.widget-view+json": {
       "model_id": "eedb55c97d064bfd8ac287d2244331c1",
       "version_major": 2,
       "version_minor": 0
      },
      "text/plain": [
       "HBox(children=(FloatProgress(value=0.0, max=24.0), HTML(value='')))"
      ]
     },
     "metadata": {},
     "output_type": "display_data"
    },
    {
     "name": "stdout",
     "output_type": "stream",
     "text": [
      "\n",
      "\tExample Sequences\n",
      "\t\t<start>RSGGQGCQVRGS<end><pad><pad><pad><pad><pad><pad><pad><pad><pad><pad><pad><pad><pad><pad><pad><pad><pad><pad><pad><pad><pad><pad><pad><pad><pad><pad><pad><pad><pad><pad><pad><pad><pad>\n",
      "\t\t<start>KWKKWWKWKW<end><pad><pad><pad><pad><pad><pad><pad><pad><pad><pad><pad><pad><pad><pad><pad><pad><pad><pad><pad><pad><pad><pad><pad><pad><pad><pad><pad><pad><pad><pad><pad><pad><pad><pad><pad>\n",
      "\t\t<start>RWKIFKKIPKFLHL<end><pad><pad><pad><pad><pad><pad><pad><pad><pad><pad><pad><pad><pad><pad><pad><pad><pad><pad><pad><pad><pad><pad><pad><pad><pad><pad><pad><pad><pad><pad><pad>\n",
      "\t\t<start>KWKWKWKWWKWRK<end><pad><pad><pad><pad><pad><pad><pad><pad><pad><pad><pad><pad><pad><pad><pad><pad><pad><pad><pad><pad><pad><pad><pad><pad><pad><pad><pad><pad><pad><pad><pad><pad>\n",
      "\t\t<start>RVHKLGHKIEKVGQNVRDGIIKAGPAVSVVGQAAKVVKGFLKFKG<end>\n",
      "\tNLL Train Active: 13.108378410339355\n",
      "\tNLL Test Active: 26.090871810913086\n",
      "\tNLL Train Inactive: 35.02907943725586\n",
      "\tNLL Test Inactive: 34.289939880371094\n",
      "\n",
      "Epoch 133\n"
     ]
    },
    {
     "data": {
      "application/vnd.jupyter.widget-view+json": {
       "model_id": "b401e85452494c91aa2f898eae4b9ea8",
       "version_major": 2,
       "version_minor": 0
      },
      "text/plain": [
       "HBox(children=(FloatProgress(value=0.0, max=24.0), HTML(value='')))"
      ]
     },
     "metadata": {},
     "output_type": "display_data"
    },
    {
     "name": "stdout",
     "output_type": "stream",
     "text": [
      "\n",
      "\tExample Sequences\n",
      "\t\t<start>ILKKIWK<end><pad><pad><pad><pad><pad><pad><pad><pad><pad><pad><pad><pad><pad><pad><pad><pad><pad><pad><pad><pad><pad><pad><pad><pad><pad><pad><pad>\n",
      "\t\t<start>fqrrsfmmrsphkkrhttlrhsis<end><pad><pad><pad><pad><pad><pad><pad><pad><pad><pad>\n",
      "\t\t<start>NLCAGLWRKKTREL<end><pad><pad><pad><pad><pad><pad><pad><pad><pad><pad><pad><pad><pad><pad><pad><pad><pad><pad><pad><pad>\n",
      "\t\t<start>KRFKKWYKRVKKVGRNIKKGLKKITDAIQGLIKA<end>\n",
      "\t\t<start>VDKKPYRPRPRPPRRIYNR<end><pad><pad><pad><pad><pad><pad><pad><pad><pad><pad><pad><pad><pad><pad><pad>\n",
      "\tNLL Train Active: 13.089900016784668\n",
      "\tNLL Test Active: 26.08769989013672\n",
      "\tNLL Train Inactive: 35.03531265258789\n",
      "\tNLL Test Inactive: 34.29160690307617\n",
      "\n",
      "Epoch 134\n"
     ]
    },
    {
     "data": {
      "application/vnd.jupyter.widget-view+json": {
       "model_id": "0fa163db490d4ee8bece5cc225f28b41",
       "version_major": 2,
       "version_minor": 0
      },
      "text/plain": [
       "HBox(children=(FloatProgress(value=0.0, max=24.0), HTML(value='')))"
      ]
     },
     "metadata": {},
     "output_type": "display_data"
    },
    {
     "name": "stdout",
     "output_type": "stream",
     "text": [
      "\n",
      "\tExample Sequences\n",
      "\t\t<start>KFKKFFKKLKKSVKRAVKKFGRKIPEDL<end>\n",
      "\t\t<start>AKKVFKRLEKLFSKIQNK<end><pad><pad><pad><pad><pad><pad><pad><pad><pad><pad>\n",
      "\t\t<start>KWKSFlKTFKSLKKTVlHTALKAISS<end><pad><pad>\n",
      "\t\t<start>SKPGRRPRPRPPRWPRRIYNR<end><pad><pad><pad><pad><pad><pad><pad>\n",
      "\t\t<start>AKRLKKLAKKIWKLWK<end><pad><pad><pad><pad><pad><pad><pad><pad><pad><pad><pad><pad>\n",
      "\tNLL Train Active: 13.071907997131348\n",
      "\tNLL Test Active: 26.087535858154297\n",
      "\tNLL Train Inactive: 35.03360366821289\n",
      "\tNLL Test Inactive: 34.29081344604492\n",
      "\n",
      "Epoch 135\n"
     ]
    },
    {
     "data": {
      "application/vnd.jupyter.widget-view+json": {
       "model_id": "50bbe3de12294b66b2ea3593b6c88260",
       "version_major": 2,
       "version_minor": 0
      },
      "text/plain": [
       "HBox(children=(FloatProgress(value=0.0, max=24.0), HTML(value='')))"
      ]
     },
     "metadata": {},
     "output_type": "display_data"
    },
    {
     "name": "stdout",
     "output_type": "stream",
     "text": [
      "\n",
      "\tExample Sequences\n",
      "\t\t<start>RWRWRWRWRWRWRK<end><pad><pad><pad><pad><pad><pad><pad><pad><pad><pad><pad>\n",
      "\t\t<start>RETHERGRRLQKIVDKRWQR<end><pad><pad><pad><pad><pad>\n",
      "\t\t<start>GIIKSIAKKLVNVLKKFG<end><pad><pad><pad><pad><pad><pad><pad>\n",
      "\t\t<start>ALWKRMLKKAKNAVAK<end><pad><pad><pad><pad><pad><pad><pad><pad><pad>\n",
      "\t\t<start>FKKIGKALKKVLKGAAKALGKAVLK<end>\n",
      "\tNLL Train Active: 13.053179740905762\n",
      "\tNLL Test Active: 26.085363388061523\n",
      "\tNLL Train Inactive: 35.03786849975586\n",
      "\tNLL Test Inactive: 34.29550552368164\n",
      "\n",
      "Epoch 136\n"
     ]
    },
    {
     "data": {
      "application/vnd.jupyter.widget-view+json": {
       "model_id": "ad208e1ce4934784a8be26b5eaddcbd3",
       "version_major": 2,
       "version_minor": 0
      },
      "text/plain": [
       "HBox(children=(FloatProgress(value=0.0, max=24.0), HTML(value='')))"
      ]
     },
     "metadata": {},
     "output_type": "display_data"
    },
    {
     "name": "stdout",
     "output_type": "stream",
     "text": [
      "\n",
      "\tExample Sequences\n",
      "\t\t<start>FFHHLFRGVKKAIPHTIRV<end><pad><pad><pad><pad><pad><pad><pad>\n",
      "\t\t<start>KRFKKFWFKVKKSVKKRLKSPKRKVR<end>\n",
      "\t\t<start>KWKPWWPWWPKWKK<end><pad><pad><pad><pad><pad><pad><pad><pad><pad><pad><pad><pad>\n",
      "\t\t<start>KLAHLLAHlRKL<end><pad><pad><pad><pad><pad><pad><pad><pad><pad><pad><pad><pad><pad><pad>\n",
      "\t\t<start>RRSKARIRVTKRPVRL<end><pad><pad><pad><pad><pad><pad><pad><pad><pad><pad>\n",
      "\tNLL Train Active: 13.03507137298584\n",
      "\tNLL Test Active: 26.08129119873047\n",
      "\tNLL Train Inactive: 35.044559478759766\n",
      "\tNLL Test Inactive: 34.297054290771484\n",
      "\n",
      "Epoch 137\n"
     ]
    },
    {
     "data": {
      "application/vnd.jupyter.widget-view+json": {
       "model_id": "b2704f30d5bf44ee97c1a4ce24e79e99",
       "version_major": 2,
       "version_minor": 0
      },
      "text/plain": [
       "HBox(children=(FloatProgress(value=0.0, max=24.0), HTML(value='')))"
      ]
     },
     "metadata": {},
     "output_type": "display_data"
    },
    {
     "name": "stdout",
     "output_type": "stream",
     "text": [
      "\n",
      "\tExample Sequences\n",
      "\t\t<start>KIKIPGMVKTAFKALKKL<end><pad><pad><pad><pad><pad><pad><pad><pad><pad><pad>\n",
      "\t\t<start>FFPWIKKFlRKLV<end><pad><pad><pad><pad><pad><pad><pad><pad><pad><pad><pad><pad><pad><pad><pad>\n",
      "\t\t<start>GLNALKKVFQGIHEAIHAAQKIAEKIAK<end>\n",
      "\t\t<start>GRPKPWWPWPKWPWRR<end><pad><pad><pad><pad><pad><pad><pad><pad><pad><pad><pad><pad>\n",
      "\t\t<start>RWRWRWKWRLL<end><pad><pad><pad><pad><pad><pad><pad><pad><pad><pad><pad><pad><pad><pad><pad><pad><pad>\n",
      "\tNLL Train Active: 13.017464637756348\n",
      "\tNLL Test Active: 26.07891845703125\n",
      "\tNLL Train Inactive: 35.04752731323242\n",
      "\tNLL Test Inactive: 34.30302047729492\n",
      "\n",
      "Epoch 138\n"
     ]
    },
    {
     "data": {
      "application/vnd.jupyter.widget-view+json": {
       "model_id": "abc51fdd14f84c0e85f3ab5a6fcd6156",
       "version_major": 2,
       "version_minor": 0
      },
      "text/plain": [
       "HBox(children=(FloatProgress(value=0.0, max=24.0), HTML(value='')))"
      ]
     },
     "metadata": {},
     "output_type": "display_data"
    },
    {
     "name": "stdout",
     "output_type": "stream",
     "text": [
      "\n",
      "\tExample Sequences\n",
      "\t\t<start>LLAHLWKALL<end><pad><pad><pad><pad><pad><pad><pad><pad><pad><pad><pad><pad><pad><pad><pad>\n",
      "\t\t<start>KLLKWLKKLLKK<end><pad><pad><pad><pad><pad><pad><pad><pad><pad><pad><pad><pad><pad>\n",
      "\t\t<start>AKKVFKRLEKLFSKIQNWK<end><pad><pad><pad><pad><pad><pad>\n",
      "\t\t<start>KTAWNVAKKFPWASPKKFPTHPAKK<end>\n",
      "\t\t<start>RRRWFWQRRFRRF<end><pad><pad><pad><pad><pad><pad><pad><pad><pad><pad><pad><pad>\n",
      "\tNLL Train Active: 12.99913215637207\n",
      "\tNLL Test Active: 26.078088760375977\n",
      "\tNLL Train Inactive: 35.04758834838867\n",
      "\tNLL Test Inactive: 34.30015563964844\n",
      "\n",
      "Epoch 139\n"
     ]
    },
    {
     "data": {
      "application/vnd.jupyter.widget-view+json": {
       "model_id": "e2d7b21a5aae4593bc14b4a74f66280d",
       "version_major": 2,
       "version_minor": 0
      },
      "text/plain": [
       "HBox(children=(FloatProgress(value=0.0, max=24.0), HTML(value='')))"
      ]
     },
     "metadata": {},
     "output_type": "display_data"
    },
    {
     "name": "stdout",
     "output_type": "stream",
     "text": [
      "\n",
      "\tExample Sequences\n",
      "\t\t<start>AKKVFKRLKKLF<end><pad><pad><pad><pad><pad><pad><pad><pad><pad><pad><pad><pad><pad><pad><pad><pad><pad><pad><pad><pad><pad><pad><pad><pad><pad><pad><pad><pad><pad><pad><pad><pad><pad><pad><pad><pad><pad><pad><pad><pad><pad><pad><pad><pad>\n",
      "\t\t<start>KWYKKWYKKW<end><pad><pad><pad><pad><pad><pad><pad><pad><pad><pad><pad><pad><pad><pad><pad><pad><pad><pad><pad><pad><pad><pad><pad><pad><pad><pad><pad><pad><pad><pad><pad><pad><pad><pad><pad><pad><pad><pad><pad><pad><pad><pad><pad><pad><pad><pad>\n",
      "\t\t<start>IRKIIRTaKkIAEKVKGIGETLKDYANVAKDEAALEEGANVSDAVKAVAKVAEKAL<end>\n",
      "\t\t<start>GMAVLGKIAKVAGHVIKLIGQS<end><pad><pad><pad><pad><pad><pad><pad><pad><pad><pad><pad><pad><pad><pad><pad><pad><pad><pad><pad><pad><pad><pad><pad><pad><pad><pad><pad><pad><pad><pad><pad><pad><pad><pad>\n",
      "\t\t<start>INLKALAALAKKIL<end><pad><pad><pad><pad><pad><pad><pad><pad><pad><pad><pad><pad><pad><pad><pad><pad><pad><pad><pad><pad><pad><pad><pad><pad><pad><pad><pad><pad><pad><pad><pad><pad><pad><pad><pad><pad><pad><pad><pad><pad><pad><pad>\n",
      "\tNLL Train Active: 12.98124885559082\n",
      "\tNLL Test Active: 26.071849822998047\n",
      "\tNLL Train Inactive: 35.04884719848633\n",
      "\tNLL Test Inactive: 34.29444885253906\n",
      "\n",
      "Epoch 140\n"
     ]
    },
    {
     "data": {
      "application/vnd.jupyter.widget-view+json": {
       "model_id": "02431a22e1664bc48d75749e80322437",
       "version_major": 2,
       "version_minor": 0
      },
      "text/plain": [
       "HBox(children=(FloatProgress(value=0.0, max=24.0), HTML(value='')))"
      ]
     },
     "metadata": {},
     "output_type": "display_data"
    },
    {
     "name": "stdout",
     "output_type": "stream",
     "text": [
      "\n",
      "\tExample Sequences\n",
      "\t\t<start>RAKIFKKIPHFVKKINNVFGK<end><pad><pad>\n",
      "\t\t<start>KWKLFKKIPKFLHLAKKF<end><pad><pad><pad><pad><pad>\n",
      "\t\t<start>KWKLFKKIPKFLHLAKKF<end><pad><pad><pad><pad><pad>\n",
      "\t\t<start>GfGklalaalkavGkalhtvlk<end><pad>\n",
      "\t\t<start>GIGSILGALAKGVAALGKELLNS<end>\n",
      "\tNLL Train Active: 12.96384048461914\n",
      "\tNLL Test Active: 26.07133674621582\n",
      "\tNLL Train Inactive: 35.049739837646484\n",
      "\tNLL Test Inactive: 34.2930908203125\n",
      "\n",
      "Epoch 141\n"
     ]
    },
    {
     "data": {
      "application/vnd.jupyter.widget-view+json": {
       "model_id": "96d790db32c44459b52199e7d79f6ee1",
       "version_major": 2,
       "version_minor": 0
      },
      "text/plain": [
       "HBox(children=(FloatProgress(value=0.0, max=24.0), HTML(value='')))"
      ]
     },
     "metadata": {},
     "output_type": "display_data"
    },
    {
     "name": "stdout",
     "output_type": "stream",
     "text": [
      "\n",
      "\tExample Sequences\n",
      "\t\t<start>KLFKKILKYLAGPAKFLSHL<end>\n",
      "\t\t<start>WWGRWpGRWWRVrR<end><pad><pad><pad><pad><pad><pad>\n",
      "\t\t<start>kklfkkfkkLfkKllkyL<end><pad><pad>\n",
      "\t\t<start>KKWKWKWKWKW<end><pad><pad><pad><pad><pad><pad><pad><pad><pad>\n",
      "\t\t<start>TRWKRWWRWF<end><pad><pad><pad><pad><pad><pad><pad><pad><pad><pad>\n",
      "\tNLL Train Active: 12.94604206085205\n",
      "\tNLL Test Active: 26.06722068786621\n",
      "\tNLL Train Inactive: 35.05426788330078\n",
      "\tNLL Test Inactive: 34.29876708984375\n",
      "\n",
      "Epoch 142\n"
     ]
    },
    {
     "data": {
      "application/vnd.jupyter.widget-view+json": {
       "model_id": "f291a1eb5d86453f8b66268c12075602",
       "version_major": 2,
       "version_minor": 0
      },
      "text/plain": [
       "HBox(children=(FloatProgress(value=0.0, max=24.0), HTML(value='')))"
      ]
     },
     "metadata": {},
     "output_type": "display_data"
    },
    {
     "name": "stdout",
     "output_type": "stream",
     "text": [
      "\n",
      "\tExample Sequences\n",
      "\t\t<start>RRWKFWGKWKKFWRRF<end><pad><pad><pad><pad><pad><pad><pad><pad><pad><pad><pad><pad><pad><pad><pad><pad><pad><pad><pad><pad><pad><pad><pad><pad>\n",
      "\t\t<start>KKLFKKILKLL<end><pad><pad><pad><pad><pad><pad><pad><pad><pad><pad><pad><pad><pad><pad><pad><pad><pad><pad><pad><pad><pad><pad><pad><pad><pad><pad><pad><pad><pad>\n",
      "\t\t<start>GIKKFLHSAKKFGKAFVGEIL<end><pad><pad><pad><pad><pad><pad><pad><pad><pad><pad><pad><pad><pad><pad><pad><pad><pad><pad><pad>\n",
      "\t\t<start>KIKIPSFFKKLAKPVGKKTKEGLHDAIQTIGGVAQAQKAV<end>\n",
      "\t\t<start>KWKLFKKIPKFLHLAKK<end><pad><pad><pad><pad><pad><pad><pad><pad><pad><pad><pad><pad><pad><pad><pad><pad><pad><pad><pad><pad><pad><pad><pad>\n",
      "\tNLL Train Active: 12.92797565460205\n",
      "\tNLL Test Active: 26.06427001953125\n",
      "\tNLL Train Inactive: 35.05841827392578\n",
      "\tNLL Test Inactive: 34.29749298095703\n",
      "\n",
      "Epoch 143\n"
     ]
    },
    {
     "data": {
      "application/vnd.jupyter.widget-view+json": {
       "model_id": "dfd4b39984af4f8bad417e7d3421361a",
       "version_major": 2,
       "version_minor": 0
      },
      "text/plain": [
       "HBox(children=(FloatProgress(value=0.0, max=24.0), HTML(value='')))"
      ]
     },
     "metadata": {},
     "output_type": "display_data"
    },
    {
     "name": "stdout",
     "output_type": "stream",
     "text": [
      "\n",
      "\tExample Sequences\n",
      "\t\t<start>RVKRVWPVIRRVVRRVRRWVRRVVRVVRRVVRRVVRVVRR<end>\n",
      "\t\t<start>KWKKIFKKV<end><pad><pad><pad><pad><pad><pad><pad><pad><pad><pad><pad><pad><pad><pad><pad><pad><pad><pad><pad><pad><pad><pad><pad><pad><pad><pad><pad><pad><pad><pad><pad>\n",
      "\t\t<start>KLIFSTTIPACERIL<end><pad><pad><pad><pad><pad><pad><pad><pad><pad><pad><pad><pad><pad><pad><pad><pad><pad><pad><pad><pad><pad><pad><pad><pad><pad>\n",
      "\t\t<start>rkwfwrr<end><pad><pad><pad><pad><pad><pad><pad><pad><pad><pad><pad><pad><pad><pad><pad><pad><pad><pad><pad><pad><pad><pad><pad><pad><pad><pad><pad><pad><pad><pad><pad><pad><pad>\n",
      "\t\t<start>FAFGAFLKKILPHVVKHI<end><pad><pad><pad><pad><pad><pad><pad><pad><pad><pad><pad><pad><pad><pad><pad><pad><pad><pad><pad><pad><pad><pad>\n",
      "\tNLL Train Active: 12.911182403564453\n",
      "\tNLL Test Active: 26.067251205444336\n",
      "\tNLL Train Inactive: 35.06491470336914\n",
      "\tNLL Test Inactive: 34.30092239379883\n",
      "\n",
      "Epoch 144\n"
     ]
    },
    {
     "data": {
      "application/vnd.jupyter.widget-view+json": {
       "model_id": "5f59ed38dbbd45bf931bbe8472c0421f",
       "version_major": 2,
       "version_minor": 0
      },
      "text/plain": [
       "HBox(children=(FloatProgress(value=0.0, max=24.0), HTML(value='')))"
      ]
     },
     "metadata": {},
     "output_type": "display_data"
    },
    {
     "name": "stdout",
     "output_type": "stream",
     "text": [
      "\n",
      "\tExample Sequences\n",
      "\t\t<start>KLSKTFSKIWESMKNFAK<end><pad><pad><pad><pad><pad>\n",
      "\t\t<start>GIGKFLHSAKKFGKAFVGGMINS<end>\n",
      "\t\t<start>KFfKYGhKKvLKKIISMYKAPRG<end>\n",
      "\t\t<start>LNLKGLLKVAAKLL<end><pad><pad><pad><pad><pad><pad><pad><pad><pad>\n",
      "\t\t<start>AKLLKWLLKWLK<end><pad><pad><pad><pad><pad><pad><pad><pad><pad><pad><pad>\n",
      "\tNLL Train Active: 12.893219947814941\n",
      "\tNLL Test Active: 26.06141471862793\n",
      "\tNLL Train Inactive: 35.065635681152344\n",
      "\tNLL Test Inactive: 34.29610061645508\n",
      "\n",
      "Epoch 145\n"
     ]
    },
    {
     "data": {
      "application/vnd.jupyter.widget-view+json": {
       "model_id": "4c83ba58be3c4061b53e57cd86b30823",
       "version_major": 2,
       "version_minor": 0
      },
      "text/plain": [
       "HBox(children=(FloatProgress(value=0.0, max=24.0), HTML(value='')))"
      ]
     },
     "metadata": {},
     "output_type": "display_data"
    },
    {
     "name": "stdout",
     "output_type": "stream",
     "text": [
      "\n",
      "\tExample Sequences\n",
      "\t\t<start>FLGVVFKLASKVFPAVFGKV<end>\n",
      "\t\t<start>WKIFKKASKKLKKVFKG<end><pad><pad><pad>\n",
      "\t\t<start>KWKLFKKIPKFLHLAKKF<end><pad><pad>\n",
      "\t\t<start>ALWKTLLKKVL<end><pad><pad><pad><pad><pad><pad><pad><pad><pad>\n",
      "\t\t<start>VRRVRAVVKLVRR<end><pad><pad><pad><pad><pad><pad><pad>\n",
      "\tNLL Train Active: 12.875929832458496\n",
      "\tNLL Test Active: 26.06206703186035\n",
      "\tNLL Train Inactive: 35.06489562988281\n",
      "\tNLL Test Inactive: 34.29536437988281\n",
      "\n",
      "Epoch 146\n"
     ]
    },
    {
     "data": {
      "application/vnd.jupyter.widget-view+json": {
       "model_id": "cab6865583774d079d60072cb1f6d498",
       "version_major": 2,
       "version_minor": 0
      },
      "text/plain": [
       "HBox(children=(FloatProgress(value=0.0, max=24.0), HTML(value='')))"
      ]
     },
     "metadata": {},
     "output_type": "display_data"
    },
    {
     "name": "stdout",
     "output_type": "stream",
     "text": [
      "\n",
      "\tExample Sequences\n",
      "\t\t<start>KFFKKLKNSVKKRAKKFFKKPRVIGVSIPF<end><pad><pad><pad><pad><pad><pad><pad><pad><pad><pad><pad><pad><pad>\n",
      "\t\t<start>WRWRPWWPWRRR<end><pad><pad><pad><pad><pad><pad><pad><pad><pad><pad><pad><pad><pad><pad><pad><pad><pad><pad><pad><pad><pad><pad><pad><pad><pad><pad><pad><pad><pad><pad><pad>\n",
      "\t\t<start>KWKSFLKTFKSAKKTVLHTALKAISS<end><pad><pad><pad><pad><pad><pad><pad><pad><pad><pad><pad><pad><pad><pad><pad><pad><pad>\n",
      "\t\t<start>KRRLAAWRHAFRAYRW<end><pad><pad><pad><pad><pad><pad><pad><pad><pad><pad><pad><pad><pad><pad><pad><pad><pad><pad><pad><pad><pad><pad><pad><pad><pad><pad><pad>\n",
      "\t\t<start>GLWKKIKEKGRNIRDGIIKGASTAGVAGAAATALGEAVAAALT<end>\n",
      "\tNLL Train Active: 12.858465194702148\n",
      "\tNLL Test Active: 26.057241439819336\n",
      "\tNLL Train Inactive: 35.07552719116211\n",
      "\tNLL Test Inactive: 34.30828857421875\n",
      "\n",
      "Epoch 147\n"
     ]
    },
    {
     "data": {
      "application/vnd.jupyter.widget-view+json": {
       "model_id": "54fd41eab06b483f870d8369c201b6d5",
       "version_major": 2,
       "version_minor": 0
      },
      "text/plain": [
       "HBox(children=(FloatProgress(value=0.0, max=24.0), HTML(value='')))"
      ]
     },
     "metadata": {},
     "output_type": "display_data"
    },
    {
     "name": "stdout",
     "output_type": "stream",
     "text": [
      "\n",
      "\tExample Sequences\n",
      "\t\t<start>KWFKKIPKFLHSAKKF<end><pad><pad><pad><pad><pad><pad><pad><pad><pad>\n",
      "\t\t<start>LRKLRKKLRKLWKRLWKRLKKLL<end><pad><pad>\n",
      "\t\t<start>KWKLFKKIPKFLH<end><pad><pad><pad><pad><pad><pad><pad><pad><pad><pad><pad><pad>\n",
      "\t\t<start>RWKIFKKGGKAAGKLAAKLGANVAA<end>\n",
      "\t\t<start>SRWRWWRWWRWRA<end><pad><pad><pad><pad><pad><pad><pad><pad><pad><pad><pad><pad>\n",
      "\tNLL Train Active: 12.842079162597656\n",
      "\tNLL Test Active: 26.057395935058594\n",
      "\tNLL Train Inactive: 35.08500671386719\n",
      "\tNLL Test Inactive: 34.31351852416992\n",
      "\n",
      "Epoch 148\n"
     ]
    },
    {
     "data": {
      "application/vnd.jupyter.widget-view+json": {
       "model_id": "3433e24f062f4827958190c67c8cbaa9",
       "version_major": 2,
       "version_minor": 0
      },
      "text/plain": [
       "HBox(children=(FloatProgress(value=0.0, max=24.0), HTML(value='')))"
      ]
     },
     "metadata": {},
     "output_type": "display_data"
    },
    {
     "name": "stdout",
     "output_type": "stream",
     "text": [
      "\n",
      "\tExample Sequences\n",
      "\t\t<start>GFKDLLKGAAKAVGKLL<end><pad><pad><pad><pad>\n",
      "\t\t<start>HRHRHRHRTPSRFHFSGRMIL<end>\n",
      "\t\t<start>FVKLKKILNWIKRKR<end><pad><pad><pad><pad><pad><pad>\n",
      "\t\t<start>FLHHIIGALKKLF<end><pad><pad><pad><pad><pad><pad><pad><pad>\n",
      "\t\t<start>DWHGLLSGLYR<end><pad><pad><pad><pad><pad><pad><pad><pad><pad><pad>\n",
      "\tNLL Train Active: 12.825139999389648\n",
      "\tNLL Test Active: 26.05482292175293\n",
      "\tNLL Train Inactive: 35.08853530883789\n",
      "\tNLL Test Inactive: 34.315330505371094\n",
      "\n",
      "Epoch 149\n"
     ]
    },
    {
     "data": {
      "application/vnd.jupyter.widget-view+json": {
       "model_id": "8585a7c5613c4100808c55ecb845b0fd",
       "version_major": 2,
       "version_minor": 0
      },
      "text/plain": [
       "HBox(children=(FloatProgress(value=0.0, max=24.0), HTML(value='')))"
      ]
     },
     "metadata": {},
     "output_type": "display_data"
    },
    {
     "name": "stdout",
     "output_type": "stream",
     "text": [
      "\n",
      "\tExample Sequences\n",
      "\t\t<start>ILPWKKPKPKYR<end><pad><pad><pad><pad><pad><pad><pad><pad><pad><pad><pad><pad><pad><pad>\n",
      "\t\t<start>GIRWILKHYTKS<end><pad><pad><pad><pad><pad><pad><pad><pad><pad><pad><pad><pad><pad><pad>\n",
      "\t\t<start>GRFKRFRKKAKKLFKKLSPVIPLLHL<end>\n",
      "\t\t<start>GRFKRFRKKFKKLVKKASKEL<end><pad><pad><pad><pad><pad>\n",
      "\t\t<start>VRRFKFFFRFLKKV<end><pad><pad><pad><pad><pad><pad><pad><pad><pad><pad><pad><pad>\n",
      "\tNLL Train Active: 12.808218002319336\n",
      "\tNLL Test Active: 26.05128288269043\n",
      "\tNLL Train Inactive: 35.0844612121582\n",
      "\tNLL Test Inactive: 34.30781173706055\n",
      "\n",
      "Epoch 150\n"
     ]
    },
    {
     "data": {
      "application/vnd.jupyter.widget-view+json": {
       "model_id": "4438b30a5cc248bbbd4c93c659fed2a0",
       "version_major": 2,
       "version_minor": 0
      },
      "text/plain": [
       "HBox(children=(FloatProgress(value=0.0, max=24.0), HTML(value='')))"
      ]
     },
     "metadata": {},
     "output_type": "display_data"
    },
    {
     "name": "stdout",
     "output_type": "stream",
     "text": [
      "\n",
      "\tExample Sequences\n",
      "\t\t<start>GFKKFLKKAKFIFKK<end><pad><pad><pad><pad><pad><pad><pad><pad><pad><pad><pad><pad><pad><pad><pad><pad><pad><pad><pad><pad><pad><pad><pad>\n",
      "\t\t<start>GIGKLSWKGVKGFKEKVGNSLKKVLSKIEVAGQ<end><pad><pad><pad><pad><pad>\n",
      "\t\t<start>INLKALAALAKKIL<end><pad><pad><pad><pad><pad><pad><pad><pad><pad><pad><pad><pad><pad><pad><pad><pad><pad><pad><pad><pad><pad><pad><pad><pad>\n",
      "\t\t<start>KWKLFKKIKLLK<end><pad><pad><pad><pad><pad><pad><pad><pad><pad><pad><pad><pad><pad><pad><pad><pad><pad><pad><pad><pad><pad><pad><pad><pad><pad><pad>\n",
      "\t\t<start>RAKIAKKAKKGFKKARKKLAKPFKVIAVAGYKAQWRKK<end>\n",
      "\tNLL Train Active: 12.791363716125488\n",
      "\tNLL Test Active: 26.04783821105957\n",
      "\tNLL Train Inactive: 35.08965301513672\n",
      "\tNLL Test Inactive: 34.307823181152344\n",
      "\n",
      "Epoch 151\n"
     ]
    },
    {
     "data": {
      "application/vnd.jupyter.widget-view+json": {
       "model_id": "651c9fd12f124dc8a1aa6fb9e9dc6b4e",
       "version_major": 2,
       "version_minor": 0
      },
      "text/plain": [
       "HBox(children=(FloatProgress(value=0.0, max=24.0), HTML(value='')))"
      ]
     },
     "metadata": {},
     "output_type": "display_data"
    },
    {
     "name": "stdout",
     "output_type": "stream",
     "text": [
      "\n",
      "\tExample Sequences\n",
      "\t\t<start>KWKLFKKIPKFLHLAKKF<end><pad><pad><pad><pad><pad><pad>\n",
      "\t\t<start>KWKKWLKKLLK<end><pad><pad><pad><pad><pad><pad><pad><pad><pad><pad><pad><pad><pad>\n",
      "\t\t<start>GKWKLFKKIVPVLKK<end><pad><pad><pad><pad><pad><pad><pad><pad><pad>\n",
      "\t\t<start>GRFRRLRKKTRKRLKKIGKVLKWI<end>\n",
      "\t\t<start>AWRRTVAKVRCVA<end><pad><pad><pad><pad><pad><pad><pad><pad><pad><pad><pad>\n",
      "\tNLL Train Active: 12.774283409118652\n",
      "\tNLL Test Active: 26.0461368560791\n",
      "\tNLL Train Inactive: 35.096710205078125\n",
      "\tNLL Test Inactive: 34.310970306396484\n",
      "\n",
      "Epoch 152\n"
     ]
    },
    {
     "data": {
      "application/vnd.jupyter.widget-view+json": {
       "model_id": "585bc109ec8e40869292bcc75c320bde",
       "version_major": 2,
       "version_minor": 0
      },
      "text/plain": [
       "HBox(children=(FloatProgress(value=0.0, max=24.0), HTML(value='')))"
      ]
     },
     "metadata": {},
     "output_type": "display_data"
    },
    {
     "name": "stdout",
     "output_type": "stream",
     "text": [
      "\n",
      "\tExample Sequences\n",
      "\t\t<start>GSLLLLILRLLAKKRR<end><pad><pad><pad><pad><pad><pad>\n",
      "\t\t<start>FFHHIFRGIVHVGKKIHRLVTG<end>\n",
      "\t\t<start>GIRRILKKIMRQLKPR<end><pad><pad><pad><pad><pad><pad>\n",
      "\t\t<start>LKWLKWKK<end><pad><pad><pad><pad><pad><pad><pad><pad><pad><pad><pad><pad><pad><pad>\n",
      "\t\t<start>KkllkWkkkGaff<end><pad><pad><pad><pad><pad><pad><pad><pad><pad>\n",
      "\tNLL Train Active: 12.758216857910156\n",
      "\tNLL Test Active: 26.043119430541992\n",
      "\tNLL Train Inactive: 35.09825897216797\n",
      "\tNLL Test Inactive: 34.31279754638672\n",
      "\n",
      "Epoch 153\n"
     ]
    },
    {
     "data": {
      "application/vnd.jupyter.widget-view+json": {
       "model_id": "f5d46531a7b84e789882e3c522397b38",
       "version_major": 2,
       "version_minor": 0
      },
      "text/plain": [
       "HBox(children=(FloatProgress(value=0.0, max=24.0), HTML(value='')))"
      ]
     },
     "metadata": {},
     "output_type": "display_data"
    },
    {
     "name": "stdout",
     "output_type": "stream",
     "text": [
      "\n",
      "\tExample Sequences\n",
      "\t\t<start>RLRIGVIVQKCRDFIGKV<end><pad><pad><pad><pad><pad><pad><pad><pad><pad><pad><pad><pad><pad>\n",
      "\t\t<start>FKLFKkILKYL<end><pad><pad><pad><pad><pad><pad><pad><pad><pad><pad><pad><pad><pad><pad><pad><pad><pad><pad><pad><pad>\n",
      "\t\t<start>KKKKKKKKGIGKFLHAAKKFAKAFVAEKFGK<end>\n",
      "\t\t<start>VDKGSYLLPIRWRPPWRRFG<end><pad><pad><pad><pad><pad><pad><pad><pad><pad><pad><pad>\n",
      "\t\t<start>KLIKAFKKASK<end><pad><pad><pad><pad><pad><pad><pad><pad><pad><pad><pad><pad><pad><pad><pad><pad><pad><pad><pad><pad>\n",
      "\tNLL Train Active: 12.74133586883545\n",
      "\tNLL Test Active: 26.04192543029785\n",
      "\tNLL Train Inactive: 35.096561431884766\n",
      "\tNLL Test Inactive: 34.31258773803711\n",
      "\n",
      "Epoch 154\n"
     ]
    },
    {
     "data": {
      "application/vnd.jupyter.widget-view+json": {
       "model_id": "0cf817a96bd9428dafb86e744f87e5e3",
       "version_major": 2,
       "version_minor": 0
      },
      "text/plain": [
       "HBox(children=(FloatProgress(value=0.0, max=24.0), HTML(value='')))"
      ]
     },
     "metadata": {},
     "output_type": "display_data"
    },
    {
     "name": "stdout",
     "output_type": "stream",
     "text": [
      "\n",
      "\tExample Sequences\n",
      "\t\t<start>RLFKCIRRFWCRIRR<end><pad><pad><pad><pad><pad><pad><pad><pad><pad><pad><pad><pad><pad>\n",
      "\t\t<start>GRFRRLRKKTRKRLKKIFKRPPRTINQY<end>\n",
      "\t\t<start>ILGKLWEGVKSIF<end><pad><pad><pad><pad><pad><pad><pad><pad><pad><pad><pad><pad><pad><pad><pad>\n",
      "\t\t<start>GKlWLKKLlKLK<end><pad><pad><pad><pad><pad><pad><pad><pad><pad><pad><pad><pad><pad><pad><pad><pad>\n",
      "\t\t<start>RFRRLRKKIKKLT<end><pad><pad><pad><pad><pad><pad><pad><pad><pad><pad><pad><pad><pad><pad><pad>\n",
      "\tNLL Train Active: 12.725112915039062\n",
      "\tNLL Test Active: 26.040815353393555\n",
      "\tNLL Train Inactive: 35.10463333129883\n",
      "\tNLL Test Inactive: 34.313114166259766\n",
      "\n",
      "Epoch 155\n"
     ]
    },
    {
     "data": {
      "application/vnd.jupyter.widget-view+json": {
       "model_id": "b61e8d3077eb4dd284fe770e3ebbd80c",
       "version_major": 2,
       "version_minor": 0
      },
      "text/plain": [
       "HBox(children=(FloatProgress(value=0.0, max=24.0), HTML(value='')))"
      ]
     },
     "metadata": {},
     "output_type": "display_data"
    },
    {
     "name": "stdout",
     "output_type": "stream",
     "text": [
      "\n",
      "\tExample Sequences\n",
      "\t\t<start>GLLKKIGKKIERVGQHTDAAIAVAGSGAAVLG<end>\n",
      "\t\t<start>GRFRRLRKKTRLRLRKI<end><pad><pad><pad><pad><pad><pad><pad><pad><pad><pad><pad><pad><pad><pad><pad>\n",
      "\t\t<start>KTKVFDLKIGLKNLSKL<end><pad><pad><pad><pad><pad><pad><pad><pad><pad><pad><pad><pad><pad><pad><pad>\n",
      "\t\t<start>ALWKTLLKKVLKA<end><pad><pad><pad><pad><pad><pad><pad><pad><pad><pad><pad><pad><pad><pad><pad><pad><pad><pad><pad>\n",
      "\t\t<start>RWKIFKKASKKLlK<end><pad><pad><pad><pad><pad><pad><pad><pad><pad><pad><pad><pad><pad><pad><pad><pad><pad><pad>\n",
      "\tNLL Train Active: 12.708470344543457\n",
      "\tNLL Test Active: 26.0399112701416\n",
      "\tNLL Train Inactive: 35.108951568603516\n",
      "\tNLL Test Inactive: 34.3137092590332\n",
      "\n",
      "Epoch 156\n"
     ]
    },
    {
     "data": {
      "application/vnd.jupyter.widget-view+json": {
       "model_id": "125b1325b87a4c5792b796960d7be0ee",
       "version_major": 2,
       "version_minor": 0
      },
      "text/plain": [
       "HBox(children=(FloatProgress(value=0.0, max=24.0), HTML(value='')))"
      ]
     },
     "metadata": {},
     "output_type": "display_data"
    },
    {
     "name": "stdout",
     "output_type": "stream",
     "text": [
      "\n",
      "\tExample Sequences\n",
      "\t\t<start>KWKSFLKTFKKVvkTVLHTlLKAISS<end><pad><pad><pad><pad><pad><pad>\n",
      "\t\t<start>FFRRFFRGIFRGIKSKLKKL<end><pad><pad><pad><pad><pad><pad><pad><pad><pad><pad><pad><pad>\n",
      "\t\t<start>AINLLYRYGRKIAR<end><pad><pad><pad><pad><pad><pad><pad><pad><pad><pad><pad><pad><pad><pad><pad><pad><pad><pad>\n",
      "\t\t<start>FLGGLIRGIIGVAKTIHRLV<end><pad><pad><pad><pad><pad><pad><pad><pad><pad><pad><pad><pad>\n",
      "\t\t<start>RGEKKRKDKAKREKELTDNNAKEKDNAAAMAA<end>\n",
      "\tNLL Train Active: 12.692290306091309\n",
      "\tNLL Test Active: 26.03743553161621\n",
      "\tNLL Train Inactive: 35.11716079711914\n",
      "\tNLL Test Inactive: 34.318199157714844\n",
      "\n",
      "Epoch 157\n"
     ]
    },
    {
     "data": {
      "application/vnd.jupyter.widget-view+json": {
       "model_id": "102c4b5ab7fe47cbb8e79450159a0e0d",
       "version_major": 2,
       "version_minor": 0
      },
      "text/plain": [
       "HBox(children=(FloatProgress(value=0.0, max=24.0), HTML(value='')))"
      ]
     },
     "metadata": {},
     "output_type": "display_data"
    },
    {
     "name": "stdout",
     "output_type": "stream",
     "text": [
      "\n",
      "\tExample Sequences\n",
      "\t\t<start>KWKKLLLKLKKPLLKK<end><pad><pad><pad><pad><pad><pad>\n",
      "\t\t<start>INWKKIRKRIAS<end><pad><pad><pad><pad><pad><pad><pad><pad><pad><pad>\n",
      "\t\t<start>LRRVWRRLVKLWARVLRK<end><pad><pad><pad><pad>\n",
      "\t\t<start>KGIKQLLKAWQKYVNRVLDFFL<end>\n",
      "\t\t<start>VIPLIGRLLSSIR<end><pad><pad><pad><pad><pad><pad><pad><pad><pad>\n",
      "\tNLL Train Active: 12.676037788391113\n",
      "\tNLL Test Active: 26.033340454101562\n",
      "\tNLL Train Inactive: 35.11665344238281\n",
      "\tNLL Test Inactive: 34.315425872802734\n",
      "\n",
      "Epoch 158\n"
     ]
    },
    {
     "data": {
      "application/vnd.jupyter.widget-view+json": {
       "model_id": "b4e8a5d2a8234f4cb9825be382c4f264",
       "version_major": 2,
       "version_minor": 0
      },
      "text/plain": [
       "HBox(children=(FloatProgress(value=0.0, max=24.0), HTML(value='')))"
      ]
     },
     "metadata": {},
     "output_type": "display_data"
    },
    {
     "name": "stdout",
     "output_type": "stream",
     "text": [
      "\n",
      "\tExample Sequences\n",
      "\t\t<start>AIHKAKTKLTRAGEKIKSKIKNLVKKES<end>\n",
      "\t\t<start>AKVFKRLEKLFSKIQN<end><pad><pad><pad><pad><pad><pad><pad><pad><pad><pad><pad><pad>\n",
      "\t\t<start>KWKLFKKIPKFLHLLKKF<end><pad><pad><pad><pad><pad><pad><pad><pad><pad><pad>\n",
      "\t\t<start>ILRKMWRKIKKLF<end><pad><pad><pad><pad><pad><pad><pad><pad><pad><pad><pad><pad><pad><pad><pad>\n",
      "\t\t<start>GFLKKIAKIAGKIAGSLI<end><pad><pad><pad><pad><pad><pad><pad><pad><pad><pad>\n",
      "\tNLL Train Active: 12.660353660583496\n",
      "\tNLL Test Active: 26.02970314025879\n",
      "\tNLL Train Inactive: 35.12077331542969\n",
      "\tNLL Test Inactive: 34.319889068603516\n",
      "\n",
      "Epoch 159\n"
     ]
    },
    {
     "data": {
      "application/vnd.jupyter.widget-view+json": {
       "model_id": "486c1433e32748c8b388f33c26d93837",
       "version_major": 2,
       "version_minor": 0
      },
      "text/plain": [
       "HBox(children=(FloatProgress(value=0.0, max=24.0), HTML(value='')))"
      ]
     },
     "metadata": {},
     "output_type": "display_data"
    },
    {
     "name": "stdout",
     "output_type": "stream",
     "text": [
      "\n",
      "\tExample Sequences\n",
      "\t\t<start>VRRPPYLPWPIRPPRWPWPWRR<end><pad><pad><pad><pad><pad>\n",
      "\t\t<start>RPKKKPWWPWRR<end><pad><pad><pad><pad><pad><pad><pad><pad><pad><pad><pad><pad><pad><pad><pad>\n",
      "\t\t<start>FFGKLKELLKNVAKAAGKALHTALKKI<end>\n",
      "\t\t<start>RWKIFKKIEKVGRNVRDGIIKA<end><pad><pad><pad><pad><pad>\n",
      "\t\t<start>KWLKKWKKWWKK<end><pad><pad><pad><pad><pad><pad><pad><pad><pad><pad><pad><pad><pad><pad><pad>\n",
      "\tNLL Train Active: 12.643927574157715\n",
      "\tNLL Test Active: 26.02872085571289\n",
      "\tNLL Train Inactive: 35.124778747558594\n",
      "\tNLL Test Inactive: 34.32085037231445\n",
      "\n",
      "Epoch 160\n"
     ]
    },
    {
     "data": {
      "application/vnd.jupyter.widget-view+json": {
       "model_id": "f57377aa637b44ef8702e4f122b7c278",
       "version_major": 2,
       "version_minor": 0
      },
      "text/plain": [
       "HBox(children=(FloatProgress(value=0.0, max=24.0), HTML(value='')))"
      ]
     },
     "metadata": {},
     "output_type": "display_data"
    },
    {
     "name": "stdout",
     "output_type": "stream",
     "text": [
      "\n",
      "\tExample Sequences\n",
      "\t\t<start>GRFRRLRRKTRKRLGEAIPSVLKLVKRKA<end>\n",
      "\t\t<start>RRWWCA<end><pad><pad><pad><pad><pad><pad><pad><pad><pad><pad><pad><pad><pad><pad><pad><pad><pad><pad><pad><pad><pad><pad><pad>\n",
      "\t\t<start>KWKSFlkKILSSGK<end><pad><pad><pad><pad><pad><pad><pad><pad><pad><pad><pad><pad><pad><pad><pad>\n",
      "\t\t<start>KRFIKWLKWW<end><pad><pad><pad><pad><pad><pad><pad><pad><pad><pad><pad><pad><pad><pad><pad><pad><pad><pad><pad>\n",
      "\t\t<start>FRRFRWPWRRRWRF<end><pad><pad><pad><pad><pad><pad><pad><pad><pad><pad><pad><pad><pad><pad><pad>\n",
      "\tNLL Train Active: 12.628010749816895\n",
      "\tNLL Test Active: 26.02447509765625\n",
      "\tNLL Train Inactive: 35.1247673034668\n",
      "\tNLL Test Inactive: 34.322235107421875\n",
      "\n",
      "Epoch 161\n"
     ]
    },
    {
     "data": {
      "application/vnd.jupyter.widget-view+json": {
       "model_id": "2a2043da21ba4af1bc497d337d5d129d",
       "version_major": 2,
       "version_minor": 0
      },
      "text/plain": [
       "HBox(children=(FloatProgress(value=0.0, max=24.0), HTML(value='')))"
      ]
     },
     "metadata": {},
     "output_type": "display_data"
    },
    {
     "name": "stdout",
     "output_type": "stream",
     "text": [
      "\n",
      "\tExample Sequences\n",
      "\t\t<start>KRRLAKIVAW<end><pad><pad><pad><pad><pad><pad><pad><pad><pad><pad><pad><pad><pad><pad><pad><pad><pad><pad><pad><pad><pad><pad><pad><pad><pad><pad><pad><pad><pad><pad><pad><pad><pad><pad><pad><pad><pad><pad><pad><pad>\n",
      "\t\t<start>KWKSFlKTFKSlKKTVKKKLTDAAKEYLANVAPKKFVTKVFPVGKKVKAV<end>\n",
      "\t\t<start>KWKSFlKTFKSlKKTlKllAKKVLK<end><pad><pad><pad><pad><pad><pad><pad><pad><pad><pad><pad><pad><pad><pad><pad><pad><pad><pad><pad><pad><pad><pad><pad><pad><pad>\n",
      "\t\t<start>GWGmFFKKAAKKGGKLMVGPAIHMLK<end><pad><pad><pad><pad><pad><pad><pad><pad><pad><pad><pad><pad><pad><pad><pad><pad><pad><pad><pad><pad><pad><pad><pad><pad>\n",
      "\t\t<start>HFLGRVTRWIVHVGKDIRGGHVHGIHNANCYK<end><pad><pad><pad><pad><pad><pad><pad><pad><pad><pad><pad><pad><pad><pad><pad><pad><pad><pad>\n",
      "\tNLL Train Active: 12.612116813659668\n",
      "\tNLL Test Active: 26.026098251342773\n",
      "\tNLL Train Inactive: 35.128868103027344\n",
      "\tNLL Test Inactive: 34.32072067260742\n",
      "\n",
      "Epoch 162\n"
     ]
    },
    {
     "data": {
      "application/vnd.jupyter.widget-view+json": {
       "model_id": "93bb15c8460943a998d7594807b7a29f",
       "version_major": 2,
       "version_minor": 0
      },
      "text/plain": [
       "HBox(children=(FloatProgress(value=0.0, max=24.0), HTML(value='')))"
      ]
     },
     "metadata": {},
     "output_type": "display_data"
    },
    {
     "name": "stdout",
     "output_type": "stream",
     "text": [
      "\n",
      "\tExample Sequences\n",
      "\t\t<start>ANLARIILRAFRRNL<end><pad><pad><pad><pad><pad><pad><pad><pad><pad><pad><pad><pad><pad><pad><pad><pad><pad><pad><pad>\n",
      "\t\t<start>AKKQWGKIKERVQKIGDKLKAAANAVDDFAK<end><pad><pad><pad>\n",
      "\t\t<start>KKKKAVFKVKF<end><pad><pad><pad><pad><pad><pad><pad><pad><pad><pad><pad><pad><pad><pad><pad><pad><pad><pad><pad><pad><pad><pad><pad>\n",
      "\t\t<start>IHHIHHIIHHIHHIIHHIHHIIHH<end><pad><pad><pad><pad><pad><pad><pad><pad><pad><pad>\n",
      "\t\t<start>KRFKKFFKKLKNSVKKRAKKFFKKPRVIGVSIPF<end>\n",
      "\tNLL Train Active: 12.595973014831543\n",
      "\tNLL Test Active: 26.021034240722656\n",
      "\tNLL Train Inactive: 35.13410568237305\n",
      "\tNLL Test Inactive: 34.32223129272461\n",
      "\n",
      "Epoch 163\n"
     ]
    },
    {
     "data": {
      "application/vnd.jupyter.widget-view+json": {
       "model_id": "2d11c23bb605464ca917c321131a8bc2",
       "version_major": 2,
       "version_minor": 0
      },
      "text/plain": [
       "HBox(children=(FloatProgress(value=0.0, max=24.0), HTML(value='')))"
      ]
     },
     "metadata": {},
     "output_type": "display_data"
    },
    {
     "name": "stdout",
     "output_type": "stream",
     "text": [
      "\n",
      "\tExample Sequences\n",
      "\t\t<start>KRWKIFKKIEKVGRNVRDGIIKAGPAVAVVGQAATVVK<end>\n",
      "\t\t<start>ILGKIWKGVKIIA<end><pad><pad><pad><pad><pad><pad><pad><pad><pad><pad><pad><pad><pad><pad><pad><pad><pad><pad><pad><pad><pad><pad><pad><pad><pad>\n",
      "\t\t<start>RWKIFKKIEKVGRNIRDGIIKAGPAVAVVKALGKALAL<end>\n",
      "\t\t<start>WFSKFlkKIKKLL<end><pad><pad><pad><pad><pad><pad><pad><pad><pad><pad><pad><pad><pad><pad><pad><pad><pad><pad><pad><pad><pad><pad><pad><pad><pad>\n",
      "\t\t<start>KWKLFKKIGKFFKGIVKK<end><pad><pad><pad><pad><pad><pad><pad><pad><pad><pad><pad><pad><pad><pad><pad><pad><pad><pad><pad><pad>\n",
      "\tNLL Train Active: 12.580999374389648\n",
      "\tNLL Test Active: 26.024160385131836\n",
      "\tNLL Train Inactive: 35.13724136352539\n",
      "\tNLL Test Inactive: 34.32453155517578\n",
      "\n",
      "Epoch 164\n"
     ]
    },
    {
     "data": {
      "application/vnd.jupyter.widget-view+json": {
       "model_id": "bbd83e712338453bad2729a0f6756edf",
       "version_major": 2,
       "version_minor": 0
      },
      "text/plain": [
       "HBox(children=(FloatProgress(value=0.0, max=24.0), HTML(value='')))"
      ]
     },
     "metadata": {},
     "output_type": "display_data"
    },
    {
     "name": "stdout",
     "output_type": "stream",
     "text": [
      "\n",
      "\tExample Sequences\n",
      "\t\t<start>KWKWKWKWKWKWK<end><pad><pad><pad><pad><pad><pad><pad><pad>\n",
      "\t\t<start>KKKKKKIIKKIIKK<end><pad><pad><pad><pad><pad><pad><pad>\n",
      "\t\t<start>GRPNMPVNKPLPRPRPPHPRL<end>\n",
      "\t\t<start>DKPPEYLPRPRPPRRIYSRI<end><pad>\n",
      "\t\t<start>RRWYRWRWRWR<end><pad><pad><pad><pad><pad><pad><pad><pad><pad><pad>\n",
      "\tNLL Train Active: 12.564850807189941\n",
      "\tNLL Test Active: 26.018461227416992\n",
      "\tNLL Train Inactive: 35.14341354370117\n",
      "\tNLL Test Inactive: 34.330440521240234\n",
      "\n",
      "Epoch 165\n"
     ]
    },
    {
     "data": {
      "application/vnd.jupyter.widget-view+json": {
       "model_id": "97610d7dc0ff4bca8eab93cf0ae080ee",
       "version_major": 2,
       "version_minor": 0
      },
      "text/plain": [
       "HBox(children=(FloatProgress(value=0.0, max=24.0), HTML(value='')))"
      ]
     },
     "metadata": {},
     "output_type": "display_data"
    },
    {
     "name": "stdout",
     "output_type": "stream",
     "text": [
      "\n",
      "\tExample Sequences\n",
      "\t\t<start>GWGSFFKKAAKAAGKAALGAAEKV<end><pad><pad>\n",
      "\t\t<start>LNLKKIGQKIKNFFQKI<end><pad><pad><pad><pad><pad><pad><pad><pad><pad>\n",
      "\t\t<start>WGRCRGDSIQWCQC<end><pad><pad><pad><pad><pad><pad><pad><pad><pad><pad><pad><pad>\n",
      "\t\t<start>KLLKWIKKLLK<end><pad><pad><pad><pad><pad><pad><pad><pad><pad><pad><pad><pad><pad><pad><pad>\n",
      "\t\t<start>KWKSFLKTFKSLKKTVLHTALKAISS<end>\n",
      "\tNLL Train Active: 12.549176216125488\n",
      "\tNLL Test Active: 26.014755249023438\n",
      "\tNLL Train Inactive: 35.143028259277344\n",
      "\tNLL Test Inactive: 34.328453063964844\n",
      "\n",
      "Epoch 166\n"
     ]
    },
    {
     "data": {
      "application/vnd.jupyter.widget-view+json": {
       "model_id": "8b4599c9081c4137bcf1fefac2859877",
       "version_major": 2,
       "version_minor": 0
      },
      "text/plain": [
       "HBox(children=(FloatProgress(value=0.0, max=24.0), HTML(value='')))"
      ]
     },
     "metadata": {},
     "output_type": "display_data"
    },
    {
     "name": "stdout",
     "output_type": "stream",
     "text": [
      "\n",
      "\tExample Sequences\n",
      "\t\t<start>KWFKKIEKVGRRVGDAIIEVGKKA<end>\n",
      "\t\t<start>SRAKRFPKWYKKARRWHWRRW<end><pad><pad><pad>\n",
      "\t\t<start>GVFDIIKGAGKDLIGGLGSVAKAI<end>\n",
      "\t\t<start>RPAEHA<end><pad><pad><pad><pad><pad><pad><pad><pad><pad><pad><pad><pad><pad><pad><pad><pad><pad><pad>\n",
      "\t\t<start>kklkkawkkwkkvipkils<end><pad><pad><pad><pad><pad>\n",
      "\tNLL Train Active: 12.533814430236816\n",
      "\tNLL Test Active: 26.01435661315918\n",
      "\tNLL Train Inactive: 35.14824295043945\n",
      "\tNLL Test Inactive: 34.32907485961914\n",
      "\n",
      "Epoch 167\n"
     ]
    },
    {
     "data": {
      "application/vnd.jupyter.widget-view+json": {
       "model_id": "3709cd52b3254a308256345f0f36b1fb",
       "version_major": 2,
       "version_minor": 0
      },
      "text/plain": [
       "HBox(children=(FloatProgress(value=0.0, max=24.0), HTML(value='')))"
      ]
     },
     "metadata": {},
     "output_type": "display_data"
    },
    {
     "name": "stdout",
     "output_type": "stream",
     "text": [
      "\n",
      "\tExample Sequences\n",
      "\t\t<start>KLKKLWKKWWKWL<end><pad><pad><pad><pad><pad><pad><pad><pad><pad><pad><pad><pad><pad>\n",
      "\t\t<start>STIGKLTSKFGKLVRGTAKQLVK<end><pad><pad><pad>\n",
      "\t\t<start>AKKVFKRLEKLFSKIQNY<end><pad><pad><pad><pad><pad><pad><pad><pad>\n",
      "\t\t<start>RRLALRLKARL<end><pad><pad><pad><pad><pad><pad><pad><pad><pad><pad><pad><pad><pad><pad><pad>\n",
      "\t\t<start>kTKVFYGYWGRGYGYRGWYRPFRKRP<end>\n",
      "\tNLL Train Active: 12.518738746643066\n",
      "\tNLL Test Active: 26.014202117919922\n",
      "\tNLL Train Inactive: 35.156185150146484\n",
      "\tNLL Test Inactive: 34.33395767211914\n",
      "\n",
      "Epoch 168\n"
     ]
    },
    {
     "data": {
      "application/vnd.jupyter.widget-view+json": {
       "model_id": "8c69c426cedb450b9a887b681fb02576",
       "version_major": 2,
       "version_minor": 0
      },
      "text/plain": [
       "HBox(children=(FloatProgress(value=0.0, max=24.0), HTML(value='')))"
      ]
     },
     "metadata": {},
     "output_type": "display_data"
    },
    {
     "name": "stdout",
     "output_type": "stream",
     "text": [
      "\n",
      "\tExample Sequences\n",
      "\t\t<start>TQKQQKY<end><pad><pad><pad><pad><pad><pad><pad><pad><pad><pad><pad><pad><pad><pad><pad><pad><pad><pad>\n",
      "\t\t<start>GIKDLAKKVATGVGKAALNGVAEAL<end>\n",
      "\t\t<start>FAKLMKKLF<end><pad><pad><pad><pad><pad><pad><pad><pad><pad><pad><pad><pad><pad><pad><pad><pad>\n",
      "\t\t<start>GMWKKLWNSIKGML<end><pad><pad><pad><pad><pad><pad><pad><pad><pad><pad><pad>\n",
      "\t\t<start>NLKKMLKRAKKIG<end><pad><pad><pad><pad><pad><pad><pad><pad><pad><pad><pad><pad>\n",
      "\tNLL Train Active: 12.50313663482666\n",
      "\tNLL Test Active: 26.014265060424805\n",
      "\tNLL Train Inactive: 35.15354537963867\n",
      "\tNLL Test Inactive: 34.333221435546875\n",
      "\n",
      "Epoch 169\n"
     ]
    },
    {
     "data": {
      "application/vnd.jupyter.widget-view+json": {
       "model_id": "b756173ef5be4dda8859fd933df205fa",
       "version_major": 2,
       "version_minor": 0
      },
      "text/plain": [
       "HBox(children=(FloatProgress(value=0.0, max=24.0), HTML(value='')))"
      ]
     },
     "metadata": {},
     "output_type": "display_data"
    },
    {
     "name": "stdout",
     "output_type": "stream",
     "text": [
      "\n",
      "\tExample Sequences\n",
      "\t\t<start>KKKKIIIKIIKK<end><pad><pad><pad><pad><pad><pad><pad><pad><pad>\n",
      "\t\t<start>KWKLFKKIGkKILKYL<end><pad><pad><pad><pad><pad>\n",
      "\t\t<start>ESSSHKKVLFLHSAQKLF<end><pad><pad><pad>\n",
      "\t\t<start>LLRGIAEVLKKVG<end><pad><pad><pad><pad><pad><pad><pad><pad>\n",
      "\t\t<start>KFFKKLKNSVKKRAKKFAKKV<end>\n",
      "\tNLL Train Active: 12.487513542175293\n",
      "\tNLL Test Active: 26.010211944580078\n",
      "\tNLL Train Inactive: 35.158836364746094\n",
      "\tNLL Test Inactive: 34.332359313964844\n",
      "\n",
      "Epoch 170\n"
     ]
    },
    {
     "data": {
      "application/vnd.jupyter.widget-view+json": {
       "model_id": "e90d1b9d0dce4374b05b2dbf6c165e91",
       "version_major": 2,
       "version_minor": 0
      },
      "text/plain": [
       "HBox(children=(FloatProgress(value=0.0, max=24.0), HTML(value='')))"
      ]
     },
     "metadata": {},
     "output_type": "display_data"
    },
    {
     "name": "stdout",
     "output_type": "stream",
     "text": [
      "\n",
      "\tExample Sequences\n",
      "\t\t<start>GWWRRTVAKVRNAGFVGAGSGIGVAGRC<end><pad><pad><pad><pad><pad><pad><pad><pad><pad><pad><pad><pad><pad><pad><pad><pad><pad>\n",
      "\t\t<start>RLWWIRVR<end><pad><pad><pad><pad><pad><pad><pad><pad><pad><pad><pad><pad><pad><pad><pad><pad><pad><pad><pad><pad><pad><pad><pad><pad><pad><pad><pad><pad><pad><pad><pad><pad><pad><pad><pad><pad><pad>\n",
      "\t\t<start>KRHKHGYKRQGKRVFRLSPSPYGRPSPLKIITAQNCKGGKSKTYR<end>\n",
      "\t\t<start>GWLKKIWKKIKKL<end><pad><pad><pad><pad><pad><pad><pad><pad><pad><pad><pad><pad><pad><pad><pad><pad><pad><pad><pad><pad><pad><pad><pad><pad><pad><pad><pad><pad><pad><pad><pad><pad>\n",
      "\t\t<start>ILPWKWPWRR<end><pad><pad><pad><pad><pad><pad><pad><pad><pad><pad><pad><pad><pad><pad><pad><pad><pad><pad><pad><pad><pad><pad><pad><pad><pad><pad><pad><pad><pad><pad><pad><pad><pad><pad><pad>\n",
      "\tNLL Train Active: 12.472806930541992\n",
      "\tNLL Test Active: 26.008731842041016\n",
      "\tNLL Train Inactive: 35.16458511352539\n",
      "\tNLL Test Inactive: 34.33649444580078\n",
      "\n",
      "Epoch 171\n"
     ]
    },
    {
     "data": {
      "application/vnd.jupyter.widget-view+json": {
       "model_id": "19954216e1054cc98e116e2de1dc9fc8",
       "version_major": 2,
       "version_minor": 0
      },
      "text/plain": [
       "HBox(children=(FloatProgress(value=0.0, max=24.0), HTML(value='')))"
      ]
     },
     "metadata": {},
     "output_type": "display_data"
    },
    {
     "name": "stdout",
     "output_type": "stream",
     "text": [
      "\n",
      "\tExample Sequences\n",
      "\t\t<start>KRFIKWYKAWNKK<end><pad><pad><pad><pad><pad><pad><pad><pad><pad>\n",
      "\t\t<start>RLWKLWLKFW<end><pad><pad><pad><pad><pad><pad><pad><pad><pad><pad><pad><pad>\n",
      "\t\t<start>KWKSFLKTFlGAVLTTVLkAL<end><pad>\n",
      "\t\t<start>RWKIFKKIEKVGRNVRDGIIKA<end>\n",
      "\t\t<start>KKWWKKWLKKWLK<end><pad><pad><pad><pad><pad><pad><pad><pad><pad>\n",
      "\tNLL Train Active: 12.457539558410645\n",
      "\tNLL Test Active: 26.007678985595703\n",
      "\tNLL Train Inactive: 35.16850280761719\n",
      "\tNLL Test Inactive: 34.33642578125\n",
      "\n",
      "Epoch 172\n"
     ]
    },
    {
     "data": {
      "application/vnd.jupyter.widget-view+json": {
       "model_id": "a44dc8f7780c4a1da3b0f5c796475ecd",
       "version_major": 2,
       "version_minor": 0
      },
      "text/plain": [
       "HBox(children=(FloatProgress(value=0.0, max=24.0), HTML(value='')))"
      ]
     },
     "metadata": {},
     "output_type": "display_data"
    },
    {
     "name": "stdout",
     "output_type": "stream",
     "text": [
      "\n",
      "\tExample Sequences\n",
      "\t\t<start>GNRGYEGAEIDQTG<end><pad><pad><pad><pad><pad><pad><pad><pad><pad><pad><pad><pad>\n",
      "\t\t<start>KWKLFKKIG<end><pad><pad><pad><pad><pad><pad><pad><pad><pad><pad><pad><pad><pad><pad><pad><pad><pad>\n",
      "\t\t<start>KKTWWKTWWS<end><pad><pad><pad><pad><pad><pad><pad><pad><pad><pad><pad><pad><pad><pad><pad><pad>\n",
      "\t\t<start>RRIRPRPPRLPRPRPRPRPLPFPRRI<end>\n",
      "\t\t<start>FKWFKSFKKMAKKFKKALKKLF<end><pad><pad><pad><pad>\n",
      "\tNLL Train Active: 12.44258975982666\n",
      "\tNLL Test Active: 26.007450103759766\n",
      "\tNLL Train Inactive: 35.173309326171875\n",
      "\tNLL Test Inactive: 34.34181213378906\n",
      "\n",
      "Epoch 173\n"
     ]
    },
    {
     "data": {
      "application/vnd.jupyter.widget-view+json": {
       "model_id": "42d12cc0355444bea245f41505f120ba",
       "version_major": 2,
       "version_minor": 0
      },
      "text/plain": [
       "HBox(children=(FloatProgress(value=0.0, max=24.0), HTML(value='')))"
      ]
     },
     "metadata": {},
     "output_type": "display_data"
    },
    {
     "name": "stdout",
     "output_type": "stream",
     "text": [
      "\n",
      "\tExample Sequences\n",
      "\t\t<start>AHRKTHGKRRKCVR<end><pad><pad><pad><pad><pad><pad><pad><pad><pad><pad><pad><pad><pad><pad><pad>\n",
      "\t\t<start>GRKKFLKKLKKSVKKLFKKIPKFLHLAKK<end>\n",
      "\t\t<start>LNWGKIWHGKKSA<end><pad><pad><pad><pad><pad><pad><pad><pad><pad><pad><pad><pad><pad><pad><pad><pad>\n",
      "\t\t<start>INWLKLAKKIKKKWKKWVK<end><pad><pad><pad><pad><pad><pad><pad><pad><pad><pad>\n",
      "\t\t<start>KWKSFLKTFKSAKKTLLHTlLKAISS<end><pad><pad><pad>\n",
      "\tNLL Train Active: 12.427326202392578\n",
      "\tNLL Test Active: 26.002927780151367\n",
      "\tNLL Train Inactive: 35.175418853759766\n",
      "\tNLL Test Inactive: 34.342857360839844\n",
      "\n",
      "Epoch 174\n"
     ]
    },
    {
     "data": {
      "application/vnd.jupyter.widget-view+json": {
       "model_id": "535492b31a594c89b157684d773c41a7",
       "version_major": 2,
       "version_minor": 0
      },
      "text/plain": [
       "HBox(children=(FloatProgress(value=0.0, max=24.0), HTML(value='')))"
      ]
     },
     "metadata": {},
     "output_type": "display_data"
    },
    {
     "name": "stdout",
     "output_type": "stream",
     "text": [
      "\n",
      "\tExample Sequences\n",
      "\t\t<start>LKWLKSKlKKWKK<end><pad><pad><pad><pad><pad><pad><pad><pad><pad><pad><pad><pad><pad><pad><pad><pad><pad><pad><pad><pad><pad><pad><pad><pad><pad><pad><pad><pad><pad><pad><pad><pad><pad><pad><pad><pad><pad><pad><pad><pad>\n",
      "\t\t<start>KWIKKIWKKLV<end><pad><pad><pad><pad><pad><pad><pad><pad><pad><pad><pad><pad><pad><pad><pad><pad><pad><pad><pad><pad><pad><pad><pad><pad><pad><pad><pad><pad><pad><pad><pad><pad><pad><pad><pad><pad><pad><pad><pad><pad><pad><pad>\n",
      "\t\t<start>GLPAWLNALLK<end><pad><pad><pad><pad><pad><pad><pad><pad><pad><pad><pad><pad><pad><pad><pad><pad><pad><pad><pad><pad><pad><pad><pad><pad><pad><pad><pad><pad><pad><pad><pad><pad><pad><pad><pad><pad><pad><pad><pad><pad><pad><pad>\n",
      "\t\t<start>IRKIRKDFRKSYKDDLKKVLKG<end><pad><pad><pad><pad><pad><pad><pad><pad><pad><pad><pad><pad><pad><pad><pad><pad><pad><pad><pad><pad><pad><pad><pad><pad><pad><pad><pad><pad><pad><pad><pad>\n",
      "\t\t<start>GWARTVAKVRNAGWKRAVRRAGEKARKAEHRVQRAAPHVAKPPKAHDSYKIYR<end>\n",
      "\tNLL Train Active: 12.412592887878418\n",
      "\tNLL Test Active: 26.001949310302734\n",
      "\tNLL Train Inactive: 35.18457794189453\n",
      "\tNLL Test Inactive: 34.34896469116211\n",
      "\n",
      "Epoch 175\n"
     ]
    },
    {
     "data": {
      "application/vnd.jupyter.widget-view+json": {
       "model_id": "9f075fb5d11e49509c7040b1775a051f",
       "version_major": 2,
       "version_minor": 0
      },
      "text/plain": [
       "HBox(children=(FloatProgress(value=0.0, max=24.0), HTML(value='')))"
      ]
     },
     "metadata": {},
     "output_type": "display_data"
    },
    {
     "name": "stdout",
     "output_type": "stream",
     "text": [
      "\n",
      "\tExample Sequences\n",
      "\t\t<start>FFHHIFRGIVHVGKTIHRLV<end><pad><pad><pad><pad><pad><pad><pad><pad><pad><pad><pad>\n",
      "\t\t<start>KWKKLLKKPLLK<end><pad><pad><pad><pad><pad><pad><pad><pad><pad><pad><pad><pad><pad><pad><pad><pad><pad><pad><pad>\n",
      "\t\t<start>GRFRRLRKKTRKRLKKIGKVLKWI<end><pad><pad><pad><pad><pad><pad><pad>\n",
      "\t\t<start>ILGKLLKkAIKGL<end><pad><pad><pad><pad><pad><pad><pad><pad><pad><pad><pad><pad><pad><pad><pad><pad><pad><pad>\n",
      "\t\t<start>GLRKRLRKFRNKFKEKLKKVGRQLIDIFGEA<end>\n",
      "\tNLL Train Active: 12.397795677185059\n",
      "\tNLL Test Active: 26.00185203552246\n",
      "\tNLL Train Inactive: 35.18930435180664\n",
      "\tNLL Test Inactive: 34.347984313964844\n",
      "\n",
      "Epoch 176\n"
     ]
    },
    {
     "data": {
      "application/vnd.jupyter.widget-view+json": {
       "model_id": "387ef348d5be43668c97cde03b24884d",
       "version_major": 2,
       "version_minor": 0
      },
      "text/plain": [
       "HBox(children=(FloatProgress(value=0.0, max=24.0), HTML(value='')))"
      ]
     },
     "metadata": {},
     "output_type": "display_data"
    },
    {
     "name": "stdout",
     "output_type": "stream",
     "text": [
      "\n",
      "\tExample Sequences\n",
      "\t\t<start>KRIKKLIKKWL<end><pad><pad><pad><pad><pad><pad><pad><pad><pad><pad><pad><pad><pad><pad><pad><pad>\n",
      "\t\t<start>KWKPLLKKLLKK<end><pad><pad><pad><pad><pad><pad><pad><pad><pad><pad><pad><pad><pad><pad><pad>\n",
      "\t\t<start>LGNFFDRIKAGPKDLIAVGGSIAAGAS<end>\n",
      "\t\t<start>FFHHIFRGIVHVGKKIHRLVTG<end><pad><pad><pad><pad><pad>\n",
      "\t\t<start>KWKLFKKIPKFLHL<end><pad><pad><pad><pad><pad><pad><pad><pad><pad><pad><pad><pad><pad>\n",
      "\tNLL Train Active: 12.382782936096191\n",
      "\tNLL Test Active: 26.00152587890625\n",
      "\tNLL Train Inactive: 35.18865203857422\n",
      "\tNLL Test Inactive: 34.348384857177734\n",
      "\n",
      "Epoch 177\n"
     ]
    },
    {
     "data": {
      "application/vnd.jupyter.widget-view+json": {
       "model_id": "8f5494386f3c4c9f8fbe227592a54f85",
       "version_major": 2,
       "version_minor": 0
      },
      "text/plain": [
       "HBox(children=(FloatProgress(value=0.0, max=24.0), HTML(value='')))"
      ]
     },
     "metadata": {},
     "output_type": "display_data"
    },
    {
     "name": "stdout",
     "output_type": "stream",
     "text": [
      "\n",
      "\tExample Sequences\n",
      "\t\t<start>FKLKWKWKW<end><pad><pad><pad><pad><pad><pad><pad><pad><pad><pad><pad><pad><pad><pad><pad><pad><pad><pad><pad><pad><pad><pad><pad><pad><pad><pad><pad><pad><pad><pad><pad><pad><pad><pad><pad>\n",
      "\t\t<start>GFMKYIGPLLHAAGKAIPSLLK<end><pad><pad><pad><pad><pad><pad><pad><pad><pad><pad><pad><pad><pad><pad><pad><pad><pad><pad><pad><pad><pad><pad>\n",
      "\t\t<start>GLLGPLLKIAGKVLGKVLKQLK<end><pad><pad><pad><pad><pad><pad><pad><pad><pad><pad><pad><pad><pad><pad><pad><pad><pad><pad><pad><pad><pad><pad>\n",
      "\t\t<start>GWLKKIGKKIERVGQHTRDATIQGLQAIQAVAEKAAAPTEATHY<end>\n",
      "\t\t<start>KKKKKKKKKGIFIGLKL<end><pad><pad><pad><pad><pad><pad><pad><pad><pad><pad><pad><pad><pad><pad><pad><pad><pad><pad><pad><pad><pad><pad><pad><pad><pad><pad><pad>\n",
      "\tNLL Train Active: 12.368064880371094\n",
      "\tNLL Test Active: 25.998390197753906\n",
      "\tNLL Train Inactive: 35.19186782836914\n",
      "\tNLL Test Inactive: 34.35149383544922\n",
      "\n",
      "Epoch 178\n"
     ]
    },
    {
     "data": {
      "application/vnd.jupyter.widget-view+json": {
       "model_id": "00e15906641346488f985b955775acdd",
       "version_major": 2,
       "version_minor": 0
      },
      "text/plain": [
       "HBox(children=(FloatProgress(value=0.0, max=24.0), HTML(value='')))"
      ]
     },
     "metadata": {},
     "output_type": "display_data"
    },
    {
     "name": "stdout",
     "output_type": "stream",
     "text": [
      "\n",
      "\tExample Sequences\n",
      "\t\t<start>KKKKKKLAKLWKKLL<end><pad><pad><pad><pad><pad><pad><pad><pad><pad><pad><pad><pad><pad><pad><pad><pad><pad><pad><pad><pad>\n",
      "\t\t<start>IKVFKKIEKMGRNIRDGIIKAGPAVAVVGRLTQKL<end>\n",
      "\t\t<start>WLKKPWKKPLFA<end><pad><pad><pad><pad><pad><pad><pad><pad><pad><pad><pad><pad><pad><pad><pad><pad><pad><pad><pad><pad><pad><pad><pad>\n",
      "\t\t<start>MWGAIKKFIPHIIRG<end><pad><pad><pad><pad><pad><pad><pad><pad><pad><pad><pad><pad><pad><pad><pad><pad><pad><pad><pad><pad>\n",
      "\t\t<start>ILPWKKKPWRR<end><pad><pad><pad><pad><pad><pad><pad><pad><pad><pad><pad><pad><pad><pad><pad><pad><pad><pad><pad><pad><pad><pad><pad><pad>\n",
      "\tNLL Train Active: 12.353973388671875\n",
      "\tNLL Test Active: 25.996623992919922\n",
      "\tNLL Train Inactive: 35.19865036010742\n",
      "\tNLL Test Inactive: 34.35280990600586\n",
      "\n",
      "Epoch 179\n"
     ]
    },
    {
     "data": {
      "application/vnd.jupyter.widget-view+json": {
       "model_id": "4138cde975994fb695b00da15f2082a8",
       "version_major": 2,
       "version_minor": 0
      },
      "text/plain": [
       "HBox(children=(FloatProgress(value=0.0, max=24.0), HTML(value='')))"
      ]
     },
     "metadata": {},
     "output_type": "display_data"
    },
    {
     "name": "stdout",
     "output_type": "stream",
     "text": [
      "\n",
      "\tExample Sequences\n",
      "\t\t<start>KWKSFLKTFKSALKTVLHTALKAIMS<end><pad>\n",
      "\t\t<start>IIHHIIHHIHHI<end><pad><pad><pad><pad><pad><pad><pad><pad><pad><pad><pad><pad><pad><pad><pad>\n",
      "\t\t<start>IHHIHHIIHHIHHHIHHIHHHIHHI<end><pad><pad>\n",
      "\t\t<start>FLKLLkKLL<end><pad><pad><pad><pad><pad><pad><pad><pad><pad><pad><pad><pad><pad><pad><pad><pad><pad><pad>\n",
      "\t\t<start>AIHHCLNTARNQNFLKCLMPPRTSDYM<end>\n",
      "\tNLL Train Active: 12.339191436767578\n",
      "\tNLL Test Active: 25.99658203125\n",
      "\tNLL Train Inactive: 35.2012939453125\n",
      "\tNLL Test Inactive: 34.35286331176758\n",
      "\n",
      "Epoch 180\n"
     ]
    },
    {
     "data": {
      "application/vnd.jupyter.widget-view+json": {
       "model_id": "a0cb2a806eb74071b1bb63fbc86a2d4a",
       "version_major": 2,
       "version_minor": 0
      },
      "text/plain": [
       "HBox(children=(FloatProgress(value=0.0, max=24.0), HTML(value='')))"
      ]
     },
     "metadata": {},
     "output_type": "display_data"
    },
    {
     "name": "stdout",
     "output_type": "stream",
     "text": [
      "\n",
      "\tExample Sequences\n",
      "\t\t<start>RAKIFKKMARGVRK<end><pad><pad><pad><pad><pad><pad><pad><pad><pad><pad><pad><pad>\n",
      "\t\t<start>KIAKVALKALKIAKGIAKIW<end><pad><pad><pad><pad><pad><pad>\n",
      "\t\t<start>WKKIPKFLHSAKKFGKAFVGEIMNS<end><pad>\n",
      "\t\t<start>KRFKKFWPKVTSTIPSLVKNV<end><pad><pad><pad><pad><pad>\n",
      "\t\t<start>AWKSFLKTFKSPkKTVLHTALKAISS<end>\n",
      "\tNLL Train Active: 12.324199676513672\n",
      "\tNLL Test Active: 25.99427032470703\n",
      "\tNLL Train Inactive: 35.20173645019531\n",
      "\tNLL Test Inactive: 34.35014343261719\n",
      "\n",
      "Epoch 181\n"
     ]
    },
    {
     "data": {
      "application/vnd.jupyter.widget-view+json": {
       "model_id": "9419ef5ae7c941f49c6c57568bf7b0dd",
       "version_major": 2,
       "version_minor": 0
      },
      "text/plain": [
       "HBox(children=(FloatProgress(value=0.0, max=24.0), HTML(value='')))"
      ]
     },
     "metadata": {},
     "output_type": "display_data"
    },
    {
     "name": "stdout",
     "output_type": "stream",
     "text": [
      "\n",
      "\tExample Sequences\n",
      "\t\t<start>KHWWRTVWNWKT<end><pad><pad><pad><pad><pad><pad><pad><pad><pad><pad><pad><pad><pad><pad>\n",
      "\t\t<start>KIKISIKKLKK<end><pad><pad><pad><pad><pad><pad><pad><pad><pad><pad><pad><pad><pad><pad><pad>\n",
      "\t\t<start>KWKSFLKTFKSAKKTvLHTALKAISS<end>\n",
      "\t\t<start>LLKWLKKWLK<end><pad><pad><pad><pad><pad><pad><pad><pad><pad><pad><pad><pad><pad><pad><pad><pad>\n",
      "\t\t<start>GFKMALKLLKKVL<end><pad><pad><pad><pad><pad><pad><pad><pad><pad><pad><pad><pad><pad>\n",
      "\tNLL Train Active: 12.310383796691895\n",
      "\tNLL Test Active: 25.992549896240234\n",
      "\tNLL Train Inactive: 35.209598541259766\n",
      "\tNLL Test Inactive: 34.35730743408203\n",
      "\n",
      "Epoch 182\n"
     ]
    },
    {
     "data": {
      "application/vnd.jupyter.widget-view+json": {
       "model_id": "1584bd4ce69f448cb4e7e239ce225781",
       "version_major": 2,
       "version_minor": 0
      },
      "text/plain": [
       "HBox(children=(FloatProgress(value=0.0, max=24.0), HTML(value='')))"
      ]
     },
     "metadata": {},
     "output_type": "display_data"
    },
    {
     "name": "stdout",
     "output_type": "stream",
     "text": [
      "\n",
      "\tExample Sequences\n",
      "\t\t<start>GLRKRLRKFRNKNEEKLKKIGQKIKDFFGKLPEQGL<end>\n",
      "\t\t<start>KWKAFLKKALKLL<end><pad><pad><pad><pad><pad><pad><pad><pad><pad><pad><pad><pad><pad><pad><pad><pad><pad><pad><pad><pad><pad><pad><pad>\n",
      "\t\t<start>frlfktlhaalkalhkalkK<end><pad><pad><pad><pad><pad><pad><pad><pad><pad><pad><pad><pad><pad><pad><pad><pad>\n",
      "\t\t<start>GLWKKIPGAVKKLGATVAGGIAEVAKAA<end><pad><pad><pad><pad><pad><pad><pad><pad>\n",
      "\t\t<start>LNALKAKVKLWLQKTKV<end><pad><pad><pad><pad><pad><pad><pad><pad><pad><pad><pad><pad><pad><pad><pad><pad><pad><pad><pad>\n",
      "\tNLL Train Active: 12.295818328857422\n",
      "\tNLL Test Active: 25.991413116455078\n",
      "\tNLL Train Inactive: 35.21505355834961\n",
      "\tNLL Test Inactive: 34.358978271484375\n",
      "\n",
      "Epoch 183\n"
     ]
    },
    {
     "data": {
      "application/vnd.jupyter.widget-view+json": {
       "model_id": "6fca9b5f9a8445b28463946c7eb77da4",
       "version_major": 2,
       "version_minor": 0
      },
      "text/plain": [
       "HBox(children=(FloatProgress(value=0.0, max=24.0), HTML(value='')))"
      ]
     },
     "metadata": {},
     "output_type": "display_data"
    },
    {
     "name": "stdout",
     "output_type": "stream",
     "text": [
      "\n",
      "\tExample Sequences\n",
      "\t\t<start>KWKLFKKIPKFLHLAKKF<end><pad><pad><pad><pad><pad>\n",
      "\t\t<start>rkww<end><pad><pad><pad><pad><pad><pad><pad><pad><pad><pad><pad><pad><pad><pad><pad><pad><pad><pad><pad>\n",
      "\t\t<start>VFQFLGKIIHHVGNFVHHF<end><pad><pad><pad><pad>\n",
      "\t\t<start>EWHLGQVNNHMVHKHGNVHKLGH<end>\n",
      "\t\t<start>KKVfKFIKFLHSAK<end><pad><pad><pad><pad><pad><pad><pad><pad><pad>\n",
      "\tNLL Train Active: 12.281901359558105\n",
      "\tNLL Test Active: 25.991121292114258\n",
      "\tNLL Train Inactive: 35.21809768676758\n",
      "\tNLL Test Inactive: 34.35789489746094\n",
      "\n",
      "Epoch 184\n"
     ]
    },
    {
     "data": {
      "application/vnd.jupyter.widget-view+json": {
       "model_id": "65adb9a95bd3448480a436aa810df9da",
       "version_major": 2,
       "version_minor": 0
      },
      "text/plain": [
       "HBox(children=(FloatProgress(value=0.0, max=24.0), HTML(value='')))"
      ]
     },
     "metadata": {},
     "output_type": "display_data"
    },
    {
     "name": "stdout",
     "output_type": "stream",
     "text": [
      "\n",
      "\tExample Sequences\n",
      "\t\t<start>LVRRVRRSVRRVLKVLSTVLPKLF<end>\n",
      "\t\t<start>ALHRNVYLHKRINLHTRLRH<end><pad><pad><pad><pad>\n",
      "\t\t<start>LLHAIVGRKRKRL<end><pad><pad><pad><pad><pad><pad><pad><pad><pad><pad><pad>\n",
      "\t\t<start>KWKLFKKIPKFLHLF<end><pad><pad><pad><pad><pad><pad><pad><pad><pad>\n",
      "\t\t<start>WRWRVFKWWRRF<end><pad><pad><pad><pad><pad><pad><pad><pad><pad><pad><pad><pad>\n",
      "\tNLL Train Active: 12.267573356628418\n",
      "\tNLL Test Active: 25.98886489868164\n",
      "\tNLL Train Inactive: 35.22641372680664\n",
      "\tNLL Test Inactive: 34.36676788330078\n",
      "\n",
      "Epoch 185\n"
     ]
    },
    {
     "data": {
      "application/vnd.jupyter.widget-view+json": {
       "model_id": "d5da82feed0f478ea28b3c8bafa5afbb",
       "version_major": 2,
       "version_minor": 0
      },
      "text/plain": [
       "HBox(children=(FloatProgress(value=0.0, max=24.0), HTML(value='')))"
      ]
     },
     "metadata": {},
     "output_type": "display_data"
    },
    {
     "name": "stdout",
     "output_type": "stream",
     "text": [
      "\n",
      "\tExample Sequences\n",
      "\t\t<start>IRIIGKLKKWIGKVLKII<end><pad>\n",
      "\t\t<start>FKWAFKTFKLK<end><pad><pad><pad><pad><pad><pad><pad><pad>\n",
      "\t\t<start>RFRRLRWKTRRLWLRLL<end><pad><pad>\n",
      "\t\t<start>GRSKPRRPRPRPPRRIYNR<end>\n",
      "\t\t<start>KWKLFKKIPKFLHL<end><pad><pad><pad><pad><pad>\n",
      "\tNLL Train Active: 12.253374099731445\n",
      "\tNLL Test Active: 25.986461639404297\n",
      "\tNLL Train Inactive: 35.22767639160156\n",
      "\tNLL Test Inactive: 34.36313247680664\n",
      "\n",
      "Epoch 186\n"
     ]
    },
    {
     "data": {
      "application/vnd.jupyter.widget-view+json": {
       "model_id": "e9fcaea56fdb49c0b473241a0bd1c36b",
       "version_major": 2,
       "version_minor": 0
      },
      "text/plain": [
       "HBox(children=(FloatProgress(value=0.0, max=24.0), HTML(value='')))"
      ]
     },
     "metadata": {},
     "output_type": "display_data"
    },
    {
     "name": "stdout",
     "output_type": "stream",
     "text": [
      "\n",
      "\tExample Sequences\n",
      "\t\t<start>ILPWKWPWWPWRR<end><pad><pad><pad><pad>\n",
      "\t\t<start>VRRFKKFFRKLKKSVKK<end>\n",
      "\t\t<start>RRLIRLIWRVLR<end><pad><pad><pad><pad><pad>\n",
      "\t\t<start>ILPWKWPKKWPWRR<end><pad><pad><pad>\n",
      "\t\t<start>FLHHIVGLIHHI<end><pad><pad><pad><pad><pad>\n",
      "\tNLL Train Active: 12.23949909210205\n",
      "\tNLL Test Active: 25.985563278198242\n",
      "\tNLL Train Inactive: 35.22789764404297\n",
      "\tNLL Test Inactive: 34.36745834350586\n",
      "\n",
      "Epoch 187\n"
     ]
    },
    {
     "data": {
      "application/vnd.jupyter.widget-view+json": {
       "model_id": "09f267b9cdb14413aa5c8109a0a2b184",
       "version_major": 2,
       "version_minor": 0
      },
      "text/plain": [
       "HBox(children=(FloatProgress(value=0.0, max=24.0), HTML(value='')))"
      ]
     },
     "metadata": {},
     "output_type": "display_data"
    },
    {
     "name": "stdout",
     "output_type": "stream",
     "text": [
      "\n",
      "\tExample Sequences\n",
      "\t\t<start>GRWRWWWRWRF<end><pad><pad><pad><pad><pad><pad><pad><pad><pad><pad><pad><pad><pad>\n",
      "\t\t<start>LLKSLLKkALKLAKK<end><pad><pad><pad><pad><pad><pad><pad><pad><pad>\n",
      "\t\t<start>KKLFKKIPKFLHLLKKF<end><pad><pad><pad><pad><pad><pad><pad>\n",
      "\t\t<start>FFFHIIKGLIHAGKHIVHMVKNRA<end>\n",
      "\t\t<start>GifsvlGtahkttlsllkslskk<end><pad>\n",
      "\tNLL Train Active: 12.225641250610352\n",
      "\tNLL Test Active: 25.984783172607422\n",
      "\tNLL Train Inactive: 35.23400115966797\n",
      "\tNLL Test Inactive: 34.367191314697266\n",
      "\n",
      "Epoch 188\n"
     ]
    },
    {
     "data": {
      "application/vnd.jupyter.widget-view+json": {
       "model_id": "0183d2c5920a48f3b8d04a15b16702fd",
       "version_major": 2,
       "version_minor": 0
      },
      "text/plain": [
       "HBox(children=(FloatProgress(value=0.0, max=24.0), HTML(value='')))"
      ]
     },
     "metadata": {},
     "output_type": "display_data"
    },
    {
     "name": "stdout",
     "output_type": "stream",
     "text": [
      "\n",
      "\tExample Sequences\n",
      "\t\t<start>RWKIFKKIEKVGRDIISAGQKAARALG<end>\n",
      "\t\t<start>ILKKIWKIVSKI<end><pad><pad><pad><pad><pad><pad><pad><pad><pad><pad><pad><pad><pad><pad><pad>\n",
      "\t\t<start>LNWGAILGKIFKA<end><pad><pad><pad><pad><pad><pad><pad><pad><pad><pad><pad><pad><pad><pad>\n",
      "\t\t<start>FAKARWWWRWAR<end><pad><pad><pad><pad><pad><pad><pad><pad><pad><pad><pad><pad><pad><pad><pad>\n",
      "\t\t<start>LRRLRRRLRKKlRKWLRL<end><pad><pad><pad><pad><pad><pad><pad><pad><pad>\n",
      "\tNLL Train Active: 12.211334228515625\n",
      "\tNLL Test Active: 25.982885360717773\n",
      "\tNLL Train Inactive: 35.239501953125\n",
      "\tNLL Test Inactive: 34.36676025390625\n",
      "\n",
      "Epoch 189\n"
     ]
    },
    {
     "data": {
      "application/vnd.jupyter.widget-view+json": {
       "model_id": "4cd70a0ed70e4c2a9d3cde7ac93d3567",
       "version_major": 2,
       "version_minor": 0
      },
      "text/plain": [
       "HBox(children=(FloatProgress(value=0.0, max=24.0), HTML(value='')))"
      ]
     },
     "metadata": {},
     "output_type": "display_data"
    },
    {
     "name": "stdout",
     "output_type": "stream",
     "text": [
      "\n",
      "\tExample Sequences\n",
      "\t\t<start>KIAGKIGKALKKLAKALGKVAAKAL<end>\n",
      "\t\t<start>FKRLKKLFKKLSPVIPLLHL<end><pad><pad><pad><pad><pad>\n",
      "\t\t<start>KWKLFKKIPKFLHLAKKF<end><pad><pad><pad><pad><pad><pad><pad>\n",
      "\t\t<start>RLRKLVKRLV<end><pad><pad><pad><pad><pad><pad><pad><pad><pad><pad><pad><pad><pad><pad><pad>\n",
      "\t\t<start>AILGRLCRFFRFF<end><pad><pad><pad><pad><pad><pad><pad><pad><pad><pad><pad><pad>\n",
      "\tNLL Train Active: 12.19771671295166\n",
      "\tNLL Test Active: 25.979196548461914\n",
      "\tNLL Train Inactive: 35.240753173828125\n",
      "\tNLL Test Inactive: 34.37739181518555\n",
      "\n",
      "Epoch 190\n"
     ]
    },
    {
     "data": {
      "application/vnd.jupyter.widget-view+json": {
       "model_id": "e86cc7c75e3e43368b30516568463f0d",
       "version_major": 2,
       "version_minor": 0
      },
      "text/plain": [
       "HBox(children=(FloatProgress(value=0.0, max=24.0), HTML(value='')))"
      ]
     },
     "metadata": {},
     "output_type": "display_data"
    },
    {
     "name": "stdout",
     "output_type": "stream",
     "text": [
      "\n",
      "\tExample Sequences\n",
      "\t\t<start>SLLSLIGRKRRRR<end><pad><pad><pad><pad><pad><pad><pad><pad><pad><pad><pad><pad><pad><pad><pad><pad><pad><pad>\n",
      "\t\t<start>KRFKKFFKKLKNSVKKRFKKIFKRPQKFLEL<end>\n",
      "\t\t<start>KWKSFLKTFKSAVKTVLHTVAKAISG<end><pad><pad><pad><pad><pad>\n",
      "\t\t<start>RFRRLRWKTWRRLKKLG<end><pad><pad><pad><pad><pad><pad><pad><pad><pad><pad><pad><pad><pad><pad>\n",
      "\t\t<start>KWKSFLKTFKSAlKTVLHTALKAISS<end><pad><pad><pad><pad><pad>\n",
      "\tNLL Train Active: 12.184049606323242\n",
      "\tNLL Test Active: 25.978918075561523\n",
      "\tNLL Train Inactive: 35.243133544921875\n",
      "\tNLL Test Inactive: 34.37045669555664\n",
      "\n",
      "Epoch 191\n"
     ]
    },
    {
     "data": {
      "application/vnd.jupyter.widget-view+json": {
       "model_id": "3cc7058a7fd34a0d8d2a841edc5f175c",
       "version_major": 2,
       "version_minor": 0
      },
      "text/plain": [
       "HBox(children=(FloatProgress(value=0.0, max=24.0), HTML(value='')))"
      ]
     },
     "metadata": {},
     "output_type": "display_data"
    },
    {
     "name": "stdout",
     "output_type": "stream",
     "text": [
      "\n",
      "\tExample Sequences\n",
      "\t\t<start>AIISTIGKLVKWIIKTV<end><pad><pad><pad><pad>\n",
      "\t\t<start>LRFGSFLKKARPKIPTHV<end><pad><pad><pad>\n",
      "\t\t<start>KWKKPWKKPWWKWWRR<end><pad><pad><pad><pad><pad>\n",
      "\t\t<start>KKKLIGFKFFGRRK<end><pad><pad><pad><pad><pad><pad><pad>\n",
      "\t\t<start>ILSKVATKLPKLTSKTWNKFT<end>\n",
      "\tNLL Train Active: 12.17015552520752\n",
      "\tNLL Test Active: 25.97906494140625\n",
      "\tNLL Train Inactive: 35.24726486206055\n",
      "\tNLL Test Inactive: 34.37258529663086\n",
      "\n",
      "Epoch 192\n"
     ]
    },
    {
     "data": {
      "application/vnd.jupyter.widget-view+json": {
       "model_id": "c68012b002054ae0ba77044063c9bc73",
       "version_major": 2,
       "version_minor": 0
      },
      "text/plain": [
       "HBox(children=(FloatProgress(value=0.0, max=24.0), HTML(value='')))"
      ]
     },
     "metadata": {},
     "output_type": "display_data"
    },
    {
     "name": "stdout",
     "output_type": "stream",
     "text": [
      "\n",
      "\tExample Sequences\n",
      "\t\t<start>WRWWRWRF<end><pad><pad><pad><pad><pad><pad><pad><pad><pad><pad><pad><pad><pad><pad><pad><pad><pad><pad><pad><pad><pad><pad><pad><pad><pad><pad><pad><pad><pad>\n",
      "\t\t<start>FWGRAWRRLARL<end><pad><pad><pad><pad><pad><pad><pad><pad><pad><pad><pad><pad><pad><pad><pad><pad><pad><pad><pad><pad><pad><pad><pad><pad><pad>\n",
      "\t\t<start>rGwGlfspfvkGthlpGqanaav<end><pad><pad><pad><pad><pad><pad><pad><pad><pad><pad><pad><pad><pad><pad>\n",
      "\t\t<start>KKLFKKILKYLAGPAKKLFKKILKL<end><pad><pad><pad><pad><pad><pad><pad><pad><pad><pad><pad><pad>\n",
      "\t\t<start>RWKIFKKIEKVGRNVRDGIIKAGPAVAVVGQATSIAK<end>\n",
      "\tNLL Train Active: 12.156166076660156\n",
      "\tNLL Test Active: 25.978191375732422\n",
      "\tNLL Train Inactive: 35.25019454956055\n",
      "\tNLL Test Inactive: 34.3734130859375\n",
      "\n",
      "Epoch 193\n"
     ]
    },
    {
     "data": {
      "application/vnd.jupyter.widget-view+json": {
       "model_id": "68a002e679e24172b01379642759e4f8",
       "version_major": 2,
       "version_minor": 0
      },
      "text/plain": [
       "HBox(children=(FloatProgress(value=0.0, max=24.0), HTML(value='')))"
      ]
     },
     "metadata": {},
     "output_type": "display_data"
    },
    {
     "name": "stdout",
     "output_type": "stream",
     "text": [
      "\n",
      "\tExample Sequences\n",
      "\t\t<start>KWKLFKKIPKFLHLAKKF<end>\n",
      "\t\t<start>AKKVFKRLFKLLSKFWKG<end>\n",
      "\t\t<start>RWKIFKKVAKKWLK<end><pad><pad><pad><pad>\n",
      "\t\t<start>KLLKWWKKLLKK<end><pad><pad><pad><pad><pad><pad>\n",
      "\t\t<start>KRIVKLILKYLR<end><pad><pad><pad><pad><pad><pad>\n",
      "\tNLL Train Active: 12.142708778381348\n",
      "\tNLL Test Active: 25.978721618652344\n",
      "\tNLL Train Inactive: 35.25467300415039\n",
      "\tNLL Test Inactive: 34.37708282470703\n",
      "\n",
      "Epoch 194\n"
     ]
    },
    {
     "data": {
      "application/vnd.jupyter.widget-view+json": {
       "model_id": "81925f526a494bfd9eeaad8b7354bfb3",
       "version_major": 2,
       "version_minor": 0
      },
      "text/plain": [
       "HBox(children=(FloatProgress(value=0.0, max=24.0), HTML(value='')))"
      ]
     },
     "metadata": {},
     "output_type": "display_data"
    },
    {
     "name": "stdout",
     "output_type": "stream",
     "text": [
      "\n",
      "\tExample Sequences\n",
      "\t\t<start>YTSLIHHLIEEGNKES<end><pad><pad><pad><pad><pad><pad><pad><pad><pad><pad><pad><pad><pad><pad><pad>\n",
      "\t\t<start>ALWDTLKKVLGHAIKGAIPAISQAIKLISKH<end>\n",
      "\t\t<start>SLFKTLAKKVLKGLF<end><pad><pad><pad><pad><pad><pad><pad><pad><pad><pad><pad><pad><pad><pad><pad><pad>\n",
      "\t\t<start>RLRLAIRVALKK<end><pad><pad><pad><pad><pad><pad><pad><pad><pad><pad><pad><pad><pad><pad><pad><pad><pad><pad><pad>\n",
      "\t\t<start>GLLKRIKTLL<end><pad><pad><pad><pad><pad><pad><pad><pad><pad><pad><pad><pad><pad><pad><pad><pad><pad><pad><pad><pad><pad>\n",
      "\tNLL Train Active: 12.12898063659668\n",
      "\tNLL Test Active: 25.976648330688477\n",
      "\tNLL Train Inactive: 35.25807189941406\n",
      "\tNLL Test Inactive: 34.37971115112305\n",
      "\n",
      "Epoch 195\n"
     ]
    },
    {
     "data": {
      "application/vnd.jupyter.widget-view+json": {
       "model_id": "be326adfac3d4e66a5905be2a60dc6eb",
       "version_major": 2,
       "version_minor": 0
      },
      "text/plain": [
       "HBox(children=(FloatProgress(value=0.0, max=24.0), HTML(value='')))"
      ]
     },
     "metadata": {},
     "output_type": "display_data"
    },
    {
     "name": "stdout",
     "output_type": "stream",
     "text": [
      "\n",
      "\tExample Sequences\n",
      "\t\t<start>MAVFLGAIQQAIKGLFKKW<end><pad><pad><pad><pad><pad><pad><pad><pad><pad><pad><pad><pad><pad><pad><pad><pad><pad><pad>\n",
      "\t\t<start>RWKIFKKIEKVGRNVRDGIIKAGPAVAVVGQAATVIA<end>\n",
      "\t\t<start>GLGNPFNIIINAGKVIGKFLHSAK<end><pad><pad><pad><pad><pad><pad><pad><pad><pad><pad><pad><pad><pad>\n",
      "\t\t<start>VWKKIPKFLHLAKKF<end><pad><pad><pad><pad><pad><pad><pad><pad><pad><pad><pad><pad><pad><pad><pad><pad><pad><pad><pad><pad><pad><pad>\n",
      "\t\t<start>LLRLASKIWNWK<end><pad><pad><pad><pad><pad><pad><pad><pad><pad><pad><pad><pad><pad><pad><pad><pad><pad><pad><pad><pad><pad><pad><pad><pad><pad>\n",
      "\tNLL Train Active: 12.115737915039062\n",
      "\tNLL Test Active: 25.975955963134766\n",
      "\tNLL Train Inactive: 35.26701354980469\n",
      "\tNLL Test Inactive: 34.38671875\n",
      "\n",
      "Epoch 196\n"
     ]
    },
    {
     "data": {
      "application/vnd.jupyter.widget-view+json": {
       "model_id": "56b20c3860904ab99d41528bf6cba2fe",
       "version_major": 2,
       "version_minor": 0
      },
      "text/plain": [
       "HBox(children=(FloatProgress(value=0.0, max=24.0), HTML(value='')))"
      ]
     },
     "metadata": {},
     "output_type": "display_data"
    },
    {
     "name": "stdout",
     "output_type": "stream",
     "text": [
      "\n",
      "\tExample Sequences\n",
      "\t\t<start>LNALKKVFQKIHEAIKLI<end><pad><pad><pad><pad>\n",
      "\t\t<start>ALLWHYLLKAA<end><pad><pad><pad><pad><pad><pad><pad><pad><pad><pad><pad>\n",
      "\t\t<start>KWKLFKKIPKFLHLWAKK<end><pad><pad><pad><pad>\n",
      "\t\t<start>GWWRRTVAKVRK<end><pad><pad><pad><pad><pad><pad><pad><pad><pad><pad>\n",
      "\t\t<start>KFIKALKKALKKLAKAAAKLAS<end>\n",
      "\tNLL Train Active: 12.101882934570312\n",
      "\tNLL Test Active: 25.97395896911621\n",
      "\tNLL Train Inactive: 35.26685333251953\n",
      "\tNLL Test Inactive: 34.38423538208008\n",
      "\n",
      "Epoch 197\n"
     ]
    },
    {
     "data": {
      "application/vnd.jupyter.widget-view+json": {
       "model_id": "8e15f9553c3f410eb0fb9c7694b842ef",
       "version_major": 2,
       "version_minor": 0
      },
      "text/plain": [
       "HBox(children=(FloatProgress(value=0.0, max=24.0), HTML(value='')))"
      ]
     },
     "metadata": {},
     "output_type": "display_data"
    },
    {
     "name": "stdout",
     "output_type": "stream",
     "text": [
      "\n",
      "\tExample Sequences\n",
      "\t\t<start>KRKKRAEKLEKLKSIVKKI<end>\n",
      "\t\t<start>GNNRPVNNRPQQPQQCQE<end><pad>\n",
      "\t\t<start>ILkKWKTWLKK<end><pad><pad><pad><pad><pad><pad><pad><pad>\n",
      "\t\t<start>FKKLKKLFKKIPKFLHLL<end><pad>\n",
      "\t\t<start>WFRHIFRPIHVKIHF<end><pad><pad><pad><pad>\n",
      "\tNLL Train Active: 12.088314056396484\n",
      "\tNLL Test Active: 25.974401473999023\n",
      "\tNLL Train Inactive: 35.27075958251953\n",
      "\tNLL Test Inactive: 34.3817024230957\n",
      "\n",
      "Epoch 198\n"
     ]
    },
    {
     "data": {
      "application/vnd.jupyter.widget-view+json": {
       "model_id": "5918788a37d144889c5cd00aec949042",
       "version_major": 2,
       "version_minor": 0
      },
      "text/plain": [
       "HBox(children=(FloatProgress(value=0.0, max=24.0), HTML(value='')))"
      ]
     },
     "metadata": {},
     "output_type": "display_data"
    },
    {
     "name": "stdout",
     "output_type": "stream",
     "text": [
      "\n",
      "\tExample Sequences\n",
      "\t\t<start>WKKWWKWWKK<end><pad><pad><pad><pad><pad><pad><pad><pad><pad><pad><pad><pad><pad>\n",
      "\t\t<start>WKAKWWKWKWKW<end><pad><pad><pad><pad><pad><pad><pad><pad><pad><pad><pad>\n",
      "\t\t<start>FKCRRWQWRRKK<end><pad><pad><pad><pad><pad><pad><pad><pad><pad><pad><pad>\n",
      "\t\t<start>RRRRRRRRRRRVRRRRRRRWRRR<end>\n",
      "\t\t<start>INWKKAAAWAKK<end><pad><pad><pad><pad><pad><pad><pad><pad><pad><pad><pad>\n",
      "\tNLL Train Active: 12.075057029724121\n",
      "\tNLL Test Active: 25.973342895507812\n",
      "\tNLL Train Inactive: 35.28207015991211\n",
      "\tNLL Test Inactive: 34.39687728881836\n",
      "\n",
      "Epoch 199\n"
     ]
    },
    {
     "data": {
      "application/vnd.jupyter.widget-view+json": {
       "model_id": "b2a8994cd1524a0489767609351988d2",
       "version_major": 2,
       "version_minor": 0
      },
      "text/plain": [
       "HBox(children=(FloatProgress(value=0.0, max=24.0), HTML(value='')))"
      ]
     },
     "metadata": {},
     "output_type": "display_data"
    },
    {
     "name": "stdout",
     "output_type": "stream",
     "text": [
      "\n",
      "\tExample Sequences\n",
      "\t\t<start>GLNALKKVFQGIHEKINHVQ<end>\n",
      "\t\t<start>RWRRGWWRWWRWRF<end><pad><pad><pad><pad><pad><pad>\n",
      "\t\t<start>RAVALIKKK<end><pad><pad><pad><pad><pad><pad><pad><pad><pad><pad><pad>\n",
      "\t\t<start>GWFHHIGRR<end><pad><pad><pad><pad><pad><pad><pad><pad><pad><pad><pad>\n",
      "\t\t<start>SRSGAGLQQPRL<end><pad><pad><pad><pad><pad><pad><pad><pad>\n",
      "\tNLL Train Active: 12.061656951904297\n",
      "\tNLL Test Active: 25.970420837402344\n",
      "\tNLL Train Inactive: 35.280643463134766\n",
      "\tNLL Test Inactive: 34.389892578125\n",
      "\n",
      "Epoch 200\n"
     ]
    },
    {
     "data": {
      "application/vnd.jupyter.widget-view+json": {
       "model_id": "276cb8893a744074be355e55df204a25",
       "version_major": 2,
       "version_minor": 0
      },
      "text/plain": [
       "HBox(children=(FloatProgress(value=0.0, max=24.0), HTML(value='')))"
      ]
     },
     "metadata": {},
     "output_type": "display_data"
    },
    {
     "name": "stdout",
     "output_type": "stream",
     "text": [
      "\n",
      "\tExample Sequences\n",
      "\t\t<start>KIAGKIAKIAGKIAKI<end><pad><pad><pad><pad><pad><pad><pad><pad><pad><pad><pad><pad><pad><pad><pad><pad><pad><pad><pad><pad><pad><pad><pad><pad><pad>\n",
      "\t\t<start>LNALKKVFQPIHEAIKLIT<end><pad><pad><pad><pad><pad><pad><pad><pad><pad><pad><pad><pad><pad><pad><pad><pad><pad><pad><pad><pad><pad><pad>\n",
      "\t\t<start>GVFGIIIKKWIKRVGRRN<end><pad><pad><pad><pad><pad><pad><pad><pad><pad><pad><pad><pad><pad><pad><pad><pad><pad><pad><pad><pad><pad><pad><pad>\n",
      "\t\t<start>KIRGGRCSCRRTPGGSINLPHPSISSIHNVAKSGGVKKWGT<end>\n",
      "\t\t<start>GLNALKKVFQKIHKAIKKINNHVQ<end><pad><pad><pad><pad><pad><pad><pad><pad><pad><pad><pad><pad><pad><pad><pad><pad><pad>\n",
      "\tNLL Train Active: 12.04906177520752\n",
      "\tNLL Test Active: 25.968000411987305\n",
      "\tNLL Train Inactive: 35.28268814086914\n",
      "\tNLL Test Inactive: 34.39302444458008\n",
      "\n",
      "\n"
     ]
    }
   ],
   "source": [
    "if not os.path.exists(folder+\"pickles/generator_TL_gramneg_results_hem.pkl\"):\n",
    "    \n",
    "    model = Generator.load_from_file(folder+\"models/RNN-generator/ep{}.pkl\".format(epoch))\n",
    "    model.to(device)\n",
    "    vocabulary = model.vocabulary\n",
    "\n",
    "    df_training_active = df_training.query(\"activity == 1\")\n",
    "    df_test_active = df_test.query(\"activity == 1\")\n",
    "    df_training_inactive = df_training.query(\"activity == 0\")\n",
    "    df_test_inactive = df_test.query(\"activity == 0\")\n",
    "\n",
    "    training_dataset_active = Dataset(df_training_active, vocabulary, with_activity=False)\n",
    "    test_dataset_active = Dataset(df_test_active, vocabulary, with_activity=False)\n",
    "    training_dataset_inactive = Dataset(df_training_inactive, vocabulary, with_activity=False)\n",
    "    test_dataset_inactive = Dataset(df_test_inactive, vocabulary, with_activity=False)\n",
    "\n",
    "    \n",
    "    optimizer = optim.SGD(model.model.parameters(), lr = learning_rate, momentum=momentum)\n",
    "\n",
    "    # the only one used for training\n",
    "    training_dataloader_active = torch.utils.data.DataLoader(training_dataset_active, batch_size=batch_size, shuffle=True, collate_fn = collate_fn, drop_last=True, pin_memory=True, num_workers=4)\n",
    "\n",
    "    # used for evaluation\n",
    "    test_dataloader_active = torch.utils.data.DataLoader(test_dataset_active, batch_size=batch_size, shuffle=False, collate_fn = collate_fn, drop_last=False, pin_memory=True, num_workers=4)\n",
    "    training_dataloader_inactive = torch.utils.data.DataLoader(training_dataset_inactive, batch_size=batch_size, shuffle=False, collate_fn = collate_fn, drop_last=False, pin_memory=True, num_workers=4)\n",
    "    test_dataloader_inactive = torch.utils.data.DataLoader(test_dataset_inactive, batch_size=batch_size, shuffle=False, collate_fn = collate_fn, drop_last=False, pin_memory=True, num_workers=4)\n",
    "    training_dataloader_active_eval = torch.utils.data.DataLoader(training_dataset_active, batch_size=batch_size, shuffle=False, collate_fn = collate_fn, drop_last=False, pin_memory=True, num_workers=4)\n",
    "\n",
    "    training_dictionary = {}\n",
    "\n",
    "    for e in trange(1, n_epoch + 1):\n",
    "        print(\"Epoch {}\".format(e))\n",
    "        for i_batch, sample_batched in tqdm(enumerate(training_dataloader_active), total=len(training_dataloader_active) ):\n",
    "\n",
    "            seq_batched = sample_batched[0].to(model.device, non_blocking=True) \n",
    "            seq_lengths = sample_batched[1].to(model.device, non_blocking=True)\n",
    "\n",
    "            nll = model.likelihood(seq_batched, seq_lengths)\n",
    "\n",
    "            loss = nll.mean()\n",
    "\n",
    "            optimizer.zero_grad()\n",
    "            loss.backward()  \n",
    "            torch.nn.utils.clip_grad_value_(model.model.parameters(), 2)\n",
    "            optimizer.step()\n",
    "\n",
    "        model.save(folder+\"models/RNN-generator-TL-hem/gramneg_ep{}.pkl\".format(e))\n",
    "\n",
    "\n",
    "        print(\"\\tExample Sequences\")\n",
    "        sampled_seq = model.sample(5)\n",
    "        for s in sampled_seq:\n",
    "            print(\"\\t\\t{}\".format(model.vocabulary.tensor_to_seq(s, debug=True)))\n",
    "\n",
    "        nll_training = []\n",
    "        with torch.no_grad():\n",
    "            for i_batch, sample_batched in enumerate(training_dataloader_active_eval):    \n",
    "                seq_batched = sample_batched[0].to(model.device, non_blocking=True) \n",
    "                seq_lengths = sample_batched[1].to(model.device, non_blocking=True) \n",
    "\n",
    "                nll_training += model.likelihood(seq_batched, seq_lengths)\n",
    "\n",
    "        nll_training_active_mean = torch.stack(nll_training).mean().item()\n",
    "        print(\"\\tNLL Train Active: {}\".format(nll_training_active_mean))\n",
    "        del nll_training\n",
    "\n",
    "        nll_test = []\n",
    "        with torch.no_grad():\n",
    "            for i_batch, sample_batched in enumerate(test_dataloader_active):    \n",
    "                seq_batched = sample_batched[0].to(model.device, non_blocking=True) \n",
    "                seq_lengths = sample_batched[1].to(model.device, non_blocking=True) \n",
    "\n",
    "                nll_test += model.likelihood(seq_batched, seq_lengths)\n",
    "\n",
    "        nll_test_active_mean = torch.stack(nll_test).mean().item()\n",
    "        print(\"\\tNLL Test Active: {}\".format(nll_test_active_mean))\n",
    "        del nll_test\n",
    "\n",
    "        nll_training = []\n",
    "        with torch.no_grad():\n",
    "            for i_batch, sample_batched in enumerate(training_dataloader_inactive):    \n",
    "                seq_batched = sample_batched[0].to(model.device, non_blocking=True) \n",
    "                seq_lengths = sample_batched[1].to(model.device, non_blocking=True) \n",
    "\n",
    "                nll_training += model.likelihood(seq_batched, seq_lengths)\n",
    "\n",
    "        nll_training_inactive_mean = torch.stack(nll_training).mean().item()\n",
    "        print(\"\\tNLL Train Inactive: {}\".format(nll_training_inactive_mean))\n",
    "        del nll_training\n",
    "\n",
    "        nll_test = []\n",
    "        with torch.no_grad():\n",
    "            for i_batch, sample_batched in enumerate(test_dataloader_inactive):    \n",
    "                seq_batched = sample_batched[0].to(model.device, non_blocking=True) \n",
    "                seq_lengths = sample_batched[1].to(model.device, non_blocking=True) \n",
    "\n",
    "                nll_test += model.likelihood(seq_batched, seq_lengths)\n",
    "\n",
    "        nll_test_inactive_mean = torch.stack(nll_test).mean().item()\n",
    "        print(\"\\tNLL Test Inactive: {}\".format(nll_test_inactive_mean))\n",
    "        del nll_test\n",
    "        print()\n",
    "\n",
    "        training_dictionary[e]=[nll_training_active_mean, nll_test_active_mean, nll_training_inactive_mean, nll_test_inactive_mean]\n",
    "    \n",
    "    with open(folder+\"pickles/generator_TL_gramneg_results_hem.pkl\",'wb') as fd:\n",
    "        pickle.dump(training_dictionary, fd)\n",
    "    \n",
    "else:\n",
    "    with open(folder+\"pickles/generator_TL_gramneg_results_hem.pkl\",'rb') as fd:\n",
    "        training_dictionary = pickle.load(fd)\n",
    "\n",
    "min_nll_test_active = float(\"inf\")\n",
    "for epoch, training_values in training_dictionary.items():\n",
    "    nll_test_active = training_values[1]\n",
    "\n",
    "    if nll_test_active < min_nll_test_active:\n",
    "        best_epoch = epoch\n",
    "        min_nll_test_active = nll_test_active"
   ]
  },
  {
   "cell_type": "markdown",
   "metadata": {},
   "source": [
    "# Sampling evaluation"
   ]
  },
  {
   "cell_type": "code",
   "execution_count": 7,
   "metadata": {},
   "outputs": [
    {
     "name": "stdout",
     "output_type": "stream",
     "text": [
      "200\n"
     ]
    }
   ],
   "source": [
    "print(best_epoch)\n",
    "model = Generator.load_from_file(folder+\"models/RNN-generator-TL-hem/gramneg_ep{}.pkl\".format(best_epoch))"
   ]
  },
  {
   "cell_type": "markdown",
   "metadata": {},
   "source": [
    "199"
   ]
  },
  {
   "cell_type": "code",
   "execution_count": 8,
   "metadata": {},
   "outputs": [],
   "source": [
    "training_seq = df_training.Sequence.values.tolist()\n",
    "\n",
    "def _sample(model, n):\n",
    "    sampled_seq = model.sample(n)\n",
    "    sequences = []\n",
    "    for s in sampled_seq:\n",
    "        sequences.append(model.vocabulary.tensor_to_seq(s))\n",
    "    return sequences\n",
    "\n",
    "def novelty(seqs, list_):\n",
    "    novel_seq = []\n",
    "    for s in seqs:\n",
    "        if s not in list_:\n",
    "            novel_seq.append(s)\n",
    "    return novel_seq, (len(novel_seq)/len(seqs))*100\n",
    "\n",
    "def is_in_training(seq, list_ = training_seq):\n",
    "    if seq not in list_:\n",
    "        return False\n",
    "    else:\n",
    "        return True\n",
    "\n",
    "def uniqueness(seqs):\n",
    "    unique_seqs = defaultdict(int)\n",
    "    for s in seqs:\n",
    "        unique_seqs[s] += 1\n",
    "    return unique_seqs, (len(unique_seqs)/len(seqs))*100"
   ]
  },
  {
   "cell_type": "code",
   "execution_count": 9,
   "metadata": {},
   "outputs": [],
   "source": [
    "# sample\n",
    "seqs = _sample(model, 50000)\n",
    "unique_seqs, perc_uniqueness = uniqueness(seqs)\n",
    "notintraining_seqs, perc_novelty = novelty(unique_seqs, training_seq)\n",
    "\n",
    "\n",
    "# create dataframe\n",
    "df_generated = pd.DataFrame(list(unique_seqs.keys()), columns =['Sequence']) \n",
    "df_generated[\"Repetition\"] = df_generated[\"Sequence\"].map(lambda x: unique_seqs[x])\n",
    "df_generated[\"inTraining\"] = df_generated[\"Sequence\"].map(is_in_training)\n",
    "df_generated[\"Set\"] = \"generated-TL-GN-hem\"\n",
    "\n",
    "# save\n",
    "df_generated.to_pickle(folder+\"pickles/Generated-TL-gramneg-hem.pkl\")"
   ]
  },
  {
   "cell_type": "code",
   "execution_count": 10,
   "metadata": {},
   "outputs": [
    {
     "name": "stdout",
     "output_type": "stream",
     "text": [
      "82.89999999999999 99.61158021712907\n"
     ]
    }
   ],
   "source": [
    "print(perc_uniqueness, perc_novelty)"
   ]
  },
  {
   "cell_type": "markdown",
   "metadata": {},
   "source": [
    "82.89999999999999 99.61158021712907"
   ]
  },
  {
   "cell_type": "code",
   "execution_count": null,
   "metadata": {},
   "outputs": [],
   "source": []
  }
 ],
 "metadata": {
  "kernelspec": {
   "display_name": "Python 3",
   "language": "python",
   "name": "python3"
  },
  "language_info": {
   "codemirror_mode": {
    "name": "ipython",
    "version": 3
   },
   "file_extension": ".py",
   "mimetype": "text/x-python",
   "name": "python",
   "nbconvert_exporter": "python",
   "pygments_lexer": "ipython3",
   "version": "3.6.10"
  }
 },
 "nbformat": 4,
 "nbformat_minor": 4
}
