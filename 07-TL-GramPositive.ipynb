{
 "cells": [
  {
   "cell_type": "code",
   "execution_count": 1,
   "metadata": {},
   "outputs": [
    {
     "name": "stdout",
     "output_type": "stream",
     "text": [
      "INFO: Pandarallel will run on 8 workers.\n",
      "INFO: Pandarallel will use Memory file system to transfer data between the main process and workers.\n"
     ]
    }
   ],
   "source": [
    "import random\n",
    "import torch.nn as nn\n",
    "import torch\n",
    "import pickle\n",
    "import pandas as pd\n",
    "from pandas import Series, DataFrame\n",
    "from pandarallel import pandarallel\n",
    "pandarallel.initialize(progress_bar=False)\n",
    "from sklearn.metrics import roc_auc_score, roc_curve, accuracy_score, matthews_corrcoef, f1_score, precision_score, recall_score\n",
    "import numpy as np\n",
    "import torch.optim as optim\n",
    "folder = \"/data/AIpep-clean/\"\n",
    "import matplotlib.pyplot as plt\n",
    "from vocabulary import Vocabulary\n",
    "from datasethem import Dataset\n",
    "from datasethem import collate_fn_no_activity as collate_fn\n",
    "from models import Generator\n",
    "from tqdm.autonotebook  import trange, tqdm\n",
    "import os\n",
    "from collections import defaultdict"
   ]
  },
  {
   "cell_type": "markdown",
   "metadata": {},
   "source": [
    "# Load data"
   ]
  },
  {
   "cell_type": "code",
   "execution_count": 2,
   "metadata": {},
   "outputs": [],
   "source": [
    "df = pd.read_pickle(folder + \"pickles/DAASP_RNN_dataset_with_hemolysis.plk\")\n",
    "\n",
    "df_training = df.query(\"Set == 'training' and aureus == True and isNotHemolytic==1\")\n",
    "df_test = df.query(\"Set == 'test' and aureus == True and isNotHemolytic==1\")\n",
    "\n",
    "if torch.cuda.is_available():\n",
    "    device = \"cuda\" \n",
    "else:\n",
    "    device = \"cpu\" "
   ]
  },
  {
   "cell_type": "code",
   "execution_count": 3,
   "metadata": {},
   "outputs": [
    {
     "name": "stdout",
     "output_type": "stream",
     "text": [
      "Against S. aureus:\n",
      "active training 321\n",
      "active test 89\n",
      "inactive training 137\n",
      "inactive test 39\n"
     ]
    }
   ],
   "source": [
    "print(\"Against S. aureus:\\nactive training \"+ str(len(df_training[df_training[\"activity\"]==1])) \\\n",
    "      + \"\\nactive test \" + str(len(df_test[df_test[\"activity\"]==1])) \\\n",
    "      + \"\\ninactive training \"+ str(len(df_training[df_training[\"activity\"]==0])) \\\n",
    "      + \"\\ninactive test \" + str(len(df_test[df_test[\"activity\"]==0])))"
   ]
  },
  {
   "cell_type": "markdown",
   "metadata": {},
   "source": [
    "# Define helper functions"
   ]
  },
  {
   "cell_type": "code",
   "execution_count": 4,
   "metadata": {},
   "outputs": [],
   "source": [
    "def randomChoice(l):\n",
    "    return l[random.randint(0, len(l) - 1)]\n",
    "\n",
    "def categoryFromOutput(output):\n",
    "    top_n, top_i = output.topk(1)\n",
    "    category_i = top_i[0].item()\n",
    "    return category_i\n",
    "\n",
    "def nan_equal(a,b):\n",
    "    try:\n",
    "        np.testing.assert_equal(a,b)\n",
    "    except AssertionError:\n",
    "        return False\n",
    "    return True\n",
    "\n",
    "def models_are_equal(model1, model2):\n",
    "    model1.vocabulary == model2.vocabulary\n",
    "    model1.hidden_size == model2.hidden_size\n",
    "    for a,b in zip(model1.model.parameters(), model2.model.parameters()):\n",
    "        if nan_equal(a.detach().numpy(), b.detach().numpy()) == True:\n",
    "            print(\"true\")"
   ]
  },
  {
   "cell_type": "markdown",
   "metadata": {},
   "source": [
    "# Define hyper parameters"
   ]
  },
  {
   "cell_type": "code",
   "execution_count": 5,
   "metadata": {},
   "outputs": [],
   "source": [
    "n_embedding  = 100\n",
    "n_hidden = 400\n",
    "n_layers = 2\n",
    "n_epoch = 200\n",
    "learning_rate = 0.00001\n",
    "momentum = 0.9\n",
    "batch_size = 10\n",
    "epoch = 22"
   ]
  },
  {
   "cell_type": "markdown",
   "metadata": {},
   "source": [
    "# Loading and Training"
   ]
  },
  {
   "cell_type": "code",
   "execution_count": 6,
   "metadata": {},
   "outputs": [
    {
     "data": {
      "application/vnd.jupyter.widget-view+json": {
       "model_id": "99cde23b36bc4bd18d0b1f21daa37e06",
       "version_major": 2,
       "version_minor": 0
      },
      "text/plain": [
       "HBox(children=(FloatProgress(value=0.0, max=200.0), HTML(value='')))"
      ]
     },
     "metadata": {},
     "output_type": "display_data"
    },
    {
     "name": "stdout",
     "output_type": "stream",
     "text": [
      "Epoch 1\n"
     ]
    },
    {
     "data": {
      "application/vnd.jupyter.widget-view+json": {
       "model_id": "61cd98d9773a4686bc4639edee0dcda0",
       "version_major": 2,
       "version_minor": 0
      },
      "text/plain": [
       "HBox(children=(FloatProgress(value=0.0, max=32.0), HTML(value='')))"
      ]
     },
     "metadata": {},
     "output_type": "display_data"
    },
    {
     "name": "stdout",
     "output_type": "stream",
     "text": [
      "\n",
      "\tExample Sequences\n",
      "\t\t<start>RGDKRPYRPRPRPPRRIYNRG<end>\n",
      "\t\t<start>RAKRHHGYKRKFH<end><pad><pad><pad><pad><pad><pad><pad><pad>\n",
      "\t\t<start>ILPWKLPWWPWRR<end><pad><pad><pad><pad><pad><pad><pad><pad>\n",
      "\t\t<start>GLLSLLGKALLHLGQLL<end><pad><pad><pad><pad>\n",
      "\t\t<start>vkvkaavkalhlGkkahy<end><pad><pad><pad>\n",
      "\tNLL Train Active: 17.657602310180664\n",
      "\tNLL Test Active: 25.938371658325195\n",
      "\tNLL Train Inactive: 35.9663200378418\n",
      "\tNLL Test Inactive: 39.14516067504883\n",
      "\n",
      "Epoch 2\n"
     ]
    },
    {
     "data": {
      "application/vnd.jupyter.widget-view+json": {
       "model_id": "e98c63fd3a89443fbcd1646da4676176",
       "version_major": 2,
       "version_minor": 0
      },
      "text/plain": [
       "HBox(children=(FloatProgress(value=0.0, max=32.0), HTML(value='')))"
      ]
     },
     "metadata": {},
     "output_type": "display_data"
    },
    {
     "name": "stdout",
     "output_type": "stream",
     "text": [
      "\n",
      "\tExample Sequences\n",
      "\t\t<start>VnKVPLKKLRQIGRKRISKIRPHRTK<end>\n",
      "\t\t<start>LRCARRHRHRH<end><pad><pad><pad><pad><pad><pad><pad><pad><pad><pad><pad><pad><pad><pad><pad>\n",
      "\t\t<start>KWWLfKpWKpGWK<end><pad><pad><pad><pad><pad><pad><pad><pad><pad><pad><pad><pad><pad>\n",
      "\t\t<start>WFWHIKRVVRGWRRWV<end><pad><pad><pad><pad><pad><pad><pad><pad><pad><pad>\n",
      "\t\t<start>APKKVKKLAKRGFKKYKNYK<end><pad><pad><pad><pad><pad><pad>\n",
      "\tNLL Train Active: 17.420150756835938\n",
      "\tNLL Test Active: 25.76340103149414\n",
      "\tNLL Train Inactive: 35.85044860839844\n",
      "\tNLL Test Inactive: 39.069820404052734\n",
      "\n",
      "Epoch 3\n"
     ]
    },
    {
     "data": {
      "application/vnd.jupyter.widget-view+json": {
       "model_id": "7a8346e878704f57b451d4e8f93546d1",
       "version_major": 2,
       "version_minor": 0
      },
      "text/plain": [
       "HBox(children=(FloatProgress(value=0.0, max=32.0), HTML(value='')))"
      ]
     },
     "metadata": {},
     "output_type": "display_data"
    },
    {
     "name": "stdout",
     "output_type": "stream",
     "text": [
      "\n",
      "\tExample Sequences\n",
      "\t\t<start>LLkKVFKRLaKGI<end><pad><pad><pad><pad>\n",
      "\t\t<start>FFHHIFRAIVHVVKTVG<end>\n",
      "\t\t<start>IRIIWRLCIRVWR<end><pad><pad><pad><pad>\n",
      "\t\t<start>ILPWKWPWKWPWKR<end><pad><pad><pad>\n",
      "\t\t<start>WWRWRWRpGRWWWRR<end><pad><pad>\n",
      "\tNLL Train Active: 17.22064208984375\n",
      "\tNLL Test Active: 25.624237060546875\n",
      "\tNLL Train Inactive: 35.75004959106445\n",
      "\tNLL Test Inactive: 38.993812561035156\n",
      "\n",
      "Epoch 4\n"
     ]
    },
    {
     "data": {
      "application/vnd.jupyter.widget-view+json": {
       "model_id": "1aad16569291464b89ae7d04791a321c",
       "version_major": 2,
       "version_minor": 0
      },
      "text/plain": [
       "HBox(children=(FloatProgress(value=0.0, max=32.0), HTML(value='')))"
      ]
     },
     "metadata": {},
     "output_type": "display_data"
    },
    {
     "name": "stdout",
     "output_type": "stream",
     "text": [
      "\n",
      "\tExample Sequences\n",
      "\t\t<start>FFGWLIKGAIHAPKHIHPK<end><pad><pad><pad><pad><pad><pad><pad>\n",
      "\t\t<start>FLGKiLRLGKGLKGLL<end><pad><pad><pad><pad><pad><pad><pad><pad><pad><pad>\n",
      "\t\t<start>VDKKPYKPRRRPPRRIYNR<end><pad><pad><pad><pad><pad><pad><pad>\n",
      "\t\t<start>KWSKIWPGVKKLIKGLF<end><pad><pad><pad><pad><pad><pad><pad><pad><pad>\n",
      "\t\t<start>GFWGKVADVIGRVAGRVLGGAVTRRS<end>\n",
      "\tNLL Train Active: 17.04739761352539\n",
      "\tNLL Test Active: 25.5029354095459\n",
      "\tNLL Train Inactive: 35.6693229675293\n",
      "\tNLL Test Inactive: 38.937294006347656\n",
      "\n",
      "Epoch 5\n"
     ]
    },
    {
     "data": {
      "application/vnd.jupyter.widget-view+json": {
       "model_id": "f4d76957910d464da159594d15e25833",
       "version_major": 2,
       "version_minor": 0
      },
      "text/plain": [
       "HBox(children=(FloatProgress(value=0.0, max=32.0), HTML(value='')))"
      ]
     },
     "metadata": {},
     "output_type": "display_data"
    },
    {
     "name": "stdout",
     "output_type": "stream",
     "text": [
      "\n",
      "\tExample Sequences\n",
      "\t\t<start>DIWQKIQSMLNKAAKHIAK<end><pad><pad>\n",
      "\t\t<start>RLLRRVWRRVLKVLRAW<end><pad><pad><pad><pad>\n",
      "\t\t<start>DSHKRHRHRHHK<end><pad><pad><pad><pad><pad><pad><pad><pad><pad>\n",
      "\t\t<start>ffhhfGkhklhhyLkhGskkk<end>\n",
      "\t\t<start>GKPRPTYPFPFYWFYR<end><pad><pad><pad><pad><pad>\n",
      "\tNLL Train Active: 16.897968292236328\n",
      "\tNLL Test Active: 25.406532287597656\n",
      "\tNLL Train Inactive: 35.594207763671875\n",
      "\tNLL Test Inactive: 38.88587951660156\n",
      "\n",
      "Epoch 6\n"
     ]
    },
    {
     "data": {
      "application/vnd.jupyter.widget-view+json": {
       "model_id": "51b41e8c8dc54152a57f39e265153ae7",
       "version_major": 2,
       "version_minor": 0
      },
      "text/plain": [
       "HBox(children=(FloatProgress(value=0.0, max=32.0), HTML(value='')))"
      ]
     },
     "metadata": {},
     "output_type": "display_data"
    },
    {
     "name": "stdout",
     "output_type": "stream",
     "text": [
      "\n",
      "\tExample Sequences\n",
      "\t\t<start>KSKSDIGKVLDKFSKDMDVTDATQIQ<end>\n",
      "\t\t<start>KWKLFKKILKYL<end><pad><pad><pad><pad><pad><pad><pad><pad><pad><pad><pad><pad><pad><pad>\n",
      "\t\t<start>GSFTKYICKFWCKFFRFFK<end><pad><pad><pad><pad><pad><pad><pad>\n",
      "\t\t<start>TVQQQAFLADK<end><pad><pad><pad><pad><pad><pad><pad><pad><pad><pad><pad><pad><pad><pad><pad>\n",
      "\t\t<start>KWKSKIKKILKRLVK<end><pad><pad><pad><pad><pad><pad><pad><pad><pad><pad><pad>\n",
      "\tNLL Train Active: 16.757099151611328\n",
      "\tNLL Test Active: 25.323060989379883\n",
      "\tNLL Train Inactive: 35.529354095458984\n",
      "\tNLL Test Inactive: 38.82935333251953\n",
      "\n",
      "Epoch 7\n"
     ]
    },
    {
     "data": {
      "application/vnd.jupyter.widget-view+json": {
       "model_id": "e35b01b8d7084060acdc0add934ee4a8",
       "version_major": 2,
       "version_minor": 0
      },
      "text/plain": [
       "HBox(children=(FloatProgress(value=0.0, max=32.0), HTML(value='')))"
      ]
     },
     "metadata": {},
     "output_type": "display_data"
    },
    {
     "name": "stdout",
     "output_type": "stream",
     "text": [
      "\n",
      "\tExample Sequences\n",
      "\t\t<start>VDKRPYWRRPKKP<end><pad><pad><pad><pad><pad><pad><pad>\n",
      "\t\t<start>KRVKRVRRVVRRLVRLI<end><pad><pad><pad>\n",
      "\t\t<start>RAGRGLGRRLGKFLRKAKKA<end>\n",
      "\t\t<start>LNWKKILGKIIKVVK<end><pad><pad><pad><pad><pad>\n",
      "\t\t<start>RKKRKIIIK<end><pad><pad><pad><pad><pad><pad><pad><pad><pad><pad><pad>\n",
      "\tNLL Train Active: 16.63027000427246\n",
      "\tNLL Test Active: 25.249862670898438\n",
      "\tNLL Train Inactive: 35.45631790161133\n",
      "\tNLL Test Inactive: 38.76765060424805\n",
      "\n",
      "Epoch 8\n"
     ]
    },
    {
     "data": {
      "application/vnd.jupyter.widget-view+json": {
       "model_id": "ef90a3a5610849cfa30803d60b94921c",
       "version_major": 2,
       "version_minor": 0
      },
      "text/plain": [
       "HBox(children=(FloatProgress(value=0.0, max=32.0), HTML(value='')))"
      ]
     },
     "metadata": {},
     "output_type": "display_data"
    },
    {
     "name": "stdout",
     "output_type": "stream",
     "text": [
      "\n",
      "\tExample Sequences\n",
      "\t\t<start>LKKLWKRVAGIIK<end><pad><pad><pad><pad><pad><pad><pad><pad><pad><pad><pad><pad><pad><pad><pad><pad><pad><pad><pad><pad><pad><pad><pad>\n",
      "\t\t<start>GNNNRPVYIPRPRPPHPRPGKVHPRL<end><pad><pad><pad><pad><pad><pad><pad><pad><pad><pad>\n",
      "\t\t<start>GNKRPYKPRPRPPHPRNPRL<end><pad><pad><pad><pad><pad><pad><pad><pad><pad><pad><pad><pad><pad><pad><pad><pad>\n",
      "\t\t<start>GLRKRLRKFRNKIKEKLKKIGQKIQGFLPKLAPRTY<end>\n",
      "\t\t<start>GKRQWQPNKNKTFLH<end><pad><pad><pad><pad><pad><pad><pad><pad><pad><pad><pad><pad><pad><pad><pad><pad><pad><pad><pad><pad><pad>\n",
      "\tNLL Train Active: 16.515438079833984\n",
      "\tNLL Test Active: 25.183137893676758\n",
      "\tNLL Train Inactive: 35.404239654541016\n",
      "\tNLL Test Inactive: 38.724822998046875\n",
      "\n",
      "Epoch 9\n"
     ]
    },
    {
     "data": {
      "application/vnd.jupyter.widget-view+json": {
       "model_id": "01000d10eedc4d9fb0ff28239258028f",
       "version_major": 2,
       "version_minor": 0
      },
      "text/plain": [
       "HBox(children=(FloatProgress(value=0.0, max=32.0), HTML(value='')))"
      ]
     },
     "metadata": {},
     "output_type": "display_data"
    },
    {
     "name": "stdout",
     "output_type": "stream",
     "text": [
      "\n",
      "\tExample Sequences\n",
      "\t\t<start>NWAQKIWHIYKYGKKV<end><pad><pad><pad><pad><pad><pad><pad><pad><pad><pad><pad>\n",
      "\t\t<start>RRLRPRRPRPGRWPRWRPGRWWRPGRW<end>\n",
      "\t\t<start>KWKSFLKTFKkAAKTVLHTALKAISS<end><pad>\n",
      "\t\t<start>AIPISIGLGKLF<end><pad><pad><pad><pad><pad><pad><pad><pad><pad><pad><pad><pad><pad><pad><pad>\n",
      "\t\t<start>KWKSFLKTFKSAKKTVLHTALKAISS<end><pad>\n",
      "\tNLL Train Active: 16.408769607543945\n",
      "\tNLL Test Active: 25.129602432250977\n",
      "\tNLL Train Inactive: 35.36009216308594\n",
      "\tNLL Test Inactive: 38.69023132324219\n",
      "\n",
      "Epoch 10\n"
     ]
    },
    {
     "data": {
      "application/vnd.jupyter.widget-view+json": {
       "model_id": "03f3ed69deef4c2187a3fcabc871217e",
       "version_major": 2,
       "version_minor": 0
      },
      "text/plain": [
       "HBox(children=(FloatProgress(value=0.0, max=32.0), HTML(value='')))"
      ]
     },
     "metadata": {},
     "output_type": "display_data"
    },
    {
     "name": "stdout",
     "output_type": "stream",
     "text": [
      "\n",
      "\tExample Sequences\n",
      "\t\t<start>RRRRWWWWRRRK<end><pad><pad><pad><pad><pad><pad><pad><pad><pad><pad><pad><pad><pad><pad><pad><pad><pad>\n",
      "\t\t<start>GALHKVFKAIKKVLKKL<end><pad><pad><pad><pad><pad><pad><pad><pad><pad><pad><pad><pad>\n",
      "\t\t<start>ENLRKRIRDIIRYKKDIFKCPPYLPRPRW<end>\n",
      "\t\t<start>GILSSLAGKLL<end><pad><pad><pad><pad><pad><pad><pad><pad><pad><pad><pad><pad><pad><pad><pad><pad><pad><pad>\n",
      "\t\t<start>KVKRHSWRKVRKHGSKH<end><pad><pad><pad><pad><pad><pad><pad><pad><pad><pad><pad><pad>\n",
      "\tNLL Train Active: 16.305692672729492\n",
      "\tNLL Test Active: 25.076133728027344\n",
      "\tNLL Train Inactive: 35.309749603271484\n",
      "\tNLL Test Inactive: 38.63935470581055\n",
      "\n",
      "Epoch 11\n"
     ]
    },
    {
     "data": {
      "application/vnd.jupyter.widget-view+json": {
       "model_id": "54213a8343cb4ee59870305d297323e1",
       "version_major": 2,
       "version_minor": 0
      },
      "text/plain": [
       "HBox(children=(FloatProgress(value=0.0, max=32.0), HTML(value='')))"
      ]
     },
     "metadata": {},
     "output_type": "display_data"
    },
    {
     "name": "stdout",
     "output_type": "stream",
     "text": [
      "\n",
      "\tExample Sequences\n",
      "\t\t<start>SKWWRWKWRG<end><pad><pad><pad><pad><pad><pad><pad><pad><pad><pad><pad><pad><pad><pad><pad><pad><pad>\n",
      "\t\t<start>GRFKRFRKKLKKLFKKLSPVIPLLHL<end><pad>\n",
      "\t\t<start>VHGSIGRLYRNGVKKVKKVLKKVKKLV<end>\n",
      "\t\t<start>RWRWWWRRWF<end><pad><pad><pad><pad><pad><pad><pad><pad><pad><pad><pad><pad><pad><pad><pad><pad><pad>\n",
      "\t\t<start>LLKAVAKLAKKLAKKLKKALR<end><pad><pad><pad><pad><pad><pad>\n",
      "\tNLL Train Active: 16.211366653442383\n",
      "\tNLL Test Active: 25.026586532592773\n",
      "\tNLL Train Inactive: 35.269981384277344\n",
      "\tNLL Test Inactive: 38.6107292175293\n",
      "\n",
      "Epoch 12\n"
     ]
    },
    {
     "data": {
      "application/vnd.jupyter.widget-view+json": {
       "model_id": "723005fef77840e7b9bc661ba49749c1",
       "version_major": 2,
       "version_minor": 0
      },
      "text/plain": [
       "HBox(children=(FloatProgress(value=0.0, max=32.0), HTML(value='')))"
      ]
     },
     "metadata": {},
     "output_type": "display_data"
    },
    {
     "name": "stdout",
     "output_type": "stream",
     "text": [
      "\n",
      "\tExample Sequences\n",
      "\t\t<start>GLFAVIKKVASVIAGL<end><pad><pad><pad><pad><pad><pad><pad><pad><pad><pad><pad>\n",
      "\t\t<start>RRAKIWVIRVRR<end><pad><pad><pad><pad><pad><pad><pad><pad><pad><pad><pad><pad><pad><pad><pad>\n",
      "\t\t<start>RFRKWPWRRLPKRRPFLRIPRPRGPRF<end>\n",
      "\t\t<start>VDKRPRRPRPPRRIYNR<end><pad><pad><pad><pad><pad><pad><pad><pad><pad><pad>\n",
      "\t\t<start>KLLKWLKKLLK<end><pad><pad><pad><pad><pad><pad><pad><pad><pad><pad><pad><pad><pad><pad><pad><pad>\n",
      "\tNLL Train Active: 16.11812973022461\n",
      "\tNLL Test Active: 24.981388092041016\n",
      "\tNLL Train Inactive: 35.22780990600586\n",
      "\tNLL Test Inactive: 38.56904983520508\n",
      "\n",
      "Epoch 13\n"
     ]
    },
    {
     "data": {
      "application/vnd.jupyter.widget-view+json": {
       "model_id": "7799e21bdc1e48cb900825e51ee1df21",
       "version_major": 2,
       "version_minor": 0
      },
      "text/plain": [
       "HBox(children=(FloatProgress(value=0.0, max=32.0), HTML(value='')))"
      ]
     },
     "metadata": {},
     "output_type": "display_data"
    },
    {
     "name": "stdout",
     "output_type": "stream",
     "text": [
      "\n",
      "\tExample Sequences\n",
      "\t\t<start>GIKKFLHSAKKFGKAFVGSIGGLINKG<end><pad>\n",
      "\t\t<start>FFHHIFRAIVHVaKTI<end><pad><pad><pad><pad><pad><pad><pad><pad><pad><pad><pad><pad>\n",
      "\t\t<start>GILSSLWKKLKKIIAK<end><pad><pad><pad><pad><pad><pad><pad><pad><pad><pad><pad><pad>\n",
      "\t\t<start>GIGGHVLGAALKGLPKLIKKLIDLFTKK<end>\n",
      "\t\t<start>AGKKTWIKQVKKLKKAVLKK<end><pad><pad><pad><pad><pad><pad><pad><pad>\n",
      "\tNLL Train Active: 16.0333251953125\n",
      "\tNLL Test Active: 24.940271377563477\n",
      "\tNLL Train Inactive: 35.18742752075195\n",
      "\tNLL Test Inactive: 38.534385681152344\n",
      "\n",
      "Epoch 14\n"
     ]
    },
    {
     "data": {
      "application/vnd.jupyter.widget-view+json": {
       "model_id": "f93ab3b349b340b08b409d3726a7bd2c",
       "version_major": 2,
       "version_minor": 0
      },
      "text/plain": [
       "HBox(children=(FloatProgress(value=0.0, max=32.0), HTML(value='')))"
      ]
     },
     "metadata": {},
     "output_type": "display_data"
    },
    {
     "name": "stdout",
     "output_type": "stream",
     "text": [
      "\n",
      "\tExample Sequences\n",
      "\t\t<start>ALWKKLLKKALKAAKAL<end><pad><pad><pad><pad><pad><pad><pad><pad><pad><pad><pad><pad><pad><pad><pad><pad><pad><pad><pad><pad><pad>\n",
      "\t\t<start>FLPIVKKILGGLF<end><pad><pad><pad><pad><pad><pad><pad><pad><pad><pad><pad><pad><pad><pad><pad><pad><pad><pad><pad><pad><pad><pad><pad><pad><pad>\n",
      "\t\t<start>FIHHIIGQLRRFF<end><pad><pad><pad><pad><pad><pad><pad><pad><pad><pad><pad><pad><pad><pad><pad><pad><pad><pad><pad><pad><pad><pad><pad><pad><pad>\n",
      "\t\t<start>ANNLKKILKKIGKVLKAIK<end><pad><pad><pad><pad><pad><pad><pad><pad><pad><pad><pad><pad><pad><pad><pad><pad><pad><pad><pad>\n",
      "\t\t<start>GKKEGKNAENLFAIVWQRFAGRFLRKIRRRFWAQRFRL<end>\n",
      "\tNLL Train Active: 15.951016426086426\n",
      "\tNLL Test Active: 24.89975929260254\n",
      "\tNLL Train Inactive: 35.15619659423828\n",
      "\tNLL Test Inactive: 38.50761795043945\n",
      "\n",
      "Epoch 15\n"
     ]
    },
    {
     "data": {
      "application/vnd.jupyter.widget-view+json": {
       "model_id": "a1a0783f53454eb29143ccbeec0e23c0",
       "version_major": 2,
       "version_minor": 0
      },
      "text/plain": [
       "HBox(children=(FloatProgress(value=0.0, max=32.0), HTML(value='')))"
      ]
     },
     "metadata": {},
     "output_type": "display_data"
    },
    {
     "name": "stdout",
     "output_type": "stream",
     "text": [
      "\n",
      "\tExample Sequences\n",
      "\t\t<start>WRWRWRRWRpFGR<end><pad><pad><pad><pad><pad><pad><pad><pad><pad><pad><pad><pad>\n",
      "\t\t<start>KLVKKIEKGAKIVAGML<end><pad><pad><pad><pad><pad><pad><pad><pad>\n",
      "\t\t<start>AKKHVKKPVKKPWKVPKVKPKFKKK<end>\n",
      "\t\t<start>KARILkRLYRRYQRRIMRILRRRR<end><pad>\n",
      "\t\t<start>GWGSIFKHIGRAAGHVGKAIHGAV<end><pad>\n",
      "\tNLL Train Active: 15.873274803161621\n",
      "\tNLL Test Active: 24.86322593688965\n",
      "\tNLL Train Inactive: 35.13251495361328\n",
      "\tNLL Test Inactive: 38.48260498046875\n",
      "\n",
      "Epoch 16\n"
     ]
    },
    {
     "data": {
      "application/vnd.jupyter.widget-view+json": {
       "model_id": "632a872de2794ef58729143e8af21eb6",
       "version_major": 2,
       "version_minor": 0
      },
      "text/plain": [
       "HBox(children=(FloatProgress(value=0.0, max=32.0), HTML(value='')))"
      ]
     },
     "metadata": {},
     "output_type": "display_data"
    },
    {
     "name": "stdout",
     "output_type": "stream",
     "text": [
      "\n",
      "\tExample Sequences\n",
      "\t\t<start>VKRFKKFFKKLKKSVKK<end><pad><pad><pad><pad><pad><pad><pad><pad><pad>\n",
      "\t\t<start>VRRFPWWPWAPFRR<end><pad><pad><pad><pad><pad><pad><pad><pad><pad><pad><pad><pad>\n",
      "\t\t<start>RKAKIIKKIL<end><pad><pad><pad><pad><pad><pad><pad><pad><pad><pad><pad><pad><pad><pad><pad><pad>\n",
      "\t\t<start>GIFKTIAKVALKIL<end><pad><pad><pad><pad><pad><pad><pad><pad><pad><pad><pad><pad>\n",
      "\t\t<start>GIGAVLKVLTTGLPALISWIKRKRQQ<end>\n",
      "\tNLL Train Active: 15.799683570861816\n",
      "\tNLL Test Active: 24.83356475830078\n",
      "\tNLL Train Inactive: 35.094810485839844\n",
      "\tNLL Test Inactive: 38.443321228027344\n",
      "\n",
      "Epoch 17\n"
     ]
    },
    {
     "data": {
      "application/vnd.jupyter.widget-view+json": {
       "model_id": "34ad7f2e0fcd4eb4896f064b1fc9ddc2",
       "version_major": 2,
       "version_minor": 0
      },
      "text/plain": [
       "HBox(children=(FloatProgress(value=0.0, max=32.0), HTML(value='')))"
      ]
     },
     "metadata": {},
     "output_type": "display_data"
    },
    {
     "name": "stdout",
     "output_type": "stream",
     "text": [
      "\n",
      "\tExample Sequences\n",
      "\t\t<start>AKRLKKAFKKLKKLFKK<end><pad><pad><pad><pad><pad><pad><pad><pad>\n",
      "\t\t<start>KWKKWWWK<end><pad><pad><pad><pad><pad><pad><pad><pad><pad><pad><pad><pad><pad><pad><pad><pad><pad>\n",
      "\t\t<start>FLGPLWPLVKGAIPLAIRA<end><pad><pad><pad><pad><pad><pad>\n",
      "\t\t<start>kklallalkkalkkllalalklakk<end>\n",
      "\t\t<start>IAGKIAKIAGKIAKIAG<end><pad><pad><pad><pad><pad><pad><pad><pad>\n",
      "\tNLL Train Active: 15.72652816772461\n",
      "\tNLL Test Active: 24.801782608032227\n",
      "\tNLL Train Inactive: 35.06918716430664\n",
      "\tNLL Test Inactive: 38.413639068603516\n",
      "\n",
      "Epoch 18\n"
     ]
    },
    {
     "data": {
      "application/vnd.jupyter.widget-view+json": {
       "model_id": "d5983274deef4e2b8ec7bea6eb10ba47",
       "version_major": 2,
       "version_minor": 0
      },
      "text/plain": [
       "HBox(children=(FloatProgress(value=0.0, max=32.0), HTML(value='')))"
      ]
     },
     "metadata": {},
     "output_type": "display_data"
    },
    {
     "name": "stdout",
     "output_type": "stream",
     "text": [
      "\n",
      "\tExample Sequences\n",
      "\t\t<start>KWKSFLKTFKSAAKTVLHTALKAISS<end>\n",
      "\t\t<start>RIGSILGRAIGGLRRALRKVSRLG<end><pad><pad>\n",
      "\t\t<start>KLFKKILKFL<end><pad><pad><pad><pad><pad><pad><pad><pad><pad><pad><pad><pad><pad><pad><pad><pad>\n",
      "\t\t<start>KKKKKKILKRIAKIIKK<end><pad><pad><pad><pad><pad><pad><pad><pad><pad>\n",
      "\t\t<start>VRRFWRFLRR<end><pad><pad><pad><pad><pad><pad><pad><pad><pad><pad><pad><pad><pad><pad><pad><pad>\n",
      "\tNLL Train Active: 15.658001899719238\n",
      "\tNLL Test Active: 24.77098274230957\n",
      "\tNLL Train Inactive: 35.044898986816406\n",
      "\tNLL Test Inactive: 38.39826965332031\n",
      "\n",
      "Epoch 19\n"
     ]
    },
    {
     "data": {
      "application/vnd.jupyter.widget-view+json": {
       "model_id": "5f0447b17377438d9f760dbb2f9c65cf",
       "version_major": 2,
       "version_minor": 0
      },
      "text/plain": [
       "HBox(children=(FloatProgress(value=0.0, max=32.0), HTML(value='')))"
      ]
     },
     "metadata": {},
     "output_type": "display_data"
    },
    {
     "name": "stdout",
     "output_type": "stream",
     "text": [
      "\n",
      "\tExample Sequences\n",
      "\t\t<start>GKGKQFLGTIMKGLFGVKEISGTAIAM<end><pad><pad><pad><pad><pad><pad><pad><pad><pad><pad><pad><pad><pad><pad><pad><pad><pad><pad><pad><pad><pad><pad><pad><pad><pad><pad><pad><pad><pad><pad><pad><pad><pad><pad><pad><pad><pad><pad><pad><pad><pad><pad><pad><pad><pad><pad><pad><pad><pad><pad>\n",
      "\t\t<start>RWKIVVIRVKR<end><pad><pad><pad><pad><pad><pad><pad><pad><pad><pad><pad><pad><pad><pad><pad><pad><pad><pad><pad><pad><pad><pad><pad><pad><pad><pad><pad><pad><pad><pad><pad><pad><pad><pad><pad><pad><pad><pad><pad><pad><pad><pad><pad><pad><pad><pad><pad><pad><pad><pad><pad><pad><pad><pad><pad><pad><pad><pad><pad><pad><pad><pad><pad><pad><pad><pad>\n",
      "\t\t<start>AKRKKHRAHKKKGAMRPVKAPKKAKPKAKKAAKPKKAKKKPKKAKKKPKAAKKKVKKAGKKKLEAAGKKASEAPAQK<end>\n",
      "\t\t<start>WLPWWPWRR<end><pad><pad><pad><pad><pad><pad><pad><pad><pad><pad><pad><pad><pad><pad><pad><pad><pad><pad><pad><pad><pad><pad><pad><pad><pad><pad><pad><pad><pad><pad><pad><pad><pad><pad><pad><pad><pad><pad><pad><pad><pad><pad><pad><pad><pad><pad><pad><pad><pad><pad><pad><pad><pad><pad><pad><pad><pad><pad><pad><pad><pad><pad><pad><pad><pad><pad><pad><pad>\n",
      "\t\t<start>KWKLFKKIPKFLHLL<end><pad><pad><pad><pad><pad><pad><pad><pad><pad><pad><pad><pad><pad><pad><pad><pad><pad><pad><pad><pad><pad><pad><pad><pad><pad><pad><pad><pad><pad><pad><pad><pad><pad><pad><pad><pad><pad><pad><pad><pad><pad><pad><pad><pad><pad><pad><pad><pad><pad><pad><pad><pad><pad><pad><pad><pad><pad><pad><pad><pad><pad><pad>\n",
      "\tNLL Train Active: 15.592981338500977\n",
      "\tNLL Test Active: 24.7476749420166\n",
      "\tNLL Train Inactive: 35.028099060058594\n",
      "\tNLL Test Inactive: 38.37516784667969\n",
      "\n",
      "Epoch 20\n"
     ]
    },
    {
     "data": {
      "application/vnd.jupyter.widget-view+json": {
       "model_id": "e1fcc44ba93446e4af8c89773ab4b133",
       "version_major": 2,
       "version_minor": 0
      },
      "text/plain": [
       "HBox(children=(FloatProgress(value=0.0, max=32.0), HTML(value='')))"
      ]
     },
     "metadata": {},
     "output_type": "display_data"
    },
    {
     "name": "stdout",
     "output_type": "stream",
     "text": [
      "\n",
      "\tExample Sequences\n",
      "\t\t<start>VDKGSRPRPSSPRRRSSPKRKRKSH<end>\n",
      "\t\t<start>KKTWWKTWWTKWQPK<end><pad><pad><pad><pad><pad><pad><pad><pad><pad><pad>\n",
      "\t\t<start>AIPWIWIRWLLDKKE<end><pad><pad><pad><pad><pad><pad><pad><pad><pad><pad>\n",
      "\t\t<start>SGKGGKGGSGGKSSSK<end><pad><pad><pad><pad><pad><pad><pad><pad><pad>\n",
      "\t\t<start>KWWKLWLKWL<end><pad><pad><pad><pad><pad><pad><pad><pad><pad><pad><pad><pad><pad><pad><pad>\n",
      "\tNLL Train Active: 15.529213905334473\n",
      "\tNLL Test Active: 24.724729537963867\n",
      "\tNLL Train Inactive: 35.00636672973633\n",
      "\tNLL Test Inactive: 38.34966278076172\n",
      "\n",
      "Epoch 21\n"
     ]
    },
    {
     "data": {
      "application/vnd.jupyter.widget-view+json": {
       "model_id": "8e5eb340e5664c028e3b326b02bfcc55",
       "version_major": 2,
       "version_minor": 0
      },
      "text/plain": [
       "HBox(children=(FloatProgress(value=0.0, max=32.0), HTML(value='')))"
      ]
     },
     "metadata": {},
     "output_type": "display_data"
    },
    {
     "name": "stdout",
     "output_type": "stream",
     "text": [
      "\n",
      "\tExample Sequences\n",
      "\t\t<start>KRKKHRCRVSNNGLPTGL<end>\n",
      "\t\t<start>EAFRARISALIPWIKRWR<end>\n",
      "\t\t<start>wwkrwfr<end><pad><pad><pad><pad><pad><pad><pad><pad><pad><pad><pad>\n",
      "\t\t<start>AFWKGILKHLIR<end><pad><pad><pad><pad><pad><pad>\n",
      "\t\t<start>KKWWRWL<end><pad><pad><pad><pad><pad><pad><pad><pad><pad><pad><pad>\n",
      "\tNLL Train Active: 15.466835975646973\n",
      "\tNLL Test Active: 24.698516845703125\n",
      "\tNLL Train Inactive: 34.990718841552734\n",
      "\tNLL Test Inactive: 38.33748245239258\n",
      "\n",
      "Epoch 22\n"
     ]
    },
    {
     "data": {
      "application/vnd.jupyter.widget-view+json": {
       "model_id": "dd42e1ed6d2548e3a3528302c2296dc5",
       "version_major": 2,
       "version_minor": 0
      },
      "text/plain": [
       "HBox(children=(FloatProgress(value=0.0, max=32.0), HTML(value='')))"
      ]
     },
     "metadata": {},
     "output_type": "display_data"
    },
    {
     "name": "stdout",
     "output_type": "stream",
     "text": [
      "\n",
      "\tExample Sequences\n",
      "\t\t<start>QWGRHLVNRLEYGPNPEQEQ<end><pad><pad><pad><pad><pad><pad><pad><pad><pad><pad><pad><pad><pad><pad><pad><pad><pad>\n",
      "\t\t<start>GKWMSLLKHILK<end><pad><pad><pad><pad><pad><pad><pad><pad><pad><pad><pad><pad><pad><pad><pad><pad><pad><pad><pad><pad><pad><pad><pad><pad><pad>\n",
      "\t\t<start>MFAIIIKKIVKK<end><pad><pad><pad><pad><pad><pad><pad><pad><pad><pad><pad><pad><pad><pad><pad><pad><pad><pad><pad><pad><pad><pad><pad><pad><pad>\n",
      "\t\t<start>RWKIFKKIEKMGRNVRDGIIKAGPAVSVVGAAAEKAL<end>\n",
      "\t\t<start>VDKPPYLPRPRPPRRIYNRG<end><pad><pad><pad><pad><pad><pad><pad><pad><pad><pad><pad><pad><pad><pad><pad><pad><pad>\n",
      "\tNLL Train Active: 15.405862808227539\n",
      "\tNLL Test Active: 24.673303604125977\n",
      "\tNLL Train Inactive: 34.97492980957031\n",
      "\tNLL Test Inactive: 38.32332229614258\n",
      "\n",
      "Epoch 23\n"
     ]
    },
    {
     "data": {
      "application/vnd.jupyter.widget-view+json": {
       "model_id": "7f67b0f2f38f47a2a5b1f664a1132a79",
       "version_major": 2,
       "version_minor": 0
      },
      "text/plain": [
       "HBox(children=(FloatProgress(value=0.0, max=32.0), HTML(value='')))"
      ]
     },
     "metadata": {},
     "output_type": "display_data"
    },
    {
     "name": "stdout",
     "output_type": "stream",
     "text": [
      "\n",
      "\tExample Sequences\n",
      "\t\t<start>KLLKWLKKLLK<end><pad><pad><pad><pad><pad><pad><pad><pad><pad><pad>\n",
      "\t\t<start>EGRFSRTPSPGRFKRPRRTPS<end>\n",
      "\t\t<start>fwfhlfkkikkv<end><pad><pad><pad><pad><pad><pad><pad><pad><pad>\n",
      "\t\t<start>LGHCLGTLY<end><pad><pad><pad><pad><pad><pad><pad><pad><pad><pad><pad><pad>\n",
      "\t\t<start>RKRKILIIKK<end><pad><pad><pad><pad><pad><pad><pad><pad><pad><pad><pad>\n",
      "\tNLL Train Active: 15.347892761230469\n",
      "\tNLL Test Active: 24.654409408569336\n",
      "\tNLL Train Inactive: 34.94966125488281\n",
      "\tNLL Test Inactive: 38.29704666137695\n",
      "\n",
      "Epoch 24\n"
     ]
    },
    {
     "data": {
      "application/vnd.jupyter.widget-view+json": {
       "model_id": "e80942f40583446b92f41dbf9a8f6689",
       "version_major": 2,
       "version_minor": 0
      },
      "text/plain": [
       "HBox(children=(FloatProgress(value=0.0, max=32.0), HTML(value='')))"
      ]
     },
     "metadata": {},
     "output_type": "display_data"
    },
    {
     "name": "stdout",
     "output_type": "stream",
     "text": [
      "\n",
      "\tExample Sequences\n",
      "\t\t<start>DrGriwirvihyrG<end><pad><pad><pad><pad><pad><pad><pad>\n",
      "\t\t<start>GIGGALLSAGKAALkALGKLL<end>\n",
      "\t\t<start>KKLFKKILKYL<end><pad><pad><pad><pad><pad><pad><pad><pad><pad><pad>\n",
      "\t\t<start>FFGRLLKFAGRRLAHGVRR<end><pad><pad>\n",
      "\t\t<start>ILPWKWPKLPWRR<end><pad><pad><pad><pad><pad><pad><pad><pad>\n",
      "\tNLL Train Active: 15.291218757629395\n",
      "\tNLL Test Active: 24.627666473388672\n",
      "\tNLL Train Inactive: 34.9361686706543\n",
      "\tNLL Test Inactive: 38.28660202026367\n",
      "\n",
      "Epoch 25\n"
     ]
    },
    {
     "data": {
      "application/vnd.jupyter.widget-view+json": {
       "model_id": "b9fa39c0b45b4af1b61f7b8e84713a97",
       "version_major": 2,
       "version_minor": 0
      },
      "text/plain": [
       "HBox(children=(FloatProgress(value=0.0, max=32.0), HTML(value='')))"
      ]
     },
     "metadata": {},
     "output_type": "display_data"
    },
    {
     "name": "stdout",
     "output_type": "stream",
     "text": [
      "\n",
      "\tExample Sequences\n",
      "\t\t<start>LKLLAKALKLWKK<end><pad><pad><pad><pad><pad><pad><pad><pad><pad><pad><pad><pad><pad><pad><pad>\n",
      "\t\t<start>AKRFRWPWRKKLPLIPWFRR<end><pad><pad><pad><pad><pad><pad><pad><pad>\n",
      "\t\t<start>RRIGRKIGKFLHSAKKFGKAFVGEIMNS<end>\n",
      "\t\t<start>GWWRRTVAKI<end><pad><pad><pad><pad><pad><pad><pad><pad><pad><pad><pad><pad><pad><pad><pad><pad><pad><pad>\n",
      "\t\t<start>RIWLRIWRWIRQFLRKLF<end><pad><pad><pad><pad><pad><pad><pad><pad><pad><pad>\n",
      "\tNLL Train Active: 15.237085342407227\n",
      "\tNLL Test Active: 24.608728408813477\n",
      "\tNLL Train Inactive: 34.92136001586914\n",
      "\tNLL Test Inactive: 38.26777267456055\n",
      "\n",
      "Epoch 26\n"
     ]
    },
    {
     "data": {
      "application/vnd.jupyter.widget-view+json": {
       "model_id": "c90a459456c44a549045ff1bd86f06de",
       "version_major": 2,
       "version_minor": 0
      },
      "text/plain": [
       "HBox(children=(FloatProgress(value=0.0, max=32.0), HTML(value='')))"
      ]
     },
     "metadata": {},
     "output_type": "display_data"
    },
    {
     "name": "stdout",
     "output_type": "stream",
     "text": [
      "\n",
      "\tExample Sequences\n",
      "\t\t<start>RWKIFKKIAKKVGKTVAGLAEYL<end><pad><pad><pad><pad><pad><pad><pad><pad><pad><pad><pad><pad><pad><pad><pad><pad><pad><pad><pad><pad><pad><pad><pad><pad><pad><pad>\n",
      "\t\t<start>RVVRVVRRVVRRVVRRVVRVVRRVVRRVVRVVRRVVRRVVRRVVRVVRR<end>\n",
      "\t\t<start>KGKQFIQALAKKLFKKILKYLKKLAFQKTK<end><pad><pad><pad><pad><pad><pad><pad><pad><pad><pad><pad><pad><pad><pad><pad><pad><pad><pad><pad>\n",
      "\t\t<start>LRRLRRRLRRWLRRLRR<end><pad><pad><pad><pad><pad><pad><pad><pad><pad><pad><pad><pad><pad><pad><pad><pad><pad><pad><pad><pad><pad><pad><pad><pad><pad><pad><pad><pad><pad><pad><pad><pad>\n",
      "\t\t<start>GRFRRLRKKTRKRLKKIGKVLKWIPILPKWYNR<end><pad><pad><pad><pad><pad><pad><pad><pad><pad><pad><pad><pad><pad><pad><pad><pad>\n",
      "\tNLL Train Active: 15.182586669921875\n",
      "\tNLL Test Active: 24.590124130249023\n",
      "\tNLL Train Inactive: 34.9041748046875\n",
      "\tNLL Test Inactive: 38.25262451171875\n",
      "\n",
      "Epoch 27\n"
     ]
    },
    {
     "data": {
      "application/vnd.jupyter.widget-view+json": {
       "model_id": "58f26ac171ea451086b05704cad2dcac",
       "version_major": 2,
       "version_minor": 0
      },
      "text/plain": [
       "HBox(children=(FloatProgress(value=0.0, max=32.0), HTML(value='')))"
      ]
     },
     "metadata": {},
     "output_type": "display_data"
    },
    {
     "name": "stdout",
     "output_type": "stream",
     "text": [
      "\n",
      "\tExample Sequences\n",
      "\t\t<start>rGlkkvfktLvkk<end><pad><pad><pad>\n",
      "\t\t<start>KWKKLLKKPLLKK<end><pad><pad><pad>\n",
      "\t\t<start>KWIFQYRYNGVWL<end><pad><pad><pad>\n",
      "\t\t<start>GKVADLKGAIIAMVKK<end>\n",
      "\t\t<start>FLKALWKKLL<end><pad><pad><pad><pad><pad><pad>\n",
      "\tNLL Train Active: 15.1316556930542\n",
      "\tNLL Test Active: 24.569183349609375\n",
      "\tNLL Train Inactive: 34.894771575927734\n",
      "\tNLL Test Inactive: 38.243507385253906\n",
      "\n",
      "Epoch 28\n"
     ]
    },
    {
     "data": {
      "application/vnd.jupyter.widget-view+json": {
       "model_id": "41e5d6c04e9a4dc19dd5ec7dd6633c5a",
       "version_major": 2,
       "version_minor": 0
      },
      "text/plain": [
       "HBox(children=(FloatProgress(value=0.0, max=32.0), HTML(value='')))"
      ]
     },
     "metadata": {},
     "output_type": "display_data"
    },
    {
     "name": "stdout",
     "output_type": "stream",
     "text": [
      "\n",
      "\tExample Sequences\n",
      "\t\t<start>KWKLFKKIPKFLHLAKKF<end><pad><pad><pad><pad><pad><pad><pad><pad>\n",
      "\t\t<start>GRLRDYI<end><pad><pad><pad><pad><pad><pad><pad><pad><pad><pad><pad><pad><pad><pad><pad><pad><pad><pad><pad>\n",
      "\t\t<start>RTPYKPRYRPRRRPPRRIYNR<end><pad><pad><pad><pad><pad>\n",
      "\t\t<start>RRRPPYLPIPRPPPFFPGNNPLHPRI<end>\n",
      "\t\t<start>FIKRIVQRIKDFLRNL<end><pad><pad><pad><pad><pad><pad><pad><pad><pad><pad>\n",
      "\tNLL Train Active: 15.079971313476562\n",
      "\tNLL Test Active: 24.55536460876465\n",
      "\tNLL Train Inactive: 34.88551712036133\n",
      "\tNLL Test Inactive: 38.228118896484375\n",
      "\n",
      "Epoch 29\n"
     ]
    },
    {
     "data": {
      "application/vnd.jupyter.widget-view+json": {
       "model_id": "a815de2d358d48b09e96aeee3c17c676",
       "version_major": 2,
       "version_minor": 0
      },
      "text/plain": [
       "HBox(children=(FloatProgress(value=0.0, max=32.0), HTML(value='')))"
      ]
     },
     "metadata": {},
     "output_type": "display_data"
    },
    {
     "name": "stdout",
     "output_type": "stream",
     "text": [
      "\n",
      "\tExample Sequences\n",
      "\t\t<start>WWHAKKSVKKRAKKFFKKLKNS<end><pad><pad><pad>\n",
      "\t\t<start>GRRRRR<end><pad><pad><pad><pad><pad><pad><pad><pad><pad><pad><pad><pad><pad><pad><pad><pad><pad><pad><pad>\n",
      "\t\t<start>TVVRRRGSRGGRRFRWWRRK<end><pad><pad><pad><pad><pad>\n",
      "\t\t<start>RPWFCYRT<end><pad><pad><pad><pad><pad><pad><pad><pad><pad><pad><pad><pad><pad><pad><pad><pad><pad>\n",
      "\t\t<start>NLRKRLRKFRNKIKEKLKKIGQKPS<end>\n",
      "\tNLL Train Active: 15.03171157836914\n",
      "\tNLL Test Active: 24.539173126220703\n",
      "\tNLL Train Inactive: 34.87571334838867\n",
      "\tNLL Test Inactive: 38.22034454345703\n",
      "\n",
      "Epoch 30\n"
     ]
    },
    {
     "data": {
      "application/vnd.jupyter.widget-view+json": {
       "model_id": "217ca827d7ca4883a86bf5e6753d3863",
       "version_major": 2,
       "version_minor": 0
      },
      "text/plain": [
       "HBox(children=(FloatProgress(value=0.0, max=32.0), HTML(value='')))"
      ]
     },
     "metadata": {},
     "output_type": "display_data"
    },
    {
     "name": "stdout",
     "output_type": "stream",
     "text": [
      "\n",
      "\tExample Sequences\n",
      "\t\t<start>GIGGAVLGTLLHAGLPALISWIKQKRKQ<end><pad><pad><pad><pad><pad><pad><pad><pad><pad><pad><pad><pad>\n",
      "\t\t<start>GLNALKKVFQKIHGLIHGIV<end><pad><pad><pad><pad><pad><pad><pad><pad><pad><pad><pad><pad><pad><pad><pad><pad><pad><pad><pad><pad>\n",
      "\t\t<start>RRWWWCV<end><pad><pad><pad><pad><pad><pad><pad><pad><pad><pad><pad><pad><pad><pad><pad><pad><pad><pad><pad><pad><pad><pad><pad><pad><pad><pad><pad><pad><pad><pad><pad><pad><pad>\n",
      "\t\t<start>GALAGLNSWLKGKGKGLGGGGKDWGHVGHAGHGVAYQALS<end>\n",
      "\t\t<start>GIKKFLHSAKKFGKAFVGEIMNS<end><pad><pad><pad><pad><pad><pad><pad><pad><pad><pad><pad><pad><pad><pad><pad><pad><pad>\n",
      "\tNLL Train Active: 14.983893394470215\n",
      "\tNLL Test Active: 24.520984649658203\n",
      "\tNLL Train Inactive: 34.86914825439453\n",
      "\tNLL Test Inactive: 38.2094612121582\n",
      "\n",
      "Epoch 31\n"
     ]
    },
    {
     "data": {
      "application/vnd.jupyter.widget-view+json": {
       "model_id": "4456fbef4a674417be79fdcfb1f5c622",
       "version_major": 2,
       "version_minor": 0
      },
      "text/plain": [
       "HBox(children=(FloatProgress(value=0.0, max=32.0), HTML(value='')))"
      ]
     },
     "metadata": {},
     "output_type": "display_data"
    },
    {
     "name": "stdout",
     "output_type": "stream",
     "text": [
      "\n",
      "\tExample Sequences\n",
      "\t\t<start>GKLSAKVWNALKKV<end><pad><pad><pad><pad><pad><pad><pad><pad><pad><pad>\n",
      "\t\t<start>CPGRHWHRFWH<end><pad><pad><pad><pad><pad><pad><pad><pad><pad><pad><pad><pad><pad>\n",
      "\t\t<start>AKKPKMWKIKGKKMWSKIKG<end><pad><pad><pad><pad>\n",
      "\t\t<start>LFGKLVKAAAKALVKGLVK<end><pad><pad><pad><pad><pad>\n",
      "\t\t<start>KWKSFLKTFKSAlKTVLHTALKAL<end>\n",
      "\tNLL Train Active: 14.93604850769043\n",
      "\tNLL Test Active: 24.50652313232422\n",
      "\tNLL Train Inactive: 34.859596252441406\n",
      "\tNLL Test Inactive: 38.199745178222656\n",
      "\n",
      "Epoch 32\n"
     ]
    },
    {
     "data": {
      "application/vnd.jupyter.widget-view+json": {
       "model_id": "0a28142f748a4de8ac14330784079034",
       "version_major": 2,
       "version_minor": 0
      },
      "text/plain": [
       "HBox(children=(FloatProgress(value=0.0, max=32.0), HTML(value='')))"
      ]
     },
     "metadata": {},
     "output_type": "display_data"
    },
    {
     "name": "stdout",
     "output_type": "stream",
     "text": [
      "\n",
      "\tExample Sequences\n",
      "\t\t<start>RIGAVLKVLTTGLPA<end><pad><pad><pad>\n",
      "\t\t<start>RFRRFFRRPIRF<end><pad><pad><pad><pad><pad><pad>\n",
      "\t\t<start>FKWFRRYKQMKLRPKPRL<end>\n",
      "\t\t<start>GKWMSLLKHILK<end><pad><pad><pad><pad><pad><pad>\n",
      "\t\t<start>RWWGRAWRWRW<end><pad><pad><pad><pad><pad><pad><pad>\n",
      "\tNLL Train Active: 14.889802932739258\n",
      "\tNLL Test Active: 24.492034912109375\n",
      "\tNLL Train Inactive: 34.84916687011719\n",
      "\tNLL Test Inactive: 38.189247131347656\n",
      "\n",
      "Epoch 33\n"
     ]
    },
    {
     "data": {
      "application/vnd.jupyter.widget-view+json": {
       "model_id": "d9bcb0d39c31469a8b21d3e2ce2a36f7",
       "version_major": 2,
       "version_minor": 0
      },
      "text/plain": [
       "HBox(children=(FloatProgress(value=0.0, max=32.0), HTML(value='')))"
      ]
     },
     "metadata": {},
     "output_type": "display_data"
    },
    {
     "name": "stdout",
     "output_type": "stream",
     "text": [
      "\n",
      "\tExample Sequences\n",
      "\t\t<start>FFGWLIKGAIHALKHIPRR<end>\n",
      "\t\t<start>LRFWKRLIRFL<end><pad><pad><pad><pad><pad><pad><pad><pad>\n",
      "\t\t<start>SGRCKRVRCRR<end><pad><pad><pad><pad><pad><pad><pad><pad>\n",
      "\t\t<start>AISHLLHRFGGGRSRFLRR<end>\n",
      "\t\t<start>RFRRPIRRRPIRPPFWR<end><pad><pad>\n",
      "\tNLL Train Active: 14.845703125\n",
      "\tNLL Test Active: 24.477588653564453\n",
      "\tNLL Train Inactive: 34.8419189453125\n",
      "\tNLL Test Inactive: 38.17930221557617\n",
      "\n",
      "Epoch 34\n"
     ]
    },
    {
     "data": {
      "application/vnd.jupyter.widget-view+json": {
       "model_id": "74f9a832e20f4acd856e2f3a0bd43127",
       "version_major": 2,
       "version_minor": 0
      },
      "text/plain": [
       "HBox(children=(FloatProgress(value=0.0, max=32.0), HTML(value='')))"
      ]
     },
     "metadata": {},
     "output_type": "display_data"
    },
    {
     "name": "stdout",
     "output_type": "stream",
     "text": [
      "\n",
      "\tExample Sequences\n",
      "\t\t<start>FLGGLIKWPWWPWRR<end><pad><pad><pad><pad><pad><pad><pad><pad><pad><pad><pad><pad><pad><pad><pad><pad><pad><pad><pad><pad>\n",
      "\t\t<start>ENARRHGHGSHGYHGQGSQHGSQHFDSWGKHHSHY<end>\n",
      "\t\t<start>GIRNLLKKKGRKIKKLAKKIGKVLK<end><pad><pad><pad><pad><pad><pad><pad><pad><pad><pad>\n",
      "\t\t<start>KILGKLVKKIAKVGKKLF<end><pad><pad><pad><pad><pad><pad><pad><pad><pad><pad><pad><pad><pad><pad><pad><pad><pad>\n",
      "\t\t<start>ALKVFPVIAGKIAK<end><pad><pad><pad><pad><pad><pad><pad><pad><pad><pad><pad><pad><pad><pad><pad><pad><pad><pad><pad><pad><pad>\n",
      "\tNLL Train Active: 14.801191329956055\n",
      "\tNLL Test Active: 24.464948654174805\n",
      "\tNLL Train Inactive: 34.84177017211914\n",
      "\tNLL Test Inactive: 38.172969818115234\n",
      "\n",
      "Epoch 35\n"
     ]
    },
    {
     "data": {
      "application/vnd.jupyter.widget-view+json": {
       "model_id": "c454474ece4c459588b79f23b5661f46",
       "version_major": 2,
       "version_minor": 0
      },
      "text/plain": [
       "HBox(children=(FloatProgress(value=0.0, max=32.0), HTML(value='')))"
      ]
     },
     "metadata": {},
     "output_type": "display_data"
    },
    {
     "name": "stdout",
     "output_type": "stream",
     "text": [
      "\n",
      "\tExample Sequences\n",
      "\t\t<start>KRFKKILKYLAAGPKKWKVLK<end><pad><pad><pad><pad><pad><pad><pad><pad><pad><pad><pad>\n",
      "\t\t<start>RKKHRCRVYNNGLPTGLYRWC<end><pad><pad><pad><pad><pad><pad><pad><pad><pad><pad><pad>\n",
      "\t\t<start>VDKPPYLPRPRSIYNR<end><pad><pad><pad><pad><pad><pad><pad><pad><pad><pad><pad><pad><pad><pad><pad><pad>\n",
      "\t\t<start>KWKLFKKIEKVGQNIRDGIIDAAQTVAQMTKK<end>\n",
      "\t\t<start>GNNRPVYVPQPRPVHLR<end><pad><pad><pad><pad><pad><pad><pad><pad><pad><pad><pad><pad><pad><pad><pad>\n",
      "\tNLL Train Active: 14.756566047668457\n",
      "\tNLL Test Active: 24.452747344970703\n",
      "\tNLL Train Inactive: 34.83142852783203\n",
      "\tNLL Test Inactive: 38.15745162963867\n",
      "\n",
      "Epoch 36\n"
     ]
    },
    {
     "data": {
      "application/vnd.jupyter.widget-view+json": {
       "model_id": "5d725cf6401847489308f8e695929017",
       "version_major": 2,
       "version_minor": 0
      },
      "text/plain": [
       "HBox(children=(FloatProgress(value=0.0, max=32.0), HTML(value='')))"
      ]
     },
     "metadata": {},
     "output_type": "display_data"
    },
    {
     "name": "stdout",
     "output_type": "stream",
     "text": [
      "\n",
      "\tExample Sequences\n",
      "\t\t<start>ILPWKWPLWPWRR<end><pad><pad><pad><pad><pad><pad><pad><pad>\n",
      "\t\t<start>WPKRRWWPWRRKW<end><pad><pad><pad><pad><pad><pad><pad><pad>\n",
      "\t\t<start>RWRWWWRRKL<end><pad><pad><pad><pad><pad><pad><pad><pad><pad><pad><pad>\n",
      "\t\t<start>FLRLRwKWL<end><pad><pad><pad><pad><pad><pad><pad><pad><pad><pad><pad><pad>\n",
      "\t\t<start>KIAKGACKILGKIAKIAGKIA<end>\n",
      "\tNLL Train Active: 14.715095520019531\n",
      "\tNLL Test Active: 24.43682861328125\n",
      "\tNLL Train Inactive: 34.82550048828125\n",
      "\tNLL Test Inactive: 38.15666580200195\n",
      "\n",
      "Epoch 37\n"
     ]
    },
    {
     "data": {
      "application/vnd.jupyter.widget-view+json": {
       "model_id": "d9913fc313804810b1456d1e1af0b0cc",
       "version_major": 2,
       "version_minor": 0
      },
      "text/plain": [
       "HBox(children=(FloatProgress(value=0.0, max=32.0), HTML(value='')))"
      ]
     },
     "metadata": {},
     "output_type": "display_data"
    },
    {
     "name": "stdout",
     "output_type": "stream",
     "text": [
      "\n",
      "\tExample Sequences\n",
      "\t\t<start>KKWRWWLKWL<end><pad><pad><pad><pad><pad><pad><pad><pad><pad><pad><pad><pad><pad><pad><pad><pad><pad><pad><pad><pad><pad><pad><pad><pad><pad><pad><pad><pad><pad><pad><pad><pad><pad><pad><pad><pad>\n",
      "\t\t<start>FFHHIFRNIKRVGRNIRRCRRFIPGRFWNAPRTIEVLGASTAHRGV<end>\n",
      "\t\t<start>GMASKAGAVLGQALAEAL<end><pad><pad><pad><pad><pad><pad><pad><pad><pad><pad><pad><pad><pad><pad><pad><pad><pad><pad><pad><pad><pad><pad><pad><pad><pad><pad><pad><pad>\n",
      "\t\t<start>FLFKAlKlL<end><pad><pad><pad><pad><pad><pad><pad><pad><pad><pad><pad><pad><pad><pad><pad><pad><pad><pad><pad><pad><pad><pad><pad><pad><pad><pad><pad><pad><pad><pad><pad><pad><pad><pad><pad><pad><pad>\n",
      "\t\t<start>INWKKIASVIKKL<end><pad><pad><pad><pad><pad><pad><pad><pad><pad><pad><pad><pad><pad><pad><pad><pad><pad><pad><pad><pad><pad><pad><pad><pad><pad><pad><pad><pad><pad><pad><pad><pad><pad>\n",
      "\tNLL Train Active: 14.673474311828613\n",
      "\tNLL Test Active: 24.42721939086914\n",
      "\tNLL Train Inactive: 34.8200569152832\n",
      "\tNLL Test Inactive: 38.14655303955078\n",
      "\n",
      "Epoch 38\n"
     ]
    },
    {
     "data": {
      "application/vnd.jupyter.widget-view+json": {
       "model_id": "b87dba94f16d4f5b99d94e7b4e103191",
       "version_major": 2,
       "version_minor": 0
      },
      "text/plain": [
       "HBox(children=(FloatProgress(value=0.0, max=32.0), HTML(value='')))"
      ]
     },
     "metadata": {},
     "output_type": "display_data"
    },
    {
     "name": "stdout",
     "output_type": "stream",
     "text": [
      "\n",
      "\tExample Sequences\n",
      "\t\t<start>FKRFGKWLKKVG<end><pad>\n",
      "\t\t<start>GRWRKWWRKW<end><pad><pad><pad>\n",
      "\t\t<start>ILPWKKPKKPWRR<end>\n",
      "\t\t<start>RRGWRLLRK<end><pad><pad><pad><pad>\n",
      "\t\t<start>RWPLKKPWWPWRR<end>\n",
      "\tNLL Train Active: 14.63339900970459\n",
      "\tNLL Test Active: 24.414094924926758\n",
      "\tNLL Train Inactive: 34.81825256347656\n",
      "\tNLL Test Inactive: 38.14192581176758\n",
      "\n",
      "Epoch 39\n"
     ]
    },
    {
     "data": {
      "application/vnd.jupyter.widget-view+json": {
       "model_id": "74d42a354a54405c95ae628c5afed323",
       "version_major": 2,
       "version_minor": 0
      },
      "text/plain": [
       "HBox(children=(FloatProgress(value=0.0, max=32.0), HTML(value='')))"
      ]
     },
     "metadata": {},
     "output_type": "display_data"
    },
    {
     "name": "stdout",
     "output_type": "stream",
     "text": [
      "\n",
      "\tExample Sequences\n",
      "\t\t<start>FRRLRKTRWRLLKKVKKA<end><pad><pad><pad><pad><pad><pad><pad><pad>\n",
      "\t\t<start>WGRIVGVIRGVLRGGR<end><pad><pad><pad><pad><pad><pad><pad><pad><pad><pad>\n",
      "\t\t<start>KWKSFLKTFKSASKTVLHTALKAISS<end>\n",
      "\t\t<start>KKWRLVSAKI<end><pad><pad><pad><pad><pad><pad><pad><pad><pad><pad><pad><pad><pad><pad><pad><pad>\n",
      "\t\t<start>ILPWKWPLAKGGGK<end><pad><pad><pad><pad><pad><pad><pad><pad><pad><pad><pad><pad>\n",
      "\tNLL Train Active: 14.592952728271484\n",
      "\tNLL Test Active: 24.403013229370117\n",
      "\tNLL Train Inactive: 34.81013870239258\n",
      "\tNLL Test Inactive: 38.133358001708984\n",
      "\n",
      "Epoch 40\n"
     ]
    },
    {
     "data": {
      "application/vnd.jupyter.widget-view+json": {
       "model_id": "c7435e85af5843eb8158402b26ddbcd6",
       "version_major": 2,
       "version_minor": 0
      },
      "text/plain": [
       "HBox(children=(FloatProgress(value=0.0, max=32.0), HTML(value='')))"
      ]
     },
     "metadata": {},
     "output_type": "display_data"
    },
    {
     "name": "stdout",
     "output_type": "stream",
     "text": [
      "\n",
      "\tExample Sequences\n",
      "\t\t<start>GRLNALKKVFQGIHKFAKKWG<end><pad><pad><pad><pad><pad><pad><pad><pad><pad><pad><pad><pad><pad><pad><pad><pad><pad><pad><pad><pad><pad><pad><pad><pad><pad><pad><pad><pad><pad><pad><pad>\n",
      "\t\t<start>KWKLFKKIEKVGRNVRDGIIRAAPAVTETCKY<end><pad><pad><pad><pad><pad><pad><pad><pad><pad><pad><pad><pad><pad><pad><pad><pad><pad><pad><pad><pad>\n",
      "\t\t<start>RNPWWREPGRWWRPGRW<end><pad><pad><pad><pad><pad><pad><pad><pad><pad><pad><pad><pad><pad><pad><pad><pad><pad><pad><pad><pad><pad><pad><pad><pad><pad><pad><pad><pad><pad><pad><pad><pad><pad><pad><pad>\n",
      "\t\t<start>ERVRRHGSRGRFLRNKSKEYGHTGNHSGVYTAGIGIQSANVAKGHGFAVSYR<end>\n",
      "\t\t<start>AIGSILGKFLRAISNFVKGFRKKRRKK<end><pad><pad><pad><pad><pad><pad><pad><pad><pad><pad><pad><pad><pad><pad><pad><pad><pad><pad><pad><pad><pad><pad><pad><pad><pad>\n",
      "\tNLL Train Active: 14.5537748336792\n",
      "\tNLL Test Active: 24.389705657958984\n",
      "\tNLL Train Inactive: 34.81013870239258\n",
      "\tNLL Test Inactive: 38.133155822753906\n",
      "\n",
      "Epoch 41\n"
     ]
    },
    {
     "data": {
      "application/vnd.jupyter.widget-view+json": {
       "model_id": "da339586e52c41f78c67bb564b066026",
       "version_major": 2,
       "version_minor": 0
      },
      "text/plain": [
       "HBox(children=(FloatProgress(value=0.0, max=32.0), HTML(value='')))"
      ]
     },
     "metadata": {},
     "output_type": "display_data"
    },
    {
     "name": "stdout",
     "output_type": "stream",
     "text": [
      "\n",
      "\tExample Sequences\n",
      "\t\t<start>RFRPPIRRPPIRPPFYR<end><pad><pad><pad><pad><pad><pad><pad><pad><pad><pad><pad><pad><pad><pad><pad><pad><pad><pad><pad>\n",
      "\t\t<start>GFRKIFHHKSKEHLKDWASHVGQQPHNGPFPVHRLV<end>\n",
      "\t\t<start>FLQKIIGALFHLF<end><pad><pad><pad><pad><pad><pad><pad><pad><pad><pad><pad><pad><pad><pad><pad><pad><pad><pad><pad><pad><pad><pad><pad>\n",
      "\t\t<start>FFPLLAGLAWKGI<end><pad><pad><pad><pad><pad><pad><pad><pad><pad><pad><pad><pad><pad><pad><pad><pad><pad><pad><pad><pad><pad><pad><pad>\n",
      "\t\t<start>FLPIVKKLLRALF<end><pad><pad><pad><pad><pad><pad><pad><pad><pad><pad><pad><pad><pad><pad><pad><pad><pad><pad><pad><pad><pad><pad><pad>\n",
      "\tNLL Train Active: 14.514386177062988\n",
      "\tNLL Test Active: 24.37970542907715\n",
      "\tNLL Train Inactive: 34.803104400634766\n",
      "\tNLL Test Inactive: 38.1204948425293\n",
      "\n",
      "Epoch 42\n"
     ]
    },
    {
     "data": {
      "application/vnd.jupyter.widget-view+json": {
       "model_id": "9fc328f9f865464f9735ccce1d9f4116",
       "version_major": 2,
       "version_minor": 0
      },
      "text/plain": [
       "HBox(children=(FloatProgress(value=0.0, max=32.0), HTML(value='')))"
      ]
     },
     "metadata": {},
     "output_type": "display_data"
    },
    {
     "name": "stdout",
     "output_type": "stream",
     "text": [
      "\n",
      "\tExample Sequences\n",
      "\t\t<start>GNPNPRPHPRRPHPRLV<end><pad><pad><pad><pad><pad><pad><pad><pad><pad><pad><pad><pad><pad><pad>\n",
      "\t\t<start>RFRRLRPRRRPRWPRIRPPFRRFNP<end><pad><pad><pad><pad><pad><pad>\n",
      "\t\t<start>trlwrwwrri<end><pad><pad><pad><pad><pad><pad><pad><pad><pad><pad><pad><pad><pad><pad><pad><pad><pad><pad><pad><pad><pad>\n",
      "\t\t<start>RGRLGTLWDWLKHGGKAIGHLVSGSWKLGGG<end>\n",
      "\t\t<start>RFRKLRNKILHIIKK<end><pad><pad><pad><pad><pad><pad><pad><pad><pad><pad><pad><pad><pad><pad><pad><pad>\n",
      "\tNLL Train Active: 14.477298736572266\n",
      "\tNLL Test Active: 24.371801376342773\n",
      "\tNLL Train Inactive: 34.804054260253906\n",
      "\tNLL Test Inactive: 38.124786376953125\n",
      "\n",
      "Epoch 43\n"
     ]
    },
    {
     "data": {
      "application/vnd.jupyter.widget-view+json": {
       "model_id": "85fc83ac40674222bc98721a3814ae08",
       "version_major": 2,
       "version_minor": 0
      },
      "text/plain": [
       "HBox(children=(FloatProgress(value=0.0, max=32.0), HTML(value='')))"
      ]
     },
     "metadata": {},
     "output_type": "display_data"
    },
    {
     "name": "stdout",
     "output_type": "stream",
     "text": [
      "\n",
      "\tExample Sequences\n",
      "\t\t<start>kwkkllklakkkfkk<end><pad><pad><pad><pad><pad><pad><pad><pad><pad><pad><pad><pad><pad><pad><pad><pad><pad><pad>\n",
      "\t\t<start>KWKVFKKVFKLKKk<end><pad><pad><pad><pad><pad><pad><pad><pad><pad><pad><pad><pad><pad><pad><pad><pad><pad><pad><pad>\n",
      "\t\t<start>GRILDTLRRPVRSIVSGRPAAVASTVAALKKKA<end>\n",
      "\t\t<start>ALWKNMLKGGLKKGLGAAGKGLAHVAGKLLENT<end>\n",
      "\t\t<start>IAPKVPWIAQKVAPTICKCKKKRTK<end><pad><pad><pad><pad><pad><pad><pad><pad>\n",
      "\tNLL Train Active: 14.43919563293457\n",
      "\tNLL Test Active: 24.359739303588867\n",
      "\tNLL Train Inactive: 34.79814910888672\n",
      "\tNLL Test Inactive: 38.11526107788086\n",
      "\n",
      "Epoch 44\n"
     ]
    },
    {
     "data": {
      "application/vnd.jupyter.widget-view+json": {
       "model_id": "ba71b58e43d7487ebfa054f2a54e3960",
       "version_major": 2,
       "version_minor": 0
      },
      "text/plain": [
       "HBox(children=(FloatProgress(value=0.0, max=32.0), HTML(value='')))"
      ]
     },
     "metadata": {},
     "output_type": "display_data"
    },
    {
     "name": "stdout",
     "output_type": "stream",
     "text": [
      "\n",
      "\tExample Sequences\n",
      "\t\t<start>ILGPVIKGIGKGLGIGAGLGGSLL<end><pad><pad><pad><pad><pad>\n",
      "\t\t<start>GRLSDFLGRILRVAGKTAGRLVESRI<end><pad><pad><pad>\n",
      "\t\t<start>MPENGDFYQFPGGYGDHGSHAQIGSFSGY<end>\n",
      "\t\t<start>FLGALFKALSKLL<end><pad><pad><pad><pad><pad><pad><pad><pad><pad><pad><pad><pad><pad><pad><pad><pad>\n",
      "\t\t<start>PENELNRYYQLLRIR<end><pad><pad><pad><pad><pad><pad><pad><pad><pad><pad><pad><pad><pad><pad>\n",
      "\tNLL Train Active: 14.402022361755371\n",
      "\tNLL Test Active: 24.3516788482666\n",
      "\tNLL Train Inactive: 34.79214096069336\n",
      "\tNLL Test Inactive: 38.10083770751953\n",
      "\n",
      "Epoch 45\n"
     ]
    },
    {
     "data": {
      "application/vnd.jupyter.widget-view+json": {
       "model_id": "63b8fa19c11a4e3d9d58b3a743f00ed0",
       "version_major": 2,
       "version_minor": 0
      },
      "text/plain": [
       "HBox(children=(FloatProgress(value=0.0, max=32.0), HTML(value='')))"
      ]
     },
     "metadata": {},
     "output_type": "display_data"
    },
    {
     "name": "stdout",
     "output_type": "stream",
     "text": [
      "\n",
      "\tExample Sequences\n",
      "\t\t<start>SGRGKVAKKDLSEEGGRVSSASHQSAKPTKHK<end>\n",
      "\t\t<start>SKKLFKKLWKGVKKWI<end><pad><pad><pad><pad><pad><pad><pad><pad><pad><pad><pad><pad><pad><pad><pad><pad>\n",
      "\t\t<start>CAAKIKILKKIEKAKKIG<end><pad><pad><pad><pad><pad><pad><pad><pad><pad><pad><pad><pad><pad><pad>\n",
      "\t\t<start>RRLLLRRIGRR<end><pad><pad><pad><pad><pad><pad><pad><pad><pad><pad><pad><pad><pad><pad><pad><pad><pad><pad><pad><pad><pad>\n",
      "\t\t<start>LLKRVVKLWKRLV<end><pad><pad><pad><pad><pad><pad><pad><pad><pad><pad><pad><pad><pad><pad><pad><pad><pad><pad><pad>\n",
      "\tNLL Train Active: 14.365015029907227\n",
      "\tNLL Test Active: 24.343753814697266\n",
      "\tNLL Train Inactive: 34.79244613647461\n",
      "\tNLL Test Inactive: 38.102622985839844\n",
      "\n",
      "Epoch 46\n"
     ]
    },
    {
     "data": {
      "application/vnd.jupyter.widget-view+json": {
       "model_id": "eb0b73348cd74b659a377ed24802512a",
       "version_major": 2,
       "version_minor": 0
      },
      "text/plain": [
       "HBox(children=(FloatProgress(value=0.0, max=32.0), HTML(value='')))"
      ]
     },
     "metadata": {},
     "output_type": "display_data"
    },
    {
     "name": "stdout",
     "output_type": "stream",
     "text": [
      "\n",
      "\tExample Sequences\n",
      "\t\t<start>RRLRLLLRRWRRRI<end><pad><pad><pad><pad><pad><pad><pad><pad><pad><pad><pad><pad><pad><pad><pad><pad><pad><pad><pad><pad><pad><pad><pad><pad><pad><pad><pad><pad><pad><pad><pad><pad><pad><pad><pad><pad><pad><pad><pad><pad><pad><pad><pad><pad><pad><pad><pad><pad><pad><pad><pad><pad><pad><pad><pad><pad><pad><pad><pad><pad><pad><pad><pad><pad><pad><pad><pad><pad><pad><pad><pad><pad><pad><pad><pad><pad><pad><pad><pad><pad><pad><pad><pad><pad><pad><pad><pad><pad><pad><pad><pad><pad><pad><pad><pad><pad><pad><pad><pad><pad><pad><pad><pad><pad><pad><pad><pad><pad><pad><pad><pad><pad><pad><pad><pad><pad><pad><pad><pad><pad><pad><pad><pad><pad><pad><pad><pad><pad><pad><pad><pad><pad><pad><pad><pad><pad><pad><pad><pad><pad><pad><pad><pad><pad><pad><pad><pad><pad><pad><pad><pad><pad><pad><pad><pad><pad><pad><pad><pad><pad><pad><pad><pad><pad><pad><pad><pad><pad><pad><pad><pad><pad><pad><pad><pad><pad><pad><pad><pad><pad><pad><pad><pad><pad><pad>\n",
      "\t\t<start>SYRRKRRQRRRRAGQWMSLLHK<end><pad><pad><pad><pad><pad><pad><pad><pad><pad><pad><pad><pad><pad><pad><pad><pad><pad><pad><pad><pad><pad><pad><pad><pad><pad><pad><pad><pad><pad><pad><pad><pad><pad><pad><pad><pad><pad><pad><pad><pad><pad><pad><pad><pad><pad><pad><pad><pad><pad><pad><pad><pad><pad><pad><pad><pad><pad><pad><pad><pad><pad><pad><pad><pad><pad><pad><pad><pad><pad><pad><pad><pad><pad><pad><pad><pad><pad><pad><pad><pad><pad><pad><pad><pad><pad><pad><pad><pad><pad><pad><pad><pad><pad><pad><pad><pad><pad><pad><pad><pad><pad><pad><pad><pad><pad><pad><pad><pad><pad><pad><pad><pad><pad><pad><pad><pad><pad><pad><pad><pad><pad><pad><pad><pad><pad><pad><pad><pad><pad><pad><pad><pad><pad><pad><pad><pad><pad><pad><pad><pad><pad><pad><pad><pad><pad><pad><pad><pad><pad><pad><pad><pad><pad><pad><pad><pad><pad><pad><pad><pad><pad><pad><pad><pad><pad><pad><pad><pad><pad><pad><pad><pad><pad><pad><pad><pad><pad>\n",
      "\t\t<start>anslakmaakaaaGGnlvGtLGGGGGGGLGGGGGGGGSGKGSYGGYGGGGYGGGGGYGGYGGGGGYGGGGGGGGGGGGNGGGGGGGGGYGGGGGGYGGGGYGGGGHGGGYGGGGGGYGGGGGHGGGHGGYGGGGYGGGGYGGGYGGGGGYGGGGYGGGGGGYGGYGGGGGGGYGGGGYGGGGGYGGGGGGYGGGGGGGYG\n",
      "\t\t<start>HLCKIVCKGRPYLVT<end><pad><pad><pad><pad><pad><pad><pad><pad><pad><pad><pad><pad><pad><pad><pad><pad><pad><pad><pad><pad><pad><pad><pad><pad><pad><pad><pad><pad><pad><pad><pad><pad><pad><pad><pad><pad><pad><pad><pad><pad><pad><pad><pad><pad><pad><pad><pad><pad><pad><pad><pad><pad><pad><pad><pad><pad><pad><pad><pad><pad><pad><pad><pad><pad><pad><pad><pad><pad><pad><pad><pad><pad><pad><pad><pad><pad><pad><pad><pad><pad><pad><pad><pad><pad><pad><pad><pad><pad><pad><pad><pad><pad><pad><pad><pad><pad><pad><pad><pad><pad><pad><pad><pad><pad><pad><pad><pad><pad><pad><pad><pad><pad><pad><pad><pad><pad><pad><pad><pad><pad><pad><pad><pad><pad><pad><pad><pad><pad><pad><pad><pad><pad><pad><pad><pad><pad><pad><pad><pad><pad><pad><pad><pad><pad><pad><pad><pad><pad><pad><pad><pad><pad><pad><pad><pad><pad><pad><pad><pad><pad><pad><pad><pad><pad><pad><pad><pad><pad><pad><pad><pad><pad><pad><pad><pad><pad><pad><pad><pad><pad><pad><pad><pad><pad>\n",
      "\t\t<start>LLRIALRLA<end><pad><pad><pad><pad><pad><pad><pad><pad><pad><pad><pad><pad><pad><pad><pad><pad><pad><pad><pad><pad><pad><pad><pad><pad><pad><pad><pad><pad><pad><pad><pad><pad><pad><pad><pad><pad><pad><pad><pad><pad><pad><pad><pad><pad><pad><pad><pad><pad><pad><pad><pad><pad><pad><pad><pad><pad><pad><pad><pad><pad><pad><pad><pad><pad><pad><pad><pad><pad><pad><pad><pad><pad><pad><pad><pad><pad><pad><pad><pad><pad><pad><pad><pad><pad><pad><pad><pad><pad><pad><pad><pad><pad><pad><pad><pad><pad><pad><pad><pad><pad><pad><pad><pad><pad><pad><pad><pad><pad><pad><pad><pad><pad><pad><pad><pad><pad><pad><pad><pad><pad><pad><pad><pad><pad><pad><pad><pad><pad><pad><pad><pad><pad><pad><pad><pad><pad><pad><pad><pad><pad><pad><pad><pad><pad><pad><pad><pad><pad><pad><pad><pad><pad><pad><pad><pad><pad><pad><pad><pad><pad><pad><pad><pad><pad><pad><pad><pad><pad><pad><pad><pad><pad><pad><pad><pad><pad><pad><pad><pad><pad><pad><pad><pad><pad><pad><pad><pad><pad><pad><pad>\n",
      "\tNLL Train Active: 14.329262733459473\n",
      "\tNLL Test Active: 24.33372688293457\n",
      "\tNLL Train Inactive: 34.78492736816406\n",
      "\tNLL Test Inactive: 38.0911865234375\n",
      "\n",
      "Epoch 47\n"
     ]
    },
    {
     "data": {
      "application/vnd.jupyter.widget-view+json": {
       "model_id": "89bf914123454398959d4db68146d865",
       "version_major": 2,
       "version_minor": 0
      },
      "text/plain": [
       "HBox(children=(FloatProgress(value=0.0, max=32.0), HTML(value='')))"
      ]
     },
     "metadata": {},
     "output_type": "display_data"
    },
    {
     "name": "stdout",
     "output_type": "stream",
     "text": [
      "\n",
      "\tExample Sequences\n",
      "\t\t<start>FLFKLIPKAIKGLLKAK<end><pad><pad><pad><pad>\n",
      "\t\t<start>SLARRLRARLRLLARLARRL<end><pad>\n",
      "\t\t<start>ILKKIWEGIKSLF<end><pad><pad><pad><pad><pad><pad><pad><pad>\n",
      "\t\t<start>RRWRWpGWGIIHAGRWIHHHI<end>\n",
      "\t\t<start>RWRWWWpRR<end><pad><pad><pad><pad><pad><pad><pad><pad><pad><pad><pad><pad>\n",
      "\tNLL Train Active: 14.294759750366211\n",
      "\tNLL Test Active: 24.32364845275879\n",
      "\tNLL Train Inactive: 34.79225540161133\n",
      "\tNLL Test Inactive: 38.09850311279297\n",
      "\n",
      "Epoch 48\n"
     ]
    },
    {
     "data": {
      "application/vnd.jupyter.widget-view+json": {
       "model_id": "b835d26b0d774af3b9af0274b973b1a6",
       "version_major": 2,
       "version_minor": 0
      },
      "text/plain": [
       "HBox(children=(FloatProgress(value=0.0, max=32.0), HTML(value='')))"
      ]
     },
     "metadata": {},
     "output_type": "display_data"
    },
    {
     "name": "stdout",
     "output_type": "stream",
     "text": [
      "\n",
      "\tExample Sequences\n",
      "\t\t<start>LLRRLARRLRRRLRR<end><pad><pad><pad><pad><pad><pad><pad><pad><pad><pad><pad><pad><pad><pad><pad><pad>\n",
      "\t\t<start>SFKAFVKtLKKl<end><pad><pad><pad><pad><pad><pad><pad><pad><pad><pad><pad><pad><pad><pad><pad><pad><pad><pad><pad>\n",
      "\t\t<start>VWRRWWRRFG<end><pad><pad><pad><pad><pad><pad><pad><pad><pad><pad><pad><pad><pad><pad><pad><pad><pad><pad><pad><pad><pad>\n",
      "\t\t<start>FKCRWQWRWMKAGLGFVAEKINNCFYKKFPG<end>\n",
      "\t\t<start>KWRAFKNFAKKFGKAF<end><pad><pad><pad><pad><pad><pad><pad><pad><pad><pad><pad><pad><pad><pad><pad>\n",
      "\tNLL Train Active: 14.259774208068848\n",
      "\tNLL Test Active: 24.31990623474121\n",
      "\tNLL Train Inactive: 34.78811264038086\n",
      "\tNLL Test Inactive: 38.08838653564453\n",
      "\n",
      "Epoch 49\n"
     ]
    },
    {
     "data": {
      "application/vnd.jupyter.widget-view+json": {
       "model_id": "e7ce29a5f2c942b8b64edfcbb52119c3",
       "version_major": 2,
       "version_minor": 0
      },
      "text/plain": [
       "HBox(children=(FloatProgress(value=0.0, max=32.0), HTML(value='')))"
      ]
     },
     "metadata": {},
     "output_type": "display_data"
    },
    {
     "name": "stdout",
     "output_type": "stream",
     "text": [
      "\n",
      "\tExample Sequences\n",
      "\t\t<start>khwimrrGykkhtkkhGhkGkyfGinvahGt<end><pad><pad><pad><pad><pad><pad><pad><pad><pad><pad><pad><pad><pad><pad><pad><pad><pad><pad><pad><pad><pad><pad>\n",
      "\t\t<start>KWKLFKKIIKVAKKLF<end><pad><pad><pad><pad><pad><pad><pad><pad><pad><pad><pad><pad><pad><pad><pad><pad><pad><pad><pad><pad><pad><pad><pad><pad><pad><pad><pad><pad><pad><pad><pad><pad><pad><pad><pad><pad><pad>\n",
      "\t\t<start>LRRLRRRLRRRWRRRLRRLRRRWRRRWRRRLRRL<end><pad><pad><pad><pad><pad><pad><pad><pad><pad><pad><pad><pad><pad><pad><pad><pad><pad><pad><pad>\n",
      "\t\t<start>RRWPIRRPPIRPPFYPPFRPPFRPPVRPPFRPPFRRPIPRIPPGRPIPRPLFG<end>\n",
      "\t\t<start>VRRFWPWWPFLPRRI<end><pad><pad><pad><pad><pad><pad><pad><pad><pad><pad><pad><pad><pad><pad><pad><pad><pad><pad><pad><pad><pad><pad><pad><pad><pad><pad><pad><pad><pad><pad><pad><pad><pad><pad><pad><pad><pad><pad>\n",
      "\tNLL Train Active: 14.224926948547363\n",
      "\tNLL Test Active: 24.307302474975586\n",
      "\tNLL Train Inactive: 34.78388977050781\n",
      "\tNLL Test Inactive: 38.08528137207031\n",
      "\n",
      "Epoch 50\n"
     ]
    },
    {
     "data": {
      "application/vnd.jupyter.widget-view+json": {
       "model_id": "6153d20589e64d12ae72ab14daefa9b2",
       "version_major": 2,
       "version_minor": 0
      },
      "text/plain": [
       "HBox(children=(FloatProgress(value=0.0, max=32.0), HTML(value='')))"
      ]
     },
     "metadata": {},
     "output_type": "display_data"
    },
    {
     "name": "stdout",
     "output_type": "stream",
     "text": [
      "\n",
      "\tExample Sequences\n",
      "\t\t<start>SWWIPLLHGWRQH<end><pad><pad><pad><pad><pad><pad><pad>\n",
      "\t\t<start>HlRLRiGRR<end><pad><pad><pad><pad><pad><pad><pad><pad><pad><pad><pad>\n",
      "\t\t<start>RRWPIRRPPIRPPFYP<end><pad><pad><pad><pad>\n",
      "\t\t<start>FLGVVFKLASKVFPAVFGKV<end>\n",
      "\t\t<start>GGNNPYKPRPRPPHPRL<end><pad><pad><pad>\n",
      "\tNLL Train Active: 14.192312240600586\n",
      "\tNLL Test Active: 24.301868438720703\n",
      "\tNLL Train Inactive: 34.778419494628906\n",
      "\tNLL Test Inactive: 38.08149719238281\n",
      "\n",
      "Epoch 51\n"
     ]
    },
    {
     "data": {
      "application/vnd.jupyter.widget-view+json": {
       "model_id": "2a497aea875f4ec8b0cadd92c31261ff",
       "version_major": 2,
       "version_minor": 0
      },
      "text/plain": [
       "HBox(children=(FloatProgress(value=0.0, max=32.0), HTML(value='')))"
      ]
     },
     "metadata": {},
     "output_type": "display_data"
    },
    {
     "name": "stdout",
     "output_type": "stream",
     "text": [
      "\n",
      "\tExample Sequences\n",
      "\t\t<start>RRRRRRFRWKKRWHRLPF<end>\n",
      "\t\t<start>AKKVFKRLEKLFSNIQG<end><pad>\n",
      "\t\t<start>FLGALANWLGKVL<end><pad><pad><pad><pad><pad>\n",
      "\t\t<start>RRWCY<end><pad><pad><pad><pad><pad><pad><pad><pad><pad><pad><pad><pad><pad>\n",
      "\t\t<start>ALWKTLLKKVLKA<end><pad><pad><pad><pad><pad>\n",
      "\tNLL Train Active: 14.158538818359375\n",
      "\tNLL Test Active: 24.294769287109375\n",
      "\tNLL Train Inactive: 34.78447341918945\n",
      "\tNLL Test Inactive: 38.07817077636719\n",
      "\n",
      "Epoch 52\n"
     ]
    },
    {
     "data": {
      "application/vnd.jupyter.widget-view+json": {
       "model_id": "b29f16343c02485ba0560e0e7f924e7d",
       "version_major": 2,
       "version_minor": 0
      },
      "text/plain": [
       "HBox(children=(FloatProgress(value=0.0, max=32.0), HTML(value='')))"
      ]
     },
     "metadata": {},
     "output_type": "display_data"
    },
    {
     "name": "stdout",
     "output_type": "stream",
     "text": [
      "\n",
      "\tExample Sequences\n",
      "\t\t<start>GRKKRRQRRRWY<end><pad><pad><pad><pad><pad><pad><pad><pad><pad><pad><pad><pad><pad><pad><pad><pad><pad><pad><pad><pad><pad><pad><pad><pad><pad><pad><pad><pad><pad><pad><pad><pad><pad><pad><pad><pad><pad><pad><pad><pad><pad><pad><pad><pad><pad><pad>\n",
      "\t\t<start>RLLRIVVIRVV<end><pad><pad><pad><pad><pad><pad><pad><pad><pad><pad><pad><pad><pad><pad><pad><pad><pad><pad><pad><pad><pad><pad><pad><pad><pad><pad><pad><pad><pad><pad><pad><pad><pad><pad><pad><pad><pad><pad><pad><pad><pad><pad><pad><pad><pad><pad><pad>\n",
      "\t\t<start>KWKLFKKIPKFLHLAKKF<end><pad><pad><pad><pad><pad><pad><pad><pad><pad><pad><pad><pad><pad><pad><pad><pad><pad><pad><pad><pad><pad><pad><pad><pad><pad><pad><pad><pad><pad><pad><pad><pad><pad><pad><pad><pad><pad><pad><pad><pad>\n",
      "\t\t<start>KKKKKKKKKKKKKKKKKKKKKKKKKKKKKKKKKKKKKKKKKKKKIGIPAIKIIGIIAK<end>\n",
      "\t\t<start>LLQVTAQVLK<end><pad><pad><pad><pad><pad><pad><pad><pad><pad><pad><pad><pad><pad><pad><pad><pad><pad><pad><pad><pad><pad><pad><pad><pad><pad><pad><pad><pad><pad><pad><pad><pad><pad><pad><pad><pad><pad><pad><pad><pad><pad><pad><pad><pad><pad><pad><pad><pad>\n",
      "\tNLL Train Active: 14.125984191894531\n",
      "\tNLL Test Active: 24.28651237487793\n",
      "\tNLL Train Inactive: 34.78360366821289\n",
      "\tNLL Test Inactive: 38.079410552978516\n",
      "\n",
      "Epoch 53\n"
     ]
    },
    {
     "data": {
      "application/vnd.jupyter.widget-view+json": {
       "model_id": "87bfe15a3e674f9cbc50e7a234cfbcb2",
       "version_major": 2,
       "version_minor": 0
      },
      "text/plain": [
       "HBox(children=(FloatProgress(value=0.0, max=32.0), HTML(value='')))"
      ]
     },
     "metadata": {},
     "output_type": "display_data"
    },
    {
     "name": "stdout",
     "output_type": "stream",
     "text": [
      "\n",
      "\tExample Sequences\n",
      "\t\t<start>IRILQRLLIRLPRK<end><pad><pad><pad><pad>\n",
      "\t\t<start>ILPFKIPFSLNPFKT<end><pad><pad><pad>\n",
      "\t\t<start>RWKIFKKAMKKFGIGAFG<end>\n",
      "\t\t<start>AARRALKKLGRAF<end><pad><pad><pad><pad><pad>\n",
      "\t\t<start>VKRVWRWWRRVLKV<end><pad><pad><pad><pad>\n",
      "\tNLL Train Active: 14.093257904052734\n",
      "\tNLL Test Active: 24.278358459472656\n",
      "\tNLL Train Inactive: 34.78251647949219\n",
      "\tNLL Test Inactive: 38.0792350769043\n",
      "\n",
      "Epoch 54\n"
     ]
    },
    {
     "data": {
      "application/vnd.jupyter.widget-view+json": {
       "model_id": "3aa2cda16d3046cda789c0d761c2628e",
       "version_major": 2,
       "version_minor": 0
      },
      "text/plain": [
       "HBox(children=(FloatProgress(value=0.0, max=32.0), HTML(value='')))"
      ]
     },
     "metadata": {},
     "output_type": "display_data"
    },
    {
     "name": "stdout",
     "output_type": "stream",
     "text": [
      "\n",
      "\tExample Sequences\n",
      "\t\t<start>GLLKRIKKLL<end><pad><pad><pad><pad><pad><pad><pad><pad><pad><pad><pad><pad><pad><pad><pad><pad><pad><pad><pad>\n",
      "\t\t<start>KWKLLPKKLKLLKKL<end><pad><pad><pad><pad><pad><pad><pad><pad><pad><pad><pad><pad><pad><pad>\n",
      "\t\t<start>WLGWVIKRIG<end><pad><pad><pad><pad><pad><pad><pad><pad><pad><pad><pad><pad><pad><pad><pad><pad><pad><pad><pad>\n",
      "\t\t<start>GIRNIIKKIAKKGGKIFKKAPPIINVVKK<end>\n",
      "\t\t<start>LLRAWAKKWRKK<end><pad><pad><pad><pad><pad><pad><pad><pad><pad><pad><pad><pad><pad><pad><pad><pad><pad>\n",
      "\tNLL Train Active: 14.061407089233398\n",
      "\tNLL Test Active: 24.27182388305664\n",
      "\tNLL Train Inactive: 34.783329010009766\n",
      "\tNLL Test Inactive: 38.071720123291016\n",
      "\n",
      "Epoch 55\n"
     ]
    },
    {
     "data": {
      "application/vnd.jupyter.widget-view+json": {
       "model_id": "3102c91e472a46a1854fb2c635f2c245",
       "version_major": 2,
       "version_minor": 0
      },
      "text/plain": [
       "HBox(children=(FloatProgress(value=0.0, max=32.0), HTML(value='')))"
      ]
     },
     "metadata": {},
     "output_type": "display_data"
    },
    {
     "name": "stdout",
     "output_type": "stream",
     "text": [
      "\n",
      "\tExample Sequences\n",
      "\t\t<start>KKLFKKILKLL<end><pad><pad><pad><pad><pad><pad><pad><pad><pad><pad><pad><pad><pad><pad>\n",
      "\t\t<start>RWRWWLKKIW<end><pad><pad><pad><pad><pad><pad><pad><pad><pad><pad><pad><pad><pad><pad><pad>\n",
      "\t\t<start>KKLFCKILKYLKKMAMKKLRAKKPK<end>\n",
      "\t\t<start>RRWWRWRW<end><pad><pad><pad><pad><pad><pad><pad><pad><pad><pad><pad><pad><pad><pad><pad><pad><pad>\n",
      "\t\t<start>LLKWLKKWLKK<end><pad><pad><pad><pad><pad><pad><pad><pad><pad><pad><pad><pad><pad><pad>\n",
      "\tNLL Train Active: 14.030202865600586\n",
      "\tNLL Test Active: 24.270036697387695\n",
      "\tNLL Train Inactive: 34.784786224365234\n",
      "\tNLL Test Inactive: 38.067840576171875\n",
      "\n",
      "Epoch 56\n"
     ]
    },
    {
     "data": {
      "application/vnd.jupyter.widget-view+json": {
       "model_id": "c382febec20b49a384c3977601c6786f",
       "version_major": 2,
       "version_minor": 0
      },
      "text/plain": [
       "HBox(children=(FloatProgress(value=0.0, max=32.0), HTML(value='')))"
      ]
     },
     "metadata": {},
     "output_type": "display_data"
    },
    {
     "name": "stdout",
     "output_type": "stream",
     "text": [
      "\n",
      "\tExample Sequences\n",
      "\t\t<start>TRCRRRFCRI<end><pad><pad><pad><pad><pad><pad><pad><pad><pad><pad><pad><pad><pad><pad><pad>\n",
      "\t\t<start>FwKWLGKVLKGLF<end><pad><pad><pad><pad><pad><pad><pad><pad><pad><pad><pad><pad>\n",
      "\t\t<start>VRRFWPLLPLIGGVLSSAI<end><pad><pad><pad><pad><pad><pad>\n",
      "\t\t<start>ILPWKWPWLPRR<end><pad><pad><pad><pad><pad><pad><pad><pad><pad><pad><pad><pad><pad>\n",
      "\t\t<start>RVVRQLPIEDNNYLPHPKLAPRTAY<end>\n",
      "\tNLL Train Active: 13.999312400817871\n",
      "\tNLL Test Active: 24.260189056396484\n",
      "\tNLL Train Inactive: 34.78690719604492\n",
      "\tNLL Test Inactive: 38.068511962890625\n",
      "\n",
      "Epoch 57\n"
     ]
    },
    {
     "data": {
      "application/vnd.jupyter.widget-view+json": {
       "model_id": "81d61d8627b541ff952cd927f3416106",
       "version_major": 2,
       "version_minor": 0
      },
      "text/plain": [
       "HBox(children=(FloatProgress(value=0.0, max=32.0), HTML(value='')))"
      ]
     },
     "metadata": {},
     "output_type": "display_data"
    },
    {
     "name": "stdout",
     "output_type": "stream",
     "text": [
      "\n",
      "\tExample Sequences\n",
      "\t\t<start>VRRPPPYLPRPRPPKFYPP<end><pad><pad><pad><pad><pad><pad><pad><pad><pad><pad><pad><pad><pad><pad>\n",
      "\t\t<start>RRWPIRRPPIRPPFYPPFRPPVR<end><pad><pad><pad><pad><pad><pad><pad><pad><pad><pad>\n",
      "\t\t<start>GIKWLKKWLK<end><pad><pad><pad><pad><pad><pad><pad><pad><pad><pad><pad><pad><pad><pad><pad><pad><pad><pad><pad><pad><pad><pad><pad>\n",
      "\t\t<start>WGRNFRRFFKKFRGKFKRFVKVGKRVFKLFSKI<end>\n",
      "\t\t<start>KWKLFKKIEKLGQKIKNFFQR<end><pad><pad><pad><pad><pad><pad><pad><pad><pad><pad><pad><pad>\n",
      "\tNLL Train Active: 13.968475341796875\n",
      "\tNLL Test Active: 24.252479553222656\n",
      "\tNLL Train Inactive: 34.783573150634766\n",
      "\tNLL Test Inactive: 38.068241119384766\n",
      "\n",
      "Epoch 58\n"
     ]
    },
    {
     "data": {
      "application/vnd.jupyter.widget-view+json": {
       "model_id": "de19f8a874f84d8dbe308b896a14bedb",
       "version_major": 2,
       "version_minor": 0
      },
      "text/plain": [
       "HBox(children=(FloatProgress(value=0.0, max=32.0), HTML(value='')))"
      ]
     },
     "metadata": {},
     "output_type": "display_data"
    },
    {
     "name": "stdout",
     "output_type": "stream",
     "text": [
      "\n",
      "\tExample Sequences\n",
      "\t\t<start>ILPWKWPLLPWRR<end><pad><pad><pad><pad><pad>\n",
      "\t\t<start>RFRWWWWRRFH<end><pad><pad><pad><pad><pad><pad><pad>\n",
      "\t\t<start>AARIVLRLKRQW<end><pad><pad><pad><pad><pad><pad>\n",
      "\t\t<start>RWKKIRKILKYLKKLWKK<end>\n",
      "\t\t<start>KWKKLLKKPLLKKLLK<end><pad><pad>\n",
      "\tNLL Train Active: 13.938267707824707\n",
      "\tNLL Test Active: 24.24544906616211\n",
      "\tNLL Train Inactive: 34.782588958740234\n",
      "\tNLL Test Inactive: 38.065731048583984\n",
      "\n",
      "Epoch 59\n"
     ]
    },
    {
     "data": {
      "application/vnd.jupyter.widget-view+json": {
       "model_id": "4f1dcc0b4058430dab3ca15005085f74",
       "version_major": 2,
       "version_minor": 0
      },
      "text/plain": [
       "HBox(children=(FloatProgress(value=0.0, max=32.0), HTML(value='')))"
      ]
     },
     "metadata": {},
     "output_type": "display_data"
    },
    {
     "name": "stdout",
     "output_type": "stream",
     "text": [
      "\n",
      "\tExample Sequences\n",
      "\t\t<start>ILPWKPKKPWRR<end><pad><pad><pad><pad><pad><pad><pad><pad><pad>\n",
      "\t\t<start>YKLLKLLLPKLKWLLKK<end><pad><pad><pad><pad>\n",
      "\t\t<start>INWKKIAKKGAKTLHELL<end><pad><pad><pad>\n",
      "\t\t<start>ILPWKWPKWPWRR<end><pad><pad><pad><pad><pad><pad><pad><pad>\n",
      "\t\t<start>SGRGKKRRKAGAKIKVRGPRV<end>\n",
      "\tNLL Train Active: 13.908345222473145\n",
      "\tNLL Test Active: 24.242055892944336\n",
      "\tNLL Train Inactive: 34.782684326171875\n",
      "\tNLL Test Inactive: 38.058414459228516\n",
      "\n",
      "Epoch 60\n"
     ]
    },
    {
     "data": {
      "application/vnd.jupyter.widget-view+json": {
       "model_id": "350ff43fdacd475fbab7bd29746c40c8",
       "version_major": 2,
       "version_minor": 0
      },
      "text/plain": [
       "HBox(children=(FloatProgress(value=0.0, max=32.0), HTML(value='')))"
      ]
     },
     "metadata": {},
     "output_type": "display_data"
    },
    {
     "name": "stdout",
     "output_type": "stream",
     "text": [
      "\n",
      "\tExample Sequences\n",
      "\t\t<start>FLPLLAGLLGKLF<end><pad><pad><pad><pad><pad><pad><pad><pad><pad><pad><pad><pad><pad>\n",
      "\t\t<start>PYLRRWWRWR<end><pad><pad><pad><pad><pad><pad><pad><pad><pad><pad><pad><pad><pad><pad><pad><pad>\n",
      "\t\t<start>FFHHIFRGIVHVGKAIHGLIHRRRRN<end>\n",
      "\t\t<start>KKLFKKILKYLKKLFKKILKYL<end><pad><pad><pad><pad>\n",
      "\t\t<start>PAEKIMSHLWHRTAHLVSSKTA<end><pad><pad><pad><pad>\n",
      "\tNLL Train Active: 13.878278732299805\n",
      "\tNLL Test Active: 24.23431396484375\n",
      "\tNLL Train Inactive: 34.78305435180664\n",
      "\tNLL Test Inactive: 38.06206130981445\n",
      "\n",
      "Epoch 61\n"
     ]
    },
    {
     "data": {
      "application/vnd.jupyter.widget-view+json": {
       "model_id": "b0b157338512492b99fd7a047b8e354d",
       "version_major": 2,
       "version_minor": 0
      },
      "text/plain": [
       "HBox(children=(FloatProgress(value=0.0, max=32.0), HTML(value='')))"
      ]
     },
     "metadata": {},
     "output_type": "display_data"
    },
    {
     "name": "stdout",
     "output_type": "stream",
     "text": [
      "\n",
      "\tExample Sequences\n",
      "\t\t<start>RLSRIAGRIVSI<end><pad><pad><pad><pad><pad><pad><pad><pad><pad><pad><pad><pad><pad><pad><pad><pad><pad><pad><pad><pad><pad>\n",
      "\t\t<start>LLKWLLKWLK<end><pad><pad><pad><pad><pad><pad><pad><pad><pad><pad><pad><pad><pad><pad><pad><pad><pad><pad><pad><pad><pad><pad><pad>\n",
      "\t\t<start>LLCIALRKK<end><pad><pad><pad><pad><pad><pad><pad><pad><pad><pad><pad><pad><pad><pad><pad><pad><pad><pad><pad><pad><pad><pad><pad><pad>\n",
      "\t\t<start>YSRAKFRPSPGKDLSTFKRKILKKGSCKLKLEG<end>\n",
      "\t\t<start>FKKLGAFKkAKKKGLKKLGTMAL<end><pad><pad><pad><pad><pad><pad><pad><pad><pad><pad>\n",
      "\tNLL Train Active: 13.848921775817871\n",
      "\tNLL Test Active: 24.22483253479004\n",
      "\tNLL Train Inactive: 34.778533935546875\n",
      "\tNLL Test Inactive: 38.05754470825195\n",
      "\n",
      "Epoch 62\n"
     ]
    },
    {
     "data": {
      "application/vnd.jupyter.widget-view+json": {
       "model_id": "dbb10604f5f34255bba2f61a11e66d25",
       "version_major": 2,
       "version_minor": 0
      },
      "text/plain": [
       "HBox(children=(FloatProgress(value=0.0, max=32.0), HTML(value='')))"
      ]
     },
     "metadata": {},
     "output_type": "display_data"
    },
    {
     "name": "stdout",
     "output_type": "stream",
     "text": [
      "\n",
      "\tExample Sequences\n",
      "\t\t<start>FKRLKKLFSKIWNYK<end><pad><pad>\n",
      "\t\t<start>KCRWQWRWQWRW<end><pad><pad><pad><pad><pad>\n",
      "\t\t<start>ILPAWKWPWWPLKWKR<end><pad>\n",
      "\t\t<start>KWKLFKKIRGGRACRWC<end>\n",
      "\t\t<start>KRQRVRLLDWLNWCLK<end><pad>\n",
      "\tNLL Train Active: 13.820159912109375\n",
      "\tNLL Test Active: 24.22498893737793\n",
      "\tNLL Train Inactive: 34.78440475463867\n",
      "\tNLL Test Inactive: 38.0554084777832\n",
      "\n",
      "Epoch 63\n"
     ]
    },
    {
     "data": {
      "application/vnd.jupyter.widget-view+json": {
       "model_id": "89e97291d7f54df4990fff71fc240293",
       "version_major": 2,
       "version_minor": 0
      },
      "text/plain": [
       "HBox(children=(FloatProgress(value=0.0, max=32.0), HTML(value='')))"
      ]
     },
     "metadata": {},
     "output_type": "display_data"
    },
    {
     "name": "stdout",
     "output_type": "stream",
     "text": [
      "\n",
      "\tExample Sequences\n",
      "\t\t<start>GLWKVIKKIAS<end><pad><pad><pad><pad><pad><pad><pad><pad><pad><pad><pad><pad><pad><pad>\n",
      "\t\t<start>KRFKKFSKKMKKFGKKLKQLRIMRF<end>\n",
      "\t\t<start>GKWMKLGKKGWGKAFKGAIKS<end><pad><pad><pad><pad>\n",
      "\t\t<start>FLGALFKVLSKLL<end><pad><pad><pad><pad><pad><pad><pad><pad><pad><pad><pad><pad>\n",
      "\t\t<start>RSGEGIVQKVKKLV<end><pad><pad><pad><pad><pad><pad><pad><pad><pad><pad><pad>\n",
      "\tNLL Train Active: 13.791714668273926\n",
      "\tNLL Test Active: 24.219167709350586\n",
      "\tNLL Train Inactive: 34.7866096496582\n",
      "\tNLL Test Inactive: 38.05799865722656\n",
      "\n",
      "Epoch 64\n"
     ]
    },
    {
     "data": {
      "application/vnd.jupyter.widget-view+json": {
       "model_id": "5aacdb91f1b14c6db59f9f54308260ed",
       "version_major": 2,
       "version_minor": 0
      },
      "text/plain": [
       "HBox(children=(FloatProgress(value=0.0, max=32.0), HTML(value='')))"
      ]
     },
     "metadata": {},
     "output_type": "display_data"
    },
    {
     "name": "stdout",
     "output_type": "stream",
     "text": [
      "\n",
      "\tExample Sequences\n",
      "\t\t<start>RFRRLRWKTRLKILK<end><pad><pad><pad><pad><pad><pad><pad><pad><pad><pad><pad><pad><pad><pad><pad><pad><pad>\n",
      "\t\t<start>FKCGMTRGRFKVRWKSKPKKVATVAGAVKKKG<end>\n",
      "\t\t<start>KWKLFKKIPKFLHLAKKF<end><pad><pad><pad><pad><pad><pad><pad><pad><pad><pad><pad><pad><pad><pad>\n",
      "\t\t<start>KFFKRLRKLF<end><pad><pad><pad><pad><pad><pad><pad><pad><pad><pad><pad><pad><pad><pad><pad><pad><pad><pad><pad><pad><pad><pad>\n",
      "\t\t<start>FLRALFKAlwKal<end><pad><pad><pad><pad><pad><pad><pad><pad><pad><pad><pad><pad><pad><pad><pad><pad><pad><pad><pad>\n",
      "\tNLL Train Active: 13.763266563415527\n",
      "\tNLL Test Active: 24.21705436706543\n",
      "\tNLL Train Inactive: 34.7883415222168\n",
      "\tNLL Test Inactive: 38.056427001953125\n",
      "\n",
      "Epoch 65\n"
     ]
    },
    {
     "data": {
      "application/vnd.jupyter.widget-view+json": {
       "model_id": "23f752a6eaa44d50a0c51bb0588cf07d",
       "version_major": 2,
       "version_minor": 0
      },
      "text/plain": [
       "HBox(children=(FloatProgress(value=0.0, max=32.0), HTML(value='')))"
      ]
     },
     "metadata": {},
     "output_type": "display_data"
    },
    {
     "name": "stdout",
     "output_type": "stream",
     "text": [
      "\n",
      "\tExample Sequences\n",
      "\t\t<start>GNNRPVYIPQPRPPHPRL<end><pad><pad><pad><pad><pad><pad><pad><pad>\n",
      "\t\t<start>VIGAVLKVLTTGLPALISWIKRKRQQ<end>\n",
      "\t\t<start>RLRRLRWWpRR<end><pad><pad><pad><pad><pad><pad><pad><pad><pad><pad><pad><pad><pad><pad><pad>\n",
      "\t\t<start>KKEAEARLAAQWA<end><pad><pad><pad><pad><pad><pad><pad><pad><pad><pad><pad><pad><pad>\n",
      "\t\t<start>INWLKGAKKVLKGLF<end><pad><pad><pad><pad><pad><pad><pad><pad><pad><pad><pad>\n",
      "\tNLL Train Active: 13.735118865966797\n",
      "\tNLL Test Active: 24.20845603942871\n",
      "\tNLL Train Inactive: 34.78768539428711\n",
      "\tNLL Test Inactive: 38.05571746826172\n",
      "\n",
      "Epoch 66\n"
     ]
    },
    {
     "data": {
      "application/vnd.jupyter.widget-view+json": {
       "model_id": "0e13ae7a602b434488a10353332cbc34",
       "version_major": 2,
       "version_minor": 0
      },
      "text/plain": [
       "HBox(children=(FloatProgress(value=0.0, max=32.0), HTML(value='')))"
      ]
     },
     "metadata": {},
     "output_type": "display_data"
    },
    {
     "name": "stdout",
     "output_type": "stream",
     "text": [
      "\n",
      "\tExample Sequences\n",
      "\t\t<start>VAKRLKKLARKIWKWL<end><pad><pad><pad><pad><pad><pad><pad><pad><pad><pad>\n",
      "\t\t<start>ILPWKWKWPWKK<end><pad><pad><pad><pad><pad><pad><pad><pad><pad><pad><pad><pad><pad><pad>\n",
      "\t\t<start>GVVRRLRRWWRR<end><pad><pad><pad><pad><pad><pad><pad><pad><pad><pad><pad><pad><pad><pad>\n",
      "\t\t<start>RRWWCR<end><pad><pad><pad><pad><pad><pad><pad><pad><pad><pad><pad><pad><pad><pad><pad><pad><pad><pad><pad><pad>\n",
      "\t\t<start>GIGAVLKVATTGLPALISWIKRKRQQ<end>\n",
      "\tNLL Train Active: 13.707921981811523\n",
      "\tNLL Test Active: 24.20180320739746\n",
      "\tNLL Train Inactive: 34.78741455078125\n",
      "\tNLL Test Inactive: 38.0543327331543\n",
      "\n",
      "Epoch 67\n"
     ]
    },
    {
     "data": {
      "application/vnd.jupyter.widget-view+json": {
       "model_id": "7fdc872cb66a4c979e0b82ad66aeb40f",
       "version_major": 2,
       "version_minor": 0
      },
      "text/plain": [
       "HBox(children=(FloatProgress(value=0.0, max=32.0), HTML(value='')))"
      ]
     },
     "metadata": {},
     "output_type": "display_data"
    },
    {
     "name": "stdout",
     "output_type": "stream",
     "text": [
      "\n",
      "\tExample Sequences\n",
      "\t\t<start>GRRWWWWLR<end><pad><pad><pad><pad><pad><pad><pad><pad><pad>\n",
      "\t\t<start>KRKKHCRCRWQSNMKP<end><pad><pad>\n",
      "\t\t<start>FKRLQKLFKGIFRRIF<end><pad><pad>\n",
      "\t\t<start>KWKLFKKIPKFLHLAKKF<end>\n",
      "\t\t<start>RRPWRFFKF<end><pad><pad><pad><pad><pad><pad><pad><pad><pad>\n",
      "\tNLL Train Active: 13.680394172668457\n",
      "\tNLL Test Active: 24.20206069946289\n",
      "\tNLL Train Inactive: 34.785003662109375\n",
      "\tNLL Test Inactive: 38.047096252441406\n",
      "\n",
      "Epoch 68\n"
     ]
    },
    {
     "data": {
      "application/vnd.jupyter.widget-view+json": {
       "model_id": "1205b6661e6742b0826390da902a322a",
       "version_major": 2,
       "version_minor": 0
      },
      "text/plain": [
       "HBox(children=(FloatProgress(value=0.0, max=32.0), HTML(value='')))"
      ]
     },
     "metadata": {},
     "output_type": "display_data"
    },
    {
     "name": "stdout",
     "output_type": "stream",
     "text": [
      "\n",
      "\tExample Sequences\n",
      "\t\t<start>SRGRFGRFFRRGFRKARRKWRKVGKATRESLRDIAAAVAQA<end>\n",
      "\t\t<start>SIGSRGRKILRAWKKPGKKPVYKKVKKVLKE<end><pad><pad><pad><pad><pad><pad><pad><pad><pad><pad>\n",
      "\t\t<start>AKKVFKRLEKLFSKIWNWK<end><pad><pad><pad><pad><pad><pad><pad><pad><pad><pad><pad><pad><pad><pad><pad><pad><pad><pad><pad><pad><pad><pad>\n",
      "\t\t<start>GKKLFKKILKYLKKLFKKIWNWK<end><pad><pad><pad><pad><pad><pad><pad><pad><pad><pad><pad><pad><pad><pad><pad><pad><pad><pad>\n",
      "\t\t<start>GLRKRLRKFRNKIKEKLKKIGQKIQGLLPKLAPRTDY<end><pad><pad><pad><pad>\n",
      "\tNLL Train Active: 13.653604507446289\n",
      "\tNLL Test Active: 24.192626953125\n",
      "\tNLL Train Inactive: 34.78116989135742\n",
      "\tNLL Test Inactive: 38.04329299926758\n",
      "\n",
      "Epoch 69\n"
     ]
    },
    {
     "data": {
      "application/vnd.jupyter.widget-view+json": {
       "model_id": "e13a151d5ced4550ac821a7837f8d729",
       "version_major": 2,
       "version_minor": 0
      },
      "text/plain": [
       "HBox(children=(FloatProgress(value=0.0, max=32.0), HTML(value='')))"
      ]
     },
     "metadata": {},
     "output_type": "display_data"
    },
    {
     "name": "stdout",
     "output_type": "stream",
     "text": [
      "\n",
      "\tExample Sequences\n",
      "\t\t<start>KKLFKKIIKGLFKNLK<end><pad><pad><pad><pad><pad><pad>\n",
      "\t\t<start>KKLFKKIPKFLHLLKKF<end><pad><pad><pad><pad><pad>\n",
      "\t\t<start>RKWRGIVVIRTVVAGIAYNKRY<end>\n",
      "\t\t<start>FLGALFKALSKNL<end><pad><pad><pad><pad><pad><pad><pad><pad><pad>\n",
      "\t\t<start>KRRAVKKKARLWKKLAA<end><pad><pad><pad><pad><pad>\n",
      "\tNLL Train Active: 13.626219749450684\n",
      "\tNLL Test Active: 24.188261032104492\n",
      "\tNLL Train Inactive: 34.78249740600586\n",
      "\tNLL Test Inactive: 38.043827056884766\n",
      "\n",
      "Epoch 70\n"
     ]
    },
    {
     "data": {
      "application/vnd.jupyter.widget-view+json": {
       "model_id": "8a269c04cf194040af3a96301bf26d28",
       "version_major": 2,
       "version_minor": 0
      },
      "text/plain": [
       "HBox(children=(FloatProgress(value=0.0, max=32.0), HTML(value='')))"
      ]
     },
     "metadata": {},
     "output_type": "display_data"
    },
    {
     "name": "stdout",
     "output_type": "stream",
     "text": [
      "\n",
      "\tExample Sequences\n",
      "\t\t<start>RFRRLRWWTRRRLRR<end><pad><pad><pad><pad><pad><pad><pad><pad><pad><pad><pad><pad><pad>\n",
      "\t\t<start>AKKVFKRLEKLFSKIQN<end><pad><pad><pad><pad><pad><pad><pad><pad><pad><pad><pad>\n",
      "\t\t<start>WKLFKKIPKFLHLAKKF<end><pad><pad><pad><pad><pad><pad><pad><pad><pad><pad><pad>\n",
      "\t\t<start>KRFKKFFKKLKNSVKKRFKKFFKKVKKL<end>\n",
      "\t\t<start>RKNRIKPRRCIR<end><pad><pad><pad><pad><pad><pad><pad><pad><pad><pad><pad><pad><pad><pad><pad><pad>\n",
      "\tNLL Train Active: 13.600146293640137\n",
      "\tNLL Test Active: 24.183748245239258\n",
      "\tNLL Train Inactive: 34.792415618896484\n",
      "\tNLL Test Inactive: 38.048133850097656\n",
      "\n",
      "Epoch 71\n"
     ]
    },
    {
     "data": {
      "application/vnd.jupyter.widget-view+json": {
       "model_id": "c304640424c84e2e9e2730d68e703b63",
       "version_major": 2,
       "version_minor": 0
      },
      "text/plain": [
       "HBox(children=(FloatProgress(value=0.0, max=32.0), HTML(value='')))"
      ]
     },
     "metadata": {},
     "output_type": "display_data"
    },
    {
     "name": "stdout",
     "output_type": "stream",
     "text": [
      "\n",
      "\tExample Sequences\n",
      "\t\t<start>FFRHIFRGIVHVGKTIHRLVTG<end>\n",
      "\t\t<start>SILPTTKQPY<end><pad><pad><pad><pad><pad><pad><pad><pad><pad><pad><pad><pad>\n",
      "\t\t<start>FLGALWNVAKSVF<end><pad><pad><pad><pad><pad><pad><pad><pad><pad>\n",
      "\t\t<start>FRRFWGFLKFLG<end><pad><pad><pad><pad><pad><pad><pad><pad><pad><pad>\n",
      "\t\t<start>ILPRLPWWPWRR<end><pad><pad><pad><pad><pad><pad><pad><pad><pad><pad>\n",
      "\tNLL Train Active: 13.573182106018066\n",
      "\tNLL Test Active: 24.178579330444336\n",
      "\tNLL Train Inactive: 34.789878845214844\n",
      "\tNLL Test Inactive: 38.045997619628906\n",
      "\n",
      "Epoch 72\n"
     ]
    },
    {
     "data": {
      "application/vnd.jupyter.widget-view+json": {
       "model_id": "d33ea43092de468f9e0339e29ce2a977",
       "version_major": 2,
       "version_minor": 0
      },
      "text/plain": [
       "HBox(children=(FloatProgress(value=0.0, max=32.0), HTML(value='')))"
      ]
     },
     "metadata": {},
     "output_type": "display_data"
    },
    {
     "name": "stdout",
     "output_type": "stream",
     "text": [
      "\n",
      "\tExample Sequences\n",
      "\t\t<start>KKIGKKFKRLAKKIFKAPRTYDW<end>\n",
      "\t\t<start>ILKKIWKPIKKLLK<end><pad><pad><pad><pad><pad><pad><pad><pad><pad>\n",
      "\t\t<start>KWWKKWPKKPWRR<end><pad><pad><pad><pad><pad><pad><pad><pad><pad><pad>\n",
      "\t\t<start>ILGKILKGIKKWL<end><pad><pad><pad><pad><pad><pad><pad><pad><pad><pad>\n",
      "\t\t<start>AARIILRAFRRR<end><pad><pad><pad><pad><pad><pad><pad><pad><pad><pad><pad>\n",
      "\tNLL Train Active: 13.54787540435791\n",
      "\tNLL Test Active: 24.174612045288086\n",
      "\tNLL Train Inactive: 34.79228210449219\n",
      "\tNLL Test Inactive: 38.048805236816406\n",
      "\n",
      "Epoch 73\n"
     ]
    },
    {
     "data": {
      "application/vnd.jupyter.widget-view+json": {
       "model_id": "66e2f3cc91ab4dcaac9d3e09489b5060",
       "version_major": 2,
       "version_minor": 0
      },
      "text/plain": [
       "HBox(children=(FloatProgress(value=0.0, max=32.0), HTML(value='')))"
      ]
     },
     "metadata": {},
     "output_type": "display_data"
    },
    {
     "name": "stdout",
     "output_type": "stream",
     "text": [
      "\n",
      "\tExample Sequences\n",
      "\t\t<start>AANALQGLPKVIAILKQCK<end><pad><pad><pad>\n",
      "\t\t<start>AKRLKKIFKRIVQRIKKWRRQW<end>\n",
      "\t\t<start>WLPWIKKWLPKWKK<end><pad><pad><pad><pad><pad><pad><pad><pad>\n",
      "\t\t<start>KWKKLLKKLLKLLKK<end><pad><pad><pad><pad><pad><pad><pad>\n",
      "\t\t<start>RRAGLQFPVGDILNKIHGHV<end><pad><pad>\n",
      "\tNLL Train Active: 13.521380424499512\n",
      "\tNLL Test Active: 24.17123794555664\n",
      "\tNLL Train Inactive: 34.794586181640625\n",
      "\tNLL Test Inactive: 38.04755401611328\n",
      "\n",
      "Epoch 74\n"
     ]
    },
    {
     "data": {
      "application/vnd.jupyter.widget-view+json": {
       "model_id": "abda21c3370342a0b0a488fbbc1c90ac",
       "version_major": 2,
       "version_minor": 0
      },
      "text/plain": [
       "HBox(children=(FloatProgress(value=0.0, max=32.0), HTML(value='')))"
      ]
     },
     "metadata": {},
     "output_type": "display_data"
    },
    {
     "name": "stdout",
     "output_type": "stream",
     "text": [
      "\n",
      "\tExample Sequences\n",
      "\t\t<start>INLPILASLLMINQKFK<end><pad>\n",
      "\t\t<start>FKAPFWWNVKGVKKMK<end><pad><pad>\n",
      "\t\t<start>AKRLVKRAF<end><pad><pad><pad><pad><pad><pad><pad><pad><pad>\n",
      "\t\t<start>RRWCRIRPRLPRPPRRIY<end>\n",
      "\t\t<start>KLLKWLKKLLKK<end><pad><pad><pad><pad><pad><pad>\n",
      "\tNLL Train Active: 13.496805191040039\n",
      "\tNLL Test Active: 24.166427612304688\n",
      "\tNLL Train Inactive: 34.79718017578125\n",
      "\tNLL Test Inactive: 38.04921340942383\n",
      "\n",
      "Epoch 75\n"
     ]
    },
    {
     "data": {
      "application/vnd.jupyter.widget-view+json": {
       "model_id": "1289cc31aad14e9c9849bee121f52fa9",
       "version_major": 2,
       "version_minor": 0
      },
      "text/plain": [
       "HBox(children=(FloatProgress(value=0.0, max=32.0), HTML(value='')))"
      ]
     },
     "metadata": {},
     "output_type": "display_data"
    },
    {
     "name": "stdout",
     "output_type": "stream",
     "text": [
      "\n",
      "\tExample Sequences\n",
      "\t\t<start>FKVGKHFKHAKKMHVGKASREQVQA<end>\n",
      "\t\t<start>ILGKIWKGIKKVLSALF<end><pad><pad><pad><pad><pad><pad><pad><pad>\n",
      "\t\t<start>RRIGRKIAHRGVY<end><pad><pad><pad><pad><pad><pad><pad><pad><pad><pad><pad><pad>\n",
      "\t\t<start>RFRRLRWKTWRKRLGLLR<end><pad><pad><pad><pad><pad><pad><pad>\n",
      "\t\t<start>LLRHVVKIILKEYLHQYRGTM<end><pad><pad><pad><pad>\n",
      "\tNLL Train Active: 13.4706392288208\n",
      "\tNLL Test Active: 24.166790008544922\n",
      "\tNLL Train Inactive: 34.7964973449707\n",
      "\tNLL Test Inactive: 38.03973388671875\n",
      "\n",
      "Epoch 76\n"
     ]
    },
    {
     "data": {
      "application/vnd.jupyter.widget-view+json": {
       "model_id": "1b7117f187b14ff7be6b45d0db234389",
       "version_major": 2,
       "version_minor": 0
      },
      "text/plain": [
       "HBox(children=(FloatProgress(value=0.0, max=32.0), HTML(value='')))"
      ]
     },
     "metadata": {},
     "output_type": "display_data"
    },
    {
     "name": "stdout",
     "output_type": "stream",
     "text": [
      "\n",
      "\tExample Sequences\n",
      "\t\t<start>ARRILIRLRRRFR<end><pad><pad><pad><pad><pad><pad><pad><pad><pad><pad><pad><pad><pad><pad><pad>\n",
      "\t\t<start>GLRKRLRKFRNKIKEKLKKIGQKIQGLL<end>\n",
      "\t\t<start>GKILKEYLKKIGKKIKNAFQKI<end><pad><pad><pad><pad><pad><pad>\n",
      "\t\t<start>ILPWKLPWYKWR<end><pad><pad><pad><pad><pad><pad><pad><pad><pad><pad><pad><pad><pad><pad><pad><pad>\n",
      "\t\t<start>RRWPRWPWGPWRR<end><pad><pad><pad><pad><pad><pad><pad><pad><pad><pad><pad><pad><pad><pad><pad>\n",
      "\tNLL Train Active: 13.446083068847656\n",
      "\tNLL Test Active: 24.161062240600586\n",
      "\tNLL Train Inactive: 34.80426788330078\n",
      "\tNLL Test Inactive: 38.049163818359375\n",
      "\n",
      "Epoch 77\n"
     ]
    },
    {
     "data": {
      "application/vnd.jupyter.widget-view+json": {
       "model_id": "e31060200ca547139459350545e29435",
       "version_major": 2,
       "version_minor": 0
      },
      "text/plain": [
       "HBox(children=(FloatProgress(value=0.0, max=32.0), HTML(value='')))"
      ]
     },
     "metadata": {},
     "output_type": "display_data"
    },
    {
     "name": "stdout",
     "output_type": "stream",
     "text": [
      "\n",
      "\tExample Sequences\n",
      "\t\t<start>KGRGKQGGKVFA<end><pad><pad><pad><pad><pad>\n",
      "\t\t<start>VRRPGYIPRPRPPHPRL<end>\n",
      "\t\t<start>GFRKIVQKMRDFLRNLV<end>\n",
      "\t\t<start>ILPWKWPWLPWRR<end><pad><pad><pad><pad>\n",
      "\t\t<start>LFKKLIKGATKLLLG<end><pad><pad>\n",
      "\tNLL Train Active: 13.421865463256836\n",
      "\tNLL Test Active: 24.153945922851562\n",
      "\tNLL Train Inactive: 34.80019760131836\n",
      "\tNLL Test Inactive: 38.043434143066406\n",
      "\n",
      "Epoch 78\n"
     ]
    },
    {
     "data": {
      "application/vnd.jupyter.widget-view+json": {
       "model_id": "3bd8130f3b6a494087500efed0ee8a5f",
       "version_major": 2,
       "version_minor": 0
      },
      "text/plain": [
       "HBox(children=(FloatProgress(value=0.0, max=32.0), HTML(value='')))"
      ]
     },
     "metadata": {},
     "output_type": "display_data"
    },
    {
     "name": "stdout",
     "output_type": "stream",
     "text": [
      "\n",
      "\tExample Sequences\n",
      "\t\t<start>GRFRRLRKKTRKRLKKIGKKVKKIGEKLKKIQGR<end>\n",
      "\t\t<start>FRRFFRFFGRFFRRF<end><pad><pad><pad><pad><pad><pad><pad><pad><pad><pad><pad><pad><pad><pad><pad><pad><pad><pad><pad>\n",
      "\t\t<start>ILPAWAWPWWPWRR<end><pad><pad><pad><pad><pad><pad><pad><pad><pad><pad><pad><pad><pad><pad><pad><pad><pad><pad><pad><pad>\n",
      "\t\t<start>ILGKIWKGIKGLL<end><pad><pad><pad><pad><pad><pad><pad><pad><pad><pad><pad><pad><pad><pad><pad><pad><pad><pad><pad><pad><pad>\n",
      "\t\t<start>QRFRRWQWRRMKKLG<end><pad><pad><pad><pad><pad><pad><pad><pad><pad><pad><pad><pad><pad><pad><pad><pad><pad><pad><pad>\n",
      "\tNLL Train Active: 13.396754264831543\n",
      "\tNLL Test Active: 24.154115676879883\n",
      "\tNLL Train Inactive: 34.80448532104492\n",
      "\tNLL Test Inactive: 38.04505920410156\n",
      "\n",
      "Epoch 79\n"
     ]
    },
    {
     "data": {
      "application/vnd.jupyter.widget-view+json": {
       "model_id": "d917b39e93514228860c4932e9ada4fb",
       "version_major": 2,
       "version_minor": 0
      },
      "text/plain": [
       "HBox(children=(FloatProgress(value=0.0, max=32.0), HTML(value='')))"
      ]
     },
     "metadata": {},
     "output_type": "display_data"
    },
    {
     "name": "stdout",
     "output_type": "stream",
     "text": [
      "\n",
      "\tExample Sequences\n",
      "\t\t<start>GisrsffkrGiraktvGkhavvkrGf<end>\n",
      "\t\t<start>LLKGVIKVASKVL<end><pad><pad><pad><pad><pad><pad><pad><pad><pad><pad><pad><pad><pad>\n",
      "\t\t<start>FFHHIFRAIVHVRKK<end><pad><pad><pad><pad><pad><pad><pad><pad><pad><pad><pad>\n",
      "\t\t<start>GRWRWWWRWRV<end><pad><pad><pad><pad><pad><pad><pad><pad><pad><pad><pad><pad><pad><pad><pad>\n",
      "\t\t<start>AARIILRWRRFF<end><pad><pad><pad><pad><pad><pad><pad><pad><pad><pad><pad><pad><pad><pad>\n",
      "\tNLL Train Active: 13.372930526733398\n",
      "\tNLL Test Active: 24.14974594116211\n",
      "\tNLL Train Inactive: 34.804115295410156\n",
      "\tNLL Test Inactive: 38.04365539550781\n",
      "\n",
      "Epoch 80\n"
     ]
    },
    {
     "data": {
      "application/vnd.jupyter.widget-view+json": {
       "model_id": "48721cff49804b6dab7132b94544d274",
       "version_major": 2,
       "version_minor": 0
      },
      "text/plain": [
       "HBox(children=(FloatProgress(value=0.0, max=32.0), HTML(value='')))"
      ]
     },
     "metadata": {},
     "output_type": "display_data"
    },
    {
     "name": "stdout",
     "output_type": "stream",
     "text": [
      "\n",
      "\tExample Sequences\n",
      "\t\t<start>FLWVLASHVFKLA<end><pad><pad><pad><pad><pad><pad><pad><pad><pad><pad><pad><pad><pad><pad><pad><pad><pad><pad><pad><pad><pad><pad>\n",
      "\t\t<start>kFKKFLKKASKPLKKFKKS<end><pad><pad><pad><pad><pad><pad><pad><pad><pad><pad><pad><pad><pad><pad><pad><pad>\n",
      "\t\t<start>FFRRLRFRIKKFFRKLKKPVIGTVVSAIKRMQ<end><pad><pad><pad>\n",
      "\t\t<start>RQGEEQIQYEMDKIELDYTYRFQRFGKNYRCRRRC<end>\n",
      "\t\t<start>GRFRRPRRRFRRNRRR<end><pad><pad><pad><pad><pad><pad><pad><pad><pad><pad><pad><pad><pad><pad><pad><pad><pad><pad><pad>\n",
      "\tNLL Train Active: 13.348699569702148\n",
      "\tNLL Test Active: 24.151159286499023\n",
      "\tNLL Train Inactive: 34.808372497558594\n",
      "\tNLL Test Inactive: 38.04391860961914\n",
      "\n",
      "Epoch 81\n"
     ]
    },
    {
     "data": {
      "application/vnd.jupyter.widget-view+json": {
       "model_id": "356dd23ed8a64570b304c572986c99ab",
       "version_major": 2,
       "version_minor": 0
      },
      "text/plain": [
       "HBox(children=(FloatProgress(value=0.0, max=32.0), HTML(value='')))"
      ]
     },
     "metadata": {},
     "output_type": "display_data"
    },
    {
     "name": "stdout",
     "output_type": "stream",
     "text": [
      "\n",
      "\tExample Sequences\n",
      "\t\t<start>GRFKRFRKKLKKLFKKLSPVIPLLHL<end>\n",
      "\t\t<start>SAVGRDILYRYGNCFLY<end><pad><pad><pad><pad><pad><pad><pad><pad><pad>\n",
      "\t\t<start>GIKNLIKKLGNKVKKLKKIGAK<end><pad><pad><pad><pad>\n",
      "\t\t<start>AAKKVFKRLEKLFSKIWNWK<end><pad><pad><pad><pad><pad><pad>\n",
      "\t\t<start>VDKKPYRPRYRPIRPRPKRIYNR<end><pad><pad><pad>\n",
      "\tNLL Train Active: 13.324577331542969\n",
      "\tNLL Test Active: 24.143033981323242\n",
      "\tNLL Train Inactive: 34.80758285522461\n",
      "\tNLL Test Inactive: 38.04643630981445\n",
      "\n",
      "Epoch 82\n"
     ]
    },
    {
     "data": {
      "application/vnd.jupyter.widget-view+json": {
       "model_id": "bed10125dcf247df948297f32d95d0f3",
       "version_major": 2,
       "version_minor": 0
      },
      "text/plain": [
       "HBox(children=(FloatProgress(value=0.0, max=32.0), HTML(value='')))"
      ]
     },
     "metadata": {},
     "output_type": "display_data"
    },
    {
     "name": "stdout",
     "output_type": "stream",
     "text": [
      "\n",
      "\tExample Sequences\n",
      "\t\t<start>FIHHIIGGLFHVGKSIHGLIHHG<end>\n",
      "\t\t<start>SRWRWWAWMR<end><pad><pad><pad><pad><pad><pad><pad><pad><pad><pad><pad><pad><pad>\n",
      "\t\t<start>KIAALLAKKLF<end><pad><pad><pad><pad><pad><pad><pad><pad><pad><pad><pad><pad>\n",
      "\t\t<start>RLWKIWKRIFA<end><pad><pad><pad><pad><pad><pad><pad><pad><pad><pad><pad><pad>\n",
      "\t\t<start>VNNWPHVIGQVSQVVKG<end><pad><pad><pad><pad><pad><pad>\n",
      "\tNLL Train Active: 13.300911903381348\n",
      "\tNLL Test Active: 24.142791748046875\n",
      "\tNLL Train Inactive: 34.81022644042969\n",
      "\tNLL Test Inactive: 38.0399284362793\n",
      "\n",
      "Epoch 83\n"
     ]
    },
    {
     "data": {
      "application/vnd.jupyter.widget-view+json": {
       "model_id": "2aca81903f6f4fcbb278992f1690e269",
       "version_major": 2,
       "version_minor": 0
      },
      "text/plain": [
       "HBox(children=(FloatProgress(value=0.0, max=32.0), HTML(value='')))"
      ]
     },
     "metadata": {},
     "output_type": "display_data"
    },
    {
     "name": "stdout",
     "output_type": "stream",
     "text": [
      "\n",
      "\tExample Sequences\n",
      "\t\t<start>ARKKLHWFQRNYQRFLGNFLRKARRKFH<end>\n",
      "\t\t<start>INWLAAKKKINMLIRHQKMDR<end><pad><pad><pad><pad><pad><pad><pad>\n",
      "\t\t<start>KWKLFKKIPKFLHAAKKF<end><pad><pad><pad><pad><pad><pad><pad><pad><pad><pad>\n",
      "\t\t<start>RRWRRWLKKLTKIPGKVVKIIA<end><pad><pad><pad><pad><pad><pad>\n",
      "\t\t<start>LLKLLKKLLKKLLK<end><pad><pad><pad><pad><pad><pad><pad><pad><pad><pad><pad><pad><pad><pad>\n",
      "\tNLL Train Active: 13.277664184570312\n",
      "\tNLL Test Active: 24.135364532470703\n",
      "\tNLL Train Inactive: 34.81112289428711\n",
      "\tNLL Test Inactive: 38.04378890991211\n",
      "\n",
      "Epoch 84\n"
     ]
    },
    {
     "data": {
      "application/vnd.jupyter.widget-view+json": {
       "model_id": "aba0bd93b9b8425297e15384e495dac3",
       "version_major": 2,
       "version_minor": 0
      },
      "text/plain": [
       "HBox(children=(FloatProgress(value=0.0, max=32.0), HTML(value='')))"
      ]
     },
     "metadata": {},
     "output_type": "display_data"
    },
    {
     "name": "stdout",
     "output_type": "stream",
     "text": [
      "\n",
      "\tExample Sequences\n",
      "\t\t<start>GRKRWWKKWWRKK<end><pad><pad><pad><pad><pad><pad><pad><pad><pad>\n",
      "\t\t<start>AIGAIWKGIKKIWK<end><pad><pad><pad><pad><pad><pad><pad><pad>\n",
      "\t\t<start>FIHHIIGGLFHAGKFIHGKLIH<end>\n",
      "\t\t<start>AIAGKILKYLKNLAKDILKNL<end><pad>\n",
      "\t\t<start>GKVLPLIETLLNF<end><pad><pad><pad><pad><pad><pad><pad><pad><pad>\n",
      "\tNLL Train Active: 13.254009246826172\n",
      "\tNLL Test Active: 24.136009216308594\n",
      "\tNLL Train Inactive: 34.8176155090332\n",
      "\tNLL Test Inactive: 38.0443229675293\n",
      "\n",
      "Epoch 85\n"
     ]
    },
    {
     "data": {
      "application/vnd.jupyter.widget-view+json": {
       "model_id": "4aeaa9ec99a74ec2a400402b01cace0f",
       "version_major": 2,
       "version_minor": 0
      },
      "text/plain": [
       "HBox(children=(FloatProgress(value=0.0, max=32.0), HTML(value='')))"
      ]
     },
     "metadata": {},
     "output_type": "display_data"
    },
    {
     "name": "stdout",
     "output_type": "stream",
     "text": [
      "\n",
      "\tExample Sequences\n",
      "\t\t<start>FKIPPFLHLAVKTVFGKKRK<end><pad>\n",
      "\t\t<start>RWRWWWRWRR<end><pad><pad><pad><pad><pad><pad><pad><pad><pad><pad><pad>\n",
      "\t\t<start>ILPWKWPLLPWRR<end><pad><pad><pad><pad><pad><pad><pad><pad>\n",
      "\t\t<start>KKKLWLWKA<end><pad><pad><pad><pad><pad><pad><pad><pad><pad><pad><pad><pad>\n",
      "\t\t<start>KRFKKFFKKLKNSVKKRAKKF<end>\n",
      "\tNLL Train Active: 13.23116683959961\n",
      "\tNLL Test Active: 24.1321964263916\n",
      "\tNLL Train Inactive: 34.817474365234375\n",
      "\tNLL Test Inactive: 38.0410270690918\n",
      "\n",
      "Epoch 86\n"
     ]
    },
    {
     "data": {
      "application/vnd.jupyter.widget-view+json": {
       "model_id": "88dd23bf8567491f96cf0aadac0e2ce7",
       "version_major": 2,
       "version_minor": 0
      },
      "text/plain": [
       "HBox(children=(FloatProgress(value=0.0, max=32.0), HTML(value='')))"
      ]
     },
     "metadata": {},
     "output_type": "display_data"
    },
    {
     "name": "stdout",
     "output_type": "stream",
     "text": [
      "\n",
      "\tExample Sequences\n",
      "\t\t<start>KWKLFKKIGH<end><pad><pad><pad><pad><pad><pad><pad><pad><pad><pad><pad><pad>\n",
      "\t\t<start>ALWLLKhKW<end><pad><pad><pad><pad><pad><pad><pad><pad><pad><pad><pad><pad><pad>\n",
      "\t\t<start>VDRGRPPYLPRQPRPRRIYNRK<end>\n",
      "\t\t<start>KKVVSKWGKGVKKWGKSKG<end><pad><pad><pad>\n",
      "\t\t<start>FFHHIFRGIVHVGKTHRRLVTL<end>\n",
      "\tNLL Train Active: 13.208439826965332\n",
      "\tNLL Test Active: 24.132291793823242\n",
      "\tNLL Train Inactive: 34.824317932128906\n",
      "\tNLL Test Inactive: 38.048370361328125\n",
      "\n",
      "Epoch 87\n"
     ]
    },
    {
     "data": {
      "application/vnd.jupyter.widget-view+json": {
       "model_id": "b3fee8fef08f449bb6a620a9dbaf2193",
       "version_major": 2,
       "version_minor": 0
      },
      "text/plain": [
       "HBox(children=(FloatProgress(value=0.0, max=32.0), HTML(value='')))"
      ]
     },
     "metadata": {},
     "output_type": "display_data"
    },
    {
     "name": "stdout",
     "output_type": "stream",
     "text": [
      "\n",
      "\tExample Sequences\n",
      "\t\t<start>hdwkwirrlfrG<end><pad><pad>\n",
      "\t\t<start>DKPPYEPRPWPWRR<end>\n",
      "\t\t<start>RAGLFKKVLKKVLK<end>\n",
      "\t\t<start>NYVHWLWHVVI<end><pad><pad><pad>\n",
      "\t\t<start>RRWWWWRR<end><pad><pad><pad><pad><pad><pad>\n",
      "\tNLL Train Active: 13.185652732849121\n",
      "\tNLL Test Active: 24.126483917236328\n",
      "\tNLL Train Inactive: 34.82223129272461\n",
      "\tNLL Test Inactive: 38.043155670166016\n",
      "\n",
      "Epoch 88\n"
     ]
    },
    {
     "data": {
      "application/vnd.jupyter.widget-view+json": {
       "model_id": "4206cf980372411498fadf96ee37f636",
       "version_major": 2,
       "version_minor": 0
      },
      "text/plain": [
       "HBox(children=(FloatProgress(value=0.0, max=32.0), HTML(value='')))"
      ]
     },
     "metadata": {},
     "output_type": "display_data"
    },
    {
     "name": "stdout",
     "output_type": "stream",
     "text": [
      "\n",
      "\tExample Sequences\n",
      "\t\t<start>ILPWKWPKWKPRI<end><pad><pad>\n",
      "\t\t<start>AQLFTMAKKFGK<end><pad><pad><pad>\n",
      "\t\t<start>KRFFKWFRRF<end><pad><pad><pad><pad><pad>\n",
      "\t\t<start>AKVFRWKSKAVLKHI<end>\n",
      "\t\t<start>FLGVLFKVASK<end><pad><pad><pad><pad>\n",
      "\tNLL Train Active: 13.16260814666748\n",
      "\tNLL Test Active: 24.12523651123047\n",
      "\tNLL Train Inactive: 34.8244743347168\n",
      "\tNLL Test Inactive: 38.041648864746094\n",
      "\n",
      "Epoch 89\n"
     ]
    },
    {
     "data": {
      "application/vnd.jupyter.widget-view+json": {
       "model_id": "4cf9401a106e42a5af36d2926956ec08",
       "version_major": 2,
       "version_minor": 0
      },
      "text/plain": [
       "HBox(children=(FloatProgress(value=0.0, max=32.0), HTML(value='')))"
      ]
     },
     "metadata": {},
     "output_type": "display_data"
    },
    {
     "name": "stdout",
     "output_type": "stream",
     "text": [
      "\n",
      "\tExample Sequences\n",
      "\t\t<start>KTRQWFKIQRLQARMRG<end><pad><pad><pad><pad><pad><pad><pad><pad><pad><pad><pad><pad><pad><pad><pad>\n",
      "\t\t<start>KKLFKKIPKFLHSAKKF<end><pad><pad><pad><pad><pad><pad><pad><pad><pad><pad><pad><pad><pad><pad><pad>\n",
      "\t\t<start>FVKKFLRAGKSV<end><pad><pad><pad><pad><pad><pad><pad><pad><pad><pad><pad><pad><pad><pad><pad><pad><pad><pad><pad><pad>\n",
      "\t\t<start>TQIGKLWEKVKNAVKKVSKDVGAVVNKTSAVL<end>\n",
      "\t\t<start>WIAHVVKKY<end><pad><pad><pad><pad><pad><pad><pad><pad><pad><pad><pad><pad><pad><pad><pad><pad><pad><pad><pad><pad><pad><pad><pad>\n",
      "\tNLL Train Active: 13.140901565551758\n",
      "\tNLL Test Active: 24.123414993286133\n",
      "\tNLL Train Inactive: 34.82754898071289\n",
      "\tNLL Test Inactive: 38.04392623901367\n",
      "\n",
      "Epoch 90\n"
     ]
    },
    {
     "data": {
      "application/vnd.jupyter.widget-view+json": {
       "model_id": "9ff2a53efee94b2aac03ad8246bb4df1",
       "version_major": 2,
       "version_minor": 0
      },
      "text/plain": [
       "HBox(children=(FloatProgress(value=0.0, max=32.0), HTML(value='')))"
      ]
     },
     "metadata": {},
     "output_type": "display_data"
    },
    {
     "name": "stdout",
     "output_type": "stream",
     "text": [
      "\n",
      "\tExample Sequences\n",
      "\t\t<start>FLGALFKALSKLL<end><pad><pad><pad><pad><pad><pad><pad><pad>\n",
      "\t\t<start>FFHHIWGGARHFGRWYRNRWR<end>\n",
      "\t\t<start>kKRIKKIFKKVSSVIK<end><pad><pad><pad><pad><pad>\n",
      "\t\t<start>FLGALFKVLKSVL<end><pad><pad><pad><pad><pad><pad><pad><pad>\n",
      "\t\t<start>INLKAIAALARK<end><pad><pad><pad><pad><pad><pad><pad><pad><pad>\n",
      "\tNLL Train Active: 13.118632316589355\n",
      "\tNLL Test Active: 24.12126922607422\n",
      "\tNLL Train Inactive: 34.829063415527344\n",
      "\tNLL Test Inactive: 38.04076385498047\n",
      "\n",
      "Epoch 91\n"
     ]
    },
    {
     "data": {
      "application/vnd.jupyter.widget-view+json": {
       "model_id": "35f2b1d3cb8e4479aaeb868f389b2381",
       "version_major": 2,
       "version_minor": 0
      },
      "text/plain": [
       "HBox(children=(FloatProgress(value=0.0, max=32.0), HTML(value='')))"
      ]
     },
     "metadata": {},
     "output_type": "display_data"
    },
    {
     "name": "stdout",
     "output_type": "stream",
     "text": [
      "\n",
      "\tExample Sequences\n",
      "\t\t<start>FLGGLIKWKWPWRR<end><pad><pad><pad><pad><pad><pad><pad><pad><pad><pad><pad><pad><pad><pad><pad><pad>\n",
      "\t\t<start>RVVRVVRRWVRRVRRWVRRVVRVVRRWVRR<end>\n",
      "\t\t<start>ILPWKWPWWPKLF<end><pad><pad><pad><pad><pad><pad><pad><pad><pad><pad><pad><pad><pad><pad><pad><pad><pad>\n",
      "\t\t<start>KWKLFKKIPKFLHSAKKF<end><pad><pad><pad><pad><pad><pad><pad><pad><pad><pad><pad><pad>\n",
      "\t\t<start>AKRWKKWWRKWK<end><pad><pad><pad><pad><pad><pad><pad><pad><pad><pad><pad><pad><pad><pad><pad><pad><pad><pad>\n",
      "\tNLL Train Active: 13.096980094909668\n",
      "\tNLL Test Active: 24.11870765686035\n",
      "\tNLL Train Inactive: 34.834129333496094\n",
      "\tNLL Test Inactive: 38.04975509643555\n",
      "\n",
      "Epoch 92\n"
     ]
    },
    {
     "data": {
      "application/vnd.jupyter.widget-view+json": {
       "model_id": "8f5935d855a94313b665180a6d835767",
       "version_major": 2,
       "version_minor": 0
      },
      "text/plain": [
       "HBox(children=(FloatProgress(value=0.0, max=32.0), HTML(value='')))"
      ]
     },
     "metadata": {},
     "output_type": "display_data"
    },
    {
     "name": "stdout",
     "output_type": "stream",
     "text": [
      "\n",
      "\tExample Sequences\n",
      "\t\t<start>RWRWRWRAFRKK<end><pad>\n",
      "\t\t<start>ILPWKWKWPWKK<end><pad>\n",
      "\t\t<start>ALHAHIALHELQR<end>\n",
      "\t\t<start>RRWWCG<end><pad><pad><pad><pad><pad><pad><pad>\n",
      "\t\t<start>RRRWCY<end><pad><pad><pad><pad><pad><pad><pad>\n",
      "\tNLL Train Active: 13.074808120727539\n",
      "\tNLL Test Active: 24.115915298461914\n",
      "\tNLL Train Inactive: 34.827823638916016\n",
      "\tNLL Test Inactive: 38.03996276855469\n",
      "\n",
      "Epoch 93\n"
     ]
    },
    {
     "data": {
      "application/vnd.jupyter.widget-view+json": {
       "model_id": "7207c8616a8e4f418f98e84afd4edab6",
       "version_major": 2,
       "version_minor": 0
      },
      "text/plain": [
       "HBox(children=(FloatProgress(value=0.0, max=32.0), HTML(value='')))"
      ]
     },
     "metadata": {},
     "output_type": "display_data"
    },
    {
     "name": "stdout",
     "output_type": "stream",
     "text": [
      "\n",
      "\tExample Sequences\n",
      "\t\t<start>LSRMRKVLKNLKILMKKG<end><pad>\n",
      "\t\t<start>KLWKKWLKWL<end><pad><pad><pad><pad><pad><pad><pad><pad><pad>\n",
      "\t\t<start>LLKKLLKWLLK<end><pad><pad><pad><pad><pad><pad><pad><pad>\n",
      "\t\t<start>VDKRPYRPRPRPPRRIYNR<end>\n",
      "\t\t<start>GWGDTFGKVLKHLIK<end><pad><pad><pad><pad>\n",
      "\tNLL Train Active: 13.053248405456543\n",
      "\tNLL Test Active: 24.113313674926758\n",
      "\tNLL Train Inactive: 34.837127685546875\n",
      "\tNLL Test Inactive: 38.0469856262207\n",
      "\n",
      "Epoch 94\n"
     ]
    },
    {
     "data": {
      "application/vnd.jupyter.widget-view+json": {
       "model_id": "bef5782aafe444ec9d54599a64541538",
       "version_major": 2,
       "version_minor": 0
      },
      "text/plain": [
       "HBox(children=(FloatProgress(value=0.0, max=32.0), HTML(value='')))"
      ]
     },
     "metadata": {},
     "output_type": "display_data"
    },
    {
     "name": "stdout",
     "output_type": "stream",
     "text": [
      "\n",
      "\tExample Sequences\n",
      "\t\t<start>RRRPVVIQQPQPSHPRL<end><pad><pad><pad><pad><pad><pad><pad><pad><pad><pad><pad><pad><pad><pad><pad><pad><pad><pad><pad><pad><pad><pad><pad><pad><pad><pad><pad><pad><pad><pad><pad><pad><pad><pad><pad><pad><pad><pad><pad><pad><pad><pad><pad><pad><pad><pad><pad><pad><pad><pad><pad><pad><pad><pad><pad><pad><pad><pad><pad><pad><pad><pad><pad><pad><pad><pad><pad><pad><pad><pad><pad><pad><pad><pad><pad><pad><pad><pad><pad><pad><pad><pad><pad><pad><pad><pad><pad><pad><pad><pad><pad><pad><pad><pad><pad><pad><pad><pad><pad><pad><pad><pad><pad><pad><pad><pad><pad><pad><pad><pad><pad><pad><pad><pad><pad><pad><pad><pad><pad><pad><pad><pad><pad><pad><pad><pad><pad><pad><pad><pad><pad><pad><pad><pad><pad><pad><pad><pad><pad><pad><pad><pad><pad><pad><pad><pad><pad><pad><pad><pad><pad><pad><pad><pad><pad><pad><pad><pad><pad><pad><pad><pad><pad><pad><pad><pad><pad><pad><pad><pad><pad><pad><pad><pad><pad><pad><pad><pad><pad><pad><pad><pad>\n",
      "\t\t<start>MAGVIAGIIIAIKK<end><pad><pad><pad><pad><pad><pad><pad><pad><pad><pad><pad><pad><pad><pad><pad><pad><pad><pad><pad><pad><pad><pad><pad><pad><pad><pad><pad><pad><pad><pad><pad><pad><pad><pad><pad><pad><pad><pad><pad><pad><pad><pad><pad><pad><pad><pad><pad><pad><pad><pad><pad><pad><pad><pad><pad><pad><pad><pad><pad><pad><pad><pad><pad><pad><pad><pad><pad><pad><pad><pad><pad><pad><pad><pad><pad><pad><pad><pad><pad><pad><pad><pad><pad><pad><pad><pad><pad><pad><pad><pad><pad><pad><pad><pad><pad><pad><pad><pad><pad><pad><pad><pad><pad><pad><pad><pad><pad><pad><pad><pad><pad><pad><pad><pad><pad><pad><pad><pad><pad><pad><pad><pad><pad><pad><pad><pad><pad><pad><pad><pad><pad><pad><pad><pad><pad><pad><pad><pad><pad><pad><pad><pad><pad><pad><pad><pad><pad><pad><pad><pad><pad><pad><pad><pad><pad><pad><pad><pad><pad><pad><pad><pad><pad><pad><pad><pad><pad><pad><pad><pad><pad><pad><pad><pad><pad><pad><pad><pad><pad><pad><pad><pad><pad><pad><pad>\n",
      "\t\t<start>AVKKLLKRLNRLYRAFRRY<end><pad><pad><pad><pad><pad><pad><pad><pad><pad><pad><pad><pad><pad><pad><pad><pad><pad><pad><pad><pad><pad><pad><pad><pad><pad><pad><pad><pad><pad><pad><pad><pad><pad><pad><pad><pad><pad><pad><pad><pad><pad><pad><pad><pad><pad><pad><pad><pad><pad><pad><pad><pad><pad><pad><pad><pad><pad><pad><pad><pad><pad><pad><pad><pad><pad><pad><pad><pad><pad><pad><pad><pad><pad><pad><pad><pad><pad><pad><pad><pad><pad><pad><pad><pad><pad><pad><pad><pad><pad><pad><pad><pad><pad><pad><pad><pad><pad><pad><pad><pad><pad><pad><pad><pad><pad><pad><pad><pad><pad><pad><pad><pad><pad><pad><pad><pad><pad><pad><pad><pad><pad><pad><pad><pad><pad><pad><pad><pad><pad><pad><pad><pad><pad><pad><pad><pad><pad><pad><pad><pad><pad><pad><pad><pad><pad><pad><pad><pad><pad><pad><pad><pad><pad><pad><pad><pad><pad><pad><pad><pad><pad><pad><pad><pad><pad><pad><pad><pad><pad><pad><pad><pad><pad><pad><pad><pad><pad><pad><pad><pad>\n",
      "\t\t<start>GRiGYKGGYKGGYGGGGRYGGGGYGGGGGGGGGGKGGGGGGGGGGGGGGGGAGGGGGGGGGGGGGGGGGGGGGGRGGGGGGGGGGGGRGGGGGGGGGGGGGGGGGGGGGGGGGGGGGGGGGGGRGGGGGGGGGGRGGGGGGYGGGGYGGGGGHGGGGYGGGGGGYGGGGGGGGYGGGGGGYGGGYGGGGGGGGGGYGGGY\n",
      "\t\t<start>MTEVQWKVARLIGRWWRWRSR<end><pad><pad><pad><pad><pad><pad><pad><pad><pad><pad><pad><pad><pad><pad><pad><pad><pad><pad><pad><pad><pad><pad><pad><pad><pad><pad><pad><pad><pad><pad><pad><pad><pad><pad><pad><pad><pad><pad><pad><pad><pad><pad><pad><pad><pad><pad><pad><pad><pad><pad><pad><pad><pad><pad><pad><pad><pad><pad><pad><pad><pad><pad><pad><pad><pad><pad><pad><pad><pad><pad><pad><pad><pad><pad><pad><pad><pad><pad><pad><pad><pad><pad><pad><pad><pad><pad><pad><pad><pad><pad><pad><pad><pad><pad><pad><pad><pad><pad><pad><pad><pad><pad><pad><pad><pad><pad><pad><pad><pad><pad><pad><pad><pad><pad><pad><pad><pad><pad><pad><pad><pad><pad><pad><pad><pad><pad><pad><pad><pad><pad><pad><pad><pad><pad><pad><pad><pad><pad><pad><pad><pad><pad><pad><pad><pad><pad><pad><pad><pad><pad><pad><pad><pad><pad><pad><pad><pad><pad><pad><pad><pad><pad><pad><pad><pad><pad><pad><pad><pad><pad><pad><pad><pad><pad><pad><pad><pad><pad>\n",
      "\tNLL Train Active: 13.031946182250977\n",
      "\tNLL Test Active: 24.112869262695312\n",
      "\tNLL Train Inactive: 34.83906555175781\n",
      "\tNLL Test Inactive: 38.04485321044922\n",
      "\n",
      "Epoch 95\n"
     ]
    },
    {
     "data": {
      "application/vnd.jupyter.widget-view+json": {
       "model_id": "c4e3542195c6449cab660df654fb997c",
       "version_major": 2,
       "version_minor": 0
      },
      "text/plain": [
       "HBox(children=(FloatProgress(value=0.0, max=32.0), HTML(value='')))"
      ]
     },
     "metadata": {},
     "output_type": "display_data"
    },
    {
     "name": "stdout",
     "output_type": "stream",
     "text": [
      "\n",
      "\tExample Sequences\n",
      "\t\t<start>FRRLKTFLGLVHSAIHGLIRK<end><pad><pad>\n",
      "\t\t<start>RLRRIVVIRWRR<end><pad><pad><pad><pad><pad><pad><pad><pad><pad><pad><pad>\n",
      "\t\t<start>RWRWAWKWRRW<end><pad><pad><pad><pad><pad><pad><pad><pad><pad><pad><pad><pad>\n",
      "\t\t<start>RRWWRWRW<end><pad><pad><pad><pad><pad><pad><pad><pad><pad><pad><pad><pad><pad><pad><pad>\n",
      "\t\t<start>RWRIRVRRWRRVWRRWRRVVRRW<end>\n",
      "\tNLL Train Active: 13.010954856872559\n",
      "\tNLL Test Active: 24.111082077026367\n",
      "\tNLL Train Inactive: 34.844879150390625\n",
      "\tNLL Test Inactive: 38.04853439331055\n",
      "\n",
      "Epoch 96\n"
     ]
    },
    {
     "data": {
      "application/vnd.jupyter.widget-view+json": {
       "model_id": "ca7a1489bf374bedbb4dccb4df35d846",
       "version_major": 2,
       "version_minor": 0
      },
      "text/plain": [
       "HBox(children=(FloatProgress(value=0.0, max=32.0), HTML(value='')))"
      ]
     },
     "metadata": {},
     "output_type": "display_data"
    },
    {
     "name": "stdout",
     "output_type": "stream",
     "text": [
      "\n",
      "\tExample Sequences\n",
      "\t\t<start>MAGDIIKSIGQALKEVLKKGAQGLKEKWNKKK<end>\n",
      "\t\t<start>ALWKKLLKKLGKG<end><pad><pad><pad><pad><pad><pad><pad><pad><pad><pad><pad><pad><pad><pad><pad><pad><pad><pad><pad>\n",
      "\t\t<start>LLPKLLLLLLKKK<end><pad><pad><pad><pad><pad><pad><pad><pad><pad><pad><pad><pad><pad><pad><pad><pad><pad><pad><pad>\n",
      "\t\t<start>INLKALAHWKKRKR<end><pad><pad><pad><pad><pad><pad><pad><pad><pad><pad><pad><pad><pad><pad><pad><pad><pad><pad>\n",
      "\t\t<start>SPRGRRSPRRRTPSPRRRSQSPKMRPVRR<end><pad><pad><pad>\n",
      "\tNLL Train Active: 12.990099906921387\n",
      "\tNLL Test Active: 24.10846519470215\n",
      "\tNLL Train Inactive: 34.84330749511719\n",
      "\tNLL Test Inactive: 38.0481071472168\n",
      "\n",
      "Epoch 97\n"
     ]
    },
    {
     "data": {
      "application/vnd.jupyter.widget-view+json": {
       "model_id": "d7e15498da6c48149729b65656385993",
       "version_major": 2,
       "version_minor": 0
      },
      "text/plain": [
       "HBox(children=(FloatProgress(value=0.0, max=32.0), HTML(value='')))"
      ]
     },
     "metadata": {},
     "output_type": "display_data"
    },
    {
     "name": "stdout",
     "output_type": "stream",
     "text": [
      "\n",
      "\tExample Sequences\n",
      "\t\t<start>SKVWRWWRRWRF<end><pad><pad><pad><pad><pad><pad><pad><pad><pad><pad>\n",
      "\t\t<start>NLLAQESHFQNPFKFVGFLRRF<end>\n",
      "\t\t<start>GKLLKRIKKLL<end><pad><pad><pad><pad><pad><pad><pad><pad><pad><pad><pad>\n",
      "\t\t<start>RWRWWWRWRM<end><pad><pad><pad><pad><pad><pad><pad><pad><pad><pad><pad><pad>\n",
      "\t\t<start>RRWWCFAG<end><pad><pad><pad><pad><pad><pad><pad><pad><pad><pad><pad><pad><pad><pad>\n",
      "\tNLL Train Active: 12.968977928161621\n",
      "\tNLL Test Active: 24.108278274536133\n",
      "\tNLL Train Inactive: 34.84282302856445\n",
      "\tNLL Test Inactive: 38.04344940185547\n",
      "\n",
      "Epoch 98\n"
     ]
    },
    {
     "data": {
      "application/vnd.jupyter.widget-view+json": {
       "model_id": "11c14e61df0e4c67972078fdc767b052",
       "version_major": 2,
       "version_minor": 0
      },
      "text/plain": [
       "HBox(children=(FloatProgress(value=0.0, max=32.0), HTML(value='')))"
      ]
     },
     "metadata": {},
     "output_type": "display_data"
    },
    {
     "name": "stdout",
     "output_type": "stream",
     "text": [
      "\n",
      "\tExample Sequences\n",
      "\t\t<start>RFRWPWRRPPIFR<end><pad><pad><pad><pad><pad><pad><pad><pad><pad><pad><pad>\n",
      "\t\t<start>FFPIVKKLLKGLF<end><pad><pad><pad><pad><pad><pad><pad><pad><pad><pad><pad>\n",
      "\t\t<start>MAGAIAGKIAKIAGKIASIAGKIL<end>\n",
      "\t\t<start>WAFEWHWHSFWHRGGSFFRHRQHK<end>\n",
      "\t\t<start>LLKAWKKLLKKPLKKLK<end><pad><pad><pad><pad><pad><pad><pad>\n",
      "\tNLL Train Active: 12.94798469543457\n",
      "\tNLL Test Active: 24.104379653930664\n",
      "\tNLL Train Inactive: 34.854549407958984\n",
      "\tNLL Test Inactive: 38.057373046875\n",
      "\n",
      "Epoch 99\n"
     ]
    },
    {
     "data": {
      "application/vnd.jupyter.widget-view+json": {
       "model_id": "351108da6df940e8b2460f5a5690012f",
       "version_major": 2,
       "version_minor": 0
      },
      "text/plain": [
       "HBox(children=(FloatProgress(value=0.0, max=32.0), HTML(value='')))"
      ]
     },
     "metadata": {},
     "output_type": "display_data"
    },
    {
     "name": "stdout",
     "output_type": "stream",
     "text": [
      "\n",
      "\tExample Sequences\n",
      "\t\t<start>KIWLKGKKLWKK<end><pad><pad><pad><pad><pad>\n",
      "\t\t<start>KLWKKWKKWWKKWWKK<end><pad>\n",
      "\t\t<start>RFRRPIRRPPIRPPFYP<end>\n",
      "\t\t<start>KKLLKWLL<end><pad><pad><pad><pad><pad><pad><pad><pad><pad>\n",
      "\t\t<start>KLLLkALKKLL<end><pad><pad><pad><pad><pad><pad>\n",
      "\tNLL Train Active: 12.927210807800293\n",
      "\tNLL Test Active: 24.1038761138916\n",
      "\tNLL Train Inactive: 34.85734558105469\n",
      "\tNLL Test Inactive: 38.05451202392578\n",
      "\n",
      "Epoch 100\n"
     ]
    },
    {
     "data": {
      "application/vnd.jupyter.widget-view+json": {
       "model_id": "2bbc379c42434669967f2d3eee217939",
       "version_major": 2,
       "version_minor": 0
      },
      "text/plain": [
       "HBox(children=(FloatProgress(value=0.0, max=32.0), HTML(value='')))"
      ]
     },
     "metadata": {},
     "output_type": "display_data"
    },
    {
     "name": "stdout",
     "output_type": "stream",
     "text": [
      "\n",
      "\tExample Sequences\n",
      "\t\t<start>GVVVRIGRVVVNVGGRVHGRAHRVRG<end><pad><pad><pad><pad><pad><pad><pad><pad><pad><pad><pad><pad><pad><pad><pad><pad>\n",
      "\t\t<start>FKVKPKFLKkVKKGLF<end><pad><pad><pad><pad><pad><pad><pad><pad><pad><pad><pad><pad><pad><pad><pad><pad><pad><pad><pad><pad><pad><pad><pad><pad><pad><pad>\n",
      "\t\t<start>LLGDFFRKSKEKIKEKGKRVGRNVKDILCAASVKACVKALGK<end>\n",
      "\t\t<start>WIFGAIKKIIKK<end><pad><pad><pad><pad><pad><pad><pad><pad><pad><pad><pad><pad><pad><pad><pad><pad><pad><pad><pad><pad><pad><pad><pad><pad><pad><pad><pad><pad><pad><pad>\n",
      "\t\t<start>KTRWRWWREWSRIW<end><pad><pad><pad><pad><pad><pad><pad><pad><pad><pad><pad><pad><pad><pad><pad><pad><pad><pad><pad><pad><pad><pad><pad><pad><pad><pad><pad><pad>\n",
      "\tNLL Train Active: 12.90737247467041\n",
      "\tNLL Test Active: 24.103227615356445\n",
      "\tNLL Train Inactive: 34.85554122924805\n",
      "\tNLL Test Inactive: 38.048431396484375\n",
      "\n",
      "Epoch 101\n"
     ]
    },
    {
     "data": {
      "application/vnd.jupyter.widget-view+json": {
       "model_id": "cc458ecb49df4b34aced14f07d82bd65",
       "version_major": 2,
       "version_minor": 0
      },
      "text/plain": [
       "HBox(children=(FloatProgress(value=0.0, max=32.0), HTML(value='')))"
      ]
     },
     "metadata": {},
     "output_type": "display_data"
    },
    {
     "name": "stdout",
     "output_type": "stream",
     "text": [
      "\n",
      "\tExample Sequences\n",
      "\t\t<start>FFPIVKKILKGLF<end><pad><pad><pad><pad><pad><pad><pad>\n",
      "\t\t<start>ILWKWKGPAIRRRPWWPWHR<end>\n",
      "\t\t<start>FRRFGwWWHFF<end><pad><pad><pad><pad><pad><pad><pad><pad><pad>\n",
      "\t\t<start>LLRSIVSGVAKVL<end><pad><pad><pad><pad><pad><pad><pad>\n",
      "\t\t<start>AKKIWQKIKNFFKKFLKK<end><pad><pad>\n",
      "\tNLL Train Active: 12.88645076751709\n",
      "\tNLL Test Active: 24.10096549987793\n",
      "\tNLL Train Inactive: 34.85948944091797\n",
      "\tNLL Test Inactive: 38.054359436035156\n",
      "\n",
      "Epoch 102\n"
     ]
    },
    {
     "data": {
      "application/vnd.jupyter.widget-view+json": {
       "model_id": "25c86fd76e0146bca124efa37da78574",
       "version_major": 2,
       "version_minor": 0
      },
      "text/plain": [
       "HBox(children=(FloatProgress(value=0.0, max=32.0), HTML(value='')))"
      ]
     },
     "metadata": {},
     "output_type": "display_data"
    },
    {
     "name": "stdout",
     "output_type": "stream",
     "text": [
      "\n",
      "\tExample Sequences\n",
      "\t\t<start>RWRWWWRWRWF<end><pad><pad><pad><pad><pad><pad><pad><pad><pad><pad>\n",
      "\t\t<start>RRIRPRPPRLPRPRPRP<end><pad><pad><pad><pad>\n",
      "\t\t<start>KTAEYLLKTWEKKASNI<end><pad><pad><pad><pad>\n",
      "\t\t<start>KIAGKIAKIAGKIAKIAGKIA<end>\n",
      "\t\t<start>RFRRLRWCTRC<end><pad><pad><pad><pad><pad><pad><pad><pad><pad><pad>\n",
      "\tNLL Train Active: 12.866304397583008\n",
      "\tNLL Test Active: 24.09995460510254\n",
      "\tNLL Train Inactive: 34.86605453491211\n",
      "\tNLL Test Inactive: 38.05488967895508\n",
      "\n",
      "Epoch 103\n"
     ]
    },
    {
     "data": {
      "application/vnd.jupyter.widget-view+json": {
       "model_id": "8517bf3075104fd4ba7c113ed6f829ab",
       "version_major": 2,
       "version_minor": 0
      },
      "text/plain": [
       "HBox(children=(FloatProgress(value=0.0, max=32.0), HTML(value='')))"
      ]
     },
     "metadata": {},
     "output_type": "display_data"
    },
    {
     "name": "stdout",
     "output_type": "stream",
     "text": [
      "\n",
      "\tExample Sequences\n",
      "\t\t<start>KIGKKLFKKLKILG<end><pad><pad><pad><pad>\n",
      "\t\t<start>WRRPIRRRPIRPPIFYKP<end>\n",
      "\t\t<start>rrlGkrlf<end><pad><pad><pad><pad><pad><pad><pad><pad><pad><pad>\n",
      "\t\t<start>RWKIFKKVASMV<end><pad><pad><pad><pad><pad><pad>\n",
      "\t\t<start>GRWRWWRWRV<end><pad><pad><pad><pad><pad><pad><pad><pad>\n",
      "\tNLL Train Active: 12.846099853515625\n",
      "\tNLL Test Active: 24.1016788482666\n",
      "\tNLL Train Inactive: 34.87281799316406\n",
      "\tNLL Test Inactive: 38.05915832519531\n",
      "\n",
      "Epoch 104\n"
     ]
    },
    {
     "data": {
      "application/vnd.jupyter.widget-view+json": {
       "model_id": "1dde19f2326a4a49a98d0ca9b4b7a4d6",
       "version_major": 2,
       "version_minor": 0
      },
      "text/plain": [
       "HBox(children=(FloatProgress(value=0.0, max=32.0), HTML(value='')))"
      ]
     },
     "metadata": {},
     "output_type": "display_data"
    },
    {
     "name": "stdout",
     "output_type": "stream",
     "text": [
      "\n",
      "\tExample Sequences\n",
      "\t\t<start>RWKIFKKIEKVGRNVRNGIIKAGPAVAVVGQAATA<end>\n",
      "\t\t<start>WLRAARRLARL<end><pad><pad><pad><pad><pad><pad><pad><pad><pad><pad><pad><pad><pad><pad><pad><pad><pad><pad><pad><pad><pad><pad><pad><pad>\n",
      "\t\t<start>FLGGVVKFLSWGEKH<end><pad><pad><pad><pad><pad><pad><pad><pad><pad><pad><pad><pad><pad><pad><pad><pad><pad><pad><pad><pad>\n",
      "\t\t<start>ALAHKLLPKLLQKLKKLAKKYGQAILQAL<end><pad><pad><pad><pad><pad><pad>\n",
      "\t\t<start>AAGRILGRLLRRVLRA<end><pad><pad><pad><pad><pad><pad><pad><pad><pad><pad><pad><pad><pad><pad><pad><pad><pad><pad><pad>\n",
      "\tNLL Train Active: 12.82717514038086\n",
      "\tNLL Test Active: 24.096834182739258\n",
      "\tNLL Train Inactive: 34.872833251953125\n",
      "\tNLL Test Inactive: 38.058990478515625\n",
      "\n",
      "Epoch 105\n"
     ]
    },
    {
     "data": {
      "application/vnd.jupyter.widget-view+json": {
       "model_id": "e90314fbf6294f12a977ff403c6ae44c",
       "version_major": 2,
       "version_minor": 0
      },
      "text/plain": [
       "HBox(children=(FloatProgress(value=0.0, max=32.0), HTML(value='')))"
      ]
     },
     "metadata": {},
     "output_type": "display_data"
    },
    {
     "name": "stdout",
     "output_type": "stream",
     "text": [
      "\n",
      "\tExample Sequences\n",
      "\t\t<start>FRRFFGRF<end><pad><pad><pad><pad><pad><pad><pad><pad><pad><pad><pad><pad><pad><pad>\n",
      "\t\t<start>FKKFFKFFKKW<end><pad><pad><pad><pad><pad><pad><pad><pad><pad><pad><pad>\n",
      "\t\t<start>RRWWCW<end><pad><pad><pad><pad><pad><pad><pad><pad><pad><pad><pad><pad><pad><pad><pad><pad>\n",
      "\t\t<start>FRRFRRRFRFFRRF<end><pad><pad><pad><pad><pad><pad><pad><pad>\n",
      "\t\t<start>WGRRIRFRLKPFRIPRPKIFRP<end>\n",
      "\tNLL Train Active: 12.806835174560547\n",
      "\tNLL Test Active: 24.096202850341797\n",
      "\tNLL Train Inactive: 34.8727912902832\n",
      "\tNLL Test Inactive: 38.05796813964844\n",
      "\n",
      "Epoch 106\n"
     ]
    },
    {
     "data": {
      "application/vnd.jupyter.widget-view+json": {
       "model_id": "91edd2c8b71c45639e34aa573b095d84",
       "version_major": 2,
       "version_minor": 0
      },
      "text/plain": [
       "HBox(children=(FloatProgress(value=0.0, max=32.0), HTML(value='')))"
      ]
     },
     "metadata": {},
     "output_type": "display_data"
    },
    {
     "name": "stdout",
     "output_type": "stream",
     "text": [
      "\n",
      "\tExample Sequences\n",
      "\t\t<start>RRRRPRPPWYP<end><pad><pad><pad><pad><pad><pad><pad><pad>\n",
      "\t\t<start>IGKQITKILKKVKKLFKKI<end>\n",
      "\t\t<start>KWKLFKKIPKFLHLAKKF<end><pad>\n",
      "\t\t<start>YAWRRFLARIRAR<end><pad><pad><pad><pad><pad><pad>\n",
      "\t\t<start>FRRFFRRFRR<end><pad><pad><pad><pad><pad><pad><pad><pad><pad>\n",
      "\tNLL Train Active: 12.78711223602295\n",
      "\tNLL Test Active: 24.093097686767578\n",
      "\tNLL Train Inactive: 34.877681732177734\n",
      "\tNLL Test Inactive: 38.0594596862793\n",
      "\n",
      "Epoch 107\n"
     ]
    },
    {
     "data": {
      "application/vnd.jupyter.widget-view+json": {
       "model_id": "ecc64b0b512e4dfa9af0bee83cfb5e78",
       "version_major": 2,
       "version_minor": 0
      },
      "text/plain": [
       "HBox(children=(FloatProgress(value=0.0, max=32.0), HTML(value='')))"
      ]
     },
     "metadata": {},
     "output_type": "display_data"
    },
    {
     "name": "stdout",
     "output_type": "stream",
     "text": [
      "\n",
      "\tExample Sequences\n",
      "\t\t<start>GIMSSLMKKLKKIIAK<end><pad><pad><pad><pad><pad><pad><pad><pad>\n",
      "\t\t<start>GFWGKLWEKMKNS<end><pad><pad><pad><pad><pad><pad><pad><pad><pad><pad><pad>\n",
      "\t\t<start>RWKIFKKIEKVGRNF<end><pad><pad><pad><pad><pad><pad><pad><pad><pad>\n",
      "\t\t<start>KRRLAAFRAFRAF<end><pad><pad><pad><pad><pad><pad><pad><pad><pad><pad><pad>\n",
      "\t\t<start>SRSSRAGLQFPVGRIMRPGLCLKG<end>\n",
      "\tNLL Train Active: 12.767690658569336\n",
      "\tNLL Test Active: 24.092201232910156\n",
      "\tNLL Train Inactive: 34.87965393066406\n",
      "\tNLL Test Inactive: 38.063175201416016\n",
      "\n",
      "Epoch 108\n"
     ]
    },
    {
     "data": {
      "application/vnd.jupyter.widget-view+json": {
       "model_id": "591906c359bd42d897dd20b8d279b238",
       "version_major": 2,
       "version_minor": 0
      },
      "text/plain": [
       "HBox(children=(FloatProgress(value=0.0, max=32.0), HTML(value='')))"
      ]
     },
     "metadata": {},
     "output_type": "display_data"
    },
    {
     "name": "stdout",
     "output_type": "stream",
     "text": [
      "\n",
      "\tExample Sequences\n",
      "\t\t<start>GRFKKFWGGVKKIFKGKFKGFKKK<end>\n",
      "\t\t<start>AKKVFKRLEKLFSKIWNWK<end><pad><pad><pad><pad><pad>\n",
      "\t\t<start>LSFLFLKKWVNLKKKV<end><pad><pad><pad><pad><pad><pad><pad><pad>\n",
      "\t\t<start>GIGGALLSAGALWLKpLKKVLK<end><pad><pad>\n",
      "\t\t<start>AARLKALHALALHwK<end><pad><pad><pad><pad><pad><pad><pad><pad><pad>\n",
      "\tNLL Train Active: 12.748223304748535\n",
      "\tNLL Test Active: 24.09395408630371\n",
      "\tNLL Train Inactive: 34.88943862915039\n",
      "\tNLL Test Inactive: 38.06785202026367\n",
      "\n",
      "Epoch 109\n"
     ]
    },
    {
     "data": {
      "application/vnd.jupyter.widget-view+json": {
       "model_id": "f8e64c25ca5c4ef1a28510ebe028d22b",
       "version_major": 2,
       "version_minor": 0
      },
      "text/plain": [
       "HBox(children=(FloatProgress(value=0.0, max=32.0), HTML(value='')))"
      ]
     },
     "metadata": {},
     "output_type": "display_data"
    },
    {
     "name": "stdout",
     "output_type": "stream",
     "text": [
      "\n",
      "\tExample Sequences\n",
      "\t\t<start>KWKLFKKIPKFLHL<end>\n",
      "\t\t<start>ILPWKWPKLPWWKK<end>\n",
      "\t\t<start>ILPWKKPWRR<end><pad><pad><pad><pad>\n",
      "\t\t<start>FLGVLFKALSKVF<end><pad>\n",
      "\t\t<start>AKKPFVRVVFR<end><pad><pad><pad>\n",
      "\tNLL Train Active: 12.729318618774414\n",
      "\tNLL Test Active: 24.090105056762695\n",
      "\tNLL Train Inactive: 34.88611602783203\n",
      "\tNLL Test Inactive: 38.063453674316406\n",
      "\n",
      "Epoch 110\n"
     ]
    },
    {
     "data": {
      "application/vnd.jupyter.widget-view+json": {
       "model_id": "ba55ad333a924f0c920ebae242086f24",
       "version_major": 2,
       "version_minor": 0
      },
      "text/plain": [
       "HBox(children=(FloatProgress(value=0.0, max=32.0), HTML(value='')))"
      ]
     },
     "metadata": {},
     "output_type": "display_data"
    },
    {
     "name": "stdout",
     "output_type": "stream",
     "text": [
      "\n",
      "\tExample Sequences\n",
      "\t\t<start>RWWLRIVIRVAR<end><pad><pad><pad><pad><pad><pad><pad><pad><pad><pad><pad><pad>\n",
      "\t\t<start>GRFRRLRKKTRKRLKKIGKVLKWI<end>\n",
      "\t\t<start>RLWLAIWKRVL<end><pad><pad><pad><pad><pad><pad><pad><pad><pad><pad><pad><pad><pad>\n",
      "\t\t<start>LLIWLKWKV<end><pad><pad><pad><pad><pad><pad><pad><pad><pad><pad><pad><pad><pad><pad><pad>\n",
      "\t\t<start>KWKLLKKLLKPWLK<end><pad><pad><pad><pad><pad><pad><pad><pad><pad><pad>\n",
      "\tNLL Train Active: 12.710526466369629\n",
      "\tNLL Test Active: 24.087846755981445\n",
      "\tNLL Train Inactive: 34.88743209838867\n",
      "\tNLL Test Inactive: 38.06218719482422\n",
      "\n",
      "Epoch 111\n"
     ]
    },
    {
     "data": {
      "application/vnd.jupyter.widget-view+json": {
       "model_id": "86b43f31632940d189f935b1dc432914",
       "version_major": 2,
       "version_minor": 0
      },
      "text/plain": [
       "HBox(children=(FloatProgress(value=0.0, max=32.0), HTML(value='')))"
      ]
     },
     "metadata": {},
     "output_type": "display_data"
    },
    {
     "name": "stdout",
     "output_type": "stream",
     "text": [
      "\n",
      "\tExample Sequences\n",
      "\t\t<start>GIGGALLAGGLKLGVTALGHALPHLIKRK<end>\n",
      "\t\t<start>RRFFAFWRR<end><pad><pad><pad><pad><pad><pad><pad><pad><pad><pad><pad><pad><pad><pad><pad><pad><pad><pad><pad><pad>\n",
      "\t\t<start>KIAGKIAKIAGKIAKIAGKIAK<end><pad><pad><pad><pad><pad><pad><pad>\n",
      "\t\t<start>AKKVFKRLEKLFSKIWNWK<end><pad><pad><pad><pad><pad><pad><pad><pad><pad><pad>\n",
      "\t\t<start>KVAFALKKFAKAFVAEKIMRL<end><pad><pad><pad><pad><pad><pad><pad><pad>\n",
      "\tNLL Train Active: 12.691154479980469\n",
      "\tNLL Test Active: 24.087175369262695\n",
      "\tNLL Train Inactive: 34.88889694213867\n",
      "\tNLL Test Inactive: 38.06296920776367\n",
      "\n",
      "Epoch 112\n"
     ]
    },
    {
     "data": {
      "application/vnd.jupyter.widget-view+json": {
       "model_id": "902ec2e55f6a46db82fee55748dde772",
       "version_major": 2,
       "version_minor": 0
      },
      "text/plain": [
       "HBox(children=(FloatProgress(value=0.0, max=32.0), HTML(value='')))"
      ]
     },
     "metadata": {},
     "output_type": "display_data"
    },
    {
     "name": "stdout",
     "output_type": "stream",
     "text": [
      "\n",
      "\tExample Sequences\n",
      "\t\t<start>KNLRRIIRKIIHIIKK<end><pad><pad><pad><pad><pad><pad><pad><pad><pad><pad>\n",
      "\t\t<start>ILPWKWPWWPKWKK<end><pad><pad><pad><pad><pad><pad><pad><pad><pad><pad><pad><pad>\n",
      "\t\t<start>RWLKAIQKIMRPLLCQRL<end><pad><pad><pad><pad><pad><pad><pad><pad>\n",
      "\t\t<start>GIGAVLKVLTTGLPALISWIKRKRQQ<end>\n",
      "\t\t<start>GFKDLLKGAAKALVKLIG<end><pad><pad><pad><pad><pad><pad><pad><pad>\n",
      "\tNLL Train Active: 12.672314643859863\n",
      "\tNLL Test Active: 24.086355209350586\n",
      "\tNLL Train Inactive: 34.896080017089844\n",
      "\tNLL Test Inactive: 38.06871795654297\n",
      "\n",
      "Epoch 113\n"
     ]
    },
    {
     "data": {
      "application/vnd.jupyter.widget-view+json": {
       "model_id": "1625b0ae99f245478d9cb0181947a69c",
       "version_major": 2,
       "version_minor": 0
      },
      "text/plain": [
       "HBox(children=(FloatProgress(value=0.0, max=32.0), HTML(value='')))"
      ]
     },
     "metadata": {},
     "output_type": "display_data"
    },
    {
     "name": "stdout",
     "output_type": "stream",
     "text": [
      "\n",
      "\tExample Sequences\n",
      "\t\t<start>RFRRPIRRPPIRPPFYP<end>\n",
      "\t\t<start>RWRWRWRWRWF<end><pad><pad><pad><pad><pad><pad>\n",
      "\t\t<start>KETLQKLLQKAA<end><pad><pad><pad><pad><pad>\n",
      "\t\t<start>AEQIMMSLLRKW<end><pad><pad><pad><pad><pad>\n",
      "\t\t<start>AKRFYKLFKKL<end><pad><pad><pad><pad><pad><pad>\n",
      "\tNLL Train Active: 12.654175758361816\n",
      "\tNLL Test Active: 24.08606719970703\n",
      "\tNLL Train Inactive: 34.900978088378906\n",
      "\tNLL Test Inactive: 38.07060241699219\n",
      "\n",
      "Epoch 114\n"
     ]
    },
    {
     "data": {
      "application/vnd.jupyter.widget-view+json": {
       "model_id": "2f7977e26dc746a8851cd19806d5750c",
       "version_major": 2,
       "version_minor": 0
      },
      "text/plain": [
       "HBox(children=(FloatProgress(value=0.0, max=32.0), HTML(value='')))"
      ]
     },
     "metadata": {},
     "output_type": "display_data"
    },
    {
     "name": "stdout",
     "output_type": "stream",
     "text": [
      "\n",
      "\tExample Sequences\n",
      "\t\t<start>WFKKIPKFLH<end><pad><pad><pad><pad><pad><pad><pad><pad><pad><pad><pad><pad><pad><pad><pad><pad><pad><pad><pad><pad><pad><pad><pad><pad><pad><pad><pad>\n",
      "\t\t<start>GRFKRFRKKPRKLFKKLSPVIPLLH<end><pad><pad><pad><pad><pad><pad><pad><pad><pad><pad><pad><pad>\n",
      "\t\t<start>RWKIFKKIEKVGQNIRDGIIKAGPAVSLVGQAAQIGK<end>\n",
      "\t\t<start>RWKIFKKIEKAGRGIHDAVKKGLKKIGLKA<end><pad><pad><pad><pad><pad><pad><pad>\n",
      "\t\t<start>RRWWEWWRRF<end><pad><pad><pad><pad><pad><pad><pad><pad><pad><pad><pad><pad><pad><pad><pad><pad><pad><pad><pad><pad><pad><pad><pad><pad><pad><pad><pad>\n",
      "\tNLL Train Active: 12.635120391845703\n",
      "\tNLL Test Active: 24.082656860351562\n",
      "\tNLL Train Inactive: 34.89589309692383\n",
      "\tNLL Test Inactive: 38.06081771850586\n",
      "\n",
      "Epoch 115\n"
     ]
    },
    {
     "data": {
      "application/vnd.jupyter.widget-view+json": {
       "model_id": "2e9d4289887540f491bfc8e85e57c0a6",
       "version_major": 2,
       "version_minor": 0
      },
      "text/plain": [
       "HBox(children=(FloatProgress(value=0.0, max=32.0), HTML(value='')))"
      ]
     },
     "metadata": {},
     "output_type": "display_data"
    },
    {
     "name": "stdout",
     "output_type": "stream",
     "text": [
      "\n",
      "\tExample Sequences\n",
      "\t\t<start>RLLRIVVRRWR<end><pad><pad><pad><pad><pad><pad><pad><pad><pad>\n",
      "\t\t<start>KKVVQWFIKTML<end><pad><pad><pad><pad><pad><pad><pad><pad>\n",
      "\t\t<start>YQLISHSEVQQQNAQQ<end><pad><pad><pad><pad>\n",
      "\t\t<start>KLLKWLLK<end><pad><pad><pad><pad><pad><pad><pad><pad><pad><pad><pad><pad>\n",
      "\t\t<start>GIGGALLSTALGGLLKNLAK<end>\n",
      "\tNLL Train Active: 12.61685848236084\n",
      "\tNLL Test Active: 24.083595275878906\n",
      "\tNLL Train Inactive: 34.901519775390625\n",
      "\tNLL Test Inactive: 38.06698226928711\n",
      "\n",
      "Epoch 116\n"
     ]
    },
    {
     "data": {
      "application/vnd.jupyter.widget-view+json": {
       "model_id": "033e88774e7c4c44a54313b2fee6c068",
       "version_major": 2,
       "version_minor": 0
      },
      "text/plain": [
       "HBox(children=(FloatProgress(value=0.0, max=32.0), HTML(value='')))"
      ]
     },
     "metadata": {},
     "output_type": "display_data"
    },
    {
     "name": "stdout",
     "output_type": "stream",
     "text": [
      "\n",
      "\tExample Sequences\n",
      "\t\t<start>FLGALFKALSKLL<end><pad><pad><pad><pad><pad><pad><pad><pad>\n",
      "\t\t<start>FLGALFKVASKVFGKKLKNMV<end>\n",
      "\t\t<start>RRWPLKKWWPWLR<end><pad><pad><pad><pad><pad><pad><pad><pad>\n",
      "\t\t<start>KKWRRWLRR<end><pad><pad><pad><pad><pad><pad><pad><pad><pad><pad><pad><pad>\n",
      "\t\t<start>SLSLLSLLRKLPKRVIK<end><pad><pad><pad><pad>\n",
      "\tNLL Train Active: 12.598362922668457\n",
      "\tNLL Test Active: 24.08441162109375\n",
      "\tNLL Train Inactive: 34.91374206542969\n",
      "\tNLL Test Inactive: 38.07434844970703\n",
      "\n",
      "Epoch 117\n"
     ]
    },
    {
     "data": {
      "application/vnd.jupyter.widget-view+json": {
       "model_id": "c014c47e3f454d2d97b227ceb349698f",
       "version_major": 2,
       "version_minor": 0
      },
      "text/plain": [
       "HBox(children=(FloatProgress(value=0.0, max=32.0), HTML(value='')))"
      ]
     },
     "metadata": {},
     "output_type": "display_data"
    },
    {
     "name": "stdout",
     "output_type": "stream",
     "text": [
      "\n",
      "\tExample Sequences\n",
      "\t\t<start>ILRAFCRISRIFIRG<end><pad><pad><pad><pad><pad><pad><pad><pad><pad><pad>\n",
      "\t\t<start>FLSGIVGALsNL<end><pad><pad><pad><pad><pad><pad><pad><pad><pad><pad><pad><pad><pad>\n",
      "\t\t<start>PENEDLARYYSALRHYINLITRQRY<end>\n",
      "\t\t<start>LKRIVKRIKRLFRKLYRYL<end><pad><pad><pad><pad><pad><pad>\n",
      "\t\t<start>LQFLLGVWRMKV<end><pad><pad><pad><pad><pad><pad><pad><pad><pad><pad><pad><pad><pad>\n",
      "\tNLL Train Active: 12.580434799194336\n",
      "\tNLL Test Active: 24.081083297729492\n",
      "\tNLL Train Inactive: 34.91197204589844\n",
      "\tNLL Test Inactive: 38.073795318603516\n",
      "\n",
      "Epoch 118\n"
     ]
    },
    {
     "data": {
      "application/vnd.jupyter.widget-view+json": {
       "model_id": "514c2d9da8da4cfc93a2954435ab45a1",
       "version_major": 2,
       "version_minor": 0
      },
      "text/plain": [
       "HBox(children=(FloatProgress(value=0.0, max=32.0), HTML(value='')))"
      ]
     },
     "metadata": {},
     "output_type": "display_data"
    },
    {
     "name": "stdout",
     "output_type": "stream",
     "text": [
      "\n",
      "\tExample Sequences\n",
      "\t\t<start>GIIKGIGKLFVGMAGSALMGGSIDL<end>\n",
      "\t\t<start>WKKWRRWL<end><pad><pad><pad><pad><pad><pad><pad><pad><pad><pad><pad><pad><pad><pad><pad><pad><pad>\n",
      "\t\t<start>RKKKTKILKKIIKVVK<end><pad><pad><pad><pad><pad><pad><pad><pad><pad>\n",
      "\t\t<start>NELLTKIQTDLIPGWFH<end><pad><pad><pad><pad><pad><pad><pad><pad>\n",
      "\t\t<start>RRWWCH<end><pad><pad><pad><pad><pad><pad><pad><pad><pad><pad><pad><pad><pad><pad><pad><pad><pad><pad><pad>\n",
      "\tNLL Train Active: 12.5621919631958\n",
      "\tNLL Test Active: 24.082311630249023\n",
      "\tNLL Train Inactive: 34.91082000732422\n",
      "\tNLL Test Inactive: 38.070098876953125\n",
      "\n",
      "Epoch 119\n"
     ]
    },
    {
     "data": {
      "application/vnd.jupyter.widget-view+json": {
       "model_id": "7d1df83dff6746d0a7b64071cc906c06",
       "version_major": 2,
       "version_minor": 0
      },
      "text/plain": [
       "HBox(children=(FloatProgress(value=0.0, max=32.0), HTML(value='')))"
      ]
     },
     "metadata": {},
     "output_type": "display_data"
    },
    {
     "name": "stdout",
     "output_type": "stream",
     "text": [
      "\n",
      "\tExample Sequences\n",
      "\t\t<start>GIRRILRYGRPS<end><pad><pad><pad><pad><pad><pad><pad><pad><pad><pad><pad><pad><pad><pad><pad><pad><pad><pad><pad><pad><pad>\n",
      "\t\t<start>GKIEVKGQGGRVLILLRRYYQRIPPQKCKPCVR<end>\n",
      "\t\t<start>AAKKLFKKGSKVL<end><pad><pad><pad><pad><pad><pad><pad><pad><pad><pad><pad><pad><pad><pad><pad><pad><pad><pad><pad><pad>\n",
      "\t\t<start>GRFKRFRKKLKKLAKKILKYALKGGPE<end><pad><pad><pad><pad><pad><pad>\n",
      "\t\t<start>RPPRMQASQMGKLTSK<end><pad><pad><pad><pad><pad><pad><pad><pad><pad><pad><pad><pad><pad><pad><pad><pad><pad>\n",
      "\tNLL Train Active: 12.544227600097656\n",
      "\tNLL Test Active: 24.081680297851562\n",
      "\tNLL Train Inactive: 34.916778564453125\n",
      "\tNLL Test Inactive: 38.071632385253906\n",
      "\n",
      "Epoch 120\n"
     ]
    },
    {
     "data": {
      "application/vnd.jupyter.widget-view+json": {
       "model_id": "49b8c4f18c1a4b2b8cefa91d7cd0a832",
       "version_major": 2,
       "version_minor": 0
      },
      "text/plain": [
       "HBox(children=(FloatProgress(value=0.0, max=32.0), HTML(value='')))"
      ]
     },
     "metadata": {},
     "output_type": "display_data"
    },
    {
     "name": "stdout",
     "output_type": "stream",
     "text": [
      "\n",
      "\tExample Sequences\n",
      "\t\t<start>IISTIGKLVKDWAKGVSGDFAKGFGKKI<end>\n",
      "\t\t<start>GLVSIIGGVASHVLPHIVSGLVAG<end><pad><pad><pad><pad>\n",
      "\t\t<start>KAEVWWSIRTWLRK<end><pad><pad><pad><pad><pad><pad><pad><pad><pad><pad><pad><pad><pad><pad>\n",
      "\t\t<start>GKVRSKGAKRKSS<end><pad><pad><pad><pad><pad><pad><pad><pad><pad><pad><pad><pad><pad><pad><pad>\n",
      "\t\t<start>ILPWKWPLLPKRRYNR<end><pad><pad><pad><pad><pad><pad><pad><pad><pad><pad><pad><pad>\n",
      "\tNLL Train Active: 12.526473045349121\n",
      "\tNLL Test Active: 24.078449249267578\n",
      "\tNLL Train Inactive: 34.92163848876953\n",
      "\tNLL Test Inactive: 38.07480239868164\n",
      "\n",
      "Epoch 121\n"
     ]
    },
    {
     "data": {
      "application/vnd.jupyter.widget-view+json": {
       "model_id": "e44b2e6b43664638899d2742607b4c54",
       "version_major": 2,
       "version_minor": 0
      },
      "text/plain": [
       "HBox(children=(FloatProgress(value=0.0, max=32.0), HTML(value='')))"
      ]
     },
     "metadata": {},
     "output_type": "display_data"
    },
    {
     "name": "stdout",
     "output_type": "stream",
     "text": [
      "\n",
      "\tExample Sequences\n",
      "\t\t<start>FLGALFKALSKLL<end><pad><pad><pad><pad><pad><pad>\n",
      "\t\t<start>LLRIGRRWLpTVLK<end><pad><pad><pad><pad><pad>\n",
      "\t\t<start>RWRWWWRWR<end><pad><pad><pad><pad><pad><pad><pad><pad><pad><pad>\n",
      "\t\t<start>GNNRPVYIPQPRPPHPRLV<end>\n",
      "\t\t<start>LLPIVGNLLKSLL<end><pad><pad><pad><pad><pad><pad>\n",
      "\tNLL Train Active: 12.509489059448242\n",
      "\tNLL Test Active: 24.07871437072754\n",
      "\tNLL Train Inactive: 34.926551818847656\n",
      "\tNLL Test Inactive: 38.078311920166016\n",
      "\n",
      "Epoch 122\n"
     ]
    },
    {
     "data": {
      "application/vnd.jupyter.widget-view+json": {
       "model_id": "92473ceddaff4a718f1f46cba77e70c3",
       "version_major": 2,
       "version_minor": 0
      },
      "text/plain": [
       "HBox(children=(FloatProgress(value=0.0, max=32.0), HTML(value='')))"
      ]
     },
     "metadata": {},
     "output_type": "display_data"
    },
    {
     "name": "stdout",
     "output_type": "stream",
     "text": [
      "\n",
      "\tExample Sequences\n",
      "\t\t<start>WGRWRRFSRFWLRRLF<end><pad>\n",
      "\t\t<start>KILGPLLKGAASLLKKL<end>\n",
      "\t\t<start>FLHHVGNFFHSGNH<end><pad><pad><pad>\n",
      "\t\t<start>KILGKIKKVLKKI<end><pad><pad><pad><pad>\n",
      "\t\t<start>FLGALFKVASS<end><pad><pad><pad><pad><pad><pad>\n",
      "\tNLL Train Active: 12.49069881439209\n",
      "\tNLL Test Active: 24.0790958404541\n",
      "\tNLL Train Inactive: 34.92661666870117\n",
      "\tNLL Test Inactive: 38.0760612487793\n",
      "\n",
      "Epoch 123\n"
     ]
    },
    {
     "data": {
      "application/vnd.jupyter.widget-view+json": {
       "model_id": "0404f0ec145f4ddcac256b62c720fb4e",
       "version_major": 2,
       "version_minor": 0
      },
      "text/plain": [
       "HBox(children=(FloatProgress(value=0.0, max=32.0), HTML(value='')))"
      ]
     },
     "metadata": {},
     "output_type": "display_data"
    },
    {
     "name": "stdout",
     "output_type": "stream",
     "text": [
      "\n",
      "\tExample Sequences\n",
      "\t\t<start>ILPWKWPWLPWRR<end><pad><pad><pad>\n",
      "\t\t<start>ILRGARRSLWKM<end><pad><pad><pad><pad>\n",
      "\t\t<start>RWRWWWRLR<end><pad><pad><pad><pad><pad><pad><pad>\n",
      "\t\t<start>KLLKFIKKLL<end><pad><pad><pad><pad><pad><pad>\n",
      "\t\t<start>GKKLFKKLMKLLKRLL<end>\n",
      "\tNLL Train Active: 12.473799705505371\n",
      "\tNLL Test Active: 24.075376510620117\n",
      "\tNLL Train Inactive: 34.93484115600586\n",
      "\tNLL Test Inactive: 38.08141326904297\n",
      "\n",
      "Epoch 124\n"
     ]
    },
    {
     "data": {
      "application/vnd.jupyter.widget-view+json": {
       "model_id": "755d3fe6de184f92848accc2853a03e2",
       "version_major": 2,
       "version_minor": 0
      },
      "text/plain": [
       "HBox(children=(FloatProgress(value=0.0, max=32.0), HTML(value='')))"
      ]
     },
     "metadata": {},
     "output_type": "display_data"
    },
    {
     "name": "stdout",
     "output_type": "stream",
     "text": [
      "\n",
      "\tExample Sequences\n",
      "\t\t<start>VDKPPYLPRPRPPRRIYNR<end><pad><pad><pad><pad><pad><pad><pad>\n",
      "\t\t<start>GRFRRFRRKFKKLFKKLSKVL<end><pad><pad><pad><pad><pad>\n",
      "\t\t<start>KWKSFLKTFKSAGKTVLHTALKAISS<end>\n",
      "\t\t<start>KWRVLLSf<end><pad><pad><pad><pad><pad><pad><pad><pad><pad><pad><pad><pad><pad><pad><pad><pad><pad><pad>\n",
      "\t\t<start>AKRLKKLFKKI<end><pad><pad><pad><pad><pad><pad><pad><pad><pad><pad><pad><pad><pad><pad><pad>\n",
      "\tNLL Train Active: 12.456671714782715\n",
      "\tNLL Test Active: 24.077342987060547\n",
      "\tNLL Train Inactive: 34.94050598144531\n",
      "\tNLL Test Inactive: 38.085113525390625\n",
      "\n",
      "Epoch 125\n"
     ]
    },
    {
     "data": {
      "application/vnd.jupyter.widget-view+json": {
       "model_id": "f3cd9efbfcb94ab89b39bac968c02b21",
       "version_major": 2,
       "version_minor": 0
      },
      "text/plain": [
       "HBox(children=(FloatProgress(value=0.0, max=32.0), HTML(value='')))"
      ]
     },
     "metadata": {},
     "output_type": "display_data"
    },
    {
     "name": "stdout",
     "output_type": "stream",
     "text": [
      "\n",
      "\tExample Sequences\n",
      "\t\t<start>SRFWRRRWRMKKLKRL<end><pad><pad><pad><pad><pad>\n",
      "\t\t<start>ILPWKWPWWPLRR<end><pad><pad><pad><pad><pad><pad><pad><pad>\n",
      "\t\t<start>ILPWKWPLWPLPWRR<end><pad><pad><pad><pad><pad><pad>\n",
      "\t\t<start>FLGAVFKLASKVLPHLV<end><pad><pad><pad><pad>\n",
      "\t\t<start>AKRLLKRFKKFFRKLKKLFKK<end>\n",
      "\tNLL Train Active: 12.438688278198242\n",
      "\tNLL Test Active: 24.07309913635254\n",
      "\tNLL Train Inactive: 34.93655776977539\n",
      "\tNLL Test Inactive: 38.08039093017578\n",
      "\n",
      "Epoch 126\n"
     ]
    },
    {
     "data": {
      "application/vnd.jupyter.widget-view+json": {
       "model_id": "cca20b27c4624465848d58e8cecfd15b",
       "version_major": 2,
       "version_minor": 0
      },
      "text/plain": [
       "HBox(children=(FloatProgress(value=0.0, max=32.0), HTML(value='')))"
      ]
     },
     "metadata": {},
     "output_type": "display_data"
    },
    {
     "name": "stdout",
     "output_type": "stream",
     "text": [
      "\n",
      "\tExample Sequences\n",
      "\t\t<start>RWRWWFGGGIKHLIR<end><pad><pad><pad><pad><pad>\n",
      "\t\t<start>FRRFRRFRRFFRRFFNFLRR<end>\n",
      "\t\t<start>KTWWTKWWpKG<end><pad><pad><pad><pad><pad><pad><pad><pad><pad>\n",
      "\t\t<start>GRKKRVKRLGKLFKKIWNWK<end>\n",
      "\t\t<start>WGRFFKKAGRFIRGARKAF<end><pad>\n",
      "\tNLL Train Active: 12.421395301818848\n",
      "\tNLL Test Active: 24.074800491333008\n",
      "\tNLL Train Inactive: 34.94639587402344\n",
      "\tNLL Test Inactive: 38.086280822753906\n",
      "\n",
      "Epoch 127\n"
     ]
    },
    {
     "data": {
      "application/vnd.jupyter.widget-view+json": {
       "model_id": "2ab36a64ff4a468b8b0ac66103e2f342",
       "version_major": 2,
       "version_minor": 0
      },
      "text/plain": [
       "HBox(children=(FloatProgress(value=0.0, max=32.0), HTML(value='')))"
      ]
     },
     "metadata": {},
     "output_type": "display_data"
    },
    {
     "name": "stdout",
     "output_type": "stream",
     "text": [
      "\n",
      "\tExample Sequences\n",
      "\t\t<start>PIKQLLKIFK<end><pad><pad><pad><pad><pad><pad><pad><pad><pad><pad><pad><pad><pad><pad><pad><pad><pad><pad><pad>\n",
      "\t\t<start>FLGALAKALSKLL<end><pad><pad><pad><pad><pad><pad><pad><pad><pad><pad><pad><pad><pad><pad><pad><pad>\n",
      "\t\t<start>GRWRWWWRWRWF<end><pad><pad><pad><pad><pad><pad><pad><pad><pad><pad><pad><pad><pad><pad><pad><pad><pad>\n",
      "\t\t<start>SKKLFKYIPKKIYNLV<end><pad><pad><pad><pad><pad><pad><pad><pad><pad><pad><pad><pad><pad>\n",
      "\t\t<start>KRFKKFFKKLKKSVKKLFKKIPKFLVHLF<end>\n",
      "\tNLL Train Active: 12.404690742492676\n",
      "\tNLL Test Active: 24.07343101501465\n",
      "\tNLL Train Inactive: 34.95066452026367\n",
      "\tNLL Test Inactive: 38.088775634765625\n",
      "\n",
      "Epoch 128\n"
     ]
    },
    {
     "data": {
      "application/vnd.jupyter.widget-view+json": {
       "model_id": "998b6b4e44834320b37571f3704eb693",
       "version_major": 2,
       "version_minor": 0
      },
      "text/plain": [
       "HBox(children=(FloatProgress(value=0.0, max=32.0), HTML(value='')))"
      ]
     },
     "metadata": {},
     "output_type": "display_data"
    },
    {
     "name": "stdout",
     "output_type": "stream",
     "text": [
      "\n",
      "\tExample Sequences\n",
      "\t\t<start>RRWRWRLRLCA<end><pad><pad><pad><pad><pad><pad><pad><pad><pad><pad><pad><pad>\n",
      "\t\t<start>WGIRRILKYGKS<end><pad><pad><pad><pad><pad><pad><pad><pad><pad><pad><pad>\n",
      "\t\t<start>ILKKIWKPIKKLF<end><pad><pad><pad><pad><pad><pad><pad><pad><pad><pad>\n",
      "\t\t<start>FKRLGSFLKTAGKVLKGLLKGLL<end>\n",
      "\t\t<start>LRRLWKRLWKRIW<end><pad><pad><pad><pad><pad><pad><pad><pad><pad><pad>\n",
      "\tNLL Train Active: 12.387537002563477\n",
      "\tNLL Test Active: 24.07511329650879\n",
      "\tNLL Train Inactive: 34.9544792175293\n",
      "\tNLL Test Inactive: 38.084903717041016\n",
      "\n",
      "Epoch 129\n"
     ]
    },
    {
     "data": {
      "application/vnd.jupyter.widget-view+json": {
       "model_id": "f9ead7fe0e87432f834f89f401c9337b",
       "version_major": 2,
       "version_minor": 0
      },
      "text/plain": [
       "HBox(children=(FloatProgress(value=0.0, max=32.0), HTML(value='')))"
      ]
     },
     "metadata": {},
     "output_type": "display_data"
    },
    {
     "name": "stdout",
     "output_type": "stream",
     "text": [
      "\n",
      "\tExample Sequences\n",
      "\t\t<start>IFGAIASLLKKIL<end><pad><pad><pad><pad><pad><pad><pad><pad><pad><pad><pad><pad><pad><pad><pad><pad><pad><pad>\n",
      "\t\t<start>AAGRIKALLALARRAL<end><pad><pad><pad><pad><pad><pad><pad><pad><pad><pad><pad><pad><pad><pad><pad>\n",
      "\t\t<start>GfWGRpGRpVGRIVV<end><pad><pad><pad><pad><pad><pad><pad><pad><pad><pad><pad><pad><pad><pad><pad><pad>\n",
      "\t\t<start>GLRKRLRKFRNKIKEKLKKIGQKIKNFFQKL<end>\n",
      "\t\t<start>FLSLIPNIASGIASAV<end><pad><pad><pad><pad><pad><pad><pad><pad><pad><pad><pad><pad><pad><pad><pad>\n",
      "\tNLL Train Active: 12.3710298538208\n",
      "\tNLL Test Active: 24.073122024536133\n",
      "\tNLL Train Inactive: 34.96100997924805\n",
      "\tNLL Test Inactive: 38.09315490722656\n",
      "\n",
      "Epoch 130\n"
     ]
    },
    {
     "data": {
      "application/vnd.jupyter.widget-view+json": {
       "model_id": "1fb5542725dd4437afe0fc392ea2f5ac",
       "version_major": 2,
       "version_minor": 0
      },
      "text/plain": [
       "HBox(children=(FloatProgress(value=0.0, max=32.0), HTML(value='')))"
      ]
     },
     "metadata": {},
     "output_type": "display_data"
    },
    {
     "name": "stdout",
     "output_type": "stream",
     "text": [
      "\n",
      "\tExample Sequences\n",
      "\t\t<start>VDKPPYLPRPRWPRRIYNR<end><pad><pad>\n",
      "\t\t<start>RIISGIIGKFKRIFGKI<end><pad><pad><pad><pad>\n",
      "\t\t<start>FKRLQKFFQRFLKKIRRFLKK<end>\n",
      "\t\t<start>FLGALLSAASKLL<end><pad><pad><pad><pad><pad><pad><pad><pad>\n",
      "\t\t<start>RFRRLRWKTRWRLKKI<end><pad><pad><pad><pad><pad>\n",
      "\tNLL Train Active: 12.354401588439941\n",
      "\tNLL Test Active: 24.0732421875\n",
      "\tNLL Train Inactive: 34.95842361450195\n",
      "\tNLL Test Inactive: 38.09444046020508\n",
      "\n",
      "Epoch 131\n"
     ]
    },
    {
     "data": {
      "application/vnd.jupyter.widget-view+json": {
       "model_id": "5441dca5ec4d4a3ca6940d0c5bb522bd",
       "version_major": 2,
       "version_minor": 0
      },
      "text/plain": [
       "HBox(children=(FloatProgress(value=0.0, max=32.0), HTML(value='')))"
      ]
     },
     "metadata": {},
     "output_type": "display_data"
    },
    {
     "name": "stdout",
     "output_type": "stream",
     "text": [
      "\n",
      "\tExample Sequences\n",
      "\t\t<start>RRWWCF<end><pad><pad><pad><pad><pad><pad><pad><pad><pad><pad><pad><pad><pad><pad>\n",
      "\t\t<start>FLGVVFKLASKVFPAVFGKV<end>\n",
      "\t\t<start>RILRGASRFLRK<end><pad><pad><pad><pad><pad><pad><pad><pad>\n",
      "\t\t<start>MLCIGRKCFLVVKK<end><pad><pad><pad><pad><pad><pad>\n",
      "\t\t<start>ILPWKWPLWPWKR<end><pad><pad><pad><pad><pad><pad><pad>\n",
      "\tNLL Train Active: 12.337761878967285\n",
      "\tNLL Test Active: 24.073816299438477\n",
      "\tNLL Train Inactive: 34.960838317871094\n",
      "\tNLL Test Inactive: 38.09480667114258\n",
      "\n",
      "Epoch 132\n"
     ]
    },
    {
     "data": {
      "application/vnd.jupyter.widget-view+json": {
       "model_id": "cc03f72d0bf3416881e1c745142245cb",
       "version_major": 2,
       "version_minor": 0
      },
      "text/plain": [
       "HBox(children=(FloatProgress(value=0.0, max=32.0), HTML(value='')))"
      ]
     },
     "metadata": {},
     "output_type": "display_data"
    },
    {
     "name": "stdout",
     "output_type": "stream",
     "text": [
      "\n",
      "\tExample Sequences\n",
      "\t\t<start>SFGRLLGKVLDTIL<end><pad><pad><pad><pad><pad><pad><pad><pad><pad><pad><pad><pad><pad><pad><pad><pad><pad><pad><pad><pad><pad><pad><pad><pad><pad><pad><pad><pad><pad><pad><pad><pad><pad><pad><pad>\n",
      "\t\t<start>VYKPWKKPWWRR<end><pad><pad><pad><pad><pad><pad><pad><pad><pad><pad><pad><pad><pad><pad><pad><pad><pad><pad><pad><pad><pad><pad><pad><pad><pad><pad><pad><pad><pad><pad><pad><pad><pad><pad><pad><pad><pad>\n",
      "\t\t<start>TIAKYWGEIIKMIRNQG<end><pad><pad><pad><pad><pad><pad><pad><pad><pad><pad><pad><pad><pad><pad><pad><pad><pad><pad><pad><pad><pad><pad><pad><pad><pad><pad><pad><pad><pad><pad><pad><pad>\n",
      "\t\t<start>LLKGVAKKLSKVGSTLL<end><pad><pad><pad><pad><pad><pad><pad><pad><pad><pad><pad><pad><pad><pad><pad><pad><pad><pad><pad><pad><pad><pad><pad><pad><pad><pad><pad><pad><pad><pad><pad><pad>\n",
      "\t\t<start>RRSVQWGNHRSVVFSGGFNHQHSNSPHSGHSQVIDGSERIACVRRSPGS<end>\n",
      "\tNLL Train Active: 12.321000099182129\n",
      "\tNLL Test Active: 24.075233459472656\n",
      "\tNLL Train Inactive: 34.97193145751953\n",
      "\tNLL Test Inactive: 38.100135803222656\n",
      "\n",
      "Epoch 133\n"
     ]
    },
    {
     "data": {
      "application/vnd.jupyter.widget-view+json": {
       "model_id": "c97b7938601049bc91453ebd4b7bc4be",
       "version_major": 2,
       "version_minor": 0
      },
      "text/plain": [
       "HBox(children=(FloatProgress(value=0.0, max=32.0), HTML(value='')))"
      ]
     },
     "metadata": {},
     "output_type": "display_data"
    },
    {
     "name": "stdout",
     "output_type": "stream",
     "text": [
      "\n",
      "\tExample Sequences\n",
      "\t\t<start>IIGYKIRFIKKFLKKF<end><pad><pad><pad><pad><pad><pad>\n",
      "\t\t<start>GVVVRIGGGVIGGGKLWLRGVK<end>\n",
      "\t\t<start>KRFVKVYGRFLRKILKK<end><pad><pad><pad><pad><pad>\n",
      "\t\t<start>RRIRPRPPRLPRPRPR<end><pad><pad><pad><pad><pad><pad>\n",
      "\t\t<start>RRWWCV<end><pad><pad><pad><pad><pad><pad><pad><pad><pad><pad><pad><pad><pad><pad><pad><pad>\n",
      "\tNLL Train Active: 12.304600715637207\n",
      "\tNLL Test Active: 24.071985244750977\n",
      "\tNLL Train Inactive: 34.97309875488281\n",
      "\tNLL Test Inactive: 38.10221862792969\n",
      "\n",
      "Epoch 134\n"
     ]
    },
    {
     "data": {
      "application/vnd.jupyter.widget-view+json": {
       "model_id": "021509f49884401e9d3d49709e750cfd",
       "version_major": 2,
       "version_minor": 0
      },
      "text/plain": [
       "HBox(children=(FloatProgress(value=0.0, max=32.0), HTML(value='')))"
      ]
     },
     "metadata": {},
     "output_type": "display_data"
    },
    {
     "name": "stdout",
     "output_type": "stream",
     "text": [
      "\n",
      "\tExample Sequences\n",
      "\t\t<start>WGKIEKLGRKISEKIKDIAKGVAGALTQYL<end>\n",
      "\t\t<start>SISGRLRKFGKKLRRKAKEKLKKLLKKIG<end><pad>\n",
      "\t\t<start>KIAGKIAKIAGKIAKIAGKIAK<end><pad><pad><pad><pad><pad><pad><pad><pad>\n",
      "\t\t<start>RPFRIRVRVVRRVL<end><pad><pad><pad><pad><pad><pad><pad><pad><pad><pad><pad><pad><pad><pad><pad><pad>\n",
      "\t\t<start>KWWKKWWKKWWK<end><pad><pad><pad><pad><pad><pad><pad><pad><pad><pad><pad><pad><pad><pad><pad><pad><pad><pad>\n",
      "\tNLL Train Active: 12.288084983825684\n",
      "\tNLL Test Active: 24.074329376220703\n",
      "\tNLL Train Inactive: 34.97792434692383\n",
      "\tNLL Test Inactive: 38.103660583496094\n",
      "\n",
      "Epoch 135\n"
     ]
    },
    {
     "data": {
      "application/vnd.jupyter.widget-view+json": {
       "model_id": "c91a55824b744f90823ed42956c9c279",
       "version_major": 2,
       "version_minor": 0
      },
      "text/plain": [
       "HBox(children=(FloatProgress(value=0.0, max=32.0), HTML(value='')))"
      ]
     },
     "metadata": {},
     "output_type": "display_data"
    },
    {
     "name": "stdout",
     "output_type": "stream",
     "text": [
      "\n",
      "\tExample Sequences\n",
      "\t\t<start>dRRWRWWWRRL<end><pad><pad><pad><pad><pad><pad><pad><pad><pad><pad><pad><pad><pad><pad><pad>\n",
      "\t\t<start>ILPKKKPWRWPWRR<end><pad><pad><pad><pad><pad><pad><pad><pad><pad><pad><pad><pad>\n",
      "\t\t<start>GRPWRPFWWRR<end><pad><pad><pad><pad><pad><pad><pad><pad><pad><pad><pad><pad><pad><pad><pad>\n",
      "\t\t<start>APKVVIPQVQNKAAIKGLPIFVGSTD<end>\n",
      "\t\t<start>RFRRLRWKTRWRLKKI<end><pad><pad><pad><pad><pad><pad><pad><pad><pad><pad>\n",
      "\tNLL Train Active: 12.272093772888184\n",
      "\tNLL Test Active: 24.07407569885254\n",
      "\tNLL Train Inactive: 34.9835205078125\n",
      "\tNLL Test Inactive: 38.10350799560547\n",
      "\n",
      "Epoch 136\n"
     ]
    },
    {
     "data": {
      "application/vnd.jupyter.widget-view+json": {
       "model_id": "1093802777d04ad2822891308352c684",
       "version_major": 2,
       "version_minor": 0
      },
      "text/plain": [
       "HBox(children=(FloatProgress(value=0.0, max=32.0), HTML(value='')))"
      ]
     },
     "metadata": {},
     "output_type": "display_data"
    },
    {
     "name": "stdout",
     "output_type": "stream",
     "text": [
      "\n",
      "\tExample Sequences\n",
      "\t\t<start>VNWKKILGKIIKVVK<end><pad><pad><pad><pad><pad><pad><pad><pad><pad><pad><pad><pad><pad><pad><pad><pad><pad><pad><pad><pad><pad><pad><pad><pad><pad><pad><pad><pad><pad><pad><pad><pad><pad><pad><pad><pad><pad>\n",
      "\t\t<start>KWKLFKKIEKVGRNVRDGIIKAGPAVAVAGSAATVAQATVTAVGAEAAHTVA<end>\n",
      "\t\t<start>FLGVVAKLLSKLL<end><pad><pad><pad><pad><pad><pad><pad><pad><pad><pad><pad><pad><pad><pad><pad><pad><pad><pad><pad><pad><pad><pad><pad><pad><pad><pad><pad><pad><pad><pad><pad><pad><pad><pad><pad><pad><pad><pad><pad>\n",
      "\t\t<start>FWGAWFKHWHSFHPR<end><pad><pad><pad><pad><pad><pad><pad><pad><pad><pad><pad><pad><pad><pad><pad><pad><pad><pad><pad><pad><pad><pad><pad><pad><pad><pad><pad><pad><pad><pad><pad><pad><pad><pad><pad><pad><pad>\n",
      "\t\t<start>FLGAVVKALSSLL<end><pad><pad><pad><pad><pad><pad><pad><pad><pad><pad><pad><pad><pad><pad><pad><pad><pad><pad><pad><pad><pad><pad><pad><pad><pad><pad><pad><pad><pad><pad><pad><pad><pad><pad><pad><pad><pad><pad><pad>\n",
      "\tNLL Train Active: 12.255752563476562\n",
      "\tNLL Test Active: 24.07269859313965\n",
      "\tNLL Train Inactive: 34.981224060058594\n",
      "\tNLL Test Inactive: 38.10441589355469\n",
      "\n",
      "Epoch 137\n"
     ]
    },
    {
     "data": {
      "application/vnd.jupyter.widget-view+json": {
       "model_id": "66c716a4815042c08a57f44de0796a77",
       "version_major": 2,
       "version_minor": 0
      },
      "text/plain": [
       "HBox(children=(FloatProgress(value=0.0, max=32.0), HTML(value='')))"
      ]
     },
     "metadata": {},
     "output_type": "display_data"
    },
    {
     "name": "stdout",
     "output_type": "stream",
     "text": [
      "\n",
      "\tExample Sequences\n",
      "\t\t<start>TRWRWWRpGWRr<end><pad><pad><pad><pad><pad><pad><pad><pad><pad><pad><pad><pad><pad>\n",
      "\t\t<start>RWKLFKKIPKFLHL<end><pad><pad><pad><pad><pad><pad><pad><pad><pad><pad><pad>\n",
      "\t\t<start>AKVFRRLKKLAKKLRKLASKIMRRL<end>\n",
      "\t\t<start>KIGAKILKLALKALKKLL<end><pad><pad><pad><pad><pad><pad><pad>\n",
      "\t\t<start>AKKVFKRLEKLFSKIQNPK<end><pad><pad><pad><pad><pad><pad>\n",
      "\tNLL Train Active: 12.239409446716309\n",
      "\tNLL Test Active: 24.070837020874023\n",
      "\tNLL Train Inactive: 34.98456573486328\n",
      "\tNLL Test Inactive: 38.10507583618164\n",
      "\n",
      "Epoch 138\n"
     ]
    },
    {
     "data": {
      "application/vnd.jupyter.widget-view+json": {
       "model_id": "116ac845afbc4c62a46c4d69f769dc1e",
       "version_major": 2,
       "version_minor": 0
      },
      "text/plain": [
       "HBox(children=(FloatProgress(value=0.0, max=32.0), HTML(value='')))"
      ]
     },
     "metadata": {},
     "output_type": "display_data"
    },
    {
     "name": "stdout",
     "output_type": "stream",
     "text": [
      "\n",
      "\tExample Sequences\n",
      "\t\t<start>MQFITDYIGRMKDLNNFAK<end>\n",
      "\t\t<start>WWDIVKVANTI<end><pad><pad><pad><pad><pad><pad><pad><pad>\n",
      "\t\t<start>AKRLKKLASRIWRLWR<end><pad><pad><pad>\n",
      "\t\t<start>WGRFKRFWGRVKRWWR<end><pad><pad><pad>\n",
      "\t\t<start>VWRPVYKKWYK<end><pad><pad><pad><pad><pad><pad><pad><pad>\n",
      "\tNLL Train Active: 12.223549842834473\n",
      "\tNLL Test Active: 24.074155807495117\n",
      "\tNLL Train Inactive: 34.99114227294922\n",
      "\tNLL Test Inactive: 38.10853576660156\n",
      "\n",
      "Epoch 139\n"
     ]
    },
    {
     "data": {
      "application/vnd.jupyter.widget-view+json": {
       "model_id": "00e28b4ded3640bcb5f5cdbb5e6434d7",
       "version_major": 2,
       "version_minor": 0
      },
      "text/plain": [
       "HBox(children=(FloatProgress(value=0.0, max=32.0), HTML(value='')))"
      ]
     },
     "metadata": {},
     "output_type": "display_data"
    },
    {
     "name": "stdout",
     "output_type": "stream",
     "text": [
      "\n",
      "\tExample Sequences\n",
      "\t\t<start>FLSGIVSAAKKLL<end><pad><pad><pad><pad><pad><pad><pad><pad><pad><pad><pad><pad>\n",
      "\t\t<start>GKLWKKIMSIFKK<end><pad><pad><pad><pad><pad><pad><pad><pad><pad><pad><pad><pad>\n",
      "\t\t<start>CPHCCVDKKTPDPYR<end><pad><pad><pad><pad><pad><pad><pad><pad><pad><pad>\n",
      "\t\t<start>FRRFFKFFRKRPKPFKFPWRWPFRR<end>\n",
      "\t\t<start>RRRKILKRWK<end><pad><pad><pad><pad><pad><pad><pad><pad><pad><pad><pad><pad><pad><pad><pad>\n",
      "\tNLL Train Active: 12.207707405090332\n",
      "\tNLL Test Active: 24.072566986083984\n",
      "\tNLL Train Inactive: 34.99144744873047\n",
      "\tNLL Test Inactive: 38.1056022644043\n",
      "\n",
      "Epoch 140\n"
     ]
    },
    {
     "data": {
      "application/vnd.jupyter.widget-view+json": {
       "model_id": "7600a90a2b7146ccb94f477ef8b59dfa",
       "version_major": 2,
       "version_minor": 0
      },
      "text/plain": [
       "HBox(children=(FloatProgress(value=0.0, max=32.0), HTML(value='')))"
      ]
     },
     "metadata": {},
     "output_type": "display_data"
    },
    {
     "name": "stdout",
     "output_type": "stream",
     "text": [
      "\n",
      "\tExample Sequences\n",
      "\t\t<start>AIGIIGIASKFT<end><pad><pad><pad><pad><pad><pad><pad><pad><pad><pad>\n",
      "\t\t<start>YRWWRRWRW<end><pad><pad><pad><pad><pad><pad><pad><pad><pad><pad><pad><pad><pad>\n",
      "\t\t<start>LPRVKISILKL<end><pad><pad><pad><pad><pad><pad><pad><pad><pad><pad><pad>\n",
      "\t\t<start>KRWKLFKKIPKFLHLAKKF<end><pad><pad><pad>\n",
      "\t\t<start>IKLSKEKNEIGKLSDIRAMKKK<end>\n",
      "\tNLL Train Active: 12.191797256469727\n",
      "\tNLL Test Active: 24.072032928466797\n",
      "\tNLL Train Inactive: 35.00266647338867\n",
      "\tNLL Test Inactive: 38.1144905090332\n",
      "\n",
      "Epoch 141\n"
     ]
    },
    {
     "data": {
      "application/vnd.jupyter.widget-view+json": {
       "model_id": "d6420a5ce28e4b2da7f05e49082cfb67",
       "version_major": 2,
       "version_minor": 0
      },
      "text/plain": [
       "HBox(children=(FloatProgress(value=0.0, max=32.0), HTML(value='')))"
      ]
     },
     "metadata": {},
     "output_type": "display_data"
    },
    {
     "name": "stdout",
     "output_type": "stream",
     "text": [
      "\n",
      "\tExample Sequences\n",
      "\t\t<start>LLKVASKVVKAV<end><pad><pad><pad><pad><pad><pad><pad><pad><pad><pad><pad><pad><pad><pad>\n",
      "\t\t<start>FLPIIAGLLSRLA<end><pad><pad><pad><pad><pad><pad><pad><pad><pad><pad><pad><pad><pad>\n",
      "\t\t<start>GIWKEIKGSIASVWGK<end><pad><pad><pad><pad><pad><pad><pad><pad><pad><pad>\n",
      "\t\t<start>WKLKKIPLKKWLK<end><pad><pad><pad><pad><pad><pad><pad><pad><pad><pad><pad><pad><pad>\n",
      "\t\t<start>GRFKRFRKKFKKLFKKASPVIPLLHL<end>\n",
      "\tNLL Train Active: 12.176231384277344\n",
      "\tNLL Test Active: 24.076053619384766\n",
      "\tNLL Train Inactive: 35.007022857666016\n",
      "\tNLL Test Inactive: 38.11732482910156\n",
      "\n",
      "Epoch 142\n"
     ]
    },
    {
     "data": {
      "application/vnd.jupyter.widget-view+json": {
       "model_id": "04607a653a624c679e7e1c1a13d614e6",
       "version_major": 2,
       "version_minor": 0
      },
      "text/plain": [
       "HBox(children=(FloatProgress(value=0.0, max=32.0), HTML(value='')))"
      ]
     },
     "metadata": {},
     "output_type": "display_data"
    },
    {
     "name": "stdout",
     "output_type": "stream",
     "text": [
      "\n",
      "\tExample Sequences\n",
      "\t\t<start>GRFKRFRKKFKKAFKKLFKKPSVIPLLHL<end><pad><pad><pad><pad><pad><pad>\n",
      "\t\t<start>WWPIRRRPIRPPWY<end><pad><pad><pad><pad><pad><pad><pad><pad><pad><pad><pad><pad><pad><pad><pad><pad><pad><pad><pad><pad><pad>\n",
      "\t\t<start>KLWKTWWKSAKKGW<end><pad><pad><pad><pad><pad><pad><pad><pad><pad><pad><pad><pad><pad><pad><pad><pad><pad><pad><pad><pad><pad>\n",
      "\t\t<start>RWKIFKKIEKVGRNVRDGIIHAGKAVATAIGGVAS<end>\n",
      "\t\t<start>PWRPVRrWPIRVRVRG<end><pad><pad><pad><pad><pad><pad><pad><pad><pad><pad><pad><pad><pad><pad><pad><pad><pad><pad><pad>\n",
      "\tNLL Train Active: 12.160652160644531\n",
      "\tNLL Test Active: 24.073606491088867\n",
      "\tNLL Train Inactive: 35.00437545776367\n",
      "\tNLL Test Inactive: 38.11294937133789\n",
      "\n",
      "Epoch 143\n"
     ]
    },
    {
     "data": {
      "application/vnd.jupyter.widget-view+json": {
       "model_id": "56ff3f4c8de2457aa089fedb1b5ce23c",
       "version_major": 2,
       "version_minor": 0
      },
      "text/plain": [
       "HBox(children=(FloatProgress(value=0.0, max=32.0), HTML(value='')))"
      ]
     },
     "metadata": {},
     "output_type": "display_data"
    },
    {
     "name": "stdout",
     "output_type": "stream",
     "text": [
      "\n",
      "\tExample Sequences\n",
      "\t\t<start>FGWGIRGIIHGAIPGLIHAIK<end><pad><pad><pad>\n",
      "\t\t<start>GWFKKFGKKFKKGAKKVLGALTKL<end>\n",
      "\t\t<start>TRANAWRKFLRKAIKHIP<end><pad><pad><pad><pad><pad><pad>\n",
      "\t\t<start>TAYFLKFIGGKLF<end><pad><pad><pad><pad><pad><pad><pad><pad><pad><pad><pad>\n",
      "\t\t<start>AKKVSGKVTKQAAKLVKQQL<end><pad><pad><pad><pad>\n",
      "\tNLL Train Active: 12.145136833190918\n",
      "\tNLL Test Active: 24.072717666625977\n",
      "\tNLL Train Inactive: 35.01264953613281\n",
      "\tNLL Test Inactive: 38.12044143676758\n",
      "\n",
      "Epoch 144\n"
     ]
    },
    {
     "data": {
      "application/vnd.jupyter.widget-view+json": {
       "model_id": "599e2ba5064d40ba81148ce39ed21675",
       "version_major": 2,
       "version_minor": 0
      },
      "text/plain": [
       "HBox(children=(FloatProgress(value=0.0, max=32.0), HTML(value='')))"
      ]
     },
     "metadata": {},
     "output_type": "display_data"
    },
    {
     "name": "stdout",
     "output_type": "stream",
     "text": [
      "\n",
      "\tExample Sequences\n",
      "\t\t<start>AKKVFKRLEKLFSKIYDY<end><pad><pad><pad><pad><pad><pad>\n",
      "\t\t<start>RIGSILGRALGSALKLIFK<end><pad><pad><pad><pad><pad>\n",
      "\t\t<start>WRPGRWRIVVRIRPR<end><pad><pad><pad><pad><pad><pad><pad><pad><pad>\n",
      "\t\t<start>GRFKRFRKKFKKAVKKLTKVLGKL<end>\n",
      "\t\t<start>GGGRFKRIRRFRPKVTITSLTF<end><pad><pad>\n",
      "\tNLL Train Active: 12.129473686218262\n",
      "\tNLL Test Active: 24.071489334106445\n",
      "\tNLL Train Inactive: 35.01775360107422\n",
      "\tNLL Test Inactive: 38.12058639526367\n",
      "\n",
      "Epoch 145\n"
     ]
    },
    {
     "data": {
      "application/vnd.jupyter.widget-view+json": {
       "model_id": "1a73d64fc95649309c1ef5dd0a854af9",
       "version_major": 2,
       "version_minor": 0
      },
      "text/plain": [
       "HBox(children=(FloatProgress(value=0.0, max=32.0), HTML(value='')))"
      ]
     },
     "metadata": {},
     "output_type": "display_data"
    },
    {
     "name": "stdout",
     "output_type": "stream",
     "text": [
      "\n",
      "\tExample Sequences\n",
      "\t\t<start>AIHAVIKKIMWIKRKR<end><pad><pad><pad><pad><pad><pad><pad><pad><pad><pad><pad><pad><pad><pad><pad><pad><pad><pad><pad><pad><pad><pad><pad><pad><pad><pad><pad><pad><pad><pad><pad><pad><pad><pad><pad><pad><pad><pad><pad><pad><pad><pad><pad><pad><pad><pad><pad><pad><pad><pad><pad><pad><pad><pad><pad><pad><pad><pad><pad><pad><pad><pad><pad><pad><pad><pad><pad><pad><pad><pad><pad><pad><pad><pad><pad><pad><pad><pad><pad><pad><pad><pad><pad><pad><pad><pad><pad><pad><pad><pad><pad><pad><pad><pad><pad><pad><pad><pad><pad><pad><pad><pad><pad><pad><pad><pad><pad><pad><pad><pad><pad><pad><pad><pad><pad><pad><pad><pad><pad><pad><pad><pad><pad><pad><pad><pad><pad><pad><pad><pad><pad><pad><pad><pad><pad><pad><pad><pad><pad><pad><pad><pad><pad><pad><pad><pad><pad><pad><pad><pad><pad><pad><pad><pad><pad><pad><pad><pad><pad><pad><pad><pad><pad><pad><pad><pad><pad><pad><pad><pad><pad><pad><pad><pad><pad><pad><pad><pad><pad><pad><pad><pad><pad>\n",
      "\t\t<start>GYGGRGYGGGGRGGYGGGGRYGGGGGRGGGFGGGYGGGGGGYGGGGRGGYGGGGYGGGGRYGGGGGGYGGGGGGYGGGGYGGGGYGGGGGGGGYGGGGYGGGGYGGGGGYGGGGYGGGGGGGGYGGGGGYGGGGYGGGGYGGGGGYGGGGGGYGGGGGYGGGGGGGGGGGGGGGGGRGGYGGGGGGGGGRGGGGGRGGGG\n",
      "\t\t<start>RRIRFRPPY<end><pad><pad><pad><pad><pad><pad><pad><pad><pad><pad><pad><pad><pad><pad><pad><pad><pad><pad><pad><pad><pad><pad><pad><pad><pad><pad><pad><pad><pad><pad><pad><pad><pad><pad><pad><pad><pad><pad><pad><pad><pad><pad><pad><pad><pad><pad><pad><pad><pad><pad><pad><pad><pad><pad><pad><pad><pad><pad><pad><pad><pad><pad><pad><pad><pad><pad><pad><pad><pad><pad><pad><pad><pad><pad><pad><pad><pad><pad><pad><pad><pad><pad><pad><pad><pad><pad><pad><pad><pad><pad><pad><pad><pad><pad><pad><pad><pad><pad><pad><pad><pad><pad><pad><pad><pad><pad><pad><pad><pad><pad><pad><pad><pad><pad><pad><pad><pad><pad><pad><pad><pad><pad><pad><pad><pad><pad><pad><pad><pad><pad><pad><pad><pad><pad><pad><pad><pad><pad><pad><pad><pad><pad><pad><pad><pad><pad><pad><pad><pad><pad><pad><pad><pad><pad><pad><pad><pad><pad><pad><pad><pad><pad><pad><pad><pad><pad><pad><pad><pad><pad><pad><pad><pad><pad><pad><pad><pad><pad><pad><pad><pad><pad><pad><pad><pad><pad><pad><pad><pad><pad>\n",
      "\t\t<start>ILPWKKPWYR<end><pad><pad><pad><pad><pad><pad><pad><pad><pad><pad><pad><pad><pad><pad><pad><pad><pad><pad><pad><pad><pad><pad><pad><pad><pad><pad><pad><pad><pad><pad><pad><pad><pad><pad><pad><pad><pad><pad><pad><pad><pad><pad><pad><pad><pad><pad><pad><pad><pad><pad><pad><pad><pad><pad><pad><pad><pad><pad><pad><pad><pad><pad><pad><pad><pad><pad><pad><pad><pad><pad><pad><pad><pad><pad><pad><pad><pad><pad><pad><pad><pad><pad><pad><pad><pad><pad><pad><pad><pad><pad><pad><pad><pad><pad><pad><pad><pad><pad><pad><pad><pad><pad><pad><pad><pad><pad><pad><pad><pad><pad><pad><pad><pad><pad><pad><pad><pad><pad><pad><pad><pad><pad><pad><pad><pad><pad><pad><pad><pad><pad><pad><pad><pad><pad><pad><pad><pad><pad><pad><pad><pad><pad><pad><pad><pad><pad><pad><pad><pad><pad><pad><pad><pad><pad><pad><pad><pad><pad><pad><pad><pad><pad><pad><pad><pad><pad><pad><pad><pad><pad><pad><pad><pad><pad><pad><pad><pad><pad><pad><pad><pad><pad><pad><pad><pad><pad><pad><pad><pad>\n",
      "\t\t<start>RLTRwLKVLA<end><pad><pad><pad><pad><pad><pad><pad><pad><pad><pad><pad><pad><pad><pad><pad><pad><pad><pad><pad><pad><pad><pad><pad><pad><pad><pad><pad><pad><pad><pad><pad><pad><pad><pad><pad><pad><pad><pad><pad><pad><pad><pad><pad><pad><pad><pad><pad><pad><pad><pad><pad><pad><pad><pad><pad><pad><pad><pad><pad><pad><pad><pad><pad><pad><pad><pad><pad><pad><pad><pad><pad><pad><pad><pad><pad><pad><pad><pad><pad><pad><pad><pad><pad><pad><pad><pad><pad><pad><pad><pad><pad><pad><pad><pad><pad><pad><pad><pad><pad><pad><pad><pad><pad><pad><pad><pad><pad><pad><pad><pad><pad><pad><pad><pad><pad><pad><pad><pad><pad><pad><pad><pad><pad><pad><pad><pad><pad><pad><pad><pad><pad><pad><pad><pad><pad><pad><pad><pad><pad><pad><pad><pad><pad><pad><pad><pad><pad><pad><pad><pad><pad><pad><pad><pad><pad><pad><pad><pad><pad><pad><pad><pad><pad><pad><pad><pad><pad><pad><pad><pad><pad><pad><pad><pad><pad><pad><pad><pad><pad><pad><pad><pad><pad><pad><pad><pad><pad><pad><pad>\n",
      "\tNLL Train Active: 12.114006996154785\n",
      "\tNLL Test Active: 24.071500778198242\n",
      "\tNLL Train Inactive: 35.015968322753906\n",
      "\tNLL Test Inactive: 38.11930465698242\n",
      "\n",
      "Epoch 146\n"
     ]
    },
    {
     "data": {
      "application/vnd.jupyter.widget-view+json": {
       "model_id": "77ccd5849a194178855b424fba2efde7",
       "version_major": 2,
       "version_minor": 0
      },
      "text/plain": [
       "HBox(children=(FloatProgress(value=0.0, max=32.0), HTML(value='')))"
      ]
     },
     "metadata": {},
     "output_type": "display_data"
    },
    {
     "name": "stdout",
     "output_type": "stream",
     "text": [
      "\n",
      "\tExample Sequences\n",
      "\t\t<start>LRRIIRKIIHIIKK<end><pad><pad><pad><pad><pad><pad><pad><pad><pad><pad><pad><pad><pad><pad><pad><pad><pad><pad><pad><pad><pad><pad><pad><pad><pad><pad><pad><pad>\n",
      "\t\t<start>RFRRLRWKTRWRLKKI<end><pad><pad><pad><pad><pad><pad><pad><pad><pad><pad><pad><pad><pad><pad><pad><pad><pad><pad><pad><pad><pad><pad><pad><pad><pad><pad>\n",
      "\t\t<start>AKKVFKRLEKLFSKIWNWK<end><pad><pad><pad><pad><pad><pad><pad><pad><pad><pad><pad><pad><pad><pad><pad><pad><pad><pad><pad><pad><pad><pad><pad>\n",
      "\t\t<start>LLKKLLKKLLK<end><pad><pad><pad><pad><pad><pad><pad><pad><pad><pad><pad><pad><pad><pad><pad><pad><pad><pad><pad><pad><pad><pad><pad><pad><pad><pad><pad><pad><pad><pad><pad>\n",
      "\t\t<start>VNPKPEYLPRMYNRSGYGNAFCAGNGGHNHGSCKSHCCLTCL<end>\n",
      "\tNLL Train Active: 12.099053382873535\n",
      "\tNLL Test Active: 24.06991195678711\n",
      "\tNLL Train Inactive: 35.01870346069336\n",
      "\tNLL Test Inactive: 38.11945724487305\n",
      "\n",
      "Epoch 147\n"
     ]
    },
    {
     "data": {
      "application/vnd.jupyter.widget-view+json": {
       "model_id": "62a474aa0a1a4172b365c31f8bc467b6",
       "version_major": 2,
       "version_minor": 0
      },
      "text/plain": [
       "HBox(children=(FloatProgress(value=0.0, max=32.0), HTML(value='')))"
      ]
     },
     "metadata": {},
     "output_type": "display_data"
    },
    {
     "name": "stdout",
     "output_type": "stream",
     "text": [
      "\n",
      "\tExample Sequences\n",
      "\t\t<start>GIIAGIISIAKML<end><pad><pad><pad><pad><pad><pad><pad><pad><pad><pad><pad><pad><pad><pad><pad><pad><pad><pad><pad><pad><pad><pad><pad>\n",
      "\t\t<start>KRFKKFFKKLKNSVKKRAKKFFKKPRVIGVSIPF<end><pad><pad>\n",
      "\t\t<start>GFMSKALDAIKNVAKSIANFF<end><pad><pad><pad><pad><pad><pad><pad><pad><pad><pad><pad><pad><pad><pad><pad>\n",
      "\t\t<start>KGVIDALGKALKGLAETL<end><pad><pad><pad><pad><pad><pad><pad><pad><pad><pad><pad><pad><pad><pad><pad><pad><pad><pad>\n",
      "\t\t<start>GLRKRLRKFRNKLKKFGRKIFKAGPPLLPHPLPRRP<end>\n",
      "\tNLL Train Active: 12.083368301391602\n",
      "\tNLL Test Active: 24.07134437561035\n",
      "\tNLL Train Inactive: 35.02037048339844\n",
      "\tNLL Test Inactive: 38.12028503417969\n",
      "\n",
      "Epoch 148\n"
     ]
    },
    {
     "data": {
      "application/vnd.jupyter.widget-view+json": {
       "model_id": "328d1a43924a493f992753f60b5b6a01",
       "version_major": 2,
       "version_minor": 0
      },
      "text/plain": [
       "HBox(children=(FloatProgress(value=0.0, max=32.0), HTML(value='')))"
      ]
     },
     "metadata": {},
     "output_type": "display_data"
    },
    {
     "name": "stdout",
     "output_type": "stream",
     "text": [
      "\n",
      "\tExample Sequences\n",
      "\t\t<start>KKLFKKIPKFLHLAKKF<end><pad><pad>\n",
      "\t\t<start>AKKVFKRLEKLFSKIWNDK<end>\n",
      "\t\t<start>FKRIVKLPKKIVIKVAK<end><pad><pad>\n",
      "\t\t<start>RWVRVCRWVR<end><pad><pad><pad><pad><pad><pad><pad><pad><pad>\n",
      "\t\t<start>FKRFGKFLKKVKTSIPHL<end><pad>\n",
      "\tNLL Train Active: 12.068410873413086\n",
      "\tNLL Test Active: 24.069555282592773\n",
      "\tNLL Train Inactive: 35.026615142822266\n",
      "\tNLL Test Inactive: 38.1251335144043\n",
      "\n",
      "Epoch 149\n"
     ]
    },
    {
     "data": {
      "application/vnd.jupyter.widget-view+json": {
       "model_id": "4b5c014b450e4baeb605367dee10e543",
       "version_major": 2,
       "version_minor": 0
      },
      "text/plain": [
       "HBox(children=(FloatProgress(value=0.0, max=32.0), HTML(value='')))"
      ]
     },
     "metadata": {},
     "output_type": "display_data"
    },
    {
     "name": "stdout",
     "output_type": "stream",
     "text": [
      "\n",
      "\tExample Sequences\n",
      "\t\t<start>ILGKILKGIKKLF<end><pad><pad>\n",
      "\t\t<start>RWRWWWRWRWK<end><pad><pad><pad><pad>\n",
      "\t\t<start>AARIILRGRF<end><pad><pad><pad><pad><pad>\n",
      "\t\t<start>KWKLFKKIPLKFLHL<end>\n",
      "\t\t<start>RGRAKVRKKGAKSRK<end>\n",
      "\tNLL Train Active: 12.053412437438965\n",
      "\tNLL Test Active: 24.06861686706543\n",
      "\tNLL Train Inactive: 35.02705001831055\n",
      "\tNLL Test Inactive: 38.12263488769531\n",
      "\n",
      "Epoch 150\n"
     ]
    },
    {
     "data": {
      "application/vnd.jupyter.widget-view+json": {
       "model_id": "64c522971ba04d8ba31042cf4f981d05",
       "version_major": 2,
       "version_minor": 0
      },
      "text/plain": [
       "HBox(children=(FloatProgress(value=0.0, max=32.0), HTML(value='')))"
      ]
     },
     "metadata": {},
     "output_type": "display_data"
    },
    {
     "name": "stdout",
     "output_type": "stream",
     "text": [
      "\n",
      "\tExample Sequences\n",
      "\t\t<start>RFRRLWTTWLKG<end><pad><pad><pad><pad><pad><pad><pad><pad><pad><pad><pad><pad><pad><pad><pad><pad><pad><pad>\n",
      "\t\t<start>FLGALFKLASKVFGAVFKK<end><pad><pad><pad><pad><pad><pad><pad><pad><pad><pad><pad>\n",
      "\t\t<start>PMRRDYSSRGSQSMNKGGAQPKSIALGRRK<end>\n",
      "\t\t<start>RLCRIVCVIRVCR<end><pad><pad><pad><pad><pad><pad><pad><pad><pad><pad><pad><pad><pad><pad><pad><pad><pad>\n",
      "\t\t<start>KWRPVYKKWYK<end><pad><pad><pad><pad><pad><pad><pad><pad><pad><pad><pad><pad><pad><pad><pad><pad><pad><pad><pad>\n",
      "\tNLL Train Active: 12.038724899291992\n",
      "\tNLL Test Active: 24.07265853881836\n",
      "\tNLL Train Inactive: 35.03942108154297\n",
      "\tNLL Test Inactive: 38.13020706176758\n",
      "\n",
      "Epoch 151\n"
     ]
    },
    {
     "data": {
      "application/vnd.jupyter.widget-view+json": {
       "model_id": "ffc387b689294bea9846039f7820ed2c",
       "version_major": 2,
       "version_minor": 0
      },
      "text/plain": [
       "HBox(children=(FloatProgress(value=0.0, max=32.0), HTML(value='')))"
      ]
     },
     "metadata": {},
     "output_type": "display_data"
    },
    {
     "name": "stdout",
     "output_type": "stream",
     "text": [
      "\n",
      "\tExample Sequences\n",
      "\t\t<start>GILGKLWKGVKSAAKGVLGAA<end><pad>\n",
      "\t\t<start>FLGGLFKLGLGSVIGAAVHVGK<end>\n",
      "\t\t<start>ALWKTMLKKVLKGAAKALAT<end><pad><pad>\n",
      "\t\t<start>KKKLFKKILKFL<end><pad><pad><pad><pad><pad><pad><pad><pad><pad><pad>\n",
      "\t\t<start>ILPWKWPGWKKPWR<end><pad><pad><pad><pad><pad><pad><pad><pad>\n",
      "\tNLL Train Active: 12.023791313171387\n",
      "\tNLL Test Active: 24.07133674621582\n",
      "\tNLL Train Inactive: 35.03932571411133\n",
      "\tNLL Test Inactive: 38.13071060180664\n",
      "\n",
      "Epoch 152\n"
     ]
    },
    {
     "data": {
      "application/vnd.jupyter.widget-view+json": {
       "model_id": "efb7a94dad354d88a0ca33ea2a17e4d9",
       "version_major": 2,
       "version_minor": 0
      },
      "text/plain": [
       "HBox(children=(FloatProgress(value=0.0, max=32.0), HTML(value='')))"
      ]
     },
     "metadata": {},
     "output_type": "display_data"
    },
    {
     "name": "stdout",
     "output_type": "stream",
     "text": [
      "\n",
      "\tExample Sequences\n",
      "\t\t<start>KWKLFKKIPKFLHAAKKF<end><pad><pad><pad><pad>\n",
      "\t\t<start>IPWKKPKFWHR<end><pad><pad><pad><pad><pad><pad><pad><pad><pad><pad><pad>\n",
      "\t\t<start>GRLQPLLQLAQIGRLLDFLSNV<end>\n",
      "\t\t<start>ILPWKKPQWFPTRW<end><pad><pad><pad><pad><pad><pad><pad><pad>\n",
      "\t\t<start>KLWKKWLKI<end><pad><pad><pad><pad><pad><pad><pad><pad><pad><pad><pad><pad><pad>\n",
      "\tNLL Train Active: 12.008805274963379\n",
      "\tNLL Test Active: 24.072961807250977\n",
      "\tNLL Train Inactive: 35.04704284667969\n",
      "\tNLL Test Inactive: 38.13268280029297\n",
      "\n",
      "Epoch 153\n"
     ]
    },
    {
     "data": {
      "application/vnd.jupyter.widget-view+json": {
       "model_id": "7d9cfa1cce204b2989f9903827f9998d",
       "version_major": 2,
       "version_minor": 0
      },
      "text/plain": [
       "HBox(children=(FloatProgress(value=0.0, max=32.0), HTML(value='')))"
      ]
     },
     "metadata": {},
     "output_type": "display_data"
    },
    {
     "name": "stdout",
     "output_type": "stream",
     "text": [
      "\n",
      "\tExample Sequences\n",
      "\t\t<start>KVAEKLAKLWLKAAKLALQL<end><pad><pad><pad><pad><pad><pad><pad><pad><pad><pad><pad><pad><pad><pad><pad><pad>\n",
      "\t\t<start>GRRWWWRWRR<end><pad><pad><pad><pad><pad><pad><pad><pad><pad><pad><pad><pad><pad><pad><pad><pad><pad><pad><pad><pad><pad><pad><pad><pad><pad><pad>\n",
      "\t\t<start>WKLWLKWLK<end><pad><pad><pad><pad><pad><pad><pad><pad><pad><pad><pad><pad><pad><pad><pad><pad><pad><pad><pad><pad><pad><pad><pad><pad><pad><pad><pad>\n",
      "\t\t<start>SKVWDKIADKIEEATQKIQGIGKGI<end><pad><pad><pad><pad><pad><pad><pad><pad><pad><pad><pad>\n",
      "\t\t<start>RWKIFKKIEKVGQNVRDGIIKAGPAVAVVGQAATVV<end>\n",
      "\tNLL Train Active: 11.9939603805542\n",
      "\tNLL Test Active: 24.070098876953125\n",
      "\tNLL Train Inactive: 35.047752380371094\n",
      "\tNLL Test Inactive: 38.13650131225586\n",
      "\n",
      "Epoch 154\n"
     ]
    },
    {
     "data": {
      "application/vnd.jupyter.widget-view+json": {
       "model_id": "2855a570a460420b86cea63527881efd",
       "version_major": 2,
       "version_minor": 0
      },
      "text/plain": [
       "HBox(children=(FloatProgress(value=0.0, max=32.0), HTML(value='')))"
      ]
     },
     "metadata": {},
     "output_type": "display_data"
    },
    {
     "name": "stdout",
     "output_type": "stream",
     "text": [
      "\n",
      "\tExample Sequences\n",
      "\t\t<start>VGRKHRLL<end><pad><pad><pad><pad><pad><pad><pad><pad><pad><pad><pad>\n",
      "\t\t<start>RRWCKIVVIRWRR<end><pad><pad><pad><pad><pad><pad>\n",
      "\t\t<start>RGFRRFRKKAKKFGKAFVK<end>\n",
      "\t\t<start>KWKLFKKIPKFLHLAKKF<end><pad>\n",
      "\t\t<start>AIDLLSGYSKDYCRRK<end><pad><pad><pad>\n",
      "\tNLL Train Active: 11.978959083557129\n",
      "\tNLL Test Active: 24.068632125854492\n",
      "\tNLL Train Inactive: 35.05006790161133\n",
      "\tNLL Test Inactive: 38.13739776611328\n",
      "\n",
      "Epoch 155\n"
     ]
    },
    {
     "data": {
      "application/vnd.jupyter.widget-view+json": {
       "model_id": "b598cc34cadd44e98d48b8b227f970a8",
       "version_major": 2,
       "version_minor": 0
      },
      "text/plain": [
       "HBox(children=(FloatProgress(value=0.0, max=32.0), HTML(value='')))"
      ]
     },
     "metadata": {},
     "output_type": "display_data"
    },
    {
     "name": "stdout",
     "output_type": "stream",
     "text": [
      "\n",
      "\tExample Sequences\n",
      "\t\t<start>KIKIPYKPKKWYPWRR<end><pad><pad><pad><pad><pad><pad>\n",
      "\t\t<start>FLGVVFKLASKVFGAVVGKFKK<end>\n",
      "\t\t<start>KWKLFKKIGKLFLKWK<end><pad><pad><pad><pad><pad><pad>\n",
      "\t\t<start>VDKAPYKPRPRPPRRIYNRN<end><pad><pad>\n",
      "\t\t<start>ILPWKPKKPKAPRRW<end><pad><pad><pad><pad><pad><pad><pad>\n",
      "\tNLL Train Active: 11.964729309082031\n",
      "\tNLL Test Active: 24.07257652282715\n",
      "\tNLL Train Inactive: 35.060245513916016\n",
      "\tNLL Test Inactive: 38.14120101928711\n",
      "\n",
      "Epoch 156\n"
     ]
    },
    {
     "data": {
      "application/vnd.jupyter.widget-view+json": {
       "model_id": "ca1758985eb244baa1eebc5a9e9eea98",
       "version_major": 2,
       "version_minor": 0
      },
      "text/plain": [
       "HBox(children=(FloatProgress(value=0.0, max=32.0), HTML(value='')))"
      ]
     },
     "metadata": {},
     "output_type": "display_data"
    },
    {
     "name": "stdout",
     "output_type": "stream",
     "text": [
      "\n",
      "\tExample Sequences\n",
      "\t\t<start>KRFIKWPWWPWRR<end><pad><pad><pad><pad><pad><pad><pad><pad><pad><pad><pad>\n",
      "\t\t<start>RFRRPIRRPPIRPPFYPPFRPPFR<end>\n",
      "\t\t<start>WRWWLLRR<end><pad><pad><pad><pad><pad><pad><pad><pad><pad><pad><pad><pad><pad><pad><pad><pad>\n",
      "\t\t<start>HGWLHCLHRRC<end><pad><pad><pad><pad><pad><pad><pad><pad><pad><pad><pad><pad><pad>\n",
      "\t\t<start>KWWYKY<end><pad><pad><pad><pad><pad><pad><pad><pad><pad><pad><pad><pad><pad><pad><pad><pad><pad><pad>\n",
      "\tNLL Train Active: 11.950410842895508\n",
      "\tNLL Test Active: 24.073230743408203\n",
      "\tNLL Train Inactive: 35.06342315673828\n",
      "\tNLL Test Inactive: 38.14420700073242\n",
      "\n",
      "Epoch 157\n"
     ]
    },
    {
     "data": {
      "application/vnd.jupyter.widget-view+json": {
       "model_id": "84807a4b12234ad786fc9daebc13d060",
       "version_major": 2,
       "version_minor": 0
      },
      "text/plain": [
       "HBox(children=(FloatProgress(value=0.0, max=32.0), HTML(value='')))"
      ]
     },
     "metadata": {},
     "output_type": "display_data"
    },
    {
     "name": "stdout",
     "output_type": "stream",
     "text": [
      "\n",
      "\tExample Sequences\n",
      "\t\t<start>RIGSILGRLAKGLPTLVSWIKNQ<end>\n",
      "\t\t<start>RPFKRPPRLPRPRPRPPFFPF<end><pad><pad>\n",
      "\t\t<start>FLGLLFKVASK<end><pad><pad><pad><pad><pad><pad><pad><pad><pad><pad><pad><pad>\n",
      "\t\t<start>KLLKIPAKFLLKA<end><pad><pad><pad><pad><pad><pad><pad><pad><pad><pad>\n",
      "\t\t<start>FLGALAKPLLKSVIGAL<end><pad><pad><pad><pad><pad><pad>\n",
      "\tNLL Train Active: 11.935903549194336\n",
      "\tNLL Test Active: 24.070829391479492\n",
      "\tNLL Train Inactive: 35.06605529785156\n",
      "\tNLL Test Inactive: 38.14632797241211\n",
      "\n",
      "Epoch 158\n"
     ]
    },
    {
     "data": {
      "application/vnd.jupyter.widget-view+json": {
       "model_id": "2cbf4b0ce3df4e968c3c3f74ebae046f",
       "version_major": 2,
       "version_minor": 0
      },
      "text/plain": [
       "HBox(children=(FloatProgress(value=0.0, max=32.0), HTML(value='')))"
      ]
     },
     "metadata": {},
     "output_type": "display_data"
    },
    {
     "name": "stdout",
     "output_type": "stream",
     "text": [
      "\n",
      "\tExample Sequences\n",
      "\t\t<start>RKTKRWWRKKWG<end><pad><pad><pad><pad><pad><pad><pad><pad><pad><pad><pad><pad>\n",
      "\t\t<start>GIhGKFLHSAKKFGKAFVGEIMNS<end>\n",
      "\t\t<start>AARIVVIRVRR<end><pad><pad><pad><pad><pad><pad><pad><pad><pad><pad><pad><pad><pad>\n",
      "\t\t<start>FLGALWHALSHML<end><pad><pad><pad><pad><pad><pad><pad><pad><pad><pad><pad>\n",
      "\t\t<start>LNALRKARNRLKKILKK<end><pad><pad><pad><pad><pad><pad><pad>\n",
      "\tNLL Train Active: 11.921157836914062\n",
      "\tNLL Test Active: 24.07216453552246\n",
      "\tNLL Train Inactive: 35.06759262084961\n",
      "\tNLL Test Inactive: 38.14918518066406\n",
      "\n",
      "Epoch 159\n"
     ]
    },
    {
     "data": {
      "application/vnd.jupyter.widget-view+json": {
       "model_id": "1b1082ceac334c0c965cc0d6860eb2eb",
       "version_major": 2,
       "version_minor": 0
      },
      "text/plain": [
       "HBox(children=(FloatProgress(value=0.0, max=32.0), HTML(value='')))"
      ]
     },
     "metadata": {},
     "output_type": "display_data"
    },
    {
     "name": "stdout",
     "output_type": "stream",
     "text": [
      "\n",
      "\tExample Sequences\n",
      "\t\t<start>AKKVFKRLEKLFSKI<end>\n",
      "\t\t<start>KARRLAKLAKKIA<end><pad><pad>\n",
      "\t\t<start>FKRLVFLSFFSSKPK<end>\n",
      "\t\t<start>RRWRPWRRPIRPPFY<end>\n",
      "\t\t<start>KWRRWWRpRWR<end><pad><pad><pad><pad>\n",
      "\tNLL Train Active: 11.907099723815918\n",
      "\tNLL Test Active: 24.071815490722656\n",
      "\tNLL Train Inactive: 35.06925582885742\n",
      "\tNLL Test Inactive: 38.14761734008789\n",
      "\n",
      "Epoch 160\n"
     ]
    },
    {
     "data": {
      "application/vnd.jupyter.widget-view+json": {
       "model_id": "d666e148993f4b6f9919d1fd50005a1f",
       "version_major": 2,
       "version_minor": 0
      },
      "text/plain": [
       "HBox(children=(FloatProgress(value=0.0, max=32.0), HTML(value='')))"
      ]
     },
     "metadata": {},
     "output_type": "display_data"
    },
    {
     "name": "stdout",
     "output_type": "stream",
     "text": [
      "\n",
      "\tExample Sequences\n",
      "\t\t<start>AKKVFKRLEKLFSKI<end><pad><pad><pad><pad><pad><pad><pad><pad><pad>\n",
      "\t\t<start>FLGALFKALSKLL<end><pad><pad><pad><pad><pad><pad><pad><pad><pad><pad><pad>\n",
      "\t\t<start>GRFKRFRKKFKKLFKKSVKDLF<end><pad><pad>\n",
      "\t\t<start>RWKIFKKIPHVAKKIYKGIYAVLK<end>\n",
      "\t\t<start>GLQKVIKVLLRLQL<end><pad><pad><pad><pad><pad><pad><pad><pad><pad><pad>\n",
      "\tNLL Train Active: 11.893083572387695\n",
      "\tNLL Test Active: 24.07447624206543\n",
      "\tNLL Train Inactive: 35.0725212097168\n",
      "\tNLL Test Inactive: 38.14811706542969\n",
      "\n",
      "Epoch 161\n"
     ]
    },
    {
     "data": {
      "application/vnd.jupyter.widget-view+json": {
       "model_id": "47ebf7d42ebb4d008d9b673a20e2c1c1",
       "version_major": 2,
       "version_minor": 0
      },
      "text/plain": [
       "HBox(children=(FloatProgress(value=0.0, max=32.0), HTML(value='')))"
      ]
     },
     "metadata": {},
     "output_type": "display_data"
    },
    {
     "name": "stdout",
     "output_type": "stream",
     "text": [
      "\n",
      "\tExample Sequences\n",
      "\t\t<start>KKRFKLKWLK<end><pad><pad><pad><pad><pad><pad><pad><pad>\n",
      "\t\t<start>LSFPTTKKTGKYGFKTFY<end>\n",
      "\t\t<start>KRLILLLRWKRK<end><pad><pad><pad><pad><pad><pad>\n",
      "\t\t<start>ALKKLMWKLLKK<end><pad><pad><pad><pad><pad><pad>\n",
      "\t\t<start>kwklalkkwpkwLkk<end><pad><pad><pad>\n",
      "\tNLL Train Active: 11.878617286682129\n",
      "\tNLL Test Active: 24.073518753051758\n",
      "\tNLL Train Inactive: 35.08171081542969\n",
      "\tNLL Test Inactive: 38.15416717529297\n",
      "\n",
      "Epoch 162\n"
     ]
    },
    {
     "data": {
      "application/vnd.jupyter.widget-view+json": {
       "model_id": "ce4a3ee7889b4f5496825dc8c1c89a68",
       "version_major": 2,
       "version_minor": 0
      },
      "text/plain": [
       "HBox(children=(FloatProgress(value=0.0, max=32.0), HTML(value='')))"
      ]
     },
     "metadata": {},
     "output_type": "display_data"
    },
    {
     "name": "stdout",
     "output_type": "stream",
     "text": [
      "\n",
      "\tExample Sequences\n",
      "\t\t<start>TKVKPQGPKAYKQRKD<end><pad><pad><pad><pad><pad><pad><pad><pad><pad><pad><pad><pad><pad><pad><pad><pad><pad>\n",
      "\t\t<start>KWKLFKKIPSFLHSAKKF<end><pad><pad><pad><pad><pad><pad><pad><pad><pad><pad><pad><pad><pad><pad><pad>\n",
      "\t\t<start>RIGRKIWHGIKKIWHS<end><pad><pad><pad><pad><pad><pad><pad><pad><pad><pad><pad><pad><pad><pad><pad><pad><pad>\n",
      "\t\t<start>FKRFGQWVKSARKATRKY<end><pad><pad><pad><pad><pad><pad><pad><pad><pad><pad><pad><pad><pad><pad><pad>\n",
      "\t\t<start>RFRRLRKWWRRKKRKRLKKLRRPVRRVVRRLGR<end>\n",
      "\tNLL Train Active: 11.864703178405762\n",
      "\tNLL Test Active: 24.07535171508789\n",
      "\tNLL Train Inactive: 35.0872802734375\n",
      "\tNLL Test Inactive: 38.1599006652832\n",
      "\n",
      "Epoch 163\n"
     ]
    },
    {
     "data": {
      "application/vnd.jupyter.widget-view+json": {
       "model_id": "caddfa1ab979442194eb25231b87326b",
       "version_major": 2,
       "version_minor": 0
      },
      "text/plain": [
       "HBox(children=(FloatProgress(value=0.0, max=32.0), HTML(value='')))"
      ]
     },
     "metadata": {},
     "output_type": "display_data"
    },
    {
     "name": "stdout",
     "output_type": "stream",
     "text": [
      "\n",
      "\tExample Sequences\n",
      "\t\t<start>RWKIFKKIPKFLH<end><pad><pad><pad><pad><pad><pad><pad><pad><pad><pad><pad><pad>\n",
      "\t\t<start>KILKRAEKKIRQGRPKVVDILRWLC<end>\n",
      "\t\t<start>LKLLKKLWK<end><pad><pad><pad><pad><pad><pad><pad><pad><pad><pad><pad><pad><pad><pad><pad><pad>\n",
      "\t\t<start>RPRWWWWWRR<end><pad><pad><pad><pad><pad><pad><pad><pad><pad><pad><pad><pad><pad><pad><pad>\n",
      "\t\t<start>GWGSFFKKAAHVGKAALGAAKAL<end><pad><pad>\n",
      "\tNLL Train Active: 11.850948333740234\n",
      "\tNLL Test Active: 24.07705307006836\n",
      "\tNLL Train Inactive: 35.09226989746094\n",
      "\tNLL Test Inactive: 38.16325759887695\n",
      "\n",
      "Epoch 164\n"
     ]
    },
    {
     "data": {
      "application/vnd.jupyter.widget-view+json": {
       "model_id": "5b75ba5be76a480092388cb040ed2512",
       "version_major": 2,
       "version_minor": 0
      },
      "text/plain": [
       "HBox(children=(FloatProgress(value=0.0, max=32.0), HTML(value='')))"
      ]
     },
     "metadata": {},
     "output_type": "display_data"
    },
    {
     "name": "stdout",
     "output_type": "stream",
     "text": [
      "\n",
      "\tExample Sequences\n",
      "\t\t<start>LKKLWKRIKKLLKKLKKLLKKL<end><pad><pad><pad><pad>\n",
      "\t\t<start>GRFKRFRKKFKKLFKKLSPVIPLLHL<end>\n",
      "\t\t<start>RLWLAIWRR<end><pad><pad><pad><pad><pad><pad><pad><pad><pad><pad><pad><pad><pad><pad><pad><pad><pad>\n",
      "\t\t<start>KRLIKWLLPKWKWLLK<end><pad><pad><pad><pad><pad><pad><pad><pad><pad><pad>\n",
      "\t\t<start>ILPWKWPKLPWRR<end><pad><pad><pad><pad><pad><pad><pad><pad><pad><pad><pad><pad><pad>\n",
      "\tNLL Train Active: 11.836970329284668\n",
      "\tNLL Test Active: 24.078580856323242\n",
      "\tNLL Train Inactive: 35.09421157836914\n",
      "\tNLL Test Inactive: 38.157196044921875\n",
      "\n",
      "Epoch 165\n"
     ]
    },
    {
     "data": {
      "application/vnd.jupyter.widget-view+json": {
       "model_id": "1aa4a14c8e6d41a590125a54ee172228",
       "version_major": 2,
       "version_minor": 0
      },
      "text/plain": [
       "HBox(children=(FloatProgress(value=0.0, max=32.0), HTML(value='')))"
      ]
     },
     "metadata": {},
     "output_type": "display_data"
    },
    {
     "name": "stdout",
     "output_type": "stream",
     "text": [
      "\n",
      "\tExample Sequences\n",
      "\t\t<start>AKYVFRKRLEKLPRLISW<end>\n",
      "\t\t<start>SWKRFIKHSSRLQSPAK<end><pad>\n",
      "\t\t<start>WGHKWMKKW<end><pad><pad><pad><pad><pad><pad><pad><pad><pad>\n",
      "\t\t<start>FFPIVGKLLKGLF<end><pad><pad><pad><pad><pad>\n",
      "\t\t<start>FLGALFKALSKLL<end><pad><pad><pad><pad><pad>\n",
      "\tNLL Train Active: 11.823352813720703\n",
      "\tNLL Test Active: 24.07651710510254\n",
      "\tNLL Train Inactive: 35.10032653808594\n",
      "\tNLL Test Inactive: 38.16520309448242\n",
      "\n",
      "Epoch 166\n"
     ]
    },
    {
     "data": {
      "application/vnd.jupyter.widget-view+json": {
       "model_id": "e184d7606bb24c9e86486f49fa395b4b",
       "version_major": 2,
       "version_minor": 0
      },
      "text/plain": [
       "HBox(children=(FloatProgress(value=0.0, max=32.0), HTML(value='')))"
      ]
     },
     "metadata": {},
     "output_type": "display_data"
    },
    {
     "name": "stdout",
     "output_type": "stream",
     "text": [
      "\n",
      "\tExample Sequences\n",
      "\t\t<start>ILPKKKLFLH<end><pad><pad><pad><pad><pad><pad><pad><pad><pad><pad>\n",
      "\t\t<start>RWKLFKKIPKFLHLAKKF<end><pad><pad>\n",
      "\t\t<start>FLKALVKLAAKL<end><pad><pad><pad><pad><pad><pad><pad><pad>\n",
      "\t\t<start>GFLNALKKVFNAKGKLELIQ<end>\n",
      "\t\t<start>ILPKIPSFFRKFFRK<end><pad><pad><pad><pad><pad>\n",
      "\tNLL Train Active: 11.809232711791992\n",
      "\tNLL Test Active: 24.073522567749023\n",
      "\tNLL Train Inactive: 35.10268783569336\n",
      "\tNLL Test Inactive: 38.17039108276367\n",
      "\n",
      "Epoch 167\n"
     ]
    },
    {
     "data": {
      "application/vnd.jupyter.widget-view+json": {
       "model_id": "ef749e5e48db45af86d96f4791a34995",
       "version_major": 2,
       "version_minor": 0
      },
      "text/plain": [
       "HBox(children=(FloatProgress(value=0.0, max=32.0), HTML(value='')))"
      ]
     },
     "metadata": {},
     "output_type": "display_data"
    },
    {
     "name": "stdout",
     "output_type": "stream",
     "text": [
      "\n",
      "\tExample Sequences\n",
      "\t\t<start>VRRLRWWWRRLLR<end><pad><pad><pad><pad><pad><pad><pad><pad><pad><pad><pad><pad><pad><pad><pad><pad><pad><pad><pad><pad><pad><pad><pad><pad><pad><pad><pad><pad><pad>\n",
      "\t\t<start>AKKVFKRLEKLFSKIWNWK<end><pad><pad><pad><pad><pad><pad><pad><pad><pad><pad><pad><pad><pad><pad><pad><pad><pad><pad><pad><pad><pad><pad><pad>\n",
      "\t\t<start>rkwwwrwkyrk<end><pad><pad><pad><pad><pad><pad><pad><pad><pad><pad><pad><pad><pad><pad><pad><pad><pad><pad><pad><pad><pad><pad><pad><pad><pad><pad><pad><pad><pad><pad><pad>\n",
      "\t\t<start>KLFKKILKYLKKLFKKILKYLKKLFKKILKYLKKMLREKRSI<end>\n",
      "\t\t<start>FLGALFKALSKLL<end><pad><pad><pad><pad><pad><pad><pad><pad><pad><pad><pad><pad><pad><pad><pad><pad><pad><pad><pad><pad><pad><pad><pad><pad><pad><pad><pad><pad><pad>\n",
      "\tNLL Train Active: 11.795723915100098\n",
      "\tNLL Test Active: 24.075437545776367\n",
      "\tNLL Train Inactive: 35.10492706298828\n",
      "\tNLL Test Inactive: 38.16796112060547\n",
      "\n",
      "Epoch 168\n"
     ]
    },
    {
     "data": {
      "application/vnd.jupyter.widget-view+json": {
       "model_id": "bc734d07729b42208f69d939334f5224",
       "version_major": 2,
       "version_minor": 0
      },
      "text/plain": [
       "HBox(children=(FloatProgress(value=0.0, max=32.0), HTML(value='')))"
      ]
     },
     "metadata": {},
     "output_type": "display_data"
    },
    {
     "name": "stdout",
     "output_type": "stream",
     "text": [
      "\n",
      "\tExample Sequences\n",
      "\t\t<start>KIAGKIAAIAGKIAKIAGKIA<end><pad><pad><pad><pad><pad>\n",
      "\t\t<start>GRFKRFRKKFKKLFKKLSPVIPLLHL<end>\n",
      "\t\t<start>ADLIWKIWKSLF<end><pad><pad><pad><pad><pad><pad><pad><pad><pad><pad><pad><pad><pad><pad>\n",
      "\t\t<start>APWWKKWWKWKG<end><pad><pad><pad><pad><pad><pad><pad><pad><pad><pad><pad><pad><pad><pad>\n",
      "\t\t<start>YRWKIFKKIRGAVKKGWKAVLKKV<end><pad><pad>\n",
      "\tNLL Train Active: 11.781840324401855\n",
      "\tNLL Test Active: 24.075069427490234\n",
      "\tNLL Train Inactive: 35.10853958129883\n",
      "\tNLL Test Inactive: 38.170162200927734\n",
      "\n",
      "Epoch 169\n"
     ]
    },
    {
     "data": {
      "application/vnd.jupyter.widget-view+json": {
       "model_id": "b82fc298a4544567a7817b33801d3c31",
       "version_major": 2,
       "version_minor": 0
      },
      "text/plain": [
       "HBox(children=(FloatProgress(value=0.0, max=32.0), HTML(value='')))"
      ]
     },
     "metadata": {},
     "output_type": "display_data"
    },
    {
     "name": "stdout",
     "output_type": "stream",
     "text": [
      "\n",
      "\tExample Sequences\n",
      "\t\t<start>KVVKRWGKKVAGWAKKGGKEGAKAFA<end>\n",
      "\t\t<start>KIAGKIAKIAGKIAKIAGKIA<end><pad><pad><pad><pad><pad>\n",
      "\t\t<start>FAKKFFKKAKKFKKAF<end><pad><pad><pad><pad><pad><pad><pad><pad><pad><pad>\n",
      "\t\t<start>FLPLLAGLLKNIV<end><pad><pad><pad><pad><pad><pad><pad><pad><pad><pad><pad><pad><pad>\n",
      "\t\t<start>GFWGNVANVLGGALTHlLC<end><pad><pad><pad><pad><pad><pad><pad>\n",
      "\tNLL Train Active: 11.768245697021484\n",
      "\tNLL Test Active: 24.07683563232422\n",
      "\tNLL Train Inactive: 35.113189697265625\n",
      "\tNLL Test Inactive: 38.1710319519043\n",
      "\n",
      "Epoch 170\n"
     ]
    },
    {
     "data": {
      "application/vnd.jupyter.widget-view+json": {
       "model_id": "f2d79cef06e9403c88a5efa6cac84f09",
       "version_major": 2,
       "version_minor": 0
      },
      "text/plain": [
       "HBox(children=(FloatProgress(value=0.0, max=32.0), HTML(value='')))"
      ]
     },
     "metadata": {},
     "output_type": "display_data"
    },
    {
     "name": "stdout",
     "output_type": "stream",
     "text": [
      "\n",
      "\tExample Sequences\n",
      "\t\t<start>QVQWIHIASVIGRR<end><pad><pad><pad><pad><pad><pad><pad><pad>\n",
      "\t\t<start>KWKKLLKKLLKLPKKLLKKLKK<end>\n",
      "\t\t<start>KWMKLLKKPLKKLFKK<end><pad><pad><pad><pad><pad><pad>\n",
      "\t\t<start>VAKAKKLAKLAKKLAKLAL<end><pad><pad><pad>\n",
      "\t\t<start>ILPWKWPWWPWRR<end><pad><pad><pad><pad><pad><pad><pad><pad><pad>\n",
      "\tNLL Train Active: 11.75505256652832\n",
      "\tNLL Test Active: 24.07947540283203\n",
      "\tNLL Train Inactive: 35.11671447753906\n",
      "\tNLL Test Inactive: 38.17101287841797\n",
      "\n",
      "Epoch 171\n"
     ]
    },
    {
     "data": {
      "application/vnd.jupyter.widget-view+json": {
       "model_id": "7c92499f878e459ca8524807a564adea",
       "version_major": 2,
       "version_minor": 0
      },
      "text/plain": [
       "HBox(children=(FloatProgress(value=0.0, max=32.0), HTML(value='')))"
      ]
     },
     "metadata": {},
     "output_type": "display_data"
    },
    {
     "name": "stdout",
     "output_type": "stream",
     "text": [
      "\n",
      "\tExample Sequences\n",
      "\t\t<start>ILGTILGLLKSL<end><pad><pad><pad><pad><pad><pad>\n",
      "\t\t<start>RWKIFKKIPKFLHLAKKF<end>\n",
      "\t\t<start>FLGALWKVASKLL<end><pad><pad><pad><pad><pad>\n",
      "\t\t<start>WGIHNAIKIIYNGWKFTR<end>\n",
      "\t\t<start>SKKLFKKILKKLPKLF<end><pad><pad>\n",
      "\tNLL Train Active: 11.741333961486816\n",
      "\tNLL Test Active: 24.07866859436035\n",
      "\tNLL Train Inactive: 35.12179183959961\n",
      "\tNLL Test Inactive: 38.17797088623047\n",
      "\n",
      "Epoch 172\n"
     ]
    },
    {
     "data": {
      "application/vnd.jupyter.widget-view+json": {
       "model_id": "a30ce9c15c6c470aa79b510639d55554",
       "version_major": 2,
       "version_minor": 0
      },
      "text/plain": [
       "HBox(children=(FloatProgress(value=0.0, max=32.0), HTML(value='')))"
      ]
     },
     "metadata": {},
     "output_type": "display_data"
    },
    {
     "name": "stdout",
     "output_type": "stream",
     "text": [
      "\n",
      "\tExample Sequences\n",
      "\t\t<start>INLKKLAKQIIKRINNFFQLL<end><pad><pad>\n",
      "\t\t<start>KWKVFKKIEKMGRNIRDIFIKGP<end>\n",
      "\t\t<start>KIAGKIASIAGKIAKIAGKIAK<end><pad>\n",
      "\t\t<start>KRRLALAKFLAK<end><pad><pad><pad><pad><pad><pad><pad><pad><pad><pad><pad>\n",
      "\t\t<start>KWKLFKKIPWGLFK<end><pad><pad><pad><pad><pad><pad><pad><pad><pad>\n",
      "\tNLL Train Active: 11.728309631347656\n",
      "\tNLL Test Active: 24.07724952697754\n",
      "\tNLL Train Inactive: 35.127628326416016\n",
      "\tNLL Test Inactive: 38.1815185546875\n",
      "\n",
      "Epoch 173\n"
     ]
    },
    {
     "data": {
      "application/vnd.jupyter.widget-view+json": {
       "model_id": "2983ce914195439cbfe3bf6b05609a4a",
       "version_major": 2,
       "version_minor": 0
      },
      "text/plain": [
       "HBox(children=(FloatProgress(value=0.0, max=32.0), HTML(value='')))"
      ]
     },
     "metadata": {},
     "output_type": "display_data"
    },
    {
     "name": "stdout",
     "output_type": "stream",
     "text": [
      "\n",
      "\tExample Sequences\n",
      "\t\t<start>MGKKLFKIIKKLL<end><pad>\n",
      "\t\t<start>MAHFRARIKVALRA<end>\n",
      "\t\t<start>RRWWCI<end><pad><pad><pad><pad><pad><pad><pad><pad>\n",
      "\t\t<start>KILKTIKSIFKKy<end><pad>\n",
      "\t\t<start>AARIILRWFWHR<end><pad><pad>\n",
      "\tNLL Train Active: 11.715296745300293\n",
      "\tNLL Test Active: 24.0791072845459\n",
      "\tNLL Train Inactive: 35.12777328491211\n",
      "\tNLL Test Inactive: 38.183509826660156\n",
      "\n",
      "Epoch 174\n"
     ]
    },
    {
     "data": {
      "application/vnd.jupyter.widget-view+json": {
       "model_id": "27293e291ed7477e843781227fe9c660",
       "version_major": 2,
       "version_minor": 0
      },
      "text/plain": [
       "HBox(children=(FloatProgress(value=0.0, max=32.0), HTML(value='')))"
      ]
     },
     "metadata": {},
     "output_type": "display_data"
    },
    {
     "name": "stdout",
     "output_type": "stream",
     "text": [
      "\n",
      "\tExample Sequences\n",
      "\t\t<start>KWMrLLKHWLHKL<end><pad><pad><pad><pad><pad><pad><pad><pad><pad><pad><pad><pad><pad><pad><pad><pad>\n",
      "\t\t<start>RLRRIVVIRVWR<end><pad><pad><pad><pad><pad><pad><pad><pad><pad><pad><pad><pad><pad><pad><pad><pad><pad>\n",
      "\t\t<start>FVKKFWGGVKAIFSAGKAIPNHVSGSRSC<end>\n",
      "\t\t<start>GKARQWQWIKVRLLL<end><pad><pad><pad><pad><pad><pad><pad><pad><pad><pad><pad><pad><pad><pad>\n",
      "\t\t<start>WRWCGRWWRWR<end><pad><pad><pad><pad><pad><pad><pad><pad><pad><pad><pad><pad><pad><pad><pad><pad><pad><pad>\n",
      "\tNLL Train Active: 11.701688766479492\n",
      "\tNLL Test Active: 24.08064842224121\n",
      "\tNLL Train Inactive: 35.13325119018555\n",
      "\tNLL Test Inactive: 38.18399429321289\n",
      "\n",
      "Epoch 175\n"
     ]
    },
    {
     "data": {
      "application/vnd.jupyter.widget-view+json": {
       "model_id": "dc71568d7e81428cb65e4bc009814643",
       "version_major": 2,
       "version_minor": 0
      },
      "text/plain": [
       "HBox(children=(FloatProgress(value=0.0, max=32.0), HTML(value='')))"
      ]
     },
     "metadata": {},
     "output_type": "display_data"
    },
    {
     "name": "stdout",
     "output_type": "stream",
     "text": [
      "\n",
      "\tExample Sequences\n",
      "\t\t<start>GVIKVLKKPLSAAKKF<end><pad><pad><pad><pad><pad><pad><pad><pad><pad><pad><pad><pad><pad><pad><pad><pad><pad>\n",
      "\t\t<start>WRLRPRWRPRLPRPRPR<end><pad><pad><pad><pad><pad><pad><pad><pad><pad><pad><pad><pad><pad><pad><pad><pad>\n",
      "\t\t<start>KKKKKKKKKKKKKGIGKLVKAVFKKVKGAIFKK<end>\n",
      "\t\t<start>AKRRAKKFAKKFKKFF<end><pad><pad><pad><pad><pad><pad><pad><pad><pad><pad><pad><pad><pad><pad><pad><pad><pad>\n",
      "\t\t<start>LLSWFSKFGKNAAKGIMHSAIHAIKNY<end><pad><pad><pad><pad><pad><pad>\n",
      "\tNLL Train Active: 11.688596725463867\n",
      "\tNLL Test Active: 24.078981399536133\n",
      "\tNLL Train Inactive: 35.13703918457031\n",
      "\tNLL Test Inactive: 38.185420989990234\n",
      "\n",
      "Epoch 176\n"
     ]
    },
    {
     "data": {
      "application/vnd.jupyter.widget-view+json": {
       "model_id": "47401c41c1dd4349ac1ced343d580668",
       "version_major": 2,
       "version_minor": 0
      },
      "text/plain": [
       "HBox(children=(FloatProgress(value=0.0, max=32.0), HTML(value='')))"
      ]
     },
     "metadata": {},
     "output_type": "display_data"
    },
    {
     "name": "stdout",
     "output_type": "stream",
     "text": [
      "\n",
      "\tExample Sequences\n",
      "\t\t<start>GIGGALLSAGLKALKNLLKELF<end>\n",
      "\t\t<start>LRRLLRRLRRFR<end><pad><pad><pad><pad><pad><pad><pad><pad><pad><pad>\n",
      "\t\t<start>GVVDKLKGMLLGVGSDF<end><pad><pad><pad><pad><pad>\n",
      "\t\t<start>FKRFKKWYRAVIGAL<end><pad><pad><pad><pad><pad><pad><pad>\n",
      "\t\t<start>LLKWLLKKLLK<end><pad><pad><pad><pad><pad><pad><pad><pad><pad><pad><pad>\n",
      "\tNLL Train Active: 11.675496101379395\n",
      "\tNLL Test Active: 24.078899383544922\n",
      "\tNLL Train Inactive: 35.144187927246094\n",
      "\tNLL Test Inactive: 38.18993377685547\n",
      "\n",
      "Epoch 177\n"
     ]
    },
    {
     "data": {
      "application/vnd.jupyter.widget-view+json": {
       "model_id": "efc7002a5bf64ca5b76361c8e836b13a",
       "version_major": 2,
       "version_minor": 0
      },
      "text/plain": [
       "HBox(children=(FloatProgress(value=0.0, max=32.0), HTML(value='')))"
      ]
     },
     "metadata": {},
     "output_type": "display_data"
    },
    {
     "name": "stdout",
     "output_type": "stream",
     "text": [
      "\n",
      "\tExample Sequences\n",
      "\t\t<start>LKLWKKLLKWLK<end><pad><pad><pad><pad><pad><pad><pad><pad><pad><pad><pad><pad><pad><pad><pad><pad><pad><pad><pad><pad><pad><pad><pad><pad><pad><pad><pad><pad><pad><pad><pad><pad><pad><pad><pad><pad><pad><pad><pad><pad><pad><pad><pad><pad><pad><pad>\n",
      "\t\t<start>LLKRIVKRLQKIPRKFLR<end><pad><pad><pad><pad><pad><pad><pad><pad><pad><pad><pad><pad><pad><pad><pad><pad><pad><pad><pad><pad><pad><pad><pad><pad><pad><pad><pad><pad><pad><pad><pad><pad><pad><pad><pad><pad><pad><pad><pad><pad>\n",
      "\t\t<start>GVVVVLGKVLKGLLKGIGGGL<end><pad><pad><pad><pad><pad><pad><pad><pad><pad><pad><pad><pad><pad><pad><pad><pad><pad><pad><pad><pad><pad><pad><pad><pad><pad><pad><pad><pad><pad><pad><pad><pad><pad><pad><pad><pad><pad>\n",
      "\t\t<start>TTAWQEIWNCKSMANSVKHFQRNQPQQYRAEVQWFAIEHISAAMAPPEYEIAKIKKGG<end>\n",
      "\t\t<start>RRWWCH<end><pad><pad><pad><pad><pad><pad><pad><pad><pad><pad><pad><pad><pad><pad><pad><pad><pad><pad><pad><pad><pad><pad><pad><pad><pad><pad><pad><pad><pad><pad><pad><pad><pad><pad><pad><pad><pad><pad><pad><pad><pad><pad><pad><pad><pad><pad><pad><pad><pad><pad><pad><pad>\n",
      "\tNLL Train Active: 11.662237167358398\n",
      "\tNLL Test Active: 24.08171272277832\n",
      "\tNLL Train Inactive: 35.15199279785156\n",
      "\tNLL Test Inactive: 38.1943244934082\n",
      "\n",
      "Epoch 178\n"
     ]
    },
    {
     "data": {
      "application/vnd.jupyter.widget-view+json": {
       "model_id": "b1927ff024454f3782245a0f352c9d13",
       "version_major": 2,
       "version_minor": 0
      },
      "text/plain": [
       "HBox(children=(FloatProgress(value=0.0, max=32.0), HTML(value='')))"
      ]
     },
     "metadata": {},
     "output_type": "display_data"
    },
    {
     "name": "stdout",
     "output_type": "stream",
     "text": [
      "\n",
      "\tExample Sequences\n",
      "\t\t<start>FLGALFKALSKLL<end><pad><pad><pad><pad>\n",
      "\t\t<start>RFRRLRWKTRWRLKKI<end><pad>\n",
      "\t\t<start>ILPWKWKPWWKKWWKK<end><pad>\n",
      "\t\t<start>GVIDAAKKVVGNIKKLF<end>\n",
      "\t\t<start>PKKPRPWWPWWPK<end><pad><pad><pad><pad>\n",
      "\tNLL Train Active: 11.649190902709961\n",
      "\tNLL Test Active: 24.08332633972168\n",
      "\tNLL Train Inactive: 35.15092468261719\n",
      "\tNLL Test Inactive: 38.194313049316406\n",
      "\n",
      "Epoch 179\n"
     ]
    },
    {
     "data": {
      "application/vnd.jupyter.widget-view+json": {
       "model_id": "96e05141a1c9426b9cc6bc496a1e581a",
       "version_major": 2,
       "version_minor": 0
      },
      "text/plain": [
       "HBox(children=(FloatProgress(value=0.0, max=32.0), HTML(value='')))"
      ]
     },
     "metadata": {},
     "output_type": "display_data"
    },
    {
     "name": "stdout",
     "output_type": "stream",
     "text": [
      "\n",
      "\tExample Sequences\n",
      "\t\t<start>WLKAAAKAAAKLW<end><pad><pad><pad><pad><pad><pad><pad><pad><pad><pad><pad><pad><pad><pad><pad><pad><pad><pad><pad><pad><pad>\n",
      "\t\t<start>RLWLAIWRR<end><pad><pad><pad><pad><pad><pad><pad><pad><pad><pad><pad><pad><pad><pad><pad><pad><pad><pad><pad><pad><pad><pad><pad><pad><pad>\n",
      "\t\t<start>RFRRLRWKTWRKLKKWL<end><pad><pad><pad><pad><pad><pad><pad><pad><pad><pad><pad><pad><pad><pad><pad><pad><pad>\n",
      "\t\t<start>GRRPRPRPRPFSKPFNRPGRIPVRPKPFSRPGGK<end>\n",
      "\t\t<start>RWRPGRIRPPIRPPWYP<end><pad><pad><pad><pad><pad><pad><pad><pad><pad><pad><pad><pad><pad><pad><pad><pad><pad>\n",
      "\tNLL Train Active: 11.636411666870117\n",
      "\tNLL Test Active: 24.07886505126953\n",
      "\tNLL Train Inactive: 35.15324401855469\n",
      "\tNLL Test Inactive: 38.19395065307617\n",
      "\n",
      "Epoch 180\n"
     ]
    },
    {
     "data": {
      "application/vnd.jupyter.widget-view+json": {
       "model_id": "c88c98469ca14cd19722f4e30ef38860",
       "version_major": 2,
       "version_minor": 0
      },
      "text/plain": [
       "HBox(children=(FloatProgress(value=0.0, max=32.0), HTML(value='')))"
      ]
     },
     "metadata": {},
     "output_type": "display_data"
    },
    {
     "name": "stdout",
     "output_type": "stream",
     "text": [
      "\n",
      "\tExample Sequences\n",
      "\t\t<start>VVKKPKKPLIPFRR<end><pad><pad><pad><pad><pad><pad><pad>\n",
      "\t\t<start>KWKLFKKIEKMMRSKGIV<end><pad><pad><pad>\n",
      "\t\t<start>KWRLLWKRQRRW<end><pad><pad><pad><pad><pad><pad><pad><pad><pad>\n",
      "\t\t<start>FLGAVAKALAKLL<end><pad><pad><pad><pad><pad><pad><pad><pad>\n",
      "\t\t<start>AVPRGRSSPRRRSSPRRRSQS<end>\n",
      "\tNLL Train Active: 11.623592376708984\n",
      "\tNLL Test Active: 24.081863403320312\n",
      "\tNLL Train Inactive: 35.161495208740234\n",
      "\tNLL Test Inactive: 38.20254898071289\n",
      "\n",
      "Epoch 181\n"
     ]
    },
    {
     "data": {
      "application/vnd.jupyter.widget-view+json": {
       "model_id": "a47102acad3b4e489a125b35fb8f890b",
       "version_major": 2,
       "version_minor": 0
      },
      "text/plain": [
       "HBox(children=(FloatProgress(value=0.0, max=32.0), HTML(value='')))"
      ]
     },
     "metadata": {},
     "output_type": "display_data"
    },
    {
     "name": "stdout",
     "output_type": "stream",
     "text": [
      "\n",
      "\tExample Sequences\n",
      "\t\t<start>FLKALFKWAKKF<end><pad><pad><pad><pad><pad><pad><pad><pad><pad><pad><pad><pad><pad><pad><pad><pad>\n",
      "\t\t<start>FLGVVFKLASKVFGGLK<end><pad><pad><pad><pad><pad><pad><pad><pad><pad><pad><pad>\n",
      "\t\t<start>WRAFLKKIRGRG<end><pad><pad><pad><pad><pad><pad><pad><pad><pad><pad><pad><pad><pad><pad><pad><pad>\n",
      "\t\t<start>WIHGIVHGIKQALRHIGQNVKHILTRNR<end>\n",
      "\t\t<start>KAWKKPLLKWKLPKLK<end><pad><pad><pad><pad><pad><pad><pad><pad><pad><pad><pad><pad>\n",
      "\tNLL Train Active: 11.610791206359863\n",
      "\tNLL Test Active: 24.082595825195312\n",
      "\tNLL Train Inactive: 35.16521072387695\n",
      "\tNLL Test Inactive: 38.20661544799805\n",
      "\n",
      "Epoch 182\n"
     ]
    },
    {
     "data": {
      "application/vnd.jupyter.widget-view+json": {
       "model_id": "1f40ec3c2e4c47418d7db7bcebfc337e",
       "version_major": 2,
       "version_minor": 0
      },
      "text/plain": [
       "HBox(children=(FloatProgress(value=0.0, max=32.0), HTML(value='')))"
      ]
     },
     "metadata": {},
     "output_type": "display_data"
    },
    {
     "name": "stdout",
     "output_type": "stream",
     "text": [
      "\n",
      "\tExample Sequences\n",
      "\t\t<start>SKRWRWWMSWLR<end><pad><pad><pad><pad><pad><pad><pad><pad>\n",
      "\t\t<start>KVRKPPYLPRPRPPRRIYK<end><pad>\n",
      "\t\t<start>AKKVERLSSRAGRFSLSVLS<end>\n",
      "\t\t<start>KKKFVKRFKKFFKKLK<end><pad><pad><pad><pad>\n",
      "\t\t<start>INWLLMAKKFTHL<end><pad><pad><pad><pad><pad><pad><pad>\n",
      "\tNLL Train Active: 11.598063468933105\n",
      "\tNLL Test Active: 24.082443237304688\n",
      "\tNLL Train Inactive: 35.163814544677734\n",
      "\tNLL Test Inactive: 38.199623107910156\n",
      "\n",
      "Epoch 183\n"
     ]
    },
    {
     "data": {
      "application/vnd.jupyter.widget-view+json": {
       "model_id": "baffe9f972d84ab3bff546e75d419e93",
       "version_major": 2,
       "version_minor": 0
      },
      "text/plain": [
       "HBox(children=(FloatProgress(value=0.0, max=32.0), HTML(value='')))"
      ]
     },
     "metadata": {},
     "output_type": "display_data"
    },
    {
     "name": "stdout",
     "output_type": "stream",
     "text": [
      "\n",
      "\tExample Sequences\n",
      "\t\t<start>GRFKRFWPRVGRFLGSVIGAAPTIHGLVSGCY<end>\n",
      "\t\t<start>KWKSFLKTFKSASKSLLKTMANSA<end><pad><pad><pad><pad><pad><pad><pad><pad>\n",
      "\t\t<start>RRWKIFKKVVKKGGHVGHVIGAIGQAS<end><pad><pad><pad><pad><pad>\n",
      "\t\t<start>FKRLKKLFSKIWNWK<end><pad><pad><pad><pad><pad><pad><pad><pad><pad><pad><pad><pad><pad><pad><pad><pad><pad>\n",
      "\t\t<start>RRLRPRLKWIRQG<end><pad><pad><pad><pad><pad><pad><pad><pad><pad><pad><pad><pad><pad><pad><pad><pad><pad><pad><pad>\n",
      "\tNLL Train Active: 11.585482597351074\n",
      "\tNLL Test Active: 24.086498260498047\n",
      "\tNLL Train Inactive: 35.16954040527344\n",
      "\tNLL Test Inactive: 38.20552062988281\n",
      "\n",
      "Epoch 184\n"
     ]
    },
    {
     "data": {
      "application/vnd.jupyter.widget-view+json": {
       "model_id": "2a144106208649c2b50e02769cbdd3d0",
       "version_major": 2,
       "version_minor": 0
      },
      "text/plain": [
       "HBox(children=(FloatProgress(value=0.0, max=32.0), HTML(value='')))"
      ]
     },
     "metadata": {},
     "output_type": "display_data"
    },
    {
     "name": "stdout",
     "output_type": "stream",
     "text": [
      "\n",
      "\tExample Sequences\n",
      "\t\t<start>LLKALAKALKKLL<end><pad><pad><pad><pad><pad><pad><pad><pad><pad><pad><pad><pad><pad><pad><pad><pad><pad><pad><pad><pad><pad><pad><pad><pad><pad>\n",
      "\t\t<start>GRIKRFRKKFKKLKKSVKKRLKKLF<end><pad><pad><pad><pad><pad><pad><pad><pad><pad><pad><pad><pad><pad>\n",
      "\t\t<start>WFRRRRRRIRRRRRRRRRRRRRRRRRRRRRRRRRRRRR<end>\n",
      "\t\t<start>IKLSAKKFFKAW<end><pad><pad><pad><pad><pad><pad><pad><pad><pad><pad><pad><pad><pad><pad><pad><pad><pad><pad><pad><pad><pad><pad><pad><pad><pad><pad>\n",
      "\t\t<start>GRRPRPRPRPWWWWF<end><pad><pad><pad><pad><pad><pad><pad><pad><pad><pad><pad><pad><pad><pad><pad><pad><pad><pad><pad><pad><pad><pad><pad>\n",
      "\tNLL Train Active: 11.572561264038086\n",
      "\tNLL Test Active: 24.086618423461914\n",
      "\tNLL Train Inactive: 35.17612838745117\n",
      "\tNLL Test Inactive: 38.20412826538086\n",
      "\n",
      "Epoch 185\n"
     ]
    },
    {
     "data": {
      "application/vnd.jupyter.widget-view+json": {
       "model_id": "0a1aa2fb6b2b403595b6343fb2d9bef5",
       "version_major": 2,
       "version_minor": 0
      },
      "text/plain": [
       "HBox(children=(FloatProgress(value=0.0, max=32.0), HTML(value='')))"
      ]
     },
     "metadata": {},
     "output_type": "display_data"
    },
    {
     "name": "stdout",
     "output_type": "stream",
     "text": [
      "\n",
      "\tExample Sequences\n",
      "\t\t<start>LNWKALLKHAWGHLH<end><pad><pad><pad><pad>\n",
      "\t\t<start>GVVFGLIGGVAVHIGHALG<end>\n",
      "\t\t<start>RLLRKWLRLVKK<end><pad><pad><pad><pad><pad><pad><pad>\n",
      "\t\t<start>LLKWKWKWLK<end><pad><pad><pad><pad><pad><pad><pad><pad><pad>\n",
      "\t\t<start>RFRRLRWKTKWLKKI<end><pad><pad><pad><pad>\n",
      "\tNLL Train Active: 11.559926986694336\n",
      "\tNLL Test Active: 24.086069107055664\n",
      "\tNLL Train Inactive: 35.1801643371582\n",
      "\tNLL Test Inactive: 38.209659576416016\n",
      "\n",
      "Epoch 186\n"
     ]
    },
    {
     "data": {
      "application/vnd.jupyter.widget-view+json": {
       "model_id": "eb55a74973e24f25ae3c5e05ddac3eec",
       "version_major": 2,
       "version_minor": 0
      },
      "text/plain": [
       "HBox(children=(FloatProgress(value=0.0, max=32.0), HTML(value='')))"
      ]
     },
     "metadata": {},
     "output_type": "display_data"
    },
    {
     "name": "stdout",
     "output_type": "stream",
     "text": [
      "\n",
      "\tExample Sequences\n",
      "\t\t<start>KIAGKIAKIAGKIAKIAGKIA<end><pad><pad><pad><pad><pad><pad><pad><pad><pad><pad><pad><pad><pad><pad><pad><pad>\n",
      "\t\t<start>KIKIPAFKKAMKLL<end><pad><pad><pad><pad><pad><pad><pad><pad><pad><pad><pad><pad><pad><pad><pad><pad><pad><pad><pad><pad><pad><pad><pad>\n",
      "\t\t<start>LNAFLHAGKTARHDLIISHSPSPTNSYAMVNFKRKQQ<end>\n",
      "\t\t<start>RWRWWWWRRWR<end><pad><pad><pad><pad><pad><pad><pad><pad><pad><pad><pad><pad><pad><pad><pad><pad><pad><pad><pad><pad><pad><pad><pad><pad><pad><pad>\n",
      "\t\t<start>LTVVFRAGRCLRK<end><pad><pad><pad><pad><pad><pad><pad><pad><pad><pad><pad><pad><pad><pad><pad><pad><pad><pad><pad><pad><pad><pad><pad><pad>\n",
      "\tNLL Train Active: 11.547704696655273\n",
      "\tNLL Test Active: 24.085418701171875\n",
      "\tNLL Train Inactive: 35.17591094970703\n",
      "\tNLL Test Inactive: 38.20173645019531\n",
      "\n",
      "Epoch 187\n"
     ]
    },
    {
     "data": {
      "application/vnd.jupyter.widget-view+json": {
       "model_id": "6ca0cde211b041a39a0a142eb4bb0f23",
       "version_major": 2,
       "version_minor": 0
      },
      "text/plain": [
       "HBox(children=(FloatProgress(value=0.0, max=32.0), HTML(value='')))"
      ]
     },
     "metadata": {},
     "output_type": "display_data"
    },
    {
     "name": "stdout",
     "output_type": "stream",
     "text": [
      "\n",
      "\tExample Sequences\n",
      "\t\t<start>KEFSKVWNSMRSAVRHWHRKVYPDADVNKYALKKSVKKA<end>\n",
      "\t\t<start>IMLTAWKPLFKTLK<end><pad><pad><pad><pad><pad><pad><pad><pad><pad><pad><pad><pad><pad><pad><pad><pad><pad><pad><pad><pad><pad><pad><pad><pad><pad>\n",
      "\t\t<start>KKFGKAFVGKIKFKLKKG<end><pad><pad><pad><pad><pad><pad><pad><pad><pad><pad><pad><pad><pad><pad><pad><pad><pad><pad><pad><pad><pad>\n",
      "\t\t<start>ILKKWIPKLKFK<end><pad><pad><pad><pad><pad><pad><pad><pad><pad><pad><pad><pad><pad><pad><pad><pad><pad><pad><pad><pad><pad><pad><pad><pad><pad><pad><pad>\n",
      "\t\t<start>RFRRLRWTRRLRRRL<end><pad><pad><pad><pad><pad><pad><pad><pad><pad><pad><pad><pad><pad><pad><pad><pad><pad><pad><pad><pad><pad><pad><pad><pad>\n",
      "\tNLL Train Active: 11.534875869750977\n",
      "\tNLL Test Active: 24.086881637573242\n",
      "\tNLL Train Inactive: 35.18299102783203\n",
      "\tNLL Test Inactive: 38.20921325683594\n",
      "\n",
      "Epoch 188\n"
     ]
    },
    {
     "data": {
      "application/vnd.jupyter.widget-view+json": {
       "model_id": "49fac6b373574aa1a207b81f1c4fd08d",
       "version_major": 2,
       "version_minor": 0
      },
      "text/plain": [
       "HBox(children=(FloatProgress(value=0.0, max=32.0), HTML(value='')))"
      ]
     },
     "metadata": {},
     "output_type": "display_data"
    },
    {
     "name": "stdout",
     "output_type": "stream",
     "text": [
      "\n",
      "\tExample Sequences\n",
      "\t\t<start>FFHHLFKGIKHVGKHIYG<end><pad><pad><pad><pad><pad><pad><pad><pad><pad><pad>\n",
      "\t\t<start>FRRFRWPRRIRFRPPIRIPRPRPPFRPP<end>\n",
      "\t\t<start>ILPWKWPKLPWRR<end><pad><pad><pad><pad><pad><pad><pad><pad><pad><pad><pad><pad><pad><pad><pad>\n",
      "\t\t<start>LLKLLLKLLKKLLKA<end><pad><pad><pad><pad><pad><pad><pad><pad><pad><pad><pad><pad><pad>\n",
      "\t\t<start>AKKVFKRLEKLFSKI<end><pad><pad><pad><pad><pad><pad><pad><pad><pad><pad><pad><pad><pad>\n",
      "\tNLL Train Active: 11.522491455078125\n",
      "\tNLL Test Active: 24.086963653564453\n",
      "\tNLL Train Inactive: 35.19019317626953\n",
      "\tNLL Test Inactive: 38.21715545654297\n",
      "\n",
      "Epoch 189\n"
     ]
    },
    {
     "data": {
      "application/vnd.jupyter.widget-view+json": {
       "model_id": "4cd18888f2aa42a2aa944b819b23e59d",
       "version_major": 2,
       "version_minor": 0
      },
      "text/plain": [
       "HBox(children=(FloatProgress(value=0.0, max=32.0), HTML(value='')))"
      ]
     },
     "metadata": {},
     "output_type": "display_data"
    },
    {
     "name": "stdout",
     "output_type": "stream",
     "text": [
      "\n",
      "\tExample Sequences\n",
      "\t\t<start>RWKIFKKIRKFFRKPGKVIDILDPEE<end>\n",
      "\t\t<start>ILPWKWPWLPRR<end><pad><pad><pad><pad><pad><pad><pad><pad><pad><pad><pad><pad><pad><pad>\n",
      "\t\t<start>ILPWKWPKLPWRR<end><pad><pad><pad><pad><pad><pad><pad><pad><pad><pad><pad><pad><pad>\n",
      "\t\t<start>klkkLlKKLl<end><pad><pad><pad><pad><pad><pad><pad><pad><pad><pad><pad><pad><pad><pad><pad><pad>\n",
      "\t\t<start>KWRRWLRRG<end><pad><pad><pad><pad><pad><pad><pad><pad><pad><pad><pad><pad><pad><pad><pad><pad><pad>\n",
      "\tNLL Train Active: 11.510326385498047\n",
      "\tNLL Test Active: 24.08738136291504\n",
      "\tNLL Train Inactive: 35.19621658325195\n",
      "\tNLL Test Inactive: 38.2222785949707\n",
      "\n",
      "Epoch 190\n"
     ]
    },
    {
     "data": {
      "application/vnd.jupyter.widget-view+json": {
       "model_id": "2744b556e9b94ee38fe569aa6bc550c0",
       "version_major": 2,
       "version_minor": 0
      },
      "text/plain": [
       "HBox(children=(FloatProgress(value=0.0, max=32.0), HTML(value='')))"
      ]
     },
     "metadata": {},
     "output_type": "display_data"
    },
    {
     "name": "stdout",
     "output_type": "stream",
     "text": [
      "\n",
      "\tExample Sequences\n",
      "\t\t<start>WSRMRSFLGRIARLGSAVTRGRSRAKH<end><pad><pad><pad>\n",
      "\t\t<start>LKKLWKRVARLWKRI<end><pad><pad><pad><pad><pad><pad><pad><pad><pad><pad><pad><pad><pad><pad><pad>\n",
      "\t\t<start>RWKIFKKIEKVGRRVVRAGSRVGRAVARLV<end>\n",
      "\t\t<start>GRFRRPTRRWWWRVR<end><pad><pad><pad><pad><pad><pad><pad><pad><pad><pad><pad><pad><pad><pad><pad>\n",
      "\t\t<start>RRWWCV<end><pad><pad><pad><pad><pad><pad><pad><pad><pad><pad><pad><pad><pad><pad><pad><pad><pad><pad><pad><pad><pad><pad><pad><pad>\n",
      "\tNLL Train Active: 11.498141288757324\n",
      "\tNLL Test Active: 24.088058471679688\n",
      "\tNLL Train Inactive: 35.196502685546875\n",
      "\tNLL Test Inactive: 38.21919631958008\n",
      "\n",
      "Epoch 191\n"
     ]
    },
    {
     "data": {
      "application/vnd.jupyter.widget-view+json": {
       "model_id": "ad478ed74bb84adb92e9b58f2e878bd2",
       "version_major": 2,
       "version_minor": 0
      },
      "text/plain": [
       "HBox(children=(FloatProgress(value=0.0, max=32.0), HTML(value='')))"
      ]
     },
     "metadata": {},
     "output_type": "display_data"
    },
    {
     "name": "stdout",
     "output_type": "stream",
     "text": [
      "\n",
      "\tExample Sequences\n",
      "\t\t<start>WPRRTRSFYRRF<end>\n",
      "\t\t<start>kFwKWLKKLG<end><pad><pad>\n",
      "\t\t<start>rlwwwimrr<end><pad><pad><pad>\n",
      "\t\t<start>KLLKWLKK<end><pad><pad><pad><pad>\n",
      "\t\t<start>KWKKLLKKLL<end><pad><pad>\n",
      "\tNLL Train Active: 11.485482215881348\n",
      "\tNLL Test Active: 24.088993072509766\n",
      "\tNLL Train Inactive: 35.200111389160156\n",
      "\tNLL Test Inactive: 38.22425842285156\n",
      "\n",
      "Epoch 192\n"
     ]
    },
    {
     "data": {
      "application/vnd.jupyter.widget-view+json": {
       "model_id": "23ddb5d820f1428f82e4c782687c05e8",
       "version_major": 2,
       "version_minor": 0
      },
      "text/plain": [
       "HBox(children=(FloatProgress(value=0.0, max=32.0), HTML(value='')))"
      ]
     },
     "metadata": {},
     "output_type": "display_data"
    },
    {
     "name": "stdout",
     "output_type": "stream",
     "text": [
      "\n",
      "\tExample Sequences\n",
      "\t\t<start>ILPWKWPWLPLRR<end><pad><pad><pad><pad><pad>\n",
      "\t\t<start>INLKALAALAKKIL<end><pad><pad><pad><pad>\n",
      "\t\t<start>KIKIPKFLHLAKKF<end><pad><pad><pad><pad>\n",
      "\t\t<start>KWKLFKKIPKFLHLAKKF<end>\n",
      "\t\t<start>FLGVVFKLWLKAVKK<end><pad><pad><pad>\n",
      "\tNLL Train Active: 11.473690032958984\n",
      "\tNLL Test Active: 24.09041976928711\n",
      "\tNLL Train Inactive: 35.207820892333984\n",
      "\tNLL Test Inactive: 38.22658157348633\n",
      "\n",
      "Epoch 193\n"
     ]
    },
    {
     "data": {
      "application/vnd.jupyter.widget-view+json": {
       "model_id": "e64545c44a304baebc221d57fc8696ab",
       "version_major": 2,
       "version_minor": 0
      },
      "text/plain": [
       "HBox(children=(FloatProgress(value=0.0, max=32.0), HTML(value='')))"
      ]
     },
     "metadata": {},
     "output_type": "display_data"
    },
    {
     "name": "stdout",
     "output_type": "stream",
     "text": [
      "\n",
      "\tExample Sequences\n",
      "\t\t<start>FLKALVKALIKK<end><pad><pad><pad><pad><pad><pad><pad><pad><pad><pad>\n",
      "\t\t<start>ILPWKWPKLPWRR<end><pad><pad><pad><pad><pad><pad><pad><pad><pad>\n",
      "\t\t<start>INLKKIWNWKKEFGRKAV<end><pad><pad><pad><pad>\n",
      "\t\t<start>FLGALFKALSKVL<end><pad><pad><pad><pad><pad><pad><pad><pad><pad>\n",
      "\t\t<start>KWLNAAKKVFQHIHGAIQHLIH<end>\n",
      "\tNLL Train Active: 11.46129035949707\n",
      "\tNLL Test Active: 24.091045379638672\n",
      "\tNLL Train Inactive: 35.20789337158203\n",
      "\tNLL Test Inactive: 38.22804260253906\n",
      "\n",
      "Epoch 194\n"
     ]
    },
    {
     "data": {
      "application/vnd.jupyter.widget-view+json": {
       "model_id": "1bd35f272ef14ec2bfa828ebf7517a61",
       "version_major": 2,
       "version_minor": 0
      },
      "text/plain": [
       "HBox(children=(FloatProgress(value=0.0, max=32.0), HTML(value='')))"
      ]
     },
     "metadata": {},
     "output_type": "display_data"
    },
    {
     "name": "stdout",
     "output_type": "stream",
     "text": [
      "\n",
      "\tExample Sequences\n",
      "\t\t<start>KWKLFKKIPKFLHLAKKF<end><pad><pad><pad><pad><pad><pad><pad><pad><pad><pad>\n",
      "\t\t<start>ILKKWPKWPWLRR<end><pad><pad><pad><pad><pad><pad><pad><pad><pad><pad><pad><pad><pad><pad><pad>\n",
      "\t\t<start>RWKIVVKKWK<end><pad><pad><pad><pad><pad><pad><pad><pad><pad><pad><pad><pad><pad><pad><pad><pad><pad><pad>\n",
      "\t\t<start>KRLRKFRNKIKEKLKKIGQKIKNFFQKL<end>\n",
      "\t\t<start>WRWRSKKWWRKW<end><pad><pad><pad><pad><pad><pad><pad><pad><pad><pad><pad><pad><pad><pad><pad><pad>\n",
      "\tNLL Train Active: 11.449490547180176\n",
      "\tNLL Test Active: 24.08802032470703\n",
      "\tNLL Train Inactive: 35.210575103759766\n",
      "\tNLL Test Inactive: 38.22799301147461\n",
      "\n",
      "Epoch 195\n"
     ]
    },
    {
     "data": {
      "application/vnd.jupyter.widget-view+json": {
       "model_id": "6428c22ea79f45469b143ecdde600643",
       "version_major": 2,
       "version_minor": 0
      },
      "text/plain": [
       "HBox(children=(FloatProgress(value=0.0, max=32.0), HTML(value='')))"
      ]
     },
     "metadata": {},
     "output_type": "display_data"
    },
    {
     "name": "stdout",
     "output_type": "stream",
     "text": [
      "\n",
      "\tExample Sequences\n",
      "\t\t<start>FFGALFKLASK<end><pad><pad><pad><pad><pad><pad><pad><pad><pad><pad>\n",
      "\t\t<start>KKWRLLKRLF<end><pad><pad><pad><pad><pad><pad><pad><pad><pad><pad><pad>\n",
      "\t\t<start>KWKLFKKIPKFLHLAKKF<end><pad><pad><pad>\n",
      "\t\t<start>WKKVWDWIKEV<end><pad><pad><pad><pad><pad><pad><pad><pad><pad><pad>\n",
      "\t\t<start>GRfPRRRPRLPRPRPRPRPRF<end>\n",
      "\tNLL Train Active: 11.437431335449219\n",
      "\tNLL Test Active: 24.090543746948242\n",
      "\tNLL Train Inactive: 35.216468811035156\n",
      "\tNLL Test Inactive: 38.23506164550781\n",
      "\n",
      "Epoch 196\n"
     ]
    },
    {
     "data": {
      "application/vnd.jupyter.widget-view+json": {
       "model_id": "a878cc392fe140e2ba461daf426484fc",
       "version_major": 2,
       "version_minor": 0
      },
      "text/plain": [
       "HBox(children=(FloatProgress(value=0.0, max=32.0), HTML(value='')))"
      ]
     },
     "metadata": {},
     "output_type": "display_data"
    },
    {
     "name": "stdout",
     "output_type": "stream",
     "text": [
      "\n",
      "\tExample Sequences\n",
      "\t\t<start>RRLRKWRPKLKKLLKKL<end>\n",
      "\t\t<start>KWKKLLKKPLLK<end><pad><pad><pad><pad><pad>\n",
      "\t\t<start>GGHGAGKILK<end><pad><pad><pad><pad><pad><pad><pad>\n",
      "\t\t<start>GRLRKWRKKY<end><pad><pad><pad><pad><pad><pad><pad>\n",
      "\t\t<start>FRRFFFFFRRFRRF<end><pad><pad><pad>\n",
      "\tNLL Train Active: 11.425165176391602\n",
      "\tNLL Test Active: 24.093870162963867\n",
      "\tNLL Train Inactive: 35.22422409057617\n",
      "\tNLL Test Inactive: 38.23530197143555\n",
      "\n",
      "Epoch 197\n"
     ]
    },
    {
     "data": {
      "application/vnd.jupyter.widget-view+json": {
       "model_id": "0c378f0ce78a4648aa5a5b4a331ff498",
       "version_major": 2,
       "version_minor": 0
      },
      "text/plain": [
       "HBox(children=(FloatProgress(value=0.0, max=32.0), HTML(value='')))"
      ]
     },
     "metadata": {},
     "output_type": "display_data"
    },
    {
     "name": "stdout",
     "output_type": "stream",
     "text": [
      "\n",
      "\tExample Sequences\n",
      "\t\t<start>RWKWWRRVL<end><pad><pad><pad><pad><pad><pad>\n",
      "\t\t<start>KRFRPLVKKLAKKIL<end>\n",
      "\t\t<start>LLKWLKKLLKK<end><pad><pad><pad><pad>\n",
      "\t\t<start>RWRWRWWR<end><pad><pad><pad><pad><pad><pad><pad>\n",
      "\t\t<start>KLWKLWKKWLKK<end><pad><pad><pad>\n",
      "\tNLL Train Active: 11.413411140441895\n",
      "\tNLL Test Active: 24.09268569946289\n",
      "\tNLL Train Inactive: 35.22749328613281\n",
      "\tNLL Test Inactive: 38.23994827270508\n",
      "\n",
      "Epoch 198\n"
     ]
    },
    {
     "data": {
      "application/vnd.jupyter.widget-view+json": {
       "model_id": "9d2565a8f8684acdae081790454ff94d",
       "version_major": 2,
       "version_minor": 0
      },
      "text/plain": [
       "HBox(children=(FloatProgress(value=0.0, max=32.0), HTML(value='')))"
      ]
     },
     "metadata": {},
     "output_type": "display_data"
    },
    {
     "name": "stdout",
     "output_type": "stream",
     "text": [
      "\n",
      "\tExample Sequences\n",
      "\t\t<start>ILGAVLKVATTGLPALISWIKRKRQQ<end>\n",
      "\t\t<start>GIIKPLASKWPKWKPWRR<end><pad><pad><pad><pad><pad><pad><pad><pad>\n",
      "\t\t<start>KIGAKLAKTAVKLLK<end><pad><pad><pad><pad><pad><pad><pad><pad><pad><pad><pad>\n",
      "\t\t<start>RWRWWIRWRWRW<end><pad><pad><pad><pad><pad><pad><pad><pad><pad><pad><pad><pad><pad><pad>\n",
      "\t\t<start>FLGWLFKVASK<end><pad><pad><pad><pad><pad><pad><pad><pad><pad><pad><pad><pad><pad><pad><pad>\n",
      "\tNLL Train Active: 11.401329040527344\n",
      "\tNLL Test Active: 24.093080520629883\n",
      "\tNLL Train Inactive: 35.23316955566406\n",
      "\tNLL Test Inactive: 38.24077606201172\n",
      "\n",
      "Epoch 199\n"
     ]
    },
    {
     "data": {
      "application/vnd.jupyter.widget-view+json": {
       "model_id": "905d21100c4b4e5c9fa463172bfa7615",
       "version_major": 2,
       "version_minor": 0
      },
      "text/plain": [
       "HBox(children=(FloatProgress(value=0.0, max=32.0), HTML(value='')))"
      ]
     },
     "metadata": {},
     "output_type": "display_data"
    },
    {
     "name": "stdout",
     "output_type": "stream",
     "text": [
      "\n",
      "\tExample Sequences\n",
      "\t\t<start>KILGPVIKKLLKGLF<end><pad><pad><pad><pad><pad><pad><pad><pad><pad>\n",
      "\t\t<start>GLFSKVGNVGRNFLGAVGGKIMKG<end>\n",
      "\t\t<start>SRWRWRPFFSLSPRTIAMRKFL<end><pad><pad>\n",
      "\t\t<start>FLGVLFKALSKLL<end><pad><pad><pad><pad><pad><pad><pad><pad><pad><pad><pad>\n",
      "\t\t<start>LLLIVVLKKV<end><pad><pad><pad><pad><pad><pad><pad><pad><pad><pad><pad><pad><pad><pad>\n",
      "\tNLL Train Active: 11.38957691192627\n",
      "\tNLL Test Active: 24.09497833251953\n",
      "\tNLL Train Inactive: 35.23904037475586\n",
      "\tNLL Test Inactive: 38.247276306152344\n",
      "\n",
      "Epoch 200\n"
     ]
    },
    {
     "data": {
      "application/vnd.jupyter.widget-view+json": {
       "model_id": "7897affc49a642e089068639e702375b",
       "version_major": 2,
       "version_minor": 0
      },
      "text/plain": [
       "HBox(children=(FloatProgress(value=0.0, max=32.0), HTML(value='')))"
      ]
     },
     "metadata": {},
     "output_type": "display_data"
    },
    {
     "name": "stdout",
     "output_type": "stream",
     "text": [
      "\n",
      "\tExample Sequences\n",
      "\t\t<start>KILGKWKPWWWRR<end><pad><pad><pad><pad><pad>\n",
      "\t\t<start>GRFRRLRKKTRKRLKKIG<end>\n",
      "\t\t<start>SKKLFKKIPKFLHLAKKF<end>\n",
      "\t\t<start>AARIILRLRI<end><pad><pad><pad><pad><pad><pad><pad><pad>\n",
      "\t\t<start>FLGALFKALSKLL<end><pad><pad><pad><pad><pad>\n",
      "\tNLL Train Active: 11.377496719360352\n",
      "\tNLL Test Active: 24.097930908203125\n",
      "\tNLL Train Inactive: 35.24226379394531\n",
      "\tNLL Test Inactive: 38.246925354003906\n",
      "\n",
      "\n"
     ]
    }
   ],
   "source": [
    "if not os.path.exists(folder+\"pickles/generator_TL_grampos_results_hem.pkl\"):\n",
    "    model = Generator.load_from_file(folder+\"models/RNN-generator/ep{}.pkl\".format(epoch))\n",
    "    model.to(device)\n",
    "    vocabulary = model.vocabulary\n",
    "    \n",
    "    df_training_active = df_training.query(\"activity == 1\")\n",
    "    df_test_active = df_test.query(\"activity == 1\")\n",
    "    df_training_inactive = df_training.query(\"activity == 0\")\n",
    "    df_test_inactive = df_test.query(\"activity == 0\")\n",
    "\n",
    "    training_dataset_active = Dataset(df_training_active, vocabulary, with_activity=False)\n",
    "    test_dataset_active = Dataset(df_test_active, vocabulary, with_activity=False)\n",
    "    training_dataset_inactive = Dataset(df_training_inactive, vocabulary, with_activity=False)\n",
    "    test_dataset_inactive = Dataset(df_test_inactive, vocabulary, with_activity=False)\n",
    "\n",
    "    optimizer = optim.SGD(model.model.parameters(), lr = learning_rate, momentum=momentum)\n",
    "\n",
    "    # the only one used for training\n",
    "    training_dataloader_active = torch.utils.data.DataLoader(training_dataset_active, batch_size=batch_size, shuffle=True, collate_fn = collate_fn, drop_last=True, pin_memory=True, num_workers=4)\n",
    "\n",
    "    # used for evaluation\n",
    "    test_dataloader_active = torch.utils.data.DataLoader(test_dataset_active, batch_size=batch_size, shuffle=False, collate_fn = collate_fn, drop_last=False, pin_memory=True, num_workers=4)\n",
    "    training_dataloader_inactive = torch.utils.data.DataLoader(training_dataset_inactive, batch_size=batch_size, shuffle=False, collate_fn = collate_fn, drop_last=False, pin_memory=True, num_workers=4)\n",
    "    test_dataloader_inactive = torch.utils.data.DataLoader(test_dataset_inactive, batch_size=batch_size, shuffle=False, collate_fn = collate_fn, drop_last=False, pin_memory=True, num_workers=4)\n",
    "    training_dataloader_active_eval = torch.utils.data.DataLoader(training_dataset_active, batch_size=batch_size, shuffle=False, collate_fn = collate_fn, drop_last=False, pin_memory=True, num_workers=4)\n",
    "\n",
    "    training_dictionary = {}\n",
    "\n",
    "    for e in trange(1, n_epoch + 1):\n",
    "        print(\"Epoch {}\".format(e))\n",
    "        for i_batch, sample_batched in tqdm(enumerate(training_dataloader_active), total=len(training_dataloader_active) ):\n",
    "\n",
    "            seq_batched = sample_batched[0].to(model.device, non_blocking=True) \n",
    "            seq_lengths = sample_batched[1].to(model.device, non_blocking=True)\n",
    "\n",
    "            nll = model.likelihood(seq_batched, seq_lengths)\n",
    "\n",
    "            loss = nll.mean()\n",
    "\n",
    "            optimizer.zero_grad()\n",
    "            loss.backward()  \n",
    "            torch.nn.utils.clip_grad_value_(model.model.parameters(), 2)\n",
    "            optimizer.step()\n",
    "\n",
    "        model.save(folder+\"models/RNN-generator-TL-hem/grampos_ep{}.pkl\".format(e))\n",
    "\n",
    "\n",
    "        print(\"\\tExample Sequences\")\n",
    "        sampled_seq = model.sample(5)\n",
    "        for s in sampled_seq:\n",
    "            print(\"\\t\\t{}\".format(model.vocabulary.tensor_to_seq(s, debug=True)))\n",
    "\n",
    "        nll_training = []\n",
    "        with torch.no_grad():\n",
    "            for i_batch, sample_batched in enumerate(training_dataloader_active_eval):    \n",
    "                seq_batched = sample_batched[0].to(model.device, non_blocking=True) \n",
    "                seq_lengths = sample_batched[1].to(model.device, non_blocking=True) \n",
    "\n",
    "                nll_training += model.likelihood(seq_batched, seq_lengths)\n",
    "\n",
    "        nll_training_active_mean = torch.stack(nll_training).mean().item()\n",
    "        print(\"\\tNLL Train Active: {}\".format(nll_training_active_mean))\n",
    "        del nll_training\n",
    "\n",
    "        nll_test = []\n",
    "        with torch.no_grad():\n",
    "            for i_batch, sample_batched in enumerate(test_dataloader_active):    \n",
    "                seq_batched = sample_batched[0].to(model.device, non_blocking=True) \n",
    "                seq_lengths = sample_batched[1].to(model.device, non_blocking=True) \n",
    "\n",
    "                nll_test += model.likelihood(seq_batched, seq_lengths)\n",
    "\n",
    "        nll_test_active_mean = torch.stack(nll_test).mean().item()\n",
    "        print(\"\\tNLL Test Active: {}\".format(nll_test_active_mean))\n",
    "        del nll_test\n",
    "\n",
    "        nll_training = []\n",
    "        with torch.no_grad():\n",
    "            for i_batch, sample_batched in enumerate(training_dataloader_inactive):    \n",
    "                seq_batched = sample_batched[0].to(model.device, non_blocking=True) \n",
    "                seq_lengths = sample_batched[1].to(model.device, non_blocking=True) \n",
    "\n",
    "                nll_training += model.likelihood(seq_batched, seq_lengths)\n",
    "\n",
    "        nll_training_inactive_mean = torch.stack(nll_training).mean().item()\n",
    "        print(\"\\tNLL Train Inactive: {}\".format(nll_training_inactive_mean))\n",
    "        del nll_training\n",
    "\n",
    "        nll_test = []\n",
    "        with torch.no_grad():\n",
    "            for i_batch, sample_batched in enumerate(test_dataloader_inactive):    \n",
    "                seq_batched = sample_batched[0].to(model.device, non_blocking=True) \n",
    "                seq_lengths = sample_batched[1].to(model.device, non_blocking=True) \n",
    "\n",
    "                nll_test += model.likelihood(seq_batched, seq_lengths)\n",
    "\n",
    "        nll_test_inactive_mean = torch.stack(nll_test).mean().item()\n",
    "        print(\"\\tNLL Test Inactive: {}\".format(nll_test_inactive_mean))\n",
    "        del nll_test\n",
    "        print()\n",
    "\n",
    "        training_dictionary[e]=[nll_training_active_mean, nll_test_active_mean, nll_training_inactive_mean, nll_test_inactive_mean]\n",
    "    \n",
    "    with open(folder+\"pickles/generator_TL_grampos_results_hem.pkl\",'wb') as fd:\n",
    "        pickle.dump(training_dictionary, fd)\n",
    "    \n",
    "else:\n",
    "    with open(folder+\"pickles/generator_TL_grampos_results_hem.pkl\",'rb') as fd:\n",
    "        training_dictionary = pickle.load(fd)\n",
    "\n",
    "min_nll_test_active = float(\"inf\")\n",
    "for epoch, training_values in training_dictionary.items():\n",
    "    nll_test_active = training_values[1]\n",
    "\n",
    "    if nll_test_active < min_nll_test_active:\n",
    "        best_epoch = epoch\n",
    "        min_nll_test_active = nll_test_active"
   ]
  },
  {
   "cell_type": "markdown",
   "metadata": {},
   "source": [
    "# Sampling evaluation"
   ]
  },
  {
   "cell_type": "code",
   "execution_count": 7,
   "metadata": {},
   "outputs": [
    {
     "name": "stdout",
     "output_type": "stream",
     "text": [
      "149\n"
     ]
    }
   ],
   "source": [
    "print(best_epoch)\n",
    "model = Generator.load_from_file(folder+\"models/RNN-generator-TL-hem/grampos_ep{}.pkl\".format(best_epoch))"
   ]
  },
  {
   "cell_type": "markdown",
   "metadata": {},
   "source": [
    "142"
   ]
  },
  {
   "cell_type": "code",
   "execution_count": 8,
   "metadata": {},
   "outputs": [],
   "source": [
    "training_seq = df_training.Sequence.values.tolist()\n",
    "\n",
    "def _sample(model, n):\n",
    "    sampled_seq = model.sample(n)\n",
    "    sequences = []\n",
    "    for s in sampled_seq:\n",
    "        sequences.append(model.vocabulary.tensor_to_seq(s))\n",
    "    return sequences\n",
    "\n",
    "def novelty(seqs, list_):\n",
    "    novel_seq = []\n",
    "    for s in seqs:\n",
    "        if s not in list_:\n",
    "            novel_seq.append(s)\n",
    "    return novel_seq, (len(novel_seq)/len(seqs))*100\n",
    "\n",
    "def is_in_training(seq, list_ = training_seq):\n",
    "    if seq not in list_:\n",
    "        return False\n",
    "    else:\n",
    "        return True\n",
    "\n",
    "def uniqueness(seqs):\n",
    "    unique_seqs = defaultdict(int)\n",
    "    for s in seqs:\n",
    "        unique_seqs[s] += 1\n",
    "    return unique_seqs, (len(unique_seqs)/len(seqs))*100"
   ]
  },
  {
   "cell_type": "code",
   "execution_count": 9,
   "metadata": {},
   "outputs": [],
   "source": [
    "# sample\n",
    "seqs = _sample(model, 50000)\n",
    "unique_seqs, perc_uniqueness = uniqueness(seqs)\n",
    "notintraining_seqs, perc_novelty = novelty(unique_seqs, training_seq)\n",
    "\n",
    "\n",
    "# create dataframe\n",
    "df_generated = pd.DataFrame(list(unique_seqs.keys()), columns =['Sequence']) \n",
    "df_generated[\"Repetition\"] = df_generated[\"Sequence\"].map(lambda x: unique_seqs[x])\n",
    "df_generated[\"inTraining\"] = df_generated[\"Sequence\"].map(is_in_training)\n",
    "df_generated[\"Set\"] = \"generated-TL-GP-hem\"\n",
    "\n",
    "# save\n",
    "df_generated.to_pickle(folder+\"pickles/Generated-TL-grampos-hem.pkl\")"
   ]
  },
  {
   "cell_type": "code",
   "execution_count": 10,
   "metadata": {},
   "outputs": [
    {
     "name": "stdout",
     "output_type": "stream",
     "text": [
      "82.284 99.48957269943124\n"
     ]
    }
   ],
   "source": [
    "print(perc_uniqueness, perc_novelty)"
   ]
  },
  {
   "cell_type": "markdown",
   "metadata": {},
   "source": [
    "82.284 99.48957269943124"
   ]
  },
  {
   "cell_type": "code",
   "execution_count": null,
   "metadata": {},
   "outputs": [],
   "source": []
  }
 ],
 "metadata": {
  "kernelspec": {
   "display_name": "Python 3",
   "language": "python",
   "name": "python3"
  },
  "language_info": {
   "codemirror_mode": {
    "name": "ipython",
    "version": 3
   },
   "file_extension": ".py",
   "mimetype": "text/x-python",
   "name": "python",
   "nbconvert_exporter": "python",
   "pygments_lexer": "ipython3",
   "version": "3.6.10"
  }
 },
 "nbformat": 4,
 "nbformat_minor": 4
}
