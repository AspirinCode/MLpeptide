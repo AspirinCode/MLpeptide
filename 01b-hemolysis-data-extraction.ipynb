{
 "cells": [
  {
   "cell_type": "code",
   "execution_count": 1,
   "metadata": {},
   "outputs": [
    {
     "name": "stdout",
     "output_type": "stream",
     "text": [
      "INFO: Pandarallel will run on 8 workers.\n",
      "INFO: Pandarallel will use Memory file system to transfer data between the main process and workers.\n"
     ]
    }
   ],
   "source": [
    "import pandas as pd\n",
    "from pandas import Series, DataFrame\n",
    "from pandarallel import pandarallel\n",
    "pandarallel.initialize(progress_bar=False)\n",
    "import sys\n",
    "import json\n",
    "sys.path.append(\"./dbaasp_api_helper_libraries/python\")\n",
    "sys.path.append(\"./dbaasp_api_helper_libraries/python/request\")\n",
    "%load_ext autoreload\n",
    "%autoreload 2\n",
    "import APICaller,Complexity, FormatType, LookupType, MathOperationTypes\n",
    "import random\n",
    "import numpy as np\n",
    "import os\n",
    "folder = \"/data/AIpep-clean/\""
   ]
  },
  {
   "cell_type": "code",
   "execution_count": 2,
   "metadata": {},
   "outputs": [],
   "source": [
    "SEED = 12456789\n",
    "np.random.seed(SEED)\n",
    "random.seed(SEED)"
   ]
  },
  {
   "cell_type": "code",
   "execution_count": 89,
   "metadata": {},
   "outputs": [],
   "source": [
    "def float_ignore_plus_minus(mynumber):\n",
    "    try:\n",
    "        return sum(map(float,mynumber.split(\"±\")))\n",
    "    except:\n",
    "        return float(\"inf\")\n",
    "\n",
    "def hemolytic_data(identifier):\n",
    "    results = []\n",
    "\n",
    "    try:\n",
    "        peptideCardRequest = APICaller.PeptideCardRequest()\n",
    "        peptideCardRequest.peptide_id = identifier;\n",
    "        peptideCardRequest.format = FormatType.FormatType.JSON;\n",
    "        dbaasp_peptide = json.loads(peptideCardRequest.request())\n",
    "\n",
    "        NAs = [\"NA\", \"na\", \"Na\", \"nA\", \"N/A\", \"n/a\"]\n",
    "\n",
    "        if 'errorCode' in dbaasp_peptide:\n",
    "            #print(\"db error\", identifier)\n",
    "            return []\n",
    "        if \"hemoliticCytotoxicActivities\" not in dbaasp_peptide[\"peptideCard\"]:\n",
    "            #print(\"no target\", identifier)#, dbaasp_peptide[\"peptideCard\"])\n",
    "            return []  \n",
    "\n",
    "        hemoliticCytotoxicActivities = dbaasp_peptide[\"peptideCard\"][\"hemoliticCytotoxicActivities\"]\n",
    "        for activity in hemoliticCytotoxicActivities:\n",
    "            \n",
    "            if not (\"unit\" and \"concentration\" and \"targetCell\" and \"lysis\" in activity):\n",
    "                print(hemoliticCytotoxicActivities)\n",
    "                continue\n",
    "            \n",
    "            target = activity[\"targetCell\"] \n",
    "            if target != 'Human erythrocytes':\n",
    "                continue\n",
    "                \n",
    "            lysis = float(activity[\"lysis\"].split(\"%\")[0])\n",
    "            unit = activity[\"unit\"]\n",
    "            \n",
    "            #aaaaaaaaaaaaaaaaaaaaaaaaaaaaaAAAaaaaaaaaaargh\n",
    "            concentration_str = activity[\"concentration\"].replace(\" \",\"\")\n",
    "            concentration_str = concentration_str.replace(\"–\",\"-\")\n",
    "            concentration_str = concentration_str.replace(\"->\",\"-\") \n",
    "            concentration_str = concentration_str.replace(\",\",\".\") \n",
    "\n",
    "\n",
    "            if concentration_str[0] == '<':\n",
    "                if concentration_str[1] == '=':\n",
    "                    concentration_tmp = float_ignore_plus_minus(concentration_str[2:])\n",
    "                else:\n",
    "                    concentration_tmp = float_ignore_plus_minus(concentration_str[1:])\n",
    "                concentration = concentration_tmp\n",
    "            elif concentration_str[0] == '>' or concentration_str in NAs:\n",
    "                if concentration_str[1] == '=':\n",
    "                    concentration_tmp = float_ignore_plus_minus(concentration_str[2:])\n",
    "                else:\n",
    "                    concentration_tmp = float_ignore_plus_minus(concentration_str[1:])\n",
    "                concentration = concentration_tmp\n",
    "            elif \"-\"  in concentration_str:\n",
    "                concentrations = concentration_str.split(\"-\")\n",
    "                concentration =  float_ignore_plus_minus(concentrations[0]) + float_ignore_plus_minus(concentrations[1])\n",
    "                concentration /= 2\n",
    "            else:\n",
    "                concentration = float_ignore_plus_minus(concentration_str)\n",
    "\n",
    "\n",
    "            results.append([concentration, unit, lysis])\n",
    "\n",
    "            #elif unit != \"µM\" and unit != \"nM\" and unit != \"µg/ml\" and concentration_str not in NAs:\n",
    "                #pass \n",
    "                # print(\"no unit\",unit, identifier)#, species)\n",
    "\n",
    "        return results\n",
    "    except:\n",
    "        return results"
   ]
  },
  {
   "cell_type": "code",
   "execution_count": 20,
   "metadata": {},
   "outputs": [],
   "source": [
    "if not os.path.exists(folder+\"pickles/DAASP_RNN_dataset_with_hemolysis.plk\"):\n",
    "    dataset_actives_inactives = pd.read_pickle(folder + \"pickles/DAASP_RNN_dataset.plk\")\n",
    "    dataset_actives_inactives[\"hemolysis\"] = dataset_actives_inactives.ID.parallel_map(hemolytic_data)\n",
    "    dataset_actives_inactives.to_pickle(folder + \"pickles/DAASP_RNN_dataset_with_hemolysis.plk\")\n",
    "else:\n",
    "    dataset_actives_inactives = pd.read_pickle(folder + \"pickles/DAASP_RNN_dataset_with_hemolysis.plk\")"
   ]
  },
  {
   "cell_type": "code",
   "execution_count": 88,
   "metadata": {},
   "outputs": [
    {
     "data": {
      "text/plain": [
       "[[6.0, 'µM', 50.0],\n",
       " [4.0, 'µM', 15.6],\n",
       " [8.0, 'µM', 23.1],\n",
       " [16.0, 'µM', 33.1],\n",
       " [32.0, 'µM', 43.6],\n",
       " [64.0, 'µM', 74.3],\n",
       " [128.0, 'µM', 87.4]]"
      ]
     },
     "execution_count": 88,
     "metadata": {},
     "output_type": "execute_result"
    }
   ],
   "source": [
    "hemolytic_data(11)"
   ]
  },
  {
   "cell_type": "code",
   "execution_count": 8,
   "metadata": {},
   "outputs": [],
   "source": [
    "dataset_actives_inactives[\"len_hemolysis\"] = dataset_actives_inactives[\"hemolysis\"].map(len)"
   ]
  },
  {
   "cell_type": "code",
   "execution_count": 9,
   "metadata": {},
   "outputs": [
    {
     "data": {
      "text/plain": [
       "2571"
      ]
     },
     "execution_count": 9,
     "metadata": {},
     "output_type": "execute_result"
    }
   ],
   "source": [
    "len(dataset_actives_inactives[dataset_actives_inactives[\"len_hemolysis\"]>0])"
   ]
  },
  {
   "cell_type": "code",
   "execution_count": 10,
   "metadata": {},
   "outputs": [
    {
     "data": {
      "text/plain": [
       "9548"
      ]
     },
     "execution_count": 10,
     "metadata": {},
     "output_type": "execute_result"
    }
   ],
   "source": [
    "len(dataset_actives_inactives)"
   ]
  },
  {
   "cell_type": "code",
   "execution_count": 92,
   "metadata": {},
   "outputs": [],
   "source": [
    "from rdkit import Chem\n",
    "from rdkit.Chem.rdmolfiles import MolFromFASTA, MolToSmiles, MolFromSmiles\n",
    "from rdkit.Chem import Descriptors\n",
    "import tmap as tm\n",
    "from map4 import MAP4Calculator\n",
    "\n",
    "def seq_to_smiles(seq):\n",
    "    mol = MolFromFASTA(seq, flavor=True, sanitize = True)\n",
    "    smiles = MolToSmiles(mol, isomericSmiles=True)\n",
    "    return smiles\n",
    "\n",
    "def MW(smiles):\n",
    "    mol = Chem.MolFromSmiles(smiles)\n",
    "    mw = Descriptors.ExactMolWt(mol)\n",
    "    return mw\n",
    "\n",
    "def isnothemolytic(row):\n",
    "    list_ = row.hemolysis\n",
    "    mw = MW(seq_to_smiles(row.Sequence))\n",
    "    if len(list_)==0:\n",
    "        return -1\n",
    "    for data in list_:\n",
    "        unit = data[1]\n",
    "        hem = data[2]\n",
    "        if unit == \"µg/ml\":\n",
    "            conc = data[0]/(mw/1000)\n",
    "        else:\n",
    "            conc = data[0]\n",
    "        if hem < 20 and conc >= 50:\n",
    "            return 1\n",
    "        elif hem >= 20:\n",
    "            return 0\n",
    "    return -2  \n",
    "\n",
    "def seq_to_smiles(seq):\n",
    "    mol = MolFromFASTA(seq, flavor=True, sanitize = True)\n",
    "    smiles = MolToSmiles(mol, isomericSmiles=True)\n",
    "    return smiles\n",
    "\n",
    "MAP4 = MAP4Calculator(dimensions=1024)\n",
    "def calc_map4(smiles):\n",
    "    mol = Chem.MolFromSmiles(smiles)\n",
    "    map4 = MAP4.calculate(mol)\n",
    "    return np.array(map4)"
   ]
  },
  {
   "cell_type": "code",
   "execution_count": 75,
   "metadata": {},
   "outputs": [],
   "source": [
    "dataset_actives_inactives[\"isNotHemolytic\"] = dataset_actives_inactives.apply(isnothemolytic, axis=1) "
   ]
  },
  {
   "cell_type": "code",
   "execution_count": 94,
   "metadata": {},
   "outputs": [],
   "source": [
    "dataset_actives_inactives[\"smiles\"] = dataset_actives_inactives.Sequence.parallel_map(seq_to_smiles)"
   ]
  },
  {
   "cell_type": "code",
   "execution_count": 95,
   "metadata": {},
   "outputs": [],
   "source": [
    "dataset_actives_inactives[\"MAP4\"] = dataset_actives_inactives.smiles.parallel_map(calc_map4)"
   ]
  },
  {
   "cell_type": "code",
   "execution_count": 76,
   "metadata": {},
   "outputs": [],
   "source": [
    "dataset_actives_inactives.to_pickle(folder + \"pickles/DAASP_RNN_dataset_with_hemolysis.plk\")"
   ]
  }
 ],
 "metadata": {
  "kernelspec": {
   "display_name": "Python 3",
   "language": "python",
   "name": "python3"
  },
  "language_info": {
   "codemirror_mode": {
    "name": "ipython",
    "version": 3
   },
   "file_extension": ".py",
   "mimetype": "text/x-python",
   "name": "python",
   "nbconvert_exporter": "python",
   "pygments_lexer": "ipython3",
   "version": "3.6.10"
  }
 },
 "nbformat": 4,
 "nbformat_minor": 4
}
