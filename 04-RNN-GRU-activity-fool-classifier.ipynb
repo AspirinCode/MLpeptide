{
 "cells": [
  {
   "cell_type": "code",
   "execution_count": 1,
   "metadata": {},
   "outputs": [
    {
     "name": "stdout",
     "output_type": "stream",
     "text": [
      "INFO: Pandarallel will run on 8 workers.\n",
      "INFO: Pandarallel will use Memory file system to transfer data between the main process and workers.\n"
     ]
    }
   ],
   "source": [
    "import random\n",
    "import torch.nn as nn\n",
    "import torch\n",
    "import pickle\n",
    "import pandas as pd\n",
    "from pandas import Series, DataFrame\n",
    "from pandarallel import pandarallel\n",
    "pandarallel.initialize(progress_bar=False)\n",
    "from sklearn.metrics import roc_auc_score, roc_curve, accuracy_score, matthews_corrcoef, f1_score, precision_score, recall_score\n",
    "import numpy as np\n",
    "import torch.optim as optim\n",
    "folder = \"/data/AIpep-clean/\"\n",
    "import matplotlib.pyplot as plt\n",
    "from vocabulary import Vocabulary\n",
    "from datasetbioactivty import Dataset, collate_fn\n",
    "from models import Classifier\n",
    "import os"
   ]
  },
  {
   "cell_type": "code",
   "execution_count": 2,
   "metadata": {},
   "outputs": [],
   "source": [
    "random.seed(0)"
   ]
  },
  {
   "cell_type": "markdown",
   "metadata": {},
   "source": [
    "# Load data"
   ]
  },
  {
   "cell_type": "code",
   "execution_count": 3,
   "metadata": {},
   "outputs": [],
   "source": [
    "df = pd.read_pickle(folder + \"pickles/DAASP_RNN_dataset.plk\")\n",
    "\n",
    "df_training = df[df[\"Set\"]==\"training\"]\n",
    "df_test = df[df[\"Set\"]==\"test\"]\n",
    "\n",
    "df_training_fool = df_training.copy()\n",
    "activity = df_training_fool.activity.tolist()\n",
    "random.shuffle(activity)\n",
    "df_training_fool[\"activity\"] = activity\n",
    "\n",
    "df_test_fool = df_test.copy()\n",
    "activity = df_test_fool.activity.tolist()\n",
    "random.shuffle(activity)\n",
    "df_test_fool[\"activity\"] = activity\n",
    "\n",
    "df_training = df_training_fool\n",
    "df_test = df_test_fool\n",
    "\n",
    "vocabulary = Vocabulary.get_vocabulary_from_sequences(df_training.Sequence.values)\n",
    "\n",
    "if torch.cuda.is_available():\n",
    "    device = \"cuda\" \n",
    "else:\n",
    "    device = \"cpu\" "
   ]
  },
  {
   "cell_type": "markdown",
   "metadata": {},
   "source": [
    "# Define helper functions"
   ]
  },
  {
   "cell_type": "code",
   "execution_count": 4,
   "metadata": {},
   "outputs": [],
   "source": [
    "def randomChoice(l):\n",
    "    return l[random.randint(0, len(l) - 1)]\n",
    "\n",
    "def categoryFromOutput(output):\n",
    "    top_n, top_i = output.topk(1)\n",
    "    category_i = top_i[0].item()\n",
    "    return category_i\n",
    "\n",
    "def nan_equal(a,b):\n",
    "    try:\n",
    "        np.testing.assert_equal(a,b)\n",
    "    except AssertionError:\n",
    "        return False\n",
    "    return True\n",
    "\n",
    "def models_are_equal(model1, model2):\n",
    "    model1.vocabulary == model2.vocabulary\n",
    "    model1.hidden_size == model2.hidden_size\n",
    "    for a,b in zip(model1.model.parameters(), model2.model.parameters()):\n",
    "        if nan_equal(a.detach().numpy(), b.detach().numpy()) == True:\n",
    "            print(\"true\")"
   ]
  },
  {
   "cell_type": "markdown",
   "metadata": {},
   "source": [
    "# Define model"
   ]
  },
  {
   "cell_type": "code",
   "execution_count": 5,
   "metadata": {},
   "outputs": [],
   "source": [
    "def training(model, test_dataloader, training_dataloader, n_epoch, optimizer, filename):\n",
    "    \n",
    "    roc_training = []\n",
    "    roc_test = []\n",
    "    \n",
    "    for e in range(1, n_epoch + 1):\n",
    "        for i_batch, sample_batched in enumerate(training_dataloader):\n",
    "            seq_batched = sample_batched[0][0].to(model.device, non_blocking=True)\n",
    "            seq_lengths = sample_batched[0][1].to(model.device, non_blocking=True)\n",
    "            cat_batched = sample_batched[1].to(model.device, non_blocking=True)\n",
    "\n",
    "            output = model.evaluate(seq_batched, seq_lengths)\n",
    "\n",
    "            loss = criterion(output, cat_batched)\n",
    "\n",
    "            optimizer.zero_grad()\n",
    "            loss.backward()  \n",
    "            torch.nn.utils.clip_grad_value_(model.model.parameters(), 2)\n",
    "            optimizer.step()\n",
    "\n",
    "        model.save(filename.format(e))\n",
    "        \n",
    "        def _evaluate_ROC(data_loader):\n",
    "            cat_list = []\n",
    "            out_list = []\n",
    "\n",
    "            with torch.no_grad():\n",
    "                for i_batch, sample_batched in enumerate(data_loader):    \n",
    "                    seq_batched = sample_batched[0][0].to(model.device, non_blocking=True)\n",
    "                    seq_lengths = sample_batched[0][1].to(model.device, non_blocking=True)\n",
    "                    \n",
    "                    cat_list += sample_batched[1].to(\"cpu\", non_blocking=True)\n",
    "                    out_list += torch.exp(model.evaluate(seq_batched, seq_lengths))[: ,1].to(\"cpu\", non_blocking=True)\n",
    "\n",
    "                cat_list = torch.stack(cat_list)\n",
    "                out_list = torch.stack(out_list)\n",
    "\n",
    "                roc = roc_auc_score(cat_list.cpu().numpy().astype(int), out_list.cpu().numpy())\n",
    "            return roc\n",
    "        \n",
    "        roc_tr = _evaluate_ROC(training_dataloader)\n",
    "        roc_te = _evaluate_ROC(test_dataloader)\n",
    "        roc_training.append(roc_tr)\n",
    "        roc_test.append(roc_te)\n",
    "        print(\"epoch: \" + str(e))\n",
    "        print(\"roc auc training: \" + str(roc_tr))\n",
    "        print(\"roc auc test: \" + str(roc_te))\n",
    "        if roc_training == 1.0:\n",
    "            break\n",
    "        \n",
    "    return model, optimizer, roc_training, roc_test\n",
    "        "
   ]
  },
  {
   "cell_type": "code",
   "execution_count": 6,
   "metadata": {},
   "outputs": [],
   "source": [
    "learning_rate = 0.01\n",
    "momentum = 0.9\n",
    "batch_size = 20\n",
    "n_epoch = 150\n",
    "criterion = nn.NLLLoss()"
   ]
  },
  {
   "cell_type": "markdown",
   "metadata": {},
   "source": [
    "# Hyper parameters optimization"
   ]
  },
  {
   "cell_type": "code",
   "execution_count": 7,
   "metadata": {},
   "outputs": [],
   "source": [
    "n_embeddings  = [2, 21, 42, 100]\n",
    "n_hiddens = [50, 100, 200, 300, 400]\n",
    "n_layerss = [1, 2,3]\n",
    "    \n",
    "if not os.path.exists(folder+\"pickles/fool_classifier_hyperparameter_optimization_results.pkl\"):\n",
    "    df_opt = df_training.copy()\n",
    "    # create an evaluation/training set only from the training set\n",
    "    # assign to training or evaluation set\n",
    "    df_opt[\"Set2\"] = \"test\"\n",
    "    training_ = df_opt.sample(frac=0.75, random_state=0)\n",
    "    df_opt.loc[training_.index, \"Set2\"] = \"training\"\n",
    "\n",
    "    df_training = df_opt[df_opt[\"Set2\"]==\"training\"]\n",
    "    df_test = df_opt[df_opt[\"Set2\"]==\"test\"]\n",
    "\n",
    "    training_dataset = Dataset(df_training, vocabulary)\n",
    "    test_dataset = Dataset(df_test, vocabulary)\n",
    "\n",
    "    training_dict = {}\n",
    "    for  n_embedding in n_embeddings:\n",
    "        for n_hidden in n_hiddens:\n",
    "            for n_layers in n_layerss:\n",
    "\n",
    "                if \"em{}_hi{}_la{}\".format(n_embedding, n_hidden, n_layers) in training_dict:\n",
    "                    continue\n",
    "\n",
    "                print(f\"dimensions of embedding {n_embedding}, dimensions of hidden {n_hidden}, number of layers {n_layers}\")\n",
    "                model = Classifier(n_embedding, n_hidden, n_layers, vocabulary)\n",
    "                model.to(device)\n",
    "                optimizer = optim.SGD(model.model.parameters(), lr = learning_rate, momentum=momentum)\n",
    "                training_dataloader = torch.utils.data.DataLoader(training_dataset, batch_size=batch_size, shuffle=True, collate_fn = collate_fn, drop_last=True, pin_memory=True, num_workers=4)\n",
    "                test_dataloader = torch.utils.data.DataLoader(test_dataset, batch_size=batch_size, shuffle=True, collate_fn = collate_fn, drop_last=True, pin_memory=True, num_workers=4)\n",
    "                filename = folder+\"models/RNN-classifier-fool/em{}_hi{}_la{}_ep{{}}\".format(n_embedding, n_hidden, n_layers)\n",
    "                model, optimizer, roc_training, roc_test = training(model, test_dataloader, training_dataloader, n_epoch, optimizer, filename)\n",
    "                training_dict[\"em{}_hi{}_la{}\".format(n_embedding, n_hidden, n_layers)] = [roc_training, roc_test]\n",
    "                print(f\"maximum roc auc for test set {max(roc_test)}\")\n",
    "\n",
    "    with open(folder+\"pickles/fool_classifier_hyperparameter_optimization_results.pkl\",\"bw\") as fd:\n",
    "        pickle.dump(training_dict, fd)\n",
    "else:\n",
    "    with open(folder+\"pickles/fool_classifier_hyperparameter_optimization_results.pkl\",'rb') as fd:\n",
    "        training_dict = pickle.load(fd)"
   ]
  },
  {
   "cell_type": "markdown",
   "metadata": {},
   "source": [
    "# Optimized hyper parameters"
   ]
  },
  {
   "cell_type": "code",
   "execution_count": 8,
   "metadata": {},
   "outputs": [],
   "source": [
    "max_test = 0\n",
    "for k,v in training_dict.items():\n",
    "    if max(v[1]) > max_test:\n",
    "        max_test = max(v[1])\n",
    "        best = k\n",
    "best = best.split(\"_\")\n",
    "n_embedding = int(best[0].replace(\"em\", \"\"))\n",
    "n_hidden = int(best[1].replace(\"hi\", \"\"))\n",
    "n_layers = int(best[2].replace(\"la\", \"\"))"
   ]
  },
  {
   "cell_type": "code",
   "execution_count": 9,
   "metadata": {},
   "outputs": [
    {
     "name": "stdout",
     "output_type": "stream",
     "text": [
      "21 100 2\n"
     ]
    }
   ],
   "source": [
    "print(n_embedding, n_hidden, n_layers)"
   ]
  },
  {
   "cell_type": "markdown",
   "metadata": {},
   "source": [
    "# Training"
   ]
  },
  {
   "cell_type": "markdown",
   "metadata": {
    "jupyter": {
     "outputs_hidden": true
    }
   },
   "source": [
    "training_dataset = Dataset(df_training, vocabulary)\n",
    "test_dataset = Dataset(df_test, vocabulary)\n",
    "\n",
    "print(f\"dimensions of embedding {n_embedding}, dimensions of hidden {n_hidden}, number of layers {n_layers}\")\n",
    "\n",
    "model = Classifier(n_embedding, n_hidden, n_layers, vocabulary)\n",
    "model.to(device)\n",
    "\n",
    "optimizer = optim.SGD(model.model.parameters(), lr = learning_rate, momentum=momentum)\n",
    "training_dataloader = torch.utils.data.DataLoader(training_dataset, batch_size=batch_size, shuffle=True, collate_fn = collate_fn, drop_last=True, pin_memory=True, num_workers=4)\n",
    "test_dataloader = torch.utils.data.DataLoader(test_dataset, batch_size=batch_size, shuffle=True, collate_fn = collate_fn, drop_last=True, pin_memory=True, num_workers=4)\n",
    "\n",
    "filename = folder + \"/models/RNN-classifier-fool/em{}_hi{}_la{}_ep{{}}\".format(n_embedding, n_hidden, n_layers)\n",
    "model, optimizer, roc_training, roc_test = training(model, test_dataloader, training_dataloader, n_epoch, optimizer, filename)\n",
    "\n",
    "print(f\"maximum roc auc for test set {max(roc_test)}\")"
   ]
  },
  {
   "cell_type": "markdown",
   "metadata": {},
   "source": [
    "roc_test = np.array(roc_test)\n",
    "epoch = np.argmax(roc_test) + 1"
   ]
  },
  {
   "cell_type": "code",
   "execution_count": 10,
   "metadata": {},
   "outputs": [],
   "source": [
    "epoch = 1"
   ]
  },
  {
   "cell_type": "code",
   "execution_count": 11,
   "metadata": {},
   "outputs": [
    {
     "name": "stdout",
     "output_type": "stream",
     "text": [
      "1\n"
     ]
    }
   ],
   "source": [
    "print(epoch)"
   ]
  },
  {
   "cell_type": "code",
   "execution_count": 12,
   "metadata": {},
   "outputs": [],
   "source": [
    "training_dataset = Dataset(df_training, vocabulary)\n",
    "test_dataset = Dataset(df_test, vocabulary)\n",
    "\n",
    "filename = folder + \"models/RNN-classifier-fool/em{}_hi{}_la{}_ep{}\".format(n_embedding, n_hidden, n_layers, epoch)\n",
    "\n",
    "model = Classifier.load_from_file(filename)\n",
    "\n",
    "model.to(device)\n",
    "\n",
    "training_dataloader_eval = torch.utils.data.DataLoader(training_dataset, batch_size=1, shuffle=False, collate_fn = collate_fn, drop_last=True, pin_memory=True, num_workers=4)\n",
    "test_dataloader_eval = torch.utils.data.DataLoader(test_dataset, batch_size=1, shuffle=False, collate_fn = collate_fn, drop_last=True, pin_memory=True, num_workers=4)"
   ]
  },
  {
   "cell_type": "markdown",
   "metadata": {},
   "source": [
    "# Evaluation"
   ]
  },
  {
   "cell_type": "code",
   "execution_count": 13,
   "metadata": {},
   "outputs": [],
   "source": [
    "def predict(data_loader):\n",
    "    cat_list = []\n",
    "    out_list = []\n",
    "\n",
    "    with torch.no_grad():\n",
    "        for i_batch, sample_batched in enumerate(data_loader):    \n",
    "            seq_batched = sample_batched[0][0].to(model.device, non_blocking=True)\n",
    "            seq_lengths = sample_batched[0][1].to(model.device, non_blocking=True)\n",
    "\n",
    "            cat_list += sample_batched[1].to(\"cpu\", non_blocking=True)\n",
    "            out_list += torch.exp(model.evaluate(seq_batched, seq_lengths))[: ,1].to(\"cpu\", non_blocking=True)\n",
    "\n",
    "        cat_list = torch.stack(cat_list)\n",
    "        out_list = torch.stack(out_list)\n",
    "    return cat_list.cpu().numpy().astype(int), out_list.cpu().numpy()\n",
    "\n",
    "def roc(y_true, y_score):\n",
    "    fpr, tpr, thresh = roc_curve(y_true, y_score)\n",
    "    roc = roc_auc_score(y_true, y_score)\n",
    "    return roc, fpr, tpr\n",
    "                \n",
    "def find_threshold(y_true, y_score, alpha = 0.049):\n",
    "    fpr, tpr, thresh = roc_curve(y_true, y_score)\n",
    "    for i, fp in enumerate(fpr):\n",
    "        if fp > alpha:\n",
    "            return thresh[i-1]\n",
    "        \n",
    "def calc_metrics(y_true, y_score, threshold = 0.5):\n",
    "    y_score = y_score > threshold\n",
    "    accuracy = accuracy_score(y_true, y_score)\n",
    "    f1 = f1_score(y_true, y_score)\n",
    "    mcc = matthews_corrcoef(y_true, y_score)\n",
    "    precision = precision_score(y_true, y_score)\n",
    "    recall = recall_score(y_true, y_score)\n",
    "    return accuracy, f1, mcc, precision, recall\n",
    "    "
   ]
  },
  {
   "cell_type": "code",
   "execution_count": 14,
   "metadata": {},
   "outputs": [],
   "source": [
    "y_true, y_score = predict(test_dataloader_eval)\n",
    "threshold = find_threshold(y_true, y_score)"
   ]
  },
  {
   "cell_type": "code",
   "execution_count": 15,
   "metadata": {},
   "outputs": [
    {
     "data": {
      "text/plain": [
       "0.54255575"
      ]
     },
     "execution_count": 15,
     "metadata": {},
     "output_type": "execute_result"
    }
   ],
   "source": [
    "threshold"
   ]
  },
  {
   "cell_type": "code",
   "execution_count": 16,
   "metadata": {},
   "outputs": [
    {
     "name": "stdout",
     "output_type": "stream",
     "text": [
      "accuracy: 0.5062814070351759\n",
      "f1 score: 0.10749432248296746\n",
      "mcc: 0.027992334384651044\n",
      "precision: 0.5590551181102362\n",
      "recall: 0.059463986599664995\n"
     ]
    }
   ],
   "source": [
    "accuracy, f1, mcc, precision, recall = calc_metrics(y_true, y_score, threshold)\n",
    "print(f\"accuracy: {accuracy}\\nf1 score: {f1}\\nmcc: {mcc}\\nprecision: {precision}\\nrecall: {recall}\" )"
   ]
  },
  {
   "cell_type": "markdown",
   "metadata": {},
   "source": [
    "accuracy: 0.49273743016759775\n",
    "f1 score: 0.0502092050209205\n",
    "mcc: -0.05689408022787957\n",
    "precision: 0.35294117647058826\n",
    "recall: 0.02702702702702703"
   ]
  },
  {
   "cell_type": "code",
   "execution_count": 17,
   "metadata": {},
   "outputs": [
    {
     "name": "stdout",
     "output_type": "stream",
     "text": [
      "accuracy: 0.5221943048576214\n",
      "f1 score: 0.5523734797959984\n",
      "mcc: 0.044797735502201175\n",
      "precision: 0.5195571955719557\n",
      "recall: 0.5896147403685092\n"
     ]
    }
   ],
   "source": [
    "accuracy, f1, mcc, precision, recall = calc_metrics(y_true, y_score, 0.5)\n",
    "print(f\"accuracy: {accuracy}\\nf1 score: {f1}\\nmcc: {mcc}\\nprecision: {precision}\\nrecall: {recall}\" )"
   ]
  },
  {
   "cell_type": "markdown",
   "metadata": {},
   "source": [
    "accuracy: 0.4960893854748603\n",
    "f1 score: 0.6631814787154593\n",
    "mcc: 0.0\n",
    "precision: 0.4960893854748603\n",
    "recall: 1.0"
   ]
  },
  {
   "cell_type": "code",
   "execution_count": 18,
   "metadata": {},
   "outputs": [
    {
     "data": {
      "image/png": "[encoded data removed]",
      "text/plain": [
       "<Figure size 432x288 with 1 Axes>"
      ]
     },
     "metadata": {
      "needs_background": "light"
     },
     "output_type": "display_data"
    }
   ],
   "source": [
    "Y_true, Y_score = predict(training_dataloader_eval) \n",
    "roc_training, fpr_training, tpr_training = roc(Y_true, Y_score)\n",
    "y_true, y_score = predict(test_dataloader_eval)\n",
    "roc_test, fpr_test, tpr_test = roc(y_true, y_score)\n",
    "with open(\"/data/AIpep/auc_files/fool_classifier_act.pkl\",\"bw\") as fd:\n",
    "        pickle.dump((fpr_test, tpr_test), fd)\n",
    "plt.figure()\n",
    "name = \"RNN fool-classifier\"\n",
    "plt.rcParams.update({'font.size': 15})\n",
    "lw = 2\n",
    "plt.plot(fpr_training, tpr_training, color='blue',\n",
    "         lw=lw, label='Training Set ROC AUC = %0.2f' % roc_training)\n",
    "plt.plot(fpr_test, tpr_test, color='darkorange',\n",
    "         lw=lw, label='Test Set ROC AUC = %0.2f' % roc_test)\n",
    "plt.plot([0, 1], [0, 1], color='navy', lw=lw, linestyle='--')\n",
    "plt.xlim([-0.005, 1.0])\n",
    "plt.ylim([-0.005, 1.05])\n",
    "plt.xlabel('False Positive Rate')\n",
    "plt.ylabel('True Positive Rate')\n",
    "plt.title(name)\n",
    "plt.legend(loc=\"lower right\")\n",
    "plt.tight_layout()\n",
    "plt.savefig(folder+\"plots/RNN-fool-classifier.svg\")\n",
    "plt.savefig(\"plots/RNN-fool-classifier.svg\")\n",
    "plt.show()"
   ]
  },
  {
   "cell_type": "code",
   "execution_count": null,
   "metadata": {},
   "outputs": [],
   "source": []
  }
 ],
 "metadata": {
  "kernelspec": {
   "display_name": "Python 3",
   "language": "python",
   "name": "python3"
  },
  "language_info": {
   "codemirror_mode": {
    "name": "ipython",
    "version": 3
   },
   "file_extension": ".py",
   "mimetype": "text/x-python",
   "name": "python",
   "nbconvert_exporter": "python",
   "pygments_lexer": "ipython3",
   "version": "3.6.10"
  }
 },
 "nbformat": 4,
 "nbformat_minor": 4
}
